{
 "cells": [
  {
   "cell_type": "code",
   "execution_count": null,
   "id": "3416b431",
   "metadata": {},
   "outputs": [],
   "source": []
  },
  {
   "cell_type": "markdown",
   "id": "c34761ed",
   "metadata": {},
   "source": [
    "# Working with Date Columns in DataFrame"
   ]
  },
  {
   "cell_type": "code",
   "execution_count": 73,
   "id": "7d03c25a",
   "metadata": {},
   "outputs": [
    {
     "data": {
      "text/html": [
       "<div>\n",
       "<style scoped>\n",
       "    .dataframe tbody tr th:only-of-type {\n",
       "        vertical-align: middle;\n",
       "    }\n",
       "\n",
       "    .dataframe tbody tr th {\n",
       "        vertical-align: top;\n",
       "    }\n",
       "\n",
       "    .dataframe thead th {\n",
       "        text-align: right;\n",
       "    }\n",
       "</style>\n",
       "<table border=\"1\" class=\"dataframe\">\n",
       "  <thead>\n",
       "    <tr style=\"text-align: right;\">\n",
       "      <th></th>\n",
       "      <th>pickup</th>\n",
       "      <th>dropoff</th>\n",
       "      <th>passengers</th>\n",
       "      <th>distance</th>\n",
       "      <th>fare</th>\n",
       "      <th>tip</th>\n",
       "      <th>tolls</th>\n",
       "      <th>total</th>\n",
       "      <th>color</th>\n",
       "      <th>payment</th>\n",
       "      <th>pickup_zone</th>\n",
       "      <th>dropoff_zone</th>\n",
       "      <th>pickup_borough</th>\n",
       "      <th>dropoff_borough</th>\n",
       "    </tr>\n",
       "  </thead>\n",
       "  <tbody>\n",
       "    <tr>\n",
       "      <th>0</th>\n",
       "      <td>2019-03-23 20:21:09</td>\n",
       "      <td>2019-03-23 20:27:24</td>\n",
       "      <td>1</td>\n",
       "      <td>1.60</td>\n",
       "      <td>7.0</td>\n",
       "      <td>2.15</td>\n",
       "      <td>0.0</td>\n",
       "      <td>12.95</td>\n",
       "      <td>yellow</td>\n",
       "      <td>credit card</td>\n",
       "      <td>Lenox Hill West</td>\n",
       "      <td>UN/Turtle Bay South</td>\n",
       "      <td>Manhattan</td>\n",
       "      <td>Manhattan</td>\n",
       "    </tr>\n",
       "    <tr>\n",
       "      <th>1</th>\n",
       "      <td>2019-03-04 16:11:55</td>\n",
       "      <td>2019-03-04 16:19:00</td>\n",
       "      <td>1</td>\n",
       "      <td>0.79</td>\n",
       "      <td>5.0</td>\n",
       "      <td>0.00</td>\n",
       "      <td>0.0</td>\n",
       "      <td>9.30</td>\n",
       "      <td>yellow</td>\n",
       "      <td>cash</td>\n",
       "      <td>Upper West Side South</td>\n",
       "      <td>Upper West Side South</td>\n",
       "      <td>Manhattan</td>\n",
       "      <td>Manhattan</td>\n",
       "    </tr>\n",
       "  </tbody>\n",
       "</table>\n",
       "</div>"
      ],
      "text/plain": [
       "                pickup              dropoff  passengers  distance  fare   tip  \\\n",
       "0  2019-03-23 20:21:09  2019-03-23 20:27:24           1      1.60   7.0  2.15   \n",
       "1  2019-03-04 16:11:55  2019-03-04 16:19:00           1      0.79   5.0  0.00   \n",
       "\n",
       "   tolls  total   color      payment            pickup_zone  \\\n",
       "0    0.0  12.95  yellow  credit card        Lenox Hill West   \n",
       "1    0.0   9.30  yellow         cash  Upper West Side South   \n",
       "\n",
       "            dropoff_zone pickup_borough dropoff_borough  \n",
       "0    UN/Turtle Bay South      Manhattan       Manhattan  \n",
       "1  Upper West Side South      Manhattan       Manhattan  "
      ]
     },
     "execution_count": 73,
     "metadata": {},
     "output_type": "execute_result"
    }
   ],
   "source": [
    "df = sns.load_dataset('taxis')\n",
    "df.head(2)"
   ]
  },
  {
   "cell_type": "code",
   "execution_count": 74,
   "id": "eb4a2676",
   "metadata": {},
   "outputs": [
    {
     "data": {
      "text/plain": [
       "(6433, 14)"
      ]
     },
     "execution_count": 74,
     "metadata": {},
     "output_type": "execute_result"
    }
   ],
   "source": [
    "df.shape"
   ]
  },
  {
   "cell_type": "markdown",
   "id": "d5fd95fb",
   "metadata": {},
   "source": [
    "##  Handling with Pandas DateTimeIndex"
   ]
  },
  {
   "cell_type": "markdown",
   "id": "d2bd59bf",
   "metadata": {},
   "source": [
    "###### Checking datatype of DataFrame"
   ]
  },
  {
   "cell_type": "code",
   "execution_count": 75,
   "id": "bea26e5c",
   "metadata": {},
   "outputs": [
    {
     "data": {
      "text/plain": [
       "pickup              object\n",
       "dropoff             object\n",
       "passengers           int64\n",
       "distance           float64\n",
       "fare               float64\n",
       "tip                float64\n",
       "tolls              float64\n",
       "total              float64\n",
       "color               object\n",
       "payment             object\n",
       "pickup_zone         object\n",
       "dropoff_zone        object\n",
       "pickup_borough      object\n",
       "dropoff_borough     object\n",
       "dtype: object"
      ]
     },
     "execution_count": 75,
     "metadata": {},
     "output_type": "execute_result"
    }
   ],
   "source": [
    "# checking data type of dataframe columns - pickup and dropoff columns are object/string\n",
    "df.dtypes"
   ]
  },
  {
   "cell_type": "markdown",
   "id": "e349455f",
   "metadata": {},
   "source": [
    "###### Converting date column datatype"
   ]
  },
  {
   "cell_type": "code",
   "execution_count": 76,
   "id": "a073960b",
   "metadata": {},
   "outputs": [],
   "source": [
    "df['pickup'] = pd.to_datetime(df['pickup'])\n",
    "df['dropoff'] = pd.to_datetime(df['dropoff'])"
   ]
  },
  {
   "cell_type": "code",
   "execution_count": 77,
   "id": "faccf73c",
   "metadata": {},
   "outputs": [
    {
     "data": {
      "text/plain": [
       "pickup             datetime64[ns]\n",
       "dropoff            datetime64[ns]\n",
       "passengers                  int64\n",
       "distance                  float64\n",
       "fare                      float64\n",
       "tip                       float64\n",
       "tolls                     float64\n",
       "total                     float64\n",
       "color                      object\n",
       "payment                    object\n",
       "pickup_zone                object\n",
       "dropoff_zone               object\n",
       "pickup_borough             object\n",
       "dropoff_borough            object\n",
       "dtype: object"
      ]
     },
     "execution_count": 77,
     "metadata": {},
     "output_type": "execute_result"
    }
   ],
   "source": [
    "df.dtypes"
   ]
  },
  {
   "cell_type": "markdown",
   "id": "040f180a",
   "metadata": {},
   "source": [
    "###### Extract Month,Week,Day number from Date Column"
   ]
  },
  {
   "cell_type": "code",
   "execution_count": 153,
   "id": "77a7849a",
   "metadata": {},
   "outputs": [
    {
     "name": "stderr",
     "output_type": "stream",
     "text": [
      "C:\\Users\\skum108\\AppData\\Local\\Temp\\ipykernel_21388\\2542945681.py:3: FutureWarning: weekofyear and week have been deprecated, please use DatetimeIndex.isocalendar().week instead, which returns a Series. To exactly reproduce the behavior of week and weekofyear and return an Index, you may call pd.Int64Index(idx.isocalendar().week)\n",
      "  df['Pickup_Week']=pd.DatetimeIndex(df['pickup']).week\n"
     ]
    },
    {
     "data": {
      "text/html": [
       "<div>\n",
       "<style scoped>\n",
       "    .dataframe tbody tr th:only-of-type {\n",
       "        vertical-align: middle;\n",
       "    }\n",
       "\n",
       "    .dataframe tbody tr th {\n",
       "        vertical-align: top;\n",
       "    }\n",
       "\n",
       "    .dataframe thead th {\n",
       "        text-align: right;\n",
       "    }\n",
       "</style>\n",
       "<table border=\"1\" class=\"dataframe\">\n",
       "  <thead>\n",
       "    <tr style=\"text-align: right;\">\n",
       "      <th></th>\n",
       "      <th>pickup_borough</th>\n",
       "      <th>dropoff_borough</th>\n",
       "      <th>Pickup_Month</th>\n",
       "      <th>Pickup_Day</th>\n",
       "      <th>Pickup_Week</th>\n",
       "      <th>Pickup_WeekDay</th>\n",
       "      <th>month_name</th>\n",
       "    </tr>\n",
       "  </thead>\n",
       "  <tbody>\n",
       "    <tr>\n",
       "      <th>0</th>\n",
       "      <td>Manhattan</td>\n",
       "      <td>Manhattan</td>\n",
       "      <td>3</td>\n",
       "      <td>23</td>\n",
       "      <td>12</td>\n",
       "      <td>5</td>\n",
       "      <td>March</td>\n",
       "    </tr>\n",
       "    <tr>\n",
       "      <th>1</th>\n",
       "      <td>Manhattan</td>\n",
       "      <td>Manhattan</td>\n",
       "      <td>3</td>\n",
       "      <td>4</td>\n",
       "      <td>10</td>\n",
       "      <td>0</td>\n",
       "      <td>March</td>\n",
       "    </tr>\n",
       "    <tr>\n",
       "      <th>2</th>\n",
       "      <td>Manhattan</td>\n",
       "      <td>Manhattan</td>\n",
       "      <td>3</td>\n",
       "      <td>27</td>\n",
       "      <td>13</td>\n",
       "      <td>2</td>\n",
       "      <td>March</td>\n",
       "    </tr>\n",
       "    <tr>\n",
       "      <th>3</th>\n",
       "      <td>Manhattan</td>\n",
       "      <td>Manhattan</td>\n",
       "      <td>3</td>\n",
       "      <td>10</td>\n",
       "      <td>10</td>\n",
       "      <td>6</td>\n",
       "      <td>March</td>\n",
       "    </tr>\n",
       "  </tbody>\n",
       "</table>\n",
       "</div>"
      ],
      "text/plain": [
       "  pickup_borough dropoff_borough  Pickup_Month  Pickup_Day  Pickup_Week  \\\n",
       "0      Manhattan       Manhattan             3          23           12   \n",
       "1      Manhattan       Manhattan             3           4           10   \n",
       "2      Manhattan       Manhattan             3          27           13   \n",
       "3      Manhattan       Manhattan             3          10           10   \n",
       "\n",
       "   Pickup_WeekDay month_name  \n",
       "0               5      March  \n",
       "1               0      March  \n",
       "2               2      March  \n",
       "3               6      March  "
      ]
     },
     "execution_count": 153,
     "metadata": {},
     "output_type": "execute_result"
    }
   ],
   "source": [
    "df['Pickup_Month']=pd.DatetimeIndex(df['pickup']).month\n",
    "df['Pickup_Day']=pd.DatetimeIndex(df['pickup']).day\n",
    "df['Pickup_Week']=pd.DatetimeIndex(df['pickup']).week\n",
    "df['Pickup_WeekDay']=pd.DatetimeIndex(df['pickup']).weekday\n",
    "df.iloc[: , 12:].head(4)"
   ]
  },
  {
   "cell_type": "code",
   "execution_count": null,
   "id": "564db0f3",
   "metadata": {},
   "outputs": [],
   "source": []
  },
  {
   "cell_type": "markdown",
   "id": "911e7a74",
   "metadata": {},
   "source": [
    "## Import DateTime Library"
   ]
  },
  {
   "cell_type": "markdown",
   "id": "a7d8a750",
   "metadata": {},
   "source": [
    "#### Converting Week Num and Month Num in Names"
   ]
  },
  {
   "cell_type": "code",
   "execution_count": 79,
   "id": "e0b1baa4",
   "metadata": {},
   "outputs": [],
   "source": [
    "import datetime as dt"
   ]
  },
  {
   "cell_type": "code",
   "execution_count": 80,
   "id": "6ee6b505",
   "metadata": {},
   "outputs": [
    {
     "name": "stdout",
     "output_type": "stream",
     "text": [
      "['MAXYEAR', 'MINYEAR', '__all__', '__builtins__', '__cached__', '__doc__', '__file__', '__loader__', '__name__', '__package__', '__spec__', 'date', 'datetime', 'datetime_CAPI', 'sys', 'time', 'timedelta', 'timezone', 'tzinfo']\n"
     ]
    }
   ],
   "source": [
    "#Checking all formats with datatime\n",
    "print(dir(dt))"
   ]
  },
  {
   "cell_type": "code",
   "execution_count": 81,
   "id": "beae4516",
   "metadata": {},
   "outputs": [
    {
     "data": {
      "text/html": [
       "<div>\n",
       "<style scoped>\n",
       "    .dataframe tbody tr th:only-of-type {\n",
       "        vertical-align: middle;\n",
       "    }\n",
       "\n",
       "    .dataframe tbody tr th {\n",
       "        vertical-align: top;\n",
       "    }\n",
       "\n",
       "    .dataframe thead th {\n",
       "        text-align: right;\n",
       "    }\n",
       "</style>\n",
       "<table border=\"1\" class=\"dataframe\">\n",
       "  <thead>\n",
       "    <tr style=\"text-align: right;\">\n",
       "      <th></th>\n",
       "      <th>pickup</th>\n",
       "      <th>dropoff</th>\n",
       "      <th>passengers</th>\n",
       "      <th>distance</th>\n",
       "      <th>fare</th>\n",
       "      <th>tip</th>\n",
       "      <th>tolls</th>\n",
       "      <th>total</th>\n",
       "      <th>color</th>\n",
       "      <th>payment</th>\n",
       "      <th>pickup_zone</th>\n",
       "      <th>dropoff_zone</th>\n",
       "      <th>pickup_borough</th>\n",
       "      <th>dropoff_borough</th>\n",
       "      <th>Pickup_Month</th>\n",
       "      <th>Pickup_Day</th>\n",
       "      <th>Pickup_Week</th>\n",
       "      <th>Pickup_WeekDay</th>\n",
       "    </tr>\n",
       "  </thead>\n",
       "  <tbody>\n",
       "    <tr>\n",
       "      <th>0</th>\n",
       "      <td>2019-03-23 20:21:09</td>\n",
       "      <td>2019-03-23 20:27:24</td>\n",
       "      <td>1</td>\n",
       "      <td>1.60</td>\n",
       "      <td>7.0</td>\n",
       "      <td>2.15</td>\n",
       "      <td>0.0</td>\n",
       "      <td>12.95</td>\n",
       "      <td>yellow</td>\n",
       "      <td>credit card</td>\n",
       "      <td>Lenox Hill West</td>\n",
       "      <td>UN/Turtle Bay South</td>\n",
       "      <td>Manhattan</td>\n",
       "      <td>Manhattan</td>\n",
       "      <td>3</td>\n",
       "      <td>23</td>\n",
       "      <td>12</td>\n",
       "      <td>5</td>\n",
       "    </tr>\n",
       "    <tr>\n",
       "      <th>1</th>\n",
       "      <td>2019-03-04 16:11:55</td>\n",
       "      <td>2019-03-04 16:19:00</td>\n",
       "      <td>1</td>\n",
       "      <td>0.79</td>\n",
       "      <td>5.0</td>\n",
       "      <td>0.00</td>\n",
       "      <td>0.0</td>\n",
       "      <td>9.30</td>\n",
       "      <td>yellow</td>\n",
       "      <td>cash</td>\n",
       "      <td>Upper West Side South</td>\n",
       "      <td>Upper West Side South</td>\n",
       "      <td>Manhattan</td>\n",
       "      <td>Manhattan</td>\n",
       "      <td>3</td>\n",
       "      <td>4</td>\n",
       "      <td>10</td>\n",
       "      <td>0</td>\n",
       "    </tr>\n",
       "  </tbody>\n",
       "</table>\n",
       "</div>"
      ],
      "text/plain": [
       "               pickup             dropoff  passengers  distance  fare   tip  \\\n",
       "0 2019-03-23 20:21:09 2019-03-23 20:27:24           1      1.60   7.0  2.15   \n",
       "1 2019-03-04 16:11:55 2019-03-04 16:19:00           1      0.79   5.0  0.00   \n",
       "\n",
       "   tolls  total   color      payment            pickup_zone  \\\n",
       "0    0.0  12.95  yellow  credit card        Lenox Hill West   \n",
       "1    0.0   9.30  yellow         cash  Upper West Side South   \n",
       "\n",
       "            dropoff_zone pickup_borough dropoff_borough  Pickup_Month  \\\n",
       "0    UN/Turtle Bay South      Manhattan       Manhattan             3   \n",
       "1  Upper West Side South      Manhattan       Manhattan             3   \n",
       "\n",
       "   Pickup_Day  Pickup_Week  Pickup_WeekDay  \n",
       "0          23           12               5  \n",
       "1           4           10               0  "
      ]
     },
     "execution_count": 81,
     "metadata": {},
     "output_type": "execute_result"
    }
   ],
   "source": [
    "df.head(2)"
   ]
  },
  {
   "cell_type": "markdown",
   "id": "aa038436",
   "metadata": {},
   "source": [
    "# Strftime()function "
   ]
  },
  {
   "cell_type": "markdown",
   "id": "212b61d8",
   "metadata": {},
   "source": [
    "Pythom time method strftime() converts a tuple or struct_time representing a time as returned by gmtime() or localtime() to a string as specified by the format argument."
   ]
  },
  {
   "cell_type": "markdown",
   "id": "79a386f2",
   "metadata": {},
   "source": [
    "https://www.tutorialspoint.com/python/time_strftime.htm#:~:text=Python%20time%20strftime%20%28%29%20Method%201%20Description%20Pythom,4%20Directive%20%25a%20-%20abbreviated%20weekday%20name%20"
   ]
  },
  {
   "cell_type": "code",
   "execution_count": 82,
   "id": "4d6f4131",
   "metadata": {},
   "outputs": [
    {
     "name": "stdout",
     "output_type": "stream",
     "text": [
      "['MAXYEAR', 'MINYEAR', '__all__', '__builtins__', '__cached__', '__doc__', '__file__', '__loader__', '__name__', '__package__', '__spec__', 'date', 'datetime', 'datetime_CAPI', 'sys', 'time', 'timedelta', 'timezone', 'tzinfo']\n"
     ]
    }
   ],
   "source": [
    "import datetime as dt\n",
    "print(dir(dt))"
   ]
  },
  {
   "cell_type": "raw",
   "id": "aec56549",
   "metadata": {},
   "source": [
    "Directive\n",
    "%a - abbreviated weekday name\n",
    "%A - full weekday name\n",
    "%b - abbreviated month name\n",
    "%B - full month name\n",
    "%c - preferred date and time representation\n",
    "%C - century number (the year divided by 100, range 00 to 99)\n",
    "%d - day of the month (01 to 31)\n",
    "%D - same as %m/%d/%y\n",
    "%e - day of the month (1 to 31)\n",
    "%g - like %G, but without the century"
   ]
  },
  {
   "cell_type": "code",
   "execution_count": 83,
   "id": "13052149",
   "metadata": {},
   "outputs": [],
   "source": [
    "df.columns\n",
    "date_col_list = ['pickup', 'dropoff','Pickup_Month', 'Pickup_Week','Pickup_Day', 'Pickup_WeekDay']"
   ]
  },
  {
   "cell_type": "code",
   "execution_count": 84,
   "id": "db9029bf",
   "metadata": {},
   "outputs": [],
   "source": [
    "df1=df.loc[:, date_col_list]"
   ]
  },
  {
   "cell_type": "code",
   "execution_count": 85,
   "id": "e5047922",
   "metadata": {},
   "outputs": [
    {
     "data": {
      "text/html": [
       "<div>\n",
       "<style scoped>\n",
       "    .dataframe tbody tr th:only-of-type {\n",
       "        vertical-align: middle;\n",
       "    }\n",
       "\n",
       "    .dataframe tbody tr th {\n",
       "        vertical-align: top;\n",
       "    }\n",
       "\n",
       "    .dataframe thead th {\n",
       "        text-align: right;\n",
       "    }\n",
       "</style>\n",
       "<table border=\"1\" class=\"dataframe\">\n",
       "  <thead>\n",
       "    <tr style=\"text-align: right;\">\n",
       "      <th></th>\n",
       "      <th>pickup</th>\n",
       "      <th>dropoff</th>\n",
       "      <th>Pickup_Month</th>\n",
       "      <th>Pickup_Week</th>\n",
       "      <th>Pickup_Day</th>\n",
       "      <th>Pickup_WeekDay</th>\n",
       "      <th>1</th>\n",
       "      <th>2</th>\n",
       "      <th>3</th>\n",
       "      <th>4</th>\n",
       "      <th>5</th>\n",
       "      <th>6</th>\n",
       "      <th>7</th>\n",
       "    </tr>\n",
       "  </thead>\n",
       "  <tbody>\n",
       "    <tr>\n",
       "      <th>0</th>\n",
       "      <td>2019-03-23 20:21:09</td>\n",
       "      <td>2019-03-23 20:27:24</td>\n",
       "      <td>3</td>\n",
       "      <td>12</td>\n",
       "      <td>23</td>\n",
       "      <td>5</td>\n",
       "      <td>Sat</td>\n",
       "      <td>Saturday</td>\n",
       "      <td>Mar</td>\n",
       "      <td>March</td>\n",
       "      <td>Sat Mar 23 20:21:09 2019</td>\n",
       "      <td>20</td>\n",
       "      <td>2019/03/23</td>\n",
       "    </tr>\n",
       "    <tr>\n",
       "      <th>1</th>\n",
       "      <td>2019-03-04 16:11:55</td>\n",
       "      <td>2019-03-04 16:19:00</td>\n",
       "      <td>3</td>\n",
       "      <td>10</td>\n",
       "      <td>4</td>\n",
       "      <td>0</td>\n",
       "      <td>Mon</td>\n",
       "      <td>Monday</td>\n",
       "      <td>Mar</td>\n",
       "      <td>March</td>\n",
       "      <td>Mon Mar  4 16:11:55 2019</td>\n",
       "      <td>20</td>\n",
       "      <td>2019/03/04</td>\n",
       "    </tr>\n",
       "  </tbody>\n",
       "</table>\n",
       "</div>"
      ],
      "text/plain": [
       "               pickup             dropoff  Pickup_Month  Pickup_Week  \\\n",
       "0 2019-03-23 20:21:09 2019-03-23 20:27:24             3           12   \n",
       "1 2019-03-04 16:11:55 2019-03-04 16:19:00             3           10   \n",
       "\n",
       "   Pickup_Day  Pickup_WeekDay    1         2    3      4  \\\n",
       "0          23               5  Sat  Saturday  Mar  March   \n",
       "1           4               0  Mon    Monday  Mar  March   \n",
       "\n",
       "                          5   6           7  \n",
       "0  Sat Mar 23 20:21:09 2019  20  2019/03/23  \n",
       "1  Mon Mar  4 16:11:55 2019  20  2019/03/04  "
      ]
     },
     "execution_count": 85,
     "metadata": {},
     "output_type": "execute_result"
    }
   ],
   "source": [
    "df1['1'] = df.pickup.dt.strftime(\"%a\")\n",
    "df1['2'] = df.pickup.dt.strftime(\"%A\")\n",
    "df1['3']=df['pickup'].dt.strftime(\"%b\")\n",
    "df1['4']=df['pickup'].dt.strftime(\"%B\")\n",
    "df1['5']=df['pickup'].dt.strftime(\"%c\")\n",
    "df1['6']=df['pickup'].dt.strftime(\"%C\")\n",
    "df1['7']=df['pickup'].dt.strftime(\"%Y/%m/%d\")\n",
    "df1.head(2)"
   ]
  },
  {
   "cell_type": "markdown",
   "id": "d4a61909",
   "metadata": {},
   "source": [
    "# Getting Month Name without Strftime()function "
   ]
  },
  {
   "cell_type": "code",
   "execution_count": 86,
   "id": "8a2750c5",
   "metadata": {},
   "outputs": [
    {
     "data": {
      "text/html": [
       "<div>\n",
       "<style scoped>\n",
       "    .dataframe tbody tr th:only-of-type {\n",
       "        vertical-align: middle;\n",
       "    }\n",
       "\n",
       "    .dataframe tbody tr th {\n",
       "        vertical-align: top;\n",
       "    }\n",
       "\n",
       "    .dataframe thead th {\n",
       "        text-align: right;\n",
       "    }\n",
       "</style>\n",
       "<table border=\"1\" class=\"dataframe\">\n",
       "  <thead>\n",
       "    <tr style=\"text-align: right;\">\n",
       "      <th></th>\n",
       "      <th>pickup</th>\n",
       "      <th>dropoff</th>\n",
       "      <th>Pickup_Month</th>\n",
       "      <th>Pickup_Week</th>\n",
       "      <th>Pickup_Day</th>\n",
       "      <th>Pickup_WeekDay</th>\n",
       "      <th>1</th>\n",
       "      <th>2</th>\n",
       "      <th>3</th>\n",
       "      <th>4</th>\n",
       "      <th>5</th>\n",
       "      <th>6</th>\n",
       "      <th>7</th>\n",
       "      <th>8</th>\n",
       "      <th>9</th>\n",
       "    </tr>\n",
       "  </thead>\n",
       "  <tbody>\n",
       "    <tr>\n",
       "      <th>0</th>\n",
       "      <td>2019-03-23 20:21:09</td>\n",
       "      <td>2019-03-23 20:27:24</td>\n",
       "      <td>3</td>\n",
       "      <td>12</td>\n",
       "      <td>23</td>\n",
       "      <td>5</td>\n",
       "      <td>Sat</td>\n",
       "      <td>Saturday</td>\n",
       "      <td>Mar</td>\n",
       "      <td>March</td>\n",
       "      <td>Sat Mar 23 20:21:09 2019</td>\n",
       "      <td>20</td>\n",
       "      <td>2019/03/23</td>\n",
       "      <td>March</td>\n",
       "      <td>Saturday</td>\n",
       "    </tr>\n",
       "    <tr>\n",
       "      <th>1</th>\n",
       "      <td>2019-03-04 16:11:55</td>\n",
       "      <td>2019-03-04 16:19:00</td>\n",
       "      <td>3</td>\n",
       "      <td>10</td>\n",
       "      <td>4</td>\n",
       "      <td>0</td>\n",
       "      <td>Mon</td>\n",
       "      <td>Monday</td>\n",
       "      <td>Mar</td>\n",
       "      <td>March</td>\n",
       "      <td>Mon Mar  4 16:11:55 2019</td>\n",
       "      <td>20</td>\n",
       "      <td>2019/03/04</td>\n",
       "      <td>March</td>\n",
       "      <td>Monday</td>\n",
       "    </tr>\n",
       "  </tbody>\n",
       "</table>\n",
       "</div>"
      ],
      "text/plain": [
       "               pickup             dropoff  Pickup_Month  Pickup_Week  \\\n",
       "0 2019-03-23 20:21:09 2019-03-23 20:27:24             3           12   \n",
       "1 2019-03-04 16:11:55 2019-03-04 16:19:00             3           10   \n",
       "\n",
       "   Pickup_Day  Pickup_WeekDay    1         2    3      4  \\\n",
       "0          23               5  Sat  Saturday  Mar  March   \n",
       "1           4               0  Mon    Monday  Mar  March   \n",
       "\n",
       "                          5   6           7      8         9  \n",
       "0  Sat Mar 23 20:21:09 2019  20  2019/03/23  March  Saturday  \n",
       "1  Mon Mar  4 16:11:55 2019  20  2019/03/04  March    Monday  "
      ]
     },
     "execution_count": 86,
     "metadata": {},
     "output_type": "execute_result"
    }
   ],
   "source": [
    "df1['8']=df['pickup'].dt.month_name()\n",
    "df1['9']=df['pickup'].dt.day_name()\n",
    "df1.head(2)"
   ]
  },
  {
   "cell_type": "markdown",
   "id": "eacce266",
   "metadata": {},
   "source": [
    "###  Now we can pull Hour/Minutes/Day/Weekday/Year/Seconds or any thing you want in DateTime format"
   ]
  },
  {
   "cell_type": "code",
   "execution_count": 87,
   "id": "b28d0353",
   "metadata": {},
   "outputs": [
    {
     "name": "stdout",
     "output_type": "stream",
     "text": [
      "               pickup             dropoff\n",
      "0 2019-03-23 20:21:09 2019-03-23 20:27:24\n",
      "               pickup             dropoff\n",
      "0 2019-03-23 20:21:09 2019-03-23 20:27:24\n"
     ]
    }
   ],
   "source": [
    "col = ['pickup','dropoff']\n",
    "df1 = df.loc[:,col]\n",
    "print(df1.head(1))\n",
    "df1 = df.iloc[:,0:2]\n",
    "print(df1.head(1))"
   ]
  },
  {
   "cell_type": "markdown",
   "id": "8f1d6708",
   "metadata": {},
   "source": [
    "###  Now we can pull Hour/Minutes/Day/Weekday/Year/Seconds or any thing you want in DateTime format"
   ]
  },
  {
   "cell_type": "code",
   "execution_count": 88,
   "id": "ada83950",
   "metadata": {},
   "outputs": [
    {
     "data": {
      "text/html": [
       "<div>\n",
       "<style scoped>\n",
       "    .dataframe tbody tr th:only-of-type {\n",
       "        vertical-align: middle;\n",
       "    }\n",
       "\n",
       "    .dataframe tbody tr th {\n",
       "        vertical-align: top;\n",
       "    }\n",
       "\n",
       "    .dataframe thead th {\n",
       "        text-align: right;\n",
       "    }\n",
       "</style>\n",
       "<table border=\"1\" class=\"dataframe\">\n",
       "  <thead>\n",
       "    <tr style=\"text-align: right;\">\n",
       "      <th></th>\n",
       "      <th>pickup</th>\n",
       "      <th>dropoff</th>\n",
       "      <th>hour</th>\n",
       "    </tr>\n",
       "  </thead>\n",
       "  <tbody>\n",
       "    <tr>\n",
       "      <th>0</th>\n",
       "      <td>2019-03-23 20:21:09</td>\n",
       "      <td>2019-03-23 20:27:24</td>\n",
       "      <td>20</td>\n",
       "    </tr>\n",
       "  </tbody>\n",
       "</table>\n",
       "</div>"
      ],
      "text/plain": [
       "               pickup             dropoff  hour\n",
       "0 2019-03-23 20:21:09 2019-03-23 20:27:24    20"
      ]
     },
     "execution_count": 88,
     "metadata": {},
     "output_type": "execute_result"
    }
   ],
   "source": [
    "df1['hour'] = df1.pickup.dt.hour\n",
    "df1.head(1)"
   ]
  },
  {
   "cell_type": "code",
   "execution_count": 89,
   "id": "bf0311fe",
   "metadata": {},
   "outputs": [
    {
     "data": {
      "text/html": [
       "<div>\n",
       "<style scoped>\n",
       "    .dataframe tbody tr th:only-of-type {\n",
       "        vertical-align: middle;\n",
       "    }\n",
       "\n",
       "    .dataframe tbody tr th {\n",
       "        vertical-align: top;\n",
       "    }\n",
       "\n",
       "    .dataframe thead th {\n",
       "        text-align: right;\n",
       "    }\n",
       "</style>\n",
       "<table border=\"1\" class=\"dataframe\">\n",
       "  <thead>\n",
       "    <tr style=\"text-align: right;\">\n",
       "      <th></th>\n",
       "      <th>pickup</th>\n",
       "      <th>dropoff</th>\n",
       "      <th>hour</th>\n",
       "      <th>Minute</th>\n",
       "    </tr>\n",
       "  </thead>\n",
       "  <tbody>\n",
       "    <tr>\n",
       "      <th>0</th>\n",
       "      <td>2019-03-23 20:21:09</td>\n",
       "      <td>2019-03-23 20:27:24</td>\n",
       "      <td>20</td>\n",
       "      <td>21</td>\n",
       "    </tr>\n",
       "  </tbody>\n",
       "</table>\n",
       "</div>"
      ],
      "text/plain": [
       "               pickup             dropoff  hour  Minute\n",
       "0 2019-03-23 20:21:09 2019-03-23 20:27:24    20      21"
      ]
     },
     "execution_count": 89,
     "metadata": {},
     "output_type": "execute_result"
    }
   ],
   "source": [
    "df1['Minute'] = df.pickup.dt.minute\n",
    "df1.head(1)"
   ]
  },
  {
   "cell_type": "code",
   "execution_count": 90,
   "id": "df0af007",
   "metadata": {},
   "outputs": [
    {
     "data": {
      "text/html": [
       "<div>\n",
       "<style scoped>\n",
       "    .dataframe tbody tr th:only-of-type {\n",
       "        vertical-align: middle;\n",
       "    }\n",
       "\n",
       "    .dataframe tbody tr th {\n",
       "        vertical-align: top;\n",
       "    }\n",
       "\n",
       "    .dataframe thead th {\n",
       "        text-align: right;\n",
       "    }\n",
       "</style>\n",
       "<table border=\"1\" class=\"dataframe\">\n",
       "  <thead>\n",
       "    <tr style=\"text-align: right;\">\n",
       "      <th></th>\n",
       "      <th>pickup</th>\n",
       "      <th>dropoff</th>\n",
       "      <th>hour</th>\n",
       "      <th>Minute</th>\n",
       "      <th>seconds</th>\n",
       "    </tr>\n",
       "  </thead>\n",
       "  <tbody>\n",
       "    <tr>\n",
       "      <th>0</th>\n",
       "      <td>2019-03-23 20:21:09</td>\n",
       "      <td>2019-03-23 20:27:24</td>\n",
       "      <td>20</td>\n",
       "      <td>21</td>\n",
       "      <td>9</td>\n",
       "    </tr>\n",
       "  </tbody>\n",
       "</table>\n",
       "</div>"
      ],
      "text/plain": [
       "               pickup             dropoff  hour  Minute  seconds\n",
       "0 2019-03-23 20:21:09 2019-03-23 20:27:24    20      21        9"
      ]
     },
     "execution_count": 90,
     "metadata": {},
     "output_type": "execute_result"
    }
   ],
   "source": [
    "df1['seconds'] = df.pickup.dt.second\n",
    "df1.head(1)"
   ]
  },
  {
   "cell_type": "code",
   "execution_count": 91,
   "id": "853b2a9c",
   "metadata": {},
   "outputs": [
    {
     "data": {
      "text/html": [
       "<div>\n",
       "<style scoped>\n",
       "    .dataframe tbody tr th:only-of-type {\n",
       "        vertical-align: middle;\n",
       "    }\n",
       "\n",
       "    .dataframe tbody tr th {\n",
       "        vertical-align: top;\n",
       "    }\n",
       "\n",
       "    .dataframe thead th {\n",
       "        text-align: right;\n",
       "    }\n",
       "</style>\n",
       "<table border=\"1\" class=\"dataframe\">\n",
       "  <thead>\n",
       "    <tr style=\"text-align: right;\">\n",
       "      <th></th>\n",
       "      <th>pickup</th>\n",
       "      <th>dropoff</th>\n",
       "      <th>hour</th>\n",
       "      <th>Minute</th>\n",
       "      <th>seconds</th>\n",
       "      <th>WeekDay</th>\n",
       "    </tr>\n",
       "  </thead>\n",
       "  <tbody>\n",
       "    <tr>\n",
       "      <th>0</th>\n",
       "      <td>2019-03-23 20:21:09</td>\n",
       "      <td>2019-03-23 20:27:24</td>\n",
       "      <td>20</td>\n",
       "      <td>21</td>\n",
       "      <td>9</td>\n",
       "      <td>5</td>\n",
       "    </tr>\n",
       "    <tr>\n",
       "      <th>1</th>\n",
       "      <td>2019-03-04 16:11:55</td>\n",
       "      <td>2019-03-04 16:19:00</td>\n",
       "      <td>16</td>\n",
       "      <td>11</td>\n",
       "      <td>55</td>\n",
       "      <td>0</td>\n",
       "    </tr>\n",
       "  </tbody>\n",
       "</table>\n",
       "</div>"
      ],
      "text/plain": [
       "               pickup             dropoff  hour  Minute  seconds  WeekDay\n",
       "0 2019-03-23 20:21:09 2019-03-23 20:27:24    20      21        9        5\n",
       "1 2019-03-04 16:11:55 2019-03-04 16:19:00    16      11       55        0"
      ]
     },
     "execution_count": 91,
     "metadata": {},
     "output_type": "execute_result"
    }
   ],
   "source": [
    "# The day of the week with Monday=0, Sunday=6\n",
    "df1['WeekDay'] = df['pickup'].dt.weekday\n",
    "df1.head(2)"
   ]
  },
  {
   "cell_type": "code",
   "execution_count": 92,
   "id": "99a9c458",
   "metadata": {},
   "outputs": [
    {
     "data": {
      "text/html": [
       "<div>\n",
       "<style scoped>\n",
       "    .dataframe tbody tr th:only-of-type {\n",
       "        vertical-align: middle;\n",
       "    }\n",
       "\n",
       "    .dataframe tbody tr th {\n",
       "        vertical-align: top;\n",
       "    }\n",
       "\n",
       "    .dataframe thead th {\n",
       "        text-align: right;\n",
       "    }\n",
       "</style>\n",
       "<table border=\"1\" class=\"dataframe\">\n",
       "  <thead>\n",
       "    <tr style=\"text-align: right;\">\n",
       "      <th></th>\n",
       "      <th>pickup</th>\n",
       "      <th>dropoff</th>\n",
       "      <th>hour</th>\n",
       "      <th>Minute</th>\n",
       "      <th>seconds</th>\n",
       "      <th>WeekDay</th>\n",
       "      <th>Day_Num</th>\n",
       "    </tr>\n",
       "  </thead>\n",
       "  <tbody>\n",
       "    <tr>\n",
       "      <th>0</th>\n",
       "      <td>2019-03-23 20:21:09</td>\n",
       "      <td>2019-03-23 20:27:24</td>\n",
       "      <td>20</td>\n",
       "      <td>21</td>\n",
       "      <td>9</td>\n",
       "      <td>5</td>\n",
       "      <td>23</td>\n",
       "    </tr>\n",
       "    <tr>\n",
       "      <th>1</th>\n",
       "      <td>2019-03-04 16:11:55</td>\n",
       "      <td>2019-03-04 16:19:00</td>\n",
       "      <td>16</td>\n",
       "      <td>11</td>\n",
       "      <td>55</td>\n",
       "      <td>0</td>\n",
       "      <td>4</td>\n",
       "    </tr>\n",
       "  </tbody>\n",
       "</table>\n",
       "</div>"
      ],
      "text/plain": [
       "               pickup             dropoff  hour  Minute  seconds  WeekDay  \\\n",
       "0 2019-03-23 20:21:09 2019-03-23 20:27:24    20      21        9        5   \n",
       "1 2019-03-04 16:11:55 2019-03-04 16:19:00    16      11       55        0   \n",
       "\n",
       "   Day_Num  \n",
       "0       23  \n",
       "1        4  "
      ]
     },
     "execution_count": 92,
     "metadata": {},
     "output_type": "execute_result"
    }
   ],
   "source": [
    "# It will give you the DAY of your date\n",
    "df1['Day_Num'] = df['pickup'].dt.day\n",
    "df1.head(2)"
   ]
  },
  {
   "cell_type": "code",
   "execution_count": 93,
   "id": "16817ec3",
   "metadata": {},
   "outputs": [
    {
     "data": {
      "text/html": [
       "<div>\n",
       "<style scoped>\n",
       "    .dataframe tbody tr th:only-of-type {\n",
       "        vertical-align: middle;\n",
       "    }\n",
       "\n",
       "    .dataframe tbody tr th {\n",
       "        vertical-align: top;\n",
       "    }\n",
       "\n",
       "    .dataframe thead th {\n",
       "        text-align: right;\n",
       "    }\n",
       "</style>\n",
       "<table border=\"1\" class=\"dataframe\">\n",
       "  <thead>\n",
       "    <tr style=\"text-align: right;\">\n",
       "      <th></th>\n",
       "      <th>pickup</th>\n",
       "      <th>dropoff</th>\n",
       "      <th>hour</th>\n",
       "      <th>Minute</th>\n",
       "      <th>seconds</th>\n",
       "      <th>WeekDay</th>\n",
       "      <th>Day_Num</th>\n",
       "      <th>Day_Name</th>\n",
       "    </tr>\n",
       "  </thead>\n",
       "  <tbody>\n",
       "    <tr>\n",
       "      <th>0</th>\n",
       "      <td>2019-03-23 20:21:09</td>\n",
       "      <td>2019-03-23 20:27:24</td>\n",
       "      <td>20</td>\n",
       "      <td>21</td>\n",
       "      <td>9</td>\n",
       "      <td>5</td>\n",
       "      <td>23</td>\n",
       "      <td>Saturday</td>\n",
       "    </tr>\n",
       "    <tr>\n",
       "      <th>1</th>\n",
       "      <td>2019-03-04 16:11:55</td>\n",
       "      <td>2019-03-04 16:19:00</td>\n",
       "      <td>16</td>\n",
       "      <td>11</td>\n",
       "      <td>55</td>\n",
       "      <td>0</td>\n",
       "      <td>4</td>\n",
       "      <td>Monday</td>\n",
       "    </tr>\n",
       "  </tbody>\n",
       "</table>\n",
       "</div>"
      ],
      "text/plain": [
       "               pickup             dropoff  hour  Minute  seconds  WeekDay  \\\n",
       "0 2019-03-23 20:21:09 2019-03-23 20:27:24    20      21        9        5   \n",
       "1 2019-03-04 16:11:55 2019-03-04 16:19:00    16      11       55        0   \n",
       "\n",
       "   Day_Num  Day_Name  \n",
       "0       23  Saturday  \n",
       "1        4    Monday  "
      ]
     },
     "execution_count": 93,
     "metadata": {},
     "output_type": "execute_result"
    }
   ],
   "source": [
    "# Getting Day Name of your date value\n",
    "df1['Day_Name'] = df.pickup.dt.day_name()\n",
    "df1.head(2)"
   ]
  },
  {
   "cell_type": "code",
   "execution_count": 95,
   "id": "7bbefbee",
   "metadata": {},
   "outputs": [
    {
     "data": {
      "text/html": [
       "<div>\n",
       "<style scoped>\n",
       "    .dataframe tbody tr th:only-of-type {\n",
       "        vertical-align: middle;\n",
       "    }\n",
       "\n",
       "    .dataframe tbody tr th {\n",
       "        vertical-align: top;\n",
       "    }\n",
       "\n",
       "    .dataframe thead th {\n",
       "        text-align: right;\n",
       "    }\n",
       "</style>\n",
       "<table border=\"1\" class=\"dataframe\">\n",
       "  <thead>\n",
       "    <tr style=\"text-align: right;\">\n",
       "      <th></th>\n",
       "      <th>pickup</th>\n",
       "      <th>dropoff</th>\n",
       "      <th>passengers</th>\n",
       "      <th>distance</th>\n",
       "      <th>fare</th>\n",
       "      <th>tip</th>\n",
       "      <th>tolls</th>\n",
       "      <th>total</th>\n",
       "      <th>color</th>\n",
       "      <th>payment</th>\n",
       "      <th>pickup_zone</th>\n",
       "      <th>dropoff_zone</th>\n",
       "      <th>pickup_borough</th>\n",
       "      <th>dropoff_borough</th>\n",
       "      <th>Pickup_Month</th>\n",
       "      <th>Pickup_Day</th>\n",
       "      <th>Pickup_Week</th>\n",
       "      <th>Pickup_WeekDay</th>\n",
       "      <th>month_name</th>\n",
       "    </tr>\n",
       "  </thead>\n",
       "  <tbody>\n",
       "    <tr>\n",
       "      <th>0</th>\n",
       "      <td>2019-03-23 20:21:09</td>\n",
       "      <td>2019-03-23 20:27:24</td>\n",
       "      <td>1</td>\n",
       "      <td>1.60</td>\n",
       "      <td>7.0</td>\n",
       "      <td>2.15</td>\n",
       "      <td>0.0</td>\n",
       "      <td>12.95</td>\n",
       "      <td>yellow</td>\n",
       "      <td>credit card</td>\n",
       "      <td>Lenox Hill West</td>\n",
       "      <td>UN/Turtle Bay South</td>\n",
       "      <td>Manhattan</td>\n",
       "      <td>Manhattan</td>\n",
       "      <td>3</td>\n",
       "      <td>23</td>\n",
       "      <td>12</td>\n",
       "      <td>5</td>\n",
       "      <td>March</td>\n",
       "    </tr>\n",
       "    <tr>\n",
       "      <th>1</th>\n",
       "      <td>2019-03-04 16:11:55</td>\n",
       "      <td>2019-03-04 16:19:00</td>\n",
       "      <td>1</td>\n",
       "      <td>0.79</td>\n",
       "      <td>5.0</td>\n",
       "      <td>0.00</td>\n",
       "      <td>0.0</td>\n",
       "      <td>9.30</td>\n",
       "      <td>yellow</td>\n",
       "      <td>cash</td>\n",
       "      <td>Upper West Side South</td>\n",
       "      <td>Upper West Side South</td>\n",
       "      <td>Manhattan</td>\n",
       "      <td>Manhattan</td>\n",
       "      <td>3</td>\n",
       "      <td>4</td>\n",
       "      <td>10</td>\n",
       "      <td>0</td>\n",
       "      <td>March</td>\n",
       "    </tr>\n",
       "  </tbody>\n",
       "</table>\n",
       "</div>"
      ],
      "text/plain": [
       "               pickup             dropoff  passengers  distance  fare   tip  \\\n",
       "0 2019-03-23 20:21:09 2019-03-23 20:27:24           1      1.60   7.0  2.15   \n",
       "1 2019-03-04 16:11:55 2019-03-04 16:19:00           1      0.79   5.0  0.00   \n",
       "\n",
       "   tolls  total   color      payment            pickup_zone  \\\n",
       "0    0.0  12.95  yellow  credit card        Lenox Hill West   \n",
       "1    0.0   9.30  yellow         cash  Upper West Side South   \n",
       "\n",
       "            dropoff_zone pickup_borough dropoff_borough  Pickup_Month  \\\n",
       "0    UN/Turtle Bay South      Manhattan       Manhattan             3   \n",
       "1  Upper West Side South      Manhattan       Manhattan             3   \n",
       "\n",
       "   Pickup_Day  Pickup_Week  Pickup_WeekDay month_name  \n",
       "0          23           12               5      March  \n",
       "1           4           10               0      March  "
      ]
     },
     "execution_count": 95,
     "metadata": {},
     "output_type": "execute_result"
    }
   ],
   "source": [
    "# Getting Month Name of your Date Value\n",
    "df['month_name'] = df.pickup.dt.month_name()\n",
    "df.head(2)"
   ]
  },
  {
   "cell_type": "markdown",
   "id": "9c3b7b20",
   "metadata": {},
   "source": [
    "### Use of DateTime method to Filter any Date Column - Or to put any condition > < "
   ]
  },
  {
   "cell_type": "code",
   "execution_count": 96,
   "id": "4d13bdb8",
   "metadata": {},
   "outputs": [
    {
     "name": "stdout",
     "output_type": "stream",
     "text": [
      "<class 'pandas._libs.tslibs.timestamps.Timestamp'>\n",
      "2019-10-01 00:00:00\n"
     ]
    }
   ],
   "source": [
    "# Just create a new TimeSeries Variable\n",
    "my_date = pd.to_datetime('10/1/2019')\n",
    "print (type(my_date))\n",
    "print (my_date)"
   ]
  },
  {
   "cell_type": "code",
   "execution_count": 117,
   "id": "55efba00",
   "metadata": {},
   "outputs": [
    {
     "name": "stdout",
     "output_type": "stream",
     "text": [
      "Original Dataset Shape :  (6433, 19)\n",
      "After putting condition Dataset Shape : \n",
      " \n"
     ]
    },
    {
     "data": {
      "text/plain": [
       "(5653, 19)"
      ]
     },
     "execution_count": 117,
     "metadata": {},
     "output_type": "execute_result"
    }
   ],
   "source": [
    "print('Original Dataset Shape : ', df.shape)\n",
    "print('After putting condition Dataset Shape : \\n ' )\n",
    "df.loc[df['pickup'] > '2019-03-05'].shape"
   ]
  },
  {
   "cell_type": "markdown",
   "id": "fe2e5f24",
   "metadata": {},
   "source": [
    "###  Mathematical Operations"
   ]
  },
  {
   "cell_type": "code",
   "execution_count": 124,
   "id": "733cdf65",
   "metadata": {},
   "outputs": [
    {
     "data": {
      "text/html": [
       "<div>\n",
       "<style scoped>\n",
       "    .dataframe tbody tr th:only-of-type {\n",
       "        vertical-align: middle;\n",
       "    }\n",
       "\n",
       "    .dataframe tbody tr th {\n",
       "        vertical-align: top;\n",
       "    }\n",
       "\n",
       "    .dataframe thead th {\n",
       "        text-align: right;\n",
       "    }\n",
       "</style>\n",
       "<table border=\"1\" class=\"dataframe\">\n",
       "  <thead>\n",
       "    <tr style=\"text-align: right;\">\n",
       "      <th></th>\n",
       "      <th>pickup</th>\n",
       "      <th>dropoff</th>\n",
       "      <th>passengers</th>\n",
       "      <th>distance</th>\n",
       "      <th>fare</th>\n",
       "      <th>tip</th>\n",
       "      <th>tolls</th>\n",
       "      <th>total</th>\n",
       "      <th>color</th>\n",
       "      <th>payment</th>\n",
       "      <th>pickup_zone</th>\n",
       "      <th>dropoff_zone</th>\n",
       "      <th>pickup_borough</th>\n",
       "      <th>dropoff_borough</th>\n",
       "      <th>Pickup_Month</th>\n",
       "      <th>Pickup_Day</th>\n",
       "      <th>Pickup_Week</th>\n",
       "      <th>Pickup_WeekDay</th>\n",
       "      <th>month_name</th>\n",
       "    </tr>\n",
       "  </thead>\n",
       "  <tbody>\n",
       "    <tr>\n",
       "      <th>591</th>\n",
       "      <td>2019-03-31 23:43:45</td>\n",
       "      <td>2019-04-01 00:13:58</td>\n",
       "      <td>5</td>\n",
       "      <td>12.25</td>\n",
       "      <td>37.0</td>\n",
       "      <td>0.0</td>\n",
       "      <td>0.0</td>\n",
       "      <td>40.8</td>\n",
       "      <td>yellow</td>\n",
       "      <td>cash</td>\n",
       "      <td>LaGuardia Airport</td>\n",
       "      <td>Williamsburg (South Side)</td>\n",
       "      <td>Queens</td>\n",
       "      <td>Brooklyn</td>\n",
       "      <td>3</td>\n",
       "      <td>31</td>\n",
       "      <td>13</td>\n",
       "      <td>6</td>\n",
       "      <td>March</td>\n",
       "    </tr>\n",
       "  </tbody>\n",
       "</table>\n",
       "</div>"
      ],
      "text/plain": [
       "                 pickup             dropoff  passengers  distance  fare  tip  \\\n",
       "591 2019-03-31 23:43:45 2019-04-01 00:13:58           5     12.25  37.0  0.0   \n",
       "\n",
       "     tolls  total   color payment        pickup_zone  \\\n",
       "591    0.0   40.8  yellow    cash  LaGuardia Airport   \n",
       "\n",
       "                  dropoff_zone pickup_borough dropoff_borough  Pickup_Month  \\\n",
       "591  Williamsburg (South Side)         Queens        Brooklyn             3   \n",
       "\n",
       "     Pickup_Day  Pickup_Week  Pickup_WeekDay month_name  \n",
       "591          31           13               6      March  "
      ]
     },
     "execution_count": 124,
     "metadata": {},
     "output_type": "execute_result"
    }
   ],
   "source": [
    "# Fetching the record with having maximum date\n",
    "df.loc[df['pickup'] ==df['pickup'].max(), :]"
   ]
  },
  {
   "cell_type": "code",
   "execution_count": 125,
   "id": "f45faa89",
   "metadata": {},
   "outputs": [
    {
     "data": {
      "text/html": [
       "<div>\n",
       "<style scoped>\n",
       "    .dataframe tbody tr th:only-of-type {\n",
       "        vertical-align: middle;\n",
       "    }\n",
       "\n",
       "    .dataframe tbody tr th {\n",
       "        vertical-align: top;\n",
       "    }\n",
       "\n",
       "    .dataframe thead th {\n",
       "        text-align: right;\n",
       "    }\n",
       "</style>\n",
       "<table border=\"1\" class=\"dataframe\">\n",
       "  <thead>\n",
       "    <tr style=\"text-align: right;\">\n",
       "      <th></th>\n",
       "      <th>pickup</th>\n",
       "      <th>dropoff</th>\n",
       "      <th>passengers</th>\n",
       "      <th>distance</th>\n",
       "      <th>fare</th>\n",
       "      <th>tip</th>\n",
       "      <th>tolls</th>\n",
       "      <th>total</th>\n",
       "      <th>color</th>\n",
       "      <th>payment</th>\n",
       "      <th>pickup_zone</th>\n",
       "      <th>dropoff_zone</th>\n",
       "      <th>pickup_borough</th>\n",
       "      <th>dropoff_borough</th>\n",
       "      <th>Pickup_Month</th>\n",
       "      <th>Pickup_Day</th>\n",
       "      <th>Pickup_Week</th>\n",
       "      <th>Pickup_WeekDay</th>\n",
       "      <th>month_name</th>\n",
       "    </tr>\n",
       "  </thead>\n",
       "  <tbody>\n",
       "    <tr>\n",
       "      <th>6203</th>\n",
       "      <td>2019-02-28 23:29:03</td>\n",
       "      <td>2019-02-28 23:32:35</td>\n",
       "      <td>1</td>\n",
       "      <td>0.9</td>\n",
       "      <td>5.0</td>\n",
       "      <td>0.0</td>\n",
       "      <td>0.0</td>\n",
       "      <td>6.3</td>\n",
       "      <td>green</td>\n",
       "      <td>cash</td>\n",
       "      <td>Old Astoria</td>\n",
       "      <td>Long Island City/Queens Plaza</td>\n",
       "      <td>Queens</td>\n",
       "      <td>Queens</td>\n",
       "      <td>2</td>\n",
       "      <td>28</td>\n",
       "      <td>9</td>\n",
       "      <td>3</td>\n",
       "      <td>February</td>\n",
       "    </tr>\n",
       "  </tbody>\n",
       "</table>\n",
       "</div>"
      ],
      "text/plain": [
       "                  pickup             dropoff  passengers  distance  fare  tip  \\\n",
       "6203 2019-02-28 23:29:03 2019-02-28 23:32:35           1       0.9   5.0  0.0   \n",
       "\n",
       "      tolls  total  color payment  pickup_zone                   dropoff_zone  \\\n",
       "6203    0.0    6.3  green    cash  Old Astoria  Long Island City/Queens Plaza   \n",
       "\n",
       "     pickup_borough dropoff_borough  Pickup_Month  Pickup_Day  Pickup_Week  \\\n",
       "6203         Queens          Queens             2          28            9   \n",
       "\n",
       "      Pickup_WeekDay month_name  \n",
       "6203               3   February  "
      ]
     },
     "execution_count": 125,
     "metadata": {},
     "output_type": "execute_result"
    }
   ],
   "source": [
    "# Fetching the record with having minimum date\n",
    "df.loc[df['pickup'] ==df['pickup'].min(), :]"
   ]
  },
  {
   "cell_type": "code",
   "execution_count": 137,
   "id": "510b2685",
   "metadata": {},
   "outputs": [
    {
     "name": "stdout",
     "output_type": "stream",
     "text": [
      "Orignal dataset shape :  (6433, 19)\n",
      "\n",
      "\n",
      "After condition dataset shape :  (1932, 19)\n"
     ]
    }
   ],
   "source": [
    "# Fetching the records with above the average fare\n",
    "df.loc[df['fare'] >= df['fare'].mean(), :]\n",
    "print('Orignal dataset shape : ', df.shape)\n",
    "print('\\n')\n",
    "print('After condition dataset shape : ', df.loc[df['fare'] >= df['fare'].mean(), :].shape)"
   ]
  },
  {
   "cell_type": "markdown",
   "id": "d26d96a4",
   "metadata": {},
   "source": [
    "###  Working with DATETIME Library"
   ]
  },
  {
   "cell_type": "code",
   "execution_count": 138,
   "id": "c73aa5b1",
   "metadata": {},
   "outputs": [
    {
     "data": {
      "text/plain": [
       "datetime.date(2019, 12, 23)"
      ]
     },
     "execution_count": 138,
     "metadata": {},
     "output_type": "execute_result"
    }
   ],
   "source": [
    "# When we have a date in Date Format only\n",
    "my_date = dt.date(2019,12,23)\n",
    "my_date"
   ]
  },
  {
   "cell_type": "code",
   "execution_count": 140,
   "id": "e438501a",
   "metadata": {},
   "outputs": [
    {
     "data": {
      "text/plain": [
       "12"
      ]
     },
     "execution_count": 140,
     "metadata": {},
     "output_type": "execute_result"
    }
   ],
   "source": [
    "my_date.month"
   ]
  },
  {
   "cell_type": "code",
   "execution_count": 141,
   "id": "a9b529a0",
   "metadata": {},
   "outputs": [
    {
     "data": {
      "text/plain": [
       "23"
      ]
     },
     "execution_count": 141,
     "metadata": {},
     "output_type": "execute_result"
    }
   ],
   "source": [
    "my_date.day"
   ]
  },
  {
   "cell_type": "code",
   "execution_count": 143,
   "id": "62bd3305",
   "metadata": {},
   "outputs": [
    {
     "data": {
      "text/plain": [
       "2019"
      ]
     },
     "execution_count": 143,
     "metadata": {},
     "output_type": "execute_result"
    }
   ],
   "source": [
    "my_date.year"
   ]
  },
  {
   "cell_type": "code",
   "execution_count": 144,
   "id": "c517c1b6",
   "metadata": {},
   "outputs": [
    {
     "name": "stdout",
     "output_type": "stream",
     "text": [
      "2020-02-22 23:25:40\n",
      "23\n",
      "25\n",
      "40\n"
     ]
    }
   ],
   "source": [
    "# When we want a date in Date and Time Format\n",
    "m_date = dt.datetime(2020, 2, 22, 23, 25, 40)\n",
    "print(m_date)\n",
    "print(m_date.hour)\n",
    "print(m_date.minute)\n",
    "print(m_date.second)"
   ]
  },
  {
   "cell_type": "markdown",
   "id": "8778de6c",
   "metadata": {},
   "source": [
    "### Pandas TimeStamp"
   ]
  },
  {
   "cell_type": "markdown",
   "id": "ca7a41ac",
   "metadata": {},
   "source": [
    "Even not putting time value in below date values - it will give you output with Time Value as well, because of TimeStamp"
   ]
  },
  {
   "cell_type": "code",
   "execution_count": 146,
   "id": "4a17d254",
   "metadata": {},
   "outputs": [],
   "source": [
    "a= pd.Timestamp('2019-12-23')\n",
    "b=pd.Timestamp('2020/2/29')\n",
    "c=pd.Timestamp('2020, 2 , 29')\n",
    "d=pd.Timestamp('2019-12-23 04:23:45 PM')\n",
    "e=pd.Timestamp('2019-12-23 17:23:45 ')"
   ]
  },
  {
   "cell_type": "code",
   "execution_count": 151,
   "id": "684e33e0",
   "metadata": {},
   "outputs": [
    {
     "data": {
      "text/plain": [
       "Timestamp('2019-12-23 17:23:45')"
      ]
     },
     "execution_count": 151,
     "metadata": {},
     "output_type": "execute_result"
    }
   ],
   "source": [
    "e\n"
   ]
  },
  {
   "cell_type": "code",
   "execution_count": null,
   "id": "39d2f44e",
   "metadata": {},
   "outputs": [],
   "source": [
    "import pandas as pd\n",
    "\n",
    "df1 = pd.DataFrame({\n",
    "    'date': pd.date_range('2000-01-01', '2010-01-01', freq='1M')\n",
    "})\n",
    "df1.head(4)"
   ]
  },
  {
   "cell_type": "markdown",
   "id": "d1a9fc00",
   "metadata": {},
   "source": [
    "### Real DataSet"
   ]
  },
  {
   "cell_type": "code",
   "execution_count": 1,
   "id": "c9e5f354",
   "metadata": {},
   "outputs": [],
   "source": [
    "import pandas as pd\n",
    "import seaborn as sns\n",
    "import matplotlib.pyplot as plt\n",
    "import pyodbc\n",
    "conn = pyodbc.connect('Driver={SQL Server};'\n",
    "                      'Server=wn000043359;'\n",
    "                      'Database=OptumRx_OGS;'\n",
    "                      'Trusted_Connection=yes;')"
   ]
  },
  {
   "cell_type": "code",
   "execution_count": 5,
   "id": "abf7dd88",
   "metadata": {},
   "outputs": [
    {
     "name": "stderr",
     "output_type": "stream",
     "text": [
      "C:\\Users\\skum108\\Anaconda3\\lib\\site-packages\\pandas\\io\\sql.py:762: UserWarning: pandas only support SQLAlchemy connectable(engine/connection) ordatabase string URI or sqlite3 DBAPI2 connectionother DBAPI2 objects are not tested, please consider using SQLAlchemy\n",
      "  warnings.warn(\n"
     ]
    },
    {
     "data": {
      "text/html": [
       "<div>\n",
       "<style scoped>\n",
       "    .dataframe tbody tr th:only-of-type {\n",
       "        vertical-align: middle;\n",
       "    }\n",
       "\n",
       "    .dataframe tbody tr th {\n",
       "        vertical-align: top;\n",
       "    }\n",
       "\n",
       "    .dataframe thead th {\n",
       "        text-align: right;\n",
       "    }\n",
       "</style>\n",
       "<table border=\"1\" class=\"dataframe\">\n",
       "  <thead>\n",
       "    <tr style=\"text-align: right;\">\n",
       "      <th></th>\n",
       "      <th>Serial_number</th>\n",
       "      <th>Auditor_name</th>\n",
       "      <th>Audit_type</th>\n",
       "      <th>hours_worked</th>\n",
       "      <th>Notes</th>\n",
       "      <th>Work_from</th>\n",
       "      <th>audit_date</th>\n",
       "      <th>total_audits</th>\n",
       "      <th>report_year</th>\n",
       "    </tr>\n",
       "  </thead>\n",
       "  <tbody>\n",
       "    <tr>\n",
       "      <th>0</th>\n",
       "      <td>1</td>\n",
       "      <td>Santosh</td>\n",
       "      <td>PSS_Internal</td>\n",
       "      <td>3.00</td>\n",
       "      <td>None</td>\n",
       "      <td>work_from_home</td>\n",
       "      <td>2021-02-03</td>\n",
       "      <td>18.0</td>\n",
       "      <td>2021</td>\n",
       "    </tr>\n",
       "    <tr>\n",
       "      <th>1</th>\n",
       "      <td>2</td>\n",
       "      <td>Santosh</td>\n",
       "      <td>Meeting</td>\n",
       "      <td>0.75</td>\n",
       "      <td>Huddle</td>\n",
       "      <td>work_from_home</td>\n",
       "      <td>2021-02-03</td>\n",
       "      <td>0.0</td>\n",
       "      <td>2021</td>\n",
       "    </tr>\n",
       "  </tbody>\n",
       "</table>\n",
       "</div>"
      ],
      "text/plain": [
       "   Serial_number Auditor_name    Audit_type  hours_worked   Notes  \\\n",
       "0              1      Santosh  PSS_Internal          3.00    None   \n",
       "1              2      Santosh       Meeting          0.75  Huddle   \n",
       "\n",
       "        Work_from  audit_date  total_audits  report_year  \n",
       "0  work_from_home  2021-02-03          18.0         2021  \n",
       "1  work_from_home  2021-02-03           0.0         2021  "
      ]
     },
     "execution_count": 5,
     "metadata": {},
     "output_type": "execute_result"
    }
   ],
   "source": [
    "df = pd.read_sql_query('SELECT * FROM [ScoreCard].[CAT_production_report]', conn)\n",
    "df.head(2)"
   ]
  },
  {
   "cell_type": "code",
   "execution_count": 6,
   "id": "b2ba8b15",
   "metadata": {},
   "outputs": [],
   "source": [
    "import datetime as dt"
   ]
  },
  {
   "cell_type": "markdown",
   "id": "d865213b",
   "metadata": {},
   "source": [
    "# Getting Month Name with Strftime()function "
   ]
  },
  {
   "cell_type": "code",
   "execution_count": null,
   "id": "880f8387",
   "metadata": {},
   "outputs": [],
   "source": [
    "df1['1'] = df.pickup.dt.strftime(\"%a\")\n",
    "df1['2'] = df.pickup.dt.strftime(\"%A\")\n",
    "df1['3']=df['pickup'].dt.strftime(\"%b\")\n",
    "df1['4']=df['pickup'].dt.strftime(\"%B\")\n",
    "df1['5']=df['pickup'].dt.strftime(\"%c\")\n",
    "df1['6']=df['pickup'].dt.strftime(\"%C\")\n",
    "df1['7']=df['pickup'].dt.strftime(\"%Y/%m/%d\")"
   ]
  },
  {
   "cell_type": "code",
   "execution_count": 12,
   "id": "7d9ffe85",
   "metadata": {},
   "outputs": [],
   "source": [
    "df['audit_date']=pd.to_datetime(df['audit_date'])"
   ]
  },
  {
   "cell_type": "code",
   "execution_count": 17,
   "id": "e3fd69c4",
   "metadata": {},
   "outputs": [
    {
     "data": {
      "text/html": [
       "<div>\n",
       "<style scoped>\n",
       "    .dataframe tbody tr th:only-of-type {\n",
       "        vertical-align: middle;\n",
       "    }\n",
       "\n",
       "    .dataframe tbody tr th {\n",
       "        vertical-align: top;\n",
       "    }\n",
       "\n",
       "    .dataframe thead th {\n",
       "        text-align: right;\n",
       "    }\n",
       "</style>\n",
       "<table border=\"1\" class=\"dataframe\">\n",
       "  <thead>\n",
       "    <tr style=\"text-align: right;\">\n",
       "      <th></th>\n",
       "      <th>Serial_number</th>\n",
       "      <th>Auditor_name</th>\n",
       "      <th>Audit_type</th>\n",
       "      <th>hours_worked</th>\n",
       "      <th>Notes</th>\n",
       "      <th>Work_from</th>\n",
       "      <th>audit_date</th>\n",
       "      <th>total_audits</th>\n",
       "      <th>report_year</th>\n",
       "      <th>Audit_Month</th>\n",
       "      <th>Audit_Day</th>\n",
       "    </tr>\n",
       "  </thead>\n",
       "  <tbody>\n",
       "    <tr>\n",
       "      <th>0</th>\n",
       "      <td>1</td>\n",
       "      <td>Santosh</td>\n",
       "      <td>PSS_Internal</td>\n",
       "      <td>3.00</td>\n",
       "      <td>None</td>\n",
       "      <td>work_from_home</td>\n",
       "      <td>2021-02-03</td>\n",
       "      <td>18.0</td>\n",
       "      <td>2021</td>\n",
       "      <td>Feb</td>\n",
       "      <td>Wed</td>\n",
       "    </tr>\n",
       "    <tr>\n",
       "      <th>1</th>\n",
       "      <td>2</td>\n",
       "      <td>Santosh</td>\n",
       "      <td>Meeting</td>\n",
       "      <td>0.75</td>\n",
       "      <td>Huddle</td>\n",
       "      <td>work_from_home</td>\n",
       "      <td>2021-02-03</td>\n",
       "      <td>0.0</td>\n",
       "      <td>2021</td>\n",
       "      <td>Feb</td>\n",
       "      <td>Wed</td>\n",
       "    </tr>\n",
       "  </tbody>\n",
       "</table>\n",
       "</div>"
      ],
      "text/plain": [
       "   Serial_number Auditor_name    Audit_type  hours_worked   Notes  \\\n",
       "0              1      Santosh  PSS_Internal          3.00    None   \n",
       "1              2      Santosh       Meeting          0.75  Huddle   \n",
       "\n",
       "        Work_from audit_date  total_audits  report_year Audit_Month Audit_Day  \n",
       "0  work_from_home 2021-02-03          18.0         2021         Feb       Wed  \n",
       "1  work_from_home 2021-02-03           0.0         2021         Feb       Wed  "
      ]
     },
     "execution_count": 17,
     "metadata": {},
     "output_type": "execute_result"
    }
   ],
   "source": [
    "df['Audit_Month']=df['audit_date'].dt.strftime('%b')\n",
    "df['Audit_Day']=df['audit_date'].dt.strftime('%a')\n",
    "df.head(2)\n"
   ]
  },
  {
   "cell_type": "code",
   "execution_count": 26,
   "id": "3dbd5606",
   "metadata": {},
   "outputs": [
    {
     "data": {
      "text/html": [
       "<div>\n",
       "<style scoped>\n",
       "    .dataframe tbody tr th:only-of-type {\n",
       "        vertical-align: middle;\n",
       "    }\n",
       "\n",
       "    .dataframe tbody tr th {\n",
       "        vertical-align: top;\n",
       "    }\n",
       "\n",
       "    .dataframe thead th {\n",
       "        text-align: right;\n",
       "    }\n",
       "</style>\n",
       "<table border=\"1\" class=\"dataframe\">\n",
       "  <thead>\n",
       "    <tr style=\"text-align: right;\">\n",
       "      <th></th>\n",
       "      <th></th>\n",
       "      <th></th>\n",
       "      <th>hours_worked</th>\n",
       "      <th>total_audits</th>\n",
       "    </tr>\n",
       "    <tr>\n",
       "      <th>Audit_type</th>\n",
       "      <th>Audit_Month</th>\n",
       "      <th>Audit_Day</th>\n",
       "      <th></th>\n",
       "      <th></th>\n",
       "    </tr>\n",
       "  </thead>\n",
       "  <tbody>\n",
       "    <tr>\n",
       "      <th rowspan=\"2\" valign=\"top\"></th>\n",
       "      <th>Aug</th>\n",
       "      <th>Tue</th>\n",
       "      <td>1.920000</td>\n",
       "      <td>291.000000</td>\n",
       "    </tr>\n",
       "    <tr>\n",
       "      <th>Sep</th>\n",
       "      <th>Mon</th>\n",
       "      <td>8.000000</td>\n",
       "      <td>0.000000</td>\n",
       "    </tr>\n",
       "    <tr>\n",
       "      <th rowspan=\"18\" valign=\"top\">Assignment</th>\n",
       "      <th rowspan=\"5\" valign=\"top\">Apr</th>\n",
       "      <th>Fri</th>\n",
       "      <td>0.375000</td>\n",
       "      <td>0.000000</td>\n",
       "    </tr>\n",
       "    <tr>\n",
       "      <th>Mon</th>\n",
       "      <td>1.333333</td>\n",
       "      <td>0.000000</td>\n",
       "    </tr>\n",
       "    <tr>\n",
       "      <th>Thu</th>\n",
       "      <td>2.000000</td>\n",
       "      <td>0.000000</td>\n",
       "    </tr>\n",
       "    <tr>\n",
       "      <th>Tue</th>\n",
       "      <td>1.250000</td>\n",
       "      <td>0.000000</td>\n",
       "    </tr>\n",
       "    <tr>\n",
       "      <th>Wed</th>\n",
       "      <td>0.500000</td>\n",
       "      <td>0.000000</td>\n",
       "    </tr>\n",
       "    <tr>\n",
       "      <th rowspan=\"5\" valign=\"top\">Aug</th>\n",
       "      <th>Fri</th>\n",
       "      <td>1.291667</td>\n",
       "      <td>0.000000</td>\n",
       "    </tr>\n",
       "    <tr>\n",
       "      <th>Mon</th>\n",
       "      <td>1.777778</td>\n",
       "      <td>0.000000</td>\n",
       "    </tr>\n",
       "    <tr>\n",
       "      <th>Thu</th>\n",
       "      <td>0.666667</td>\n",
       "      <td>0.000000</td>\n",
       "    </tr>\n",
       "    <tr>\n",
       "      <th>Tue</th>\n",
       "      <td>0.333333</td>\n",
       "      <td>0.000000</td>\n",
       "    </tr>\n",
       "    <tr>\n",
       "      <th>Wed</th>\n",
       "      <td>1.916667</td>\n",
       "      <td>4.333333</td>\n",
       "    </tr>\n",
       "    <tr>\n",
       "      <th rowspan=\"3\" valign=\"top\">Dec</th>\n",
       "      <th>Mon</th>\n",
       "      <td>1.550000</td>\n",
       "      <td>0.000000</td>\n",
       "    </tr>\n",
       "    <tr>\n",
       "      <th>Tue</th>\n",
       "      <td>0.250000</td>\n",
       "      <td>0.000000</td>\n",
       "    </tr>\n",
       "    <tr>\n",
       "      <th>Wed</th>\n",
       "      <td>0.500000</td>\n",
       "      <td>0.000000</td>\n",
       "    </tr>\n",
       "    <tr>\n",
       "      <th rowspan=\"3\" valign=\"top\">Feb</th>\n",
       "      <th>Fri</th>\n",
       "      <td>0.500000</td>\n",
       "      <td>0.000000</td>\n",
       "    </tr>\n",
       "    <tr>\n",
       "      <th>Mon</th>\n",
       "      <td>1.125000</td>\n",
       "      <td>0.000000</td>\n",
       "    </tr>\n",
       "    <tr>\n",
       "      <th>Wed</th>\n",
       "      <td>2.250000</td>\n",
       "      <td>0.000000</td>\n",
       "    </tr>\n",
       "    <tr>\n",
       "      <th rowspan=\"2\" valign=\"top\">Jul</th>\n",
       "      <th>Fri</th>\n",
       "      <td>1.821429</td>\n",
       "      <td>0.000000</td>\n",
       "    </tr>\n",
       "    <tr>\n",
       "      <th>Mon</th>\n",
       "      <td>1.666667</td>\n",
       "      <td>0.000000</td>\n",
       "    </tr>\n",
       "  </tbody>\n",
       "</table>\n",
       "</div>"
      ],
      "text/plain": [
       "                                  hours_worked  total_audits\n",
       "Audit_type Audit_Month Audit_Day                            \n",
       "           Aug         Tue            1.920000    291.000000\n",
       "           Sep         Mon            8.000000      0.000000\n",
       "Assignment Apr         Fri            0.375000      0.000000\n",
       "                       Mon            1.333333      0.000000\n",
       "                       Thu            2.000000      0.000000\n",
       "                       Tue            1.250000      0.000000\n",
       "                       Wed            0.500000      0.000000\n",
       "           Aug         Fri            1.291667      0.000000\n",
       "                       Mon            1.777778      0.000000\n",
       "                       Thu            0.666667      0.000000\n",
       "                       Tue            0.333333      0.000000\n",
       "                       Wed            1.916667      4.333333\n",
       "           Dec         Mon            1.550000      0.000000\n",
       "                       Tue            0.250000      0.000000\n",
       "                       Wed            0.500000      0.000000\n",
       "           Feb         Fri            0.500000      0.000000\n",
       "                       Mon            1.125000      0.000000\n",
       "                       Wed            2.250000      0.000000\n",
       "           Jul         Fri            1.821429      0.000000\n",
       "                       Mon            1.666667      0.000000"
      ]
     },
     "execution_count": 26,
     "metadata": {},
     "output_type": "execute_result"
    }
   ],
   "source": [
    "col_list=['Auditor_name', 'Audit_type', 'hours_worked', 'total_audits' , 'Audit_Month', 'Audit_Day']\n",
    "df1 = df.loc[: , col_list ]\n",
    "df2=df1.groupby(['Audit_type','Audit_Month', 'Audit_Day']).mean().head(20)\n",
    "df1.groupby(['Audit_type','Audit_Month', 'Audit_Day']).mean().head(20)"
   ]
  },
  {
   "cell_type": "code",
   "execution_count": 28,
   "id": "d8c3bebb",
   "metadata": {},
   "outputs": [
    {
     "data": {
      "text/plain": [
       "Audit_type  Audit_Month  Audit_Day              \n",
       "            Aug          Tue        hours_worked      1.920000\n",
       "                                    total_audits    291.000000\n",
       "            Sep          Mon        hours_worked      8.000000\n",
       "                                    total_audits      0.000000\n",
       "Assignment  Apr          Fri        hours_worked      0.375000\n",
       "                                    total_audits      0.000000\n",
       "                         Mon        hours_worked      1.333333\n",
       "                                    total_audits      0.000000\n",
       "                         Thu        hours_worked      2.000000\n",
       "                                    total_audits      0.000000\n",
       "                         Tue        hours_worked      1.250000\n",
       "                                    total_audits      0.000000\n",
       "                         Wed        hours_worked      0.500000\n",
       "                                    total_audits      0.000000\n",
       "            Aug          Fri        hours_worked      1.291667\n",
       "                                    total_audits      0.000000\n",
       "                         Mon        hours_worked      1.777778\n",
       "                                    total_audits      0.000000\n",
       "                         Thu        hours_worked      0.666667\n",
       "                                    total_audits      0.000000\n",
       "                         Tue        hours_worked      0.333333\n",
       "                                    total_audits      0.000000\n",
       "                         Wed        hours_worked      1.916667\n",
       "                                    total_audits      4.333333\n",
       "            Dec          Mon        hours_worked      1.550000\n",
       "                                    total_audits      0.000000\n",
       "                         Tue        hours_worked      0.250000\n",
       "                                    total_audits      0.000000\n",
       "                         Wed        hours_worked      0.500000\n",
       "                                    total_audits      0.000000\n",
       "            Feb          Fri        hours_worked      0.500000\n",
       "                                    total_audits      0.000000\n",
       "                         Mon        hours_worked      1.125000\n",
       "                                    total_audits      0.000000\n",
       "                         Wed        hours_worked      2.250000\n",
       "                                    total_audits      0.000000\n",
       "            Jul          Fri        hours_worked      1.821429\n",
       "                                    total_audits      0.000000\n",
       "                         Mon        hours_worked      1.666667\n",
       "                                    total_audits      0.000000\n",
       "dtype: float64"
      ]
     },
     "execution_count": 28,
     "metadata": {},
     "output_type": "execute_result"
    }
   ],
   "source": [
    "df2.stack()"
   ]
  },
  {
   "cell_type": "code",
   "execution_count": null,
   "id": "ae19a41b",
   "metadata": {},
   "outputs": [],
   "source": []
  },
  {
   "cell_type": "code",
   "execution_count": null,
   "id": "814016a7",
   "metadata": {},
   "outputs": [],
   "source": []
  },
  {
   "cell_type": "code",
   "execution_count": null,
   "id": "098a73ce",
   "metadata": {},
   "outputs": [],
   "source": []
  }
 ],
 "metadata": {
  "kernelspec": {
   "display_name": "Python 3 (ipykernel)",
   "language": "python",
   "name": "python3"
  },
  "language_info": {
   "codemirror_mode": {
    "name": "ipython",
    "version": 3
   },
   "file_extension": ".py",
   "mimetype": "text/x-python",
   "name": "python",
   "nbconvert_exporter": "python",
   "pygments_lexer": "ipython3",
   "version": "3.9.13"
  }
 },
 "nbformat": 4,
 "nbformat_minor": 5
}
