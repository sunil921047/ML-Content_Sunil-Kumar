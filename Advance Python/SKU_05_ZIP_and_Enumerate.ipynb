{
 "cells": [
  {
   "cell_type": "markdown",
   "metadata": {},
   "source": [
    "# Enumerate"
   ]
  },
  {
   "cell_type": "markdown",
   "metadata": {},
   "source": [
    "The enumerate() function returns indexes of all items in iterables (lists, dictionaries, sets, etc.) "
   ]
  },
  {
   "cell_type": "code",
   "execution_count": 1,
   "metadata": {},
   "outputs": [
    {
     "data": {
      "text/plain": [
       "<enumerate at 0x2d298638f30>"
      ]
     },
     "execution_count": 1,
     "metadata": {},
     "output_type": "execute_result"
    }
   ],
   "source": [
    "list1= ['Black', 'Pink', 'Green' , 'Red' , 'White']\n",
    "enumerate(list1)"
   ]
  },
  {
   "cell_type": "code",
   "execution_count": 2,
   "metadata": {},
   "outputs": [
    {
     "data": {
      "text/plain": [
       "enumerate"
      ]
     },
     "execution_count": 2,
     "metadata": {},
     "output_type": "execute_result"
    }
   ],
   "source": [
    "type(enumerate(list1))"
   ]
  },
  {
   "cell_type": "code",
   "execution_count": 5,
   "metadata": {},
   "outputs": [
    {
     "name": "stdout",
     "output_type": "stream",
     "text": [
      "[(0, 'Black'), (1, 'Pink'), (2, 'Green'), (3, 'Red'), (4, 'White')]\n"
     ]
    }
   ],
   "source": [
    "print(list(enumerate(list1)))"
   ]
  },
  {
   "cell_type": "code",
   "execution_count": 7,
   "metadata": {},
   "outputs": [
    {
     "name": "stdout",
     "output_type": "stream",
     "text": [
      "(0, 'Black')\n",
      "(1, 'Pink')\n",
      "(2, 'Green')\n",
      "(3, 'Red')\n",
      "(4, 'White')\n"
     ]
    }
   ],
   "source": [
    "for i in enumerate(list1):\n",
    "    print(i)"
   ]
  },
  {
   "cell_type": "markdown",
   "metadata": {},
   "source": [
    "#### 1. Find out the index of 3 in given list"
   ]
  },
  {
   "cell_type": "code",
   "execution_count": 23,
   "metadata": {},
   "outputs": [
    {
     "name": "stdout",
     "output_type": "stream",
     "text": [
      "Index of 3 is : 1 \n",
      "Index of 3 is : 3 \n",
      "Index of 3 is : 7 \n",
      "Index of 3 is : 10 \n"
     ]
    }
   ],
   "source": [
    "list1 = [2,3,4,3,4,7,8,3,2,4,3,1,5,1]\n",
    "for i in enumerate(list1):\n",
    "    if i[1] ==3:\n",
    "        print('Index of {} is : {} ' .format(i[1] , i[0]))"
   ]
  },
  {
   "cell_type": "code",
   "execution_count": 24,
   "metadata": {},
   "outputs": [
    {
     "name": "stdout",
     "output_type": "stream",
     "text": [
      "Index of  3 is :  1\n",
      "Index of  3 is :  3\n",
      "Index of  3 is :  7\n",
      "Index of  3 is :  10\n"
     ]
    }
   ],
   "source": [
    "list1 = [2,3,4,3,4,7,8,3,2,4,3,1,5,1]\n",
    "for i in enumerate(list1):\n",
    "    if i[1] ==3:\n",
    "        print('Index of ' , i[1] , 'is : ' , i[0])"
   ]
  },
  {
   "cell_type": "markdown",
   "metadata": {},
   "source": [
    "# ZIP"
   ]
  },
  {
   "cell_type": "markdown",
   "metadata": {},
   "source": [
    "The zip() function is used to aggregate, or combine, multiple iterables. \n",
    "zip function takes iterables and these iterables can be zero or more.\n",
    "zip function will combine them and return it in the form of tuple."
   ]
  },
  {
   "cell_type": "code",
   "execution_count": 26,
   "metadata": {},
   "outputs": [
    {
     "data": {
      "text/plain": [
       "<zip at 0x2d298628788>"
      ]
     },
     "execution_count": 26,
     "metadata": {},
     "output_type": "execute_result"
    }
   ],
   "source": [
    "result = zip()\n",
    "result"
   ]
  },
  {
   "cell_type": "code",
   "execution_count": 27,
   "metadata": {},
   "outputs": [],
   "source": [
    "n_list = [3,4,5,6,7]\n",
    "s_list = ['Green' , 'Black' , 'White' , 'Orange', 'Pink']\n",
    "s2_list = ['G' , 'B' , 'W' , 'O' , 'P']"
   ]
  },
  {
   "cell_type": "code",
   "execution_count": 29,
   "metadata": {},
   "outputs": [
    {
     "name": "stdout",
     "output_type": "stream",
     "text": [
      "<zip object at 0x000002D29865D2C8>\n"
     ]
    }
   ],
   "source": [
    "result = zip(n_list,s_list)\n",
    "print(result)"
   ]
  },
  {
   "cell_type": "code",
   "execution_count": 32,
   "metadata": {},
   "outputs": [
    {
     "data": {
      "text/plain": [
       "{(3, 'Green'), (4, 'Black'), (5, 'White'), (6, 'Orange'), (7, 'Pink')}"
      ]
     },
     "execution_count": 32,
     "metadata": {},
     "output_type": "execute_result"
    }
   ],
   "source": [
    "# All items in a SET but each item in Tuple form.  zip function combines each iterables in TUPLE Form\n",
    "set_result = set(zip(n_list, s_list))\n",
    "set_result"
   ]
  },
  {
   "cell_type": "code",
   "execution_count": 35,
   "metadata": {},
   "outputs": [
    {
     "data": {
      "text/plain": [
       "((3, 'Green'), (4, 'Black'), (5, 'White'), (6, 'Orange'), (7, 'Pink'))"
      ]
     },
     "execution_count": 35,
     "metadata": {},
     "output_type": "execute_result"
    }
   ],
   "source": [
    "# All items in a TUPLE but each item in Tuple form.\n",
    "tuple_result = tuple(zip(n_list, s_list))\n",
    "tuple_result"
   ]
  },
  {
   "cell_type": "markdown",
   "metadata": {},
   "source": [
    "#### We can combine more than 2 list with ZIP "
   ]
  },
  {
   "cell_type": "code",
   "execution_count": 38,
   "metadata": {},
   "outputs": [
    {
     "name": "stdout",
     "output_type": "stream",
     "text": [
      "{(1, 'One', 'I'), (3, 'Three', 'III'), (4, 'Four', 'IV'), (5, 'Five', 'V'), (6, 'Six', 'Vi'), (2, 'Two', 'II')}\n"
     ]
    }
   ],
   "source": [
    "n_num = [1,2,3,4,5,6]\n",
    "s_num = ['One', 'Two', 'Three' , 'Four' , 'Five' , 'Six']\n",
    "r_num = ['I' , 'II', 'III', 'IV', 'V' , 'Vi']\n",
    "new_result = zip(n_num, s_num, r_num)\n",
    "print(set(new_result))"
   ]
  },
  {
   "cell_type": "markdown",
   "metadata": {},
   "source": [
    "### zip will combine only the minimum length item of any lists"
   ]
  },
  {
   "cell_type": "code",
   "execution_count": 54,
   "metadata": {},
   "outputs": [
    {
     "name": "stdout",
     "output_type": "stream",
     "text": [
      "((1, 'One', 'I'), (2, 'Two', 'II'), (3, 'Three', 'III'))\n",
      "\n",
      "\n",
      "set()\n"
     ]
    }
   ],
   "source": [
    "n_num = [1,2,3,4,5,6]\n",
    "s_num = ['One', 'Two', 'Three' , 'Four' , 'Five' , 'Six']\n",
    "r_num = ['I' , 'II', 'III']\n",
    "new_result = zip(n_num, s_num, r_num)\n",
    "\n",
    "print(tuple(new_result))\n",
    "print('\\n')\n",
    "print(set(new_result))"
   ]
  },
  {
   "cell_type": "markdown",
   "metadata": {},
   "source": [
    "### How to create a Dictionary with Zip Item"
   ]
  },
  {
   "cell_type": "code",
   "execution_count": 57,
   "metadata": {},
   "outputs": [
    {
     "name": "stdout",
     "output_type": "stream",
     "text": [
      "<class 'dict'>\n"
     ]
    },
    {
     "data": {
      "text/plain": [
       "{1: 'One', 2: 'Two', 3: 'Three', 4: 'Four', 5: 'Five', 6: 'Six'}"
      ]
     },
     "execution_count": 57,
     "metadata": {},
     "output_type": "execute_result"
    }
   ],
   "source": [
    "n_num = [1,2,3,4,5,6]\n",
    "s_num = ['One', 'Two', 'Three' , 'Four' , 'Five' , 'Six']\n",
    "\n",
    "dic1 = dict(zip(n_num,s_num))\n",
    "print(type(dic1))\n",
    "dic1"
   ]
  }
 ],
 "metadata": {
  "kernelspec": {
   "display_name": "Python 3",
   "language": "python",
   "name": "python3"
  },
  "language_info": {
   "codemirror_mode": {
    "name": "ipython",
    "version": 3
   },
   "file_extension": ".py",
   "mimetype": "text/x-python",
   "name": "python",
   "nbconvert_exporter": "python",
   "pygments_lexer": "ipython3",
   "version": "3.7.0"
  }
 },
 "nbformat": 4,
 "nbformat_minor": 2
}
