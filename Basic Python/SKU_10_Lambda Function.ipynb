{
 "cells": [
  {
   "cell_type": "markdown",
   "id": "c4223c96",
   "metadata": {},
   "source": [
    "# Lambda - Anonymus function\n"
   ]
  },
  {
   "cell_type": "code",
   "execution_count": 1,
   "id": "a774ae00",
   "metadata": {},
   "outputs": [],
   "source": [
    "def sqr(n):\n",
    "    return n*n"
   ]
  },
  {
   "cell_type": "code",
   "execution_count": 3,
   "id": "6679f792",
   "metadata": {},
   "outputs": [
    {
     "data": {
      "text/plain": [
       "225"
      ]
     },
     "execution_count": 3,
     "metadata": {},
     "output_type": "execute_result"
    }
   ],
   "source": [
    "sqr(15)"
   ]
  },
  {
   "cell_type": "code",
   "execution_count": 4,
   "id": "d8f32454",
   "metadata": {},
   "outputs": [],
   "source": [
    "lam1 = lambda n: n*n"
   ]
  },
  {
   "cell_type": "code",
   "execution_count": 6,
   "id": "a5d4f714",
   "metadata": {},
   "outputs": [
    {
     "data": {
      "text/plain": [
       "100"
      ]
     },
     "execution_count": 6,
     "metadata": {},
     "output_type": "execute_result"
    }
   ],
   "source": [
    "lam1(10)"
   ]
  },
  {
   "cell_type": "code",
   "execution_count": 7,
   "id": "c74a082b",
   "metadata": {},
   "outputs": [],
   "source": [
    "lam2 = lambda x : x+15"
   ]
  },
  {
   "cell_type": "code",
   "execution_count": 9,
   "id": "50c24b52",
   "metadata": {},
   "outputs": [
    {
     "data": {
      "text/plain": [
       "165"
      ]
     },
     "execution_count": 9,
     "metadata": {},
     "output_type": "execute_result"
    }
   ],
   "source": [
    "lam2(150)"
   ]
  },
  {
   "cell_type": "code",
   "execution_count": 11,
   "id": "01ae9ea2",
   "metadata": {},
   "outputs": [
    {
     "data": {
      "text/plain": [
       "'Python Love'"
      ]
     },
     "execution_count": 11,
     "metadata": {},
     "output_type": "execute_result"
    }
   ],
   "source": [
    "lam3 = lambda fn, ln: fn.strip().title() + ' ' + ln.strip().title()\n",
    "\n",
    "lam3 ('  pYTHon   ', '   LovE   ')"
   ]
  },
  {
   "cell_type": "code",
   "execution_count": null,
   "id": "6d0aca7d",
   "metadata": {},
   "outputs": [],
   "source": [
    "'  pYTHon   ', '   LovE   ' == Python Love"
   ]
  },
  {
   "cell_type": "code",
   "execution_count": 14,
   "id": "b52174b5",
   "metadata": {},
   "outputs": [
    {
     "data": {
      "text/plain": [
       "'Python Love'"
      ]
     },
     "execution_count": 14,
     "metadata": {},
     "output_type": "execute_result"
    }
   ],
   "source": [
    "lam3 = lambda fn, ln: fn.strip().title() + ' ' + ln.strip().title()\n",
    "lam3 ('  pYTHon   ', '   LovE   ')"
   ]
  },
  {
   "cell_type": "code",
   "execution_count": 15,
   "id": "c2d982c4",
   "metadata": {},
   "outputs": [],
   "source": [
    "# Filter, Map, Reduce\n",
    "# Filter\n",
    "nums2 = [1,2,3,1,2,6,4,8,6,5,2,3,6,4]"
   ]
  },
  {
   "cell_type": "code",
   "execution_count": 16,
   "id": "bbd2a14c",
   "metadata": {},
   "outputs": [],
   "source": [
    "def is_even(n):\n",
    "    return n%2 == 0"
   ]
  },
  {
   "cell_type": "code",
   "execution_count": 20,
   "id": "0c55db57",
   "metadata": {},
   "outputs": [
    {
     "data": {
      "text/plain": [
       "<filter at 0x22a683abca0>"
      ]
     },
     "execution_count": 20,
     "metadata": {},
     "output_type": "execute_result"
    }
   ],
   "source": [
    "evens = filter (is_even, nums2)\n",
    "evens"
   ]
  },
  {
   "cell_type": "code",
   "execution_count": null,
   "id": "c53cca76",
   "metadata": {},
   "outputs": [],
   "source": []
  },
  {
   "cell_type": "code",
   "execution_count": null,
   "id": "61821e17",
   "metadata": {},
   "outputs": [],
   "source": []
  },
  {
   "cell_type": "code",
   "execution_count": null,
   "id": "5d55b5fe",
   "metadata": {},
   "outputs": [],
   "source": []
  },
  {
   "cell_type": "code",
   "execution_count": null,
   "id": "bd3dfc66",
   "metadata": {},
   "outputs": [],
   "source": []
  },
  {
   "cell_type": "code",
   "execution_count": null,
   "id": "e97ba57a",
   "metadata": {},
   "outputs": [],
   "source": []
  },
  {
   "cell_type": "code",
   "execution_count": null,
   "id": "383ff27a",
   "metadata": {},
   "outputs": [],
   "source": []
  },
  {
   "cell_type": "code",
   "execution_count": null,
   "id": "5a6b5eee",
   "metadata": {},
   "outputs": [],
   "source": []
  },
  {
   "cell_type": "code",
   "execution_count": null,
   "id": "db1ca108",
   "metadata": {},
   "outputs": [],
   "source": []
  },
  {
   "cell_type": "code",
   "execution_count": null,
   "id": "dd1f987c",
   "metadata": {},
   "outputs": [],
   "source": []
  },
  {
   "cell_type": "code",
   "execution_count": null,
   "id": "a10362c3",
   "metadata": {},
   "outputs": [],
   "source": []
  },
  {
   "cell_type": "code",
   "execution_count": null,
   "id": "36ea4755",
   "metadata": {},
   "outputs": [],
   "source": []
  },
  {
   "cell_type": "code",
   "execution_count": null,
   "id": "6a758a8d",
   "metadata": {},
   "outputs": [],
   "source": []
  },
  {
   "cell_type": "code",
   "execution_count": null,
   "id": "003b5b9e",
   "metadata": {},
   "outputs": [],
   "source": []
  },
  {
   "cell_type": "code",
   "execution_count": null,
   "id": "7b517e0b",
   "metadata": {},
   "outputs": [],
   "source": []
  }
 ],
 "metadata": {
  "kernelspec": {
   "display_name": "Python 3",
   "language": "python",
   "name": "python3"
  },
  "language_info": {
   "codemirror_mode": {
    "name": "ipython",
    "version": 3
   },
   "file_extension": ".py",
   "mimetype": "text/x-python",
   "name": "python",
   "nbconvert_exporter": "python",
   "pygments_lexer": "ipython3",
   "version": "3.8.8"
  }
 },
 "nbformat": 4,
 "nbformat_minor": 5
}
