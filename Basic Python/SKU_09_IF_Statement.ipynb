{
 "cells": [
  {
   "cell_type": "markdown",
   "metadata": {},
   "source": [
    "# If Statement"
   ]
  },
  {
   "cell_type": "markdown",
   "metadata": {},
   "source": [
    "It is used to execute block of instructions only if a condition is fulfilled."
   ]
  },
  {
   "cell_type": "markdown",
   "metadata": {},
   "source": [
    "###### Syntax"
   ]
  },
  {
   "cell_type": "raw",
   "metadata": {},
   "source": [
    "if condition:\n",
    "    do something"
   ]
  },
  {
   "cell_type": "code",
   "execution_count": null,
   "metadata": {},
   "outputs": [],
   "source": [
    "# If a condition is true, it'll take action; otherwise, it'll do nothing.\n",
    "a = 13\n",
    "b = 5\n",
    "if a > b:\n",
    "    print(\"a is greater than b\")"
   ]
  },
  {
   "cell_type": "code",
   "execution_count": null,
   "metadata": {},
   "outputs": [],
   "source": [
    "# If condition not matching - then it will not run the condition code\n",
    "a = 13\n",
    "b = 5\n",
    "if a < b:\n",
    "    print(\"a is smaller than b\")"
   ]
  },
  {
   "cell_type": "code",
   "execution_count": null,
   "metadata": {},
   "outputs": [],
   "source": [
    "#Assigning a number to the winning_number variable\n",
    "winning_number = 6\n",
    "\n",
    "#Asking user to type in a lucky number\n",
    "num = int(input(\"Pick a lucky number between 1 and 10: \"))\n",
    "\n",
    "if num == winning_number:\n",
    "    print(\"You won!\")"
   ]
  },
  {
   "cell_type": "markdown",
   "metadata": {},
   "source": [
    "## If Else Statement"
   ]
  },
  {
   "cell_type": "markdown",
   "metadata": {},
   "source": [
    "You can assign it to perform an action if a condition is true and a different action when the condition is false; therefore, different actions can be processed based on the condition."
   ]
  },
  {
   "cell_type": "raw",
   "metadata": {},
   "source": [
    "if condition:\n",
    "    do something\n",
    "else:\n",
    "    do something else"
   ]
  },
  {
   "cell_type": "code",
   "execution_count": null,
   "metadata": {},
   "outputs": [],
   "source": [
    "a = 13\n",
    "b = 5\n",
    "if a < b:\n",
    "    print(\"a is smaller than b\")\n",
    "else:\n",
    "    print(\"a is greater than b\")"
   ]
  },
  {
   "cell_type": "markdown",
   "metadata": {},
   "source": [
    "## If-Elif-Else statement"
   ]
  },
  {
   "cell_type": "markdown",
   "metadata": {},
   "source": [
    "It has more than one condition, and it takes different actions depending on the condition. If all conditions do not match, it does the action of the \"else\" part."
   ]
  },
  {
   "cell_type": "markdown",
   "metadata": {},
   "source": [
    "###### Syntax"
   ]
  },
  {
   "cell_type": "raw",
   "metadata": {},
   "source": [
    "if condition:\n",
    "    action1\n",
    "elif condition:\n",
    "    action2\n",
    "else:\n",
    "    other_action"
   ]
  },
  {
   "cell_type": "code",
   "execution_count": null,
   "metadata": {},
   "outputs": [],
   "source": [
    "a = 13\n",
    "b = 13\n",
    "if a < b:\n",
    "    print(\"a is smaller than b\")\n",
    "elif a > b:\n",
    "    print(\"a is greater than b\")\n",
    "else:\n",
    "    print(\"a and b are same\")"
   ]
  },
  {
   "cell_type": "raw",
   "metadata": {},
   "source": [
    "90-100 => \"A Grade\"\n",
    "80-89 => \"B Grade\"\n",
    "70-79 => \"C Grade\"\n",
    "60-69 => \"D Grade\"\n",
    "below 60 => \"F Grade\""
   ]
  },
  {
   "cell_type": "code",
   "execution_count": null,
   "metadata": {},
   "outputs": [],
   "source": [
    "score = int(input(\"Your score(0-100): \"))\n",
    "\n",
    "if score >= 90 and score <= 100:\n",
    "    print(\"A Grade\")\n",
    "elif score >= 80 and score < 90:\n",
    "    print(\"B Grade\")\n",
    "elif score >= 70 and score < 80:\n",
    "    print(\"C Grade\")\n",
    "elif score >= 60 and score < 70:\n",
    "    print(\"D Grade\")\n",
    "elif score >= 0 and score < 60:\n",
    "    print(\"F Grade\")\n",
    "else:\n",
    "    print(\"invalid score\")"
   ]
  },
  {
   "cell_type": "markdown",
   "metadata": {},
   "source": [
    "###### ELSE"
   ]
  },
  {
   "cell_type": "markdown",
   "metadata": {},
   "source": [
    "The ELSE keyword catches anything which is not caught by the preceding conditions."
   ]
  },
  {
   "cell_type": "markdown",
   "metadata": {},
   "source": [
    "###### ELIF"
   ]
  },
  {
   "cell_type": "markdown",
   "metadata": {},
   "source": [
    "The ELIF keyword says to \"If the previous condition is not true, then try this one\""
   ]
  },
  {
   "cell_type": "code",
   "execution_count": null,
   "metadata": {},
   "outputs": [],
   "source": [
    "num1 = int(input('Please enter first number  :  '))\n",
    "num2 = int(input('Please enter second number  :  '))"
   ]
  },
  {
   "cell_type": "markdown",
   "metadata": {},
   "source": [
    "###### ELIF"
   ]
  },
  {
   "cell_type": "markdown",
   "metadata": {},
   "source": [
    "The ELIF keyword says to \"If the previous condition is not true, then try this one\""
   ]
  },
  {
   "cell_type": "markdown",
   "metadata": {},
   "source": [
    "##### ELSE"
   ]
  },
  {
   "cell_type": "code",
   "execution_count": null,
   "metadata": {},
   "outputs": [],
   "source": []
  },
  {
   "cell_type": "markdown",
   "metadata": {},
   "source": [
    "The ELSE keyword catches anything which is not caught by the preceding conditions."
   ]
  },
  {
   "cell_type": "markdown",
   "metadata": {},
   "source": [
    "## Practice Questions"
   ]
  },
  {
   "cell_type": "markdown",
   "metadata": {},
   "source": [
    "###### Write a program to check whether a number entered by user is even or odd."
   ]
  },
  {
   "cell_type": "markdown",
   "metadata": {},
   "source": [
    "###### Write a program to check whether a number entered by user is even or odd."
   ]
  },
  {
   "cell_type": "markdown",
   "metadata": {},
   "source": [
    "###### Write a program to check whether a person is eligible for voting or not. (accept age from user)"
   ]
  },
  {
   "cell_type": "markdown",
   "metadata": {},
   "source": [
    "###### Write a program to check whether a number is divisible by 7 or not."
   ]
  },
  {
   "cell_type": "markdown",
   "metadata": {},
   "source": [
    "###### Write a program to calculate the electricity bill (accept number of unit from user) according to the following criteria :\n",
    "\n",
    "Unit                                                                   Price  \n",
    "First 100 units                                               no charge\n",
    "\n",
    "Next 100 units                                              Rs 5 per unit\n",
    "\n",
    "After 200 units                                             Rs 10 per unit\n",
    "\n",
    "(For example if input unit is 350 than total bill amount is Rs2000)"
   ]
  },
  {
   "cell_type": "markdown",
   "metadata": {},
   "source": [
    "#### Write a programme to operate an ATM Machine"
   ]
  },
  {
   "cell_type": "code",
   "execution_count": null,
   "metadata": {},
   "outputs": [],
   "source": [
    "amount = int(input('Please enter the desired amount : '))\n",
    "if amount%100 != 0:\n",
    "    print(\"Incorrect Amount Entered : Please enter amount divisible by hundred \")\n",
    "elif amount < 100:\n",
    "    print(\"Incorrect Amount Entered : Please enter amount equal or greather than hundred\")\n",
    "elif amount//500 >= 1:\n",
    "    print(\"You will get \" + str(amount//500) + ' five hundred rupees notes')\n",
    "    if amount%500 >= 100:\n",
    "        print(\"You will get \" + str(int(((amount%500)/100))) + ' one hundred rupees notes')\n",
    "else:\n",
    "    print(\"You will get \" + str(int(((amount%500)/100))) + ' one hundred rupees notes')"
   ]
  },
  {
   "cell_type": "markdown",
   "metadata": {},
   "source": [
    "#### Write a code to check given string is a Palidrom OR not"
   ]
  },
  {
   "cell_type": "code",
   "execution_count": null,
   "metadata": {},
   "outputs": [],
   "source": [
    "string = str(input(\"Please enter a string : \"))\n",
    "rev_string = string[::-1]\n",
    "rev_string\n",
    "if string == rev_string:\n",
    "    print(\"Given string is a Palidrome\")\n",
    "else:\n",
    "    print(\"Given string is not a Palidrome\")"
   ]
  }
 ],
 "metadata": {
  "kernelspec": {
   "display_name": "Python 3",
   "language": "python",
   "name": "python3"
  },
  "language_info": {
   "codemirror_mode": {
    "name": "ipython",
    "version": 3
   },
   "file_extension": ".py",
   "mimetype": "text/x-python",
   "name": "python",
   "nbconvert_exporter": "python",
   "pygments_lexer": "ipython3",
   "version": "3.7.0"
  }
 },
 "nbformat": 4,
 "nbformat_minor": 2
}
