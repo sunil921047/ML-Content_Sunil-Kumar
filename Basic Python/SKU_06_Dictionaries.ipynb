{
 "cells": [
  {
   "cell_type": "markdown",
   "metadata": {},
   "source": [
    "# Data Structures in Python"
   ]
  },
  {
   "cell_type": "markdown",
   "metadata": {},
   "source": [
    "List , Set , Dictionaries and Tuple are the Data Structure in Python that are used to store and organized the data in an efficient manner."
   ]
  },
  {
   "cell_type": "markdown",
   "metadata": {},
   "source": [
    "A dictionary is a collection which is ordered*, changeable and do not allow duplicates.\n",
    "\n",
    "Dictionary items are ordered, changeable, and does not allow duplicates.\n",
    "Dictionaries are used to store data values in key:value pairs."
   ]
  },
  {
   "cell_type": "code",
   "execution_count": 4,
   "metadata": {},
   "outputs": [],
   "source": [
    "#Create a dictionary\n",
    "dict1 = {1:'Sunil',\n",
    "         2:'Chittranjan',\n",
    "         3:'Dheeraj',\n",
    "         4:'Sandeep'\n",
    "         }"
   ]
  },
  {
   "cell_type": "code",
   "execution_count": 6,
   "metadata": {},
   "outputs": [
    {
     "data": {
      "text/plain": [
       "dict"
      ]
     },
     "execution_count": 6,
     "metadata": {},
     "output_type": "execute_result"
    }
   ],
   "source": [
    "type(dict1)"
   ]
  },
  {
   "cell_type": "code",
   "execution_count": 8,
   "metadata": {},
   "outputs": [
    {
     "data": {
      "text/plain": [
       "dict_keys([1, 2, 3, 4])"
      ]
     },
     "execution_count": 8,
     "metadata": {},
     "output_type": "execute_result"
    }
   ],
   "source": [
    "dict1.keys()"
   ]
  },
  {
   "cell_type": "code",
   "execution_count": 10,
   "metadata": {},
   "outputs": [
    {
     "data": {
      "text/plain": [
       "dict_values(['Sunil', 'Chittranjan', 'Dheeraj', 'Sandeep'])"
      ]
     },
     "execution_count": 10,
     "metadata": {},
     "output_type": "execute_result"
    }
   ],
   "source": [
    "dict1.values()"
   ]
  },
  {
   "cell_type": "markdown",
   "metadata": {},
   "source": [
    "###### Duplicate Not Allowed"
   ]
  },
  {
   "cell_type": "code",
   "execution_count": 13,
   "metadata": {},
   "outputs": [
    {
     "name": "stdout",
     "output_type": "stream",
     "text": [
      "{'brand': 'Ford', 'model': 'Mustang', 'year': 2020}\n"
     ]
    }
   ],
   "source": [
    "#Duplicate values will overwrite existing values:\n",
    "thisdict = {\n",
    "  \"brand\": \"Ford\",\n",
    "  \"model\": \"Mustang\",\n",
    "  \"year\": 1964,\n",
    "  \"year\": 2020\n",
    "}\n",
    "print(thisdict)"
   ]
  },
  {
   "cell_type": "markdown",
   "metadata": {},
   "source": [
    "## 14. Need to fetch the unique items and get the count of each items. With that values we need to create a dictionary."
   ]
  },
  {
   "cell_type": "code",
   "execution_count": 1,
   "metadata": {},
   "outputs": [
    {
     "name": "stdout",
     "output_type": "stream",
     "text": [
      "Black  Total Count :   2\n",
      "White  Total Count :   4\n",
      "Yellow  Total Count :   1\n",
      "Green  Total Count :   3\n",
      "Orange  Total Count :   1\n",
      "dict_keys(['Black', 'White', 'Yellow', 'Green', 'Orange'])\n",
      "dict_values([2, 4, 1, 3, 1])\n",
      "{'Black': 2, 'White': 4, 'Yellow': 1, 'Green': 3, 'Orange': 1}\n"
     ]
    }
   ],
   "source": [
    "list1 = ['Black' , 'White' , 'Yellow' , 'Green', 'White' , 'White' , 'Black', 'White', 'Orange', 'Green', 'Green']\n",
    "dic1 = {}\n",
    "list2 = []\n",
    "for i in list1:\n",
    "    if i not in list2:\n",
    "        list2.append(i)\n",
    "        print( i , ' Total Count :  ' , list1.count(i))\n",
    "        dic1[i] = list1.count(i)\n",
    "print(dic1.keys())\n",
    "print(dic1.values())\n",
    "print(dic1)"
   ]
  },
  {
   "cell_type": "code",
   "execution_count": 16,
   "metadata": {},
   "outputs": [
    {
     "name": "stdout",
     "output_type": "stream",
     "text": [
      "key1 ---- 1\n",
      "key2 ---- 2\n",
      "key3 ---- 3\n"
     ]
    }
   ],
   "source": [
    "d = {'key1': 1, 'key2': 2, 'key3': 3}\n",
    "# d.keys()\n",
    "# d.values()\n",
    "for k,j in d.items():\n",
    "    print(k, \"----\", j)    "
   ]
  }
 ],
 "metadata": {
  "kernelspec": {
   "display_name": "Python 3",
   "language": "python",
   "name": "python3"
  },
  "language_info": {
   "codemirror_mode": {
    "name": "ipython",
    "version": 3
   },
   "file_extension": ".py",
   "mimetype": "text/x-python",
   "name": "python",
   "nbconvert_exporter": "python",
   "pygments_lexer": "ipython3",
   "version": "3.7.0"
  }
 },
 "nbformat": 4,
 "nbformat_minor": 2
}
