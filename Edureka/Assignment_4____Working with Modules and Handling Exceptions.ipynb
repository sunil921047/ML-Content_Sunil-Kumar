{
 "cells": [
  {
   "cell_type": "markdown",
   "metadata": {},
   "source": [
    "####  Question 1"
   ]
  },
  {
   "cell_type": "raw",
   "metadata": {},
   "source": [
    "A Robot moves in a Plane starting from the origin point (0,0). The robot can move toward UP, DOWN, LEFT, RIGHT. The trace of Robot movement is as given following:\n",
    "UP 5\n",
    "DOWN 3\n",
    "LEFT 3\n",
    "RIGHT 2\n",
    "(The numbers after directions are steps)\n",
    "Write a program to compute thecurrent distance from the origin pointafter sequencing of movements.Hint: Use math module.\n"
   ]
  },
  {
   "cell_type": "code",
   "execution_count": 10,
   "metadata": {},
   "outputs": [
    {
     "name": "stdout",
     "output_type": "stream",
     "text": [
      "UP 5\n",
      "DOWN 3\n",
      "RIGHT 2\n",
      "LEFT 3\n",
      "\n",
      "\n",
      "2\n"
     ]
    }
   ],
   "source": [
    "pos = { \"x\": 0,  \"y\": 0  } \n",
    "\n",
    "while True:\n",
    "    line =  input()\n",
    "    if  not line:\n",
    "        print(line)\n",
    "        break \n",
    "    \n",
    "    direction, steps = line.split()\n",
    "    if direction == \"UP\": \n",
    "        pos[\"y\"] += int(steps) \n",
    "    elif direction == \"DOWN\": \n",
    "        pos[\"y\"] -= int(steps) \n",
    "    elif direction == \"LEFT\": \n",
    "        pos[\"x\"] -= int(steps) \n",
    "    elif direction == \"RIGHT\": \n",
    "        pos[\"x\"] += int(steps) \n",
    "\n",
    " \n",
    "print (int(round((pos[\"x\"]**2 + pos[\"y\"]**2)**0.5)) )\n",
    "    "
   ]
  },
  {
   "cell_type": "markdown",
   "metadata": {},
   "source": [
    "#### Question 2"
   ]
  },
  {
   "cell_type": "raw",
   "metadata": {},
   "source": [
    "Data of XYZ company is stored in a sorted list. Write a program to search for specific data from that list.\n",
    "\n",
    "Hint: Use if/elifto deal with conditions.\n"
   ]
  },
  {
   "cell_type": "code",
   "execution_count": 11,
   "metadata": {},
   "outputs": [
    {
     "name": "stdout",
     "output_type": "stream",
     "text": [
      "Enter list of items (comma seperated) my, name,is,sunil,kumar\n",
      "Enter the elements which needs to find kumar\n",
      "kumar is present in given list at position 5\n"
     ]
    }
   ],
   "source": [
    "# my, name,is,sunil,kumar\n",
    "string = input(\"Enter list of items (comma seperated) \") \n",
    "find_ele = input(\"Enter the elements which needs to find \") \n",
    " \n",
    "list_eles = str(string).split(\",\") \n",
    " \n",
    "if find_ele in list_eles: \n",
    "     print(f\"{find_ele} is present in given list at position {list_eles.index(find_ele)+1}\") \n",
    "else: \n",
    "   print(f\"{find_ele} is not present in given list\") \n",
    "\n"
   ]
  },
  {
   "cell_type": "raw",
   "metadata": {},
   "source": [
    "A weather forecasting organization wants to show whether it is day or night. Write a program to findwhether is it dark outside or notbased on the local system time.\n",
    "\n",
    "Hint: Use time module.\n"
   ]
  },
  {
   "cell_type": "code",
   "execution_count": 12,
   "metadata": {},
   "outputs": [
    {
     "name": "stdout",
     "output_type": "stream",
     "text": [
      "time.struct_time(tm_year=2020, tm_mon=10, tm_mday=2, tm_hour=3, tm_min=36, tm_sec=27, tm_wday=4, tm_yday=276, tm_isdst=0)\n"
     ]
    }
   ],
   "source": [
    "import time\n",
    "localtime = time.localtime()\n",
    "print(localtime)"
   ]
  },
  {
   "cell_type": "code",
   "execution_count": 13,
   "metadata": {
    "scrolled": true
   },
   "outputs": [
    {
     "name": "stdout",
     "output_type": "stream",
     "text": [
      "It is AM - There is dark outside :  3\n"
     ]
    }
   ],
   "source": [
    "# We assumed that there is dark after 8 pm to 5 am, rest its light\n",
    "\n",
    "import time\n",
    "\n",
    "my_time = time.localtime()\n",
    "l_hour =(my_time.tm_hour)\n",
    "\n",
    "\n",
    "if l_hour>=20 or l_hour <=5 :\n",
    "        if l_hour <12:\n",
    "            print ('It is AM - There is dark outside : ', l_hour)\n",
    "        else:\n",
    "            print ('It is PM - There is dark outside : ', l_hour)\n",
    "else:\n",
    "    if l_hour <12:\n",
    "        print ('It is AM - There is light outside : ', l_hour)\n",
    "    else:\n",
    "        print ('It is PM - There is light outside : ', l_hour)\n",
    "\n"
   ]
  },
  {
   "cell_type": "markdown",
   "metadata": {},
   "source": [
    "#####  Question 4"
   ]
  },
  {
   "cell_type": "raw",
   "metadata": {},
   "source": [
    "Write a program to find distancebetween two locations when their latitude and longitudes are given.\n",
    "\n",
    "Hint: Use math module.\n"
   ]
  },
  {
   "cell_type": "code",
   "execution_count": 15,
   "metadata": {},
   "outputs": [
    {
     "name": "stdout",
     "output_type": "stream",
     "text": [
      "Input coordinates of two points:\n",
      "Starting latitude: 4\n",
      "Ending longitude: 3\n",
      "Starting latitude: 2\n",
      "Ending longitude: 5\n",
      "The distance is 314.28km.\n"
     ]
    }
   ],
   "source": [
    "from math import radians, sin, cos, acos\n",
    "\n",
    "print(\"Input coordinates of two points:\")\n",
    "slat = radians(float(input(\"Starting latitude: \")))\n",
    "slon = radians(float(input(\"Ending longitude: \")))\n",
    "elat = radians(float(input(\"Starting latitude: \")))\n",
    "elon = radians(float(input(\"Ending longitude: \")))\n",
    "\n",
    "dist = 6371.01 * acos(sin(slat)*sin(elat) + cos(slat)*cos(elat)*cos(slon - elon))\n",
    "print(\"The distance is %.2fkm.\" % dist)\n"
   ]
  },
  {
   "cell_type": "markdown",
   "metadata": {},
   "source": [
    "#####  Question 5"
   ]
  },
  {
   "cell_type": "raw",
   "metadata": {},
   "source": [
    "Design a bankingsystem software withoptions like cash withdraw, cash credit and change password. The software must display appropriate results based on user inputs.\n",
    "\n",
    "Hint: Use if else statements and functions."
   ]
  },
  {
   "cell_type": "code",
   "execution_count": 16,
   "metadata": {},
   "outputs": [
    {
     "name": "stdout",
     "output_type": "stream",
     "text": [
      "Hello!!! Welcome to the Deposit & Withdrawal Machine\n",
      "Enter amount to be Deposited: 400\n",
      "\n",
      " Amount Deposited: 400.0\n",
      "Enter amount to be Withdrawn: 100\n",
      "\n",
      " You Withdrew: 100.0\n",
      "\n",
      " Net Available Balance= 300.0\n"
     ]
    }
   ],
   "source": [
    "# Python program to create Bankaccount class \n",
    "# with both a deposit() and a withdraw() function \n",
    "class Bank_Account: \n",
    "    def __init__(self): \n",
    "        self.balance=0\n",
    "        print(\"Hello!!! Welcome to the Deposit & Withdrawal Machine\") \n",
    "  \n",
    "    def deposit(self): \n",
    "        amount=float(input(\"Enter amount to be Deposited: \")) \n",
    "        self.balance += amount \n",
    "        print(\"\\n Amount Deposited:\",amount) \n",
    "  \n",
    "    def withdraw(self): \n",
    "        amount = float(input(\"Enter amount to be Withdrawn: \")) \n",
    "        if self.balance>=amount: \n",
    "            self.balance-=amount \n",
    "            print(\"\\n You Withdrew:\", amount) \n",
    "        else: \n",
    "            print(\"\\n Insufficient balance  \") \n",
    "  \n",
    "    def display(self): \n",
    "        print(\"\\n Net Available Balance=\",self.balance) \n",
    "  \n",
    "\n",
    "s = Bank_Account() \n",
    "   \n",
    "\n",
    "s.deposit() \n",
    "s.withdraw() \n",
    "s.display() \n"
   ]
  },
  {
   "cell_type": "markdown",
   "metadata": {},
   "source": [
    "#####  Question 6"
   ]
  },
  {
   "cell_type": "raw",
   "metadata": {},
   "source": [
    "Write a program which will find all numbers which are divisible by 7 but are not a multiple  of  5,  between  2000  and  3200  (both  included).  The  numbers  obtained should be printed in a comma-separated sequence on a single line."
   ]
  },
  {
   "cell_type": "code",
   "execution_count": 17,
   "metadata": {
    "scrolled": true
   },
   "outputs": [
    {
     "name": "stdout",
     "output_type": "stream",
     "text": [
      "Total Number divisible by 7 :  1201\n",
      "Total Number divisible by 7 and not multiple of 5 :  138\n",
      "\n",
      "Below is the result:\n",
      "2002,2009,2016,2023,2037,2044,2051,2058,2072,2079,2086,2093,2107,2114,2121,2128,2142,2149,2156,2163,2177,2184,2191,2198,2212,2219,2226,2233,2247,2254,2261,2268,2282,2289,2296,2303,2317,2324,2331,2338,2352,2359,2366,2373,2387,2394,2401,2408,2422,2429,2436,2443,2457,2464,2471,2478,2492,2499,2506,2513,2527,2534,2541,2548,2562,2569,2576,2583,2597,2604,2611,2618,2632,2639,2646,2653,2667,2674,2681,2688,2702,2709,2716,2723,2737,2744,2751,2758,2772,2779,2786,2793,2807,2814,2821,2828,2842,2849,2856,2863,2877,2884,2891,2898,2912,2919,2926,2933,2947,2954,2961,2968,2982,2989,2996,3003,3017,3024,3031,3038,3052,3059,3066,3073,3087,3094,3101,3108,3122,3129,3136,3143,3157,3164,3171,3178,3192,3199\n"
     ]
    }
   ],
   "source": [
    "st_num = 2000\n",
    "end_num = 3200\n",
    "a = []\n",
    "b = []\n",
    "\n",
    "for i in range(st_num, end_num+1):    \n",
    "    a.append(i)\n",
    "    if i%7 ==0:\n",
    "        if i%5!= 0:\n",
    "            b.append(str(i))\n",
    "print('Total Number divisible by 7 : ' , len(a))\n",
    "print('Total Number divisible by 7 and not multiple of 5 : ' , len( b))\n",
    "print()\n",
    "print('Below is the result:')\n",
    "\n",
    "print(','.join(b))\n",
    "  "
   ]
  },
  {
   "cell_type": "markdown",
   "metadata": {},
   "source": [
    "##### Question 7"
   ]
  },
  {
   "cell_type": "raw",
   "metadata": {},
   "source": [
    "Write a program which can compute the factorial of a given numbers. Use recursion to find it. "
   ]
  },
  {
   "cell_type": "code",
   "execution_count": 18,
   "metadata": {},
   "outputs": [
    {
     "name": "stdout",
     "output_type": "stream",
     "text": [
      "The factorial of 7 is 5040\n"
     ]
    }
   ],
   "source": [
    "# Factorial of a number using recursion\n",
    "\n",
    "def recur_factorial(n):\n",
    "   if n == 1:\n",
    "       return n\n",
    "   else:\n",
    "       return n*recur_factorial(n-1)\n",
    "\n",
    "num = 7\n",
    "\n",
    "# check if the number is negative\n",
    "if num < 0:\n",
    "   print(\"Sorry, factorial does not exist for negative numbers\")\n",
    "elif num == 0:\n",
    "   print(\"The factorial of 0 is 1\")\n",
    "else:\n",
    "   print(\"The factorial of\", num, \"is\", recur_factorial(num))\n",
    "\n"
   ]
  },
  {
   "cell_type": "markdown",
   "metadata": {},
   "source": [
    "#####  Question 8"
   ]
  },
  {
   "cell_type": "raw",
   "metadata": {},
   "source": [
    "Write a programthat calculates and prints the value according to the given formula:\n",
    "Q= Square root of [(2 * C * D)/H]\n",
    "Following are the fixed values of C and H: C is 50. H is 30.\n",
    "D  is  the  variable  whose  values  should  be  input  to  your  program  in  a  comma-separated sequence. \n",
    "Example:\n",
    "Let  us  assume  the  following  comma  separated  input  sequence  is  given  to  the program:\n",
    "100,150,180\n",
    "\n",
    "The output of the program should be:\n",
    "18,22,24"
   ]
  },
  {
   "cell_type": "code",
   "execution_count": 20,
   "metadata": {},
   "outputs": [
    {
     "name": "stdout",
     "output_type": "stream",
     "text": [
      "Input Values\n",
      "4,3,4,5\n",
      "The followings output are\n",
      "4,3,4,4\n"
     ]
    }
   ],
   "source": [
    "import math\n",
    "c = 50\n",
    "h = 30\n",
    "\n",
    "value = []\n",
    "print(\"Input Values\")\n",
    "\n",
    "items = [x for x in input().split(',')]\n",
    "for d in items:\n",
    "    value.append(str(int(round(math.sqrt(2*c*float(d)/h)))))\n",
    "\n",
    "print(\"The followings output are\")\n",
    "print(','.join(value))"
   ]
  },
  {
   "cell_type": "markdown",
   "metadata": {},
   "source": [
    "#####  Question 9"
   ]
  },
  {
   "cell_type": "raw",
   "metadata": {},
   "source": [
    "Write a program which takes 2 digits, X, Y as input and generates a 2-dimensional array. \n",
    "The element value in the i-th row and j-th column of the array should be i*j.\n",
    "\n",
    "Note: i=0,1.., X-1; j=0,1,¡-Y-1.\n",
    "\n",
    "Example:Suppose the following inputs are given to the program:\n",
    "\n",
    "3,5\n",
    "Then, the output of the program should be:\n",
    "\n",
    "[[0, 0, 0, 0, 0], [0, 1, 2, 3, 4], [0, 2, 4, 6, 8]]"
   ]
  },
  {
   "cell_type": "code",
   "execution_count": 21,
   "metadata": {},
   "outputs": [
    {
     "name": "stdout",
     "output_type": "stream",
     "text": [
      "Input number of rows: 3\n",
      "Input number of columns: 5\n",
      "[[0, 0, 0, 0, 0], [0, 1, 2, 3, 4], [0, 2, 4, 6, 8]]\n"
     ]
    }
   ],
   "source": [
    "row_num = int(input(\"Input number of rows: \"))\n",
    "col_num = int(input(\"Input number of columns: \"))\n",
    "multi_list = [[0 for col in range(col_num)] for row in range(row_num)]\n",
    "\n",
    "for row in range(row_num):\n",
    "    for col in range(col_num):\n",
    "        multi_list[row][col]= row*col\n",
    "\n",
    "print(multi_list)\n"
   ]
  },
  {
   "cell_type": "markdown",
   "metadata": {},
   "source": [
    "#####  Question 10"
   ]
  },
  {
   "cell_type": "raw",
   "metadata": {},
   "source": [
    "Write a program that accepts a comma separated sequence of words as input and prints the words in a comma-separated sequence after sorting them alphabetically. \n",
    "\n",
    "Suppose the following input is supplied to the program:\n",
    "\n",
    "without,hello,bag,world\n",
    "\n",
    "Then, the output should be:\n",
    "\n",
    "bag,hello,without,world"
   ]
  },
  {
   "cell_type": "code",
   "execution_count": 22,
   "metadata": {},
   "outputs": [
    {
     "name": "stdout",
     "output_type": "stream",
     "text": [
      "Input comma separated sequence of wordswithout,hello,bag,world\n",
      "bag,hello,without,world\n"
     ]
    }
   ],
   "source": [
    "items = input(\"Input comma separated sequence of words\")\n",
    "words = [word for word in items.split(\",\")]\n",
    "print(\",\".join(sorted(list(set(words)))))\n",
    "\n"
   ]
  },
  {
   "cell_type": "markdown",
   "metadata": {},
   "source": [
    "##### Question 11"
   ]
  },
  {
   "cell_type": "raw",
   "metadata": {},
   "source": [
    "Write a program that accepts sequence of lines as input and prints the lines after making all characters in the sentence capitalized. \n",
    "\n",
    "Suppose the following input is supplied to the program:\n",
    "•Hello world\n",
    "•Practice makes perfect\n",
    "\n",
    "Then, the output should be:\n",
    "\n",
    "•HELLO WORLD•PRACTICE MAKES PERFECT"
   ]
  },
  {
   "cell_type": "code",
   "execution_count": 23,
   "metadata": {},
   "outputs": [
    {
     "name": "stdout",
     "output_type": "stream",
     "text": [
      "Hello World\n",
      "Practice Makes Perfect\n",
      "\n",
      "HELLO WORLD\n",
      "PRACTICE MAKES PERFECT\n"
     ]
    }
   ],
   "source": [
    "lines = []\n",
    "while True:\n",
    "    l = input()\n",
    "    if l:\n",
    "        lines.append(l.upper())\n",
    "    else:\n",
    "        break;\n",
    "\n",
    "for l in lines:\n",
    "    print(l)\n"
   ]
  },
  {
   "cell_type": "markdown",
   "metadata": {},
   "source": [
    "####  Question 12"
   ]
  },
  {
   "cell_type": "raw",
   "metadata": {},
   "source": [
    "Write a program that accepts a sequence of whitespace separated words as input and   prints   the   words   after   removing   all   duplicate   words   and   sorting   them alphanumerically. \n",
    "\n",
    "Suppose the following input issupplied to the program:\n",
    "\n",
    "hello world and practice makes perfect and hello world again\n",
    "\n",
    "Then, the output should be:\n",
    "\n",
    "again and hello makes perfect practice world"
   ]
  },
  {
   "cell_type": "code",
   "execution_count": 24,
   "metadata": {},
   "outputs": [
    {
     "name": "stdout",
     "output_type": "stream",
     "text": [
      "List before sorting :  ['hello', 'world', 'and', 'practice', 'makes', 'perfect', 'again']\n",
      "List after sorting :  ['again', 'and', 'hello', 'makes', 'perfect', 'practice', 'world']\n"
     ]
    }
   ],
   "source": [
    "my_str = 'hello world and practice makes perfect and hello world again'\n",
    "new_list = my_str.split(' ')\n",
    "list1 = []\n",
    "for x in new_list:\n",
    "    if x not in list1:\n",
    "        list1.append(x)\n",
    "\n",
    "print('List before sorting : ' , list1)\n",
    "list1.sort()\n",
    "print('List after sorting : ' , list1)\n"
   ]
  },
  {
   "cell_type": "markdown",
   "metadata": {},
   "source": [
    "#####  Question 13"
   ]
  },
  {
   "cell_type": "raw",
   "metadata": {},
   "source": [
    "Write  a  program  which  accepts  a  sequence  of  comma  separated 4-digitbinary numbers  as  its  input  and  then  check  whether  they  are  divisible  by  5  or  not. The numbers that are divisible by 5 are to be printed in a comma separated sequence.\n",
    "\n",
    "Example:0100,0011,1010,1001\n",
    "\n",
    "Then the output should be:1010"
   ]
  },
  {
   "cell_type": "code",
   "execution_count": 25,
   "metadata": {},
   "outputs": [
    {
     "name": "stdout",
     "output_type": "stream",
     "text": [
      "5, 7,25,28,35,42\n",
      "5,25,35\n"
     ]
    }
   ],
   "source": [
    "items = []\n",
    "# 5, 7,25,28,35,42\n",
    "num = [x for x in input().split(',')]\n",
    "for p in num:\n",
    "    x = int(p)\n",
    "    if x%5==0:\n",
    "        items.append(p)\n",
    "\n",
    "print(','.join(items))\n"
   ]
  },
  {
   "cell_type": "markdown",
   "metadata": {},
   "source": [
    "#####  Question 14"
   ]
  },
  {
   "cell_type": "raw",
   "metadata": {},
   "source": [
    "Write  a  program  that  accepts  a  sentence  and  calculate  the  number  of upper-caseletters and lower case letters.\n",
    "\n",
    "Suppose the following input is supplied to the program:Hello world!\n",
    "\n",
    "Then, the output should be:\n",
    "UPPER CASE 1\n",
    "\n",
    "LOWER CASE 9"
   ]
  },
  {
   "cell_type": "code",
   "execution_count": 26,
   "metadata": {},
   "outputs": [
    {
     "name": "stdout",
     "output_type": "stream",
     "text": [
      "UPPER CASE :  1\n",
      "\n",
      "LOWER CASE :  9\n"
     ]
    }
   ],
   "source": [
    "my_str = 'Hello world!'\n",
    "len(my_str)\n",
    "\n",
    "import re\n",
    "lower_cnt = re.findall('[a-z]', my_str)\n",
    "upper_cnt = re.findall('[A-Z]', my_str)\n",
    "print('UPPER CASE : ' , len(upper_cnt))\n",
    "print()\n",
    "print('LOWER CASE : ' , len(lower_cnt))\n"
   ]
  },
  {
   "cell_type": "markdown",
   "metadata": {},
   "source": [
    "#####  Question 15"
   ]
  },
  {
   "cell_type": "raw",
   "metadata": {},
   "source": [
    "Give example of fsum and sum function of math library."
   ]
  },
  {
   "cell_type": "code",
   "execution_count": 27,
   "metadata": {},
   "outputs": [
    {
     "name": "stdout",
     "output_type": "stream",
     "text": [
      "15.0\n"
     ]
    }
   ],
   "source": [
    "import math\n",
    "\n",
    "# Add items in a tuple\n",
    "a =  (1, 2, 3, 4, 5)\n",
    "\n",
    "# Print the sum of all items \n",
    "print(math.fsum(a)) "
   ]
  }
 ],
 "metadata": {
  "kernelspec": {
   "display_name": "Python 3",
   "language": "python",
   "name": "python3"
  }
 },
 "nbformat": 4,
 "nbformat_minor": 4
}
