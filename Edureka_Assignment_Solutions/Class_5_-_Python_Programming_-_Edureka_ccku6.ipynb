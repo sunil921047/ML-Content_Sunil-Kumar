{
 "cells": [
  {
   "cell_type": "code",
   "execution_count": 1,
   "metadata": {},
   "outputs": [],
   "source": [
    "import re"
   ]
  },
  {
   "cell_type": "code",
   "execution_count": 5,
   "metadata": {},
   "outputs": [
    {
     "name": "stdout",
     "output_type": "stream",
     "text": [
      "Match is avaiable at the start index: 0 ..... 2 .... cd\n",
      "Match is avaiable at the start index: 2 ..... 4 .... cd\n",
      "Match is avaiable at the start index: 6 ..... 8 .... cd\n",
      "Match is avaiable at the start index: 8 ..... 10 .... cd\n",
      "Match is avaiable at the start index: 12 ..... 14 .... cd\n",
      "5\n"
     ]
    }
   ],
   "source": [
    "re.finditer\n",
    "count = 0\n",
    "pattern = re.compile('cd')\n",
    "matcher = pattern.finditer('cdcdcccdcdcccdddd')\n",
    "for m in matcher:\n",
    "    count = count + 1\n",
    "    print('Match is avaiable at the start index:', m.start(), '.....', m.end(), '....', m.group())\n",
    "print(count)"
   ]
  },
  {
   "cell_type": "code",
   "execution_count": 6,
   "metadata": {},
   "outputs": [
    {
     "name": "stdout",
     "output_type": "stream",
     "text": [
      "0 ..... 1 ..... a\n",
      "1 ..... 2 ..... c\n"
     ]
    }
   ],
   "source": [
    "matcher = re.finditer('[acx]','acrty6%$ yu7&')\n",
    "for m in matcher:\n",
    "    print(m.start(), '.....', m.end(), '.....', m.group())"
   ]
  },
  {
   "cell_type": "code",
   "execution_count": 7,
   "metadata": {},
   "outputs": [
    {
     "name": "stdout",
     "output_type": "stream",
     "text": [
      "2 ..... 3 ..... r\n",
      "3 ..... 4 ..... t\n",
      "4 ..... 5 ..... y\n",
      "5 ..... 6 ..... 6\n",
      "6 ..... 7 ..... %\n",
      "7 ..... 8 ..... $\n",
      "8 ..... 9 .....  \n",
      "9 ..... 10 ..... y\n",
      "10 ..... 11 ..... u\n",
      "11 ..... 12 ..... 7\n",
      "12 ..... 13 ..... &\n"
     ]
    }
   ],
   "source": [
    "matcher = re.finditer('[^acx]','acrty6%$ yu7&')\n",
    "for m in matcher:\n",
    "    print(m.start(), '.....', m.end(), '.....', m.group())"
   ]
  },
  {
   "cell_type": "code",
   "execution_count": 8,
   "metadata": {},
   "outputs": [
    {
     "name": "stdout",
     "output_type": "stream",
     "text": [
      "0 ..... 1 ..... a\n",
      "1 ..... 2 ..... c\n",
      "2 ..... 3 ..... r\n",
      "3 ..... 4 ..... t\n",
      "4 ..... 5 ..... y\n",
      "9 ..... 10 ..... y\n",
      "11 ..... 12 ..... u\n"
     ]
    }
   ],
   "source": [
    "matcher = re.finditer('[a-z]','acrty6%$ yAu7&')\n",
    "for m in matcher:\n",
    "    print(m.start(), '.....', m.end(), '.....', m.group())"
   ]
  },
  {
   "cell_type": "code",
   "execution_count": 9,
   "metadata": {},
   "outputs": [
    {
     "name": "stdout",
     "output_type": "stream",
     "text": [
      "10 ..... 11 ..... A\n"
     ]
    }
   ],
   "source": [
    "matcher = re.finditer('[A-Z]','acrty6%$ yAu7&')\n",
    "for m in matcher:\n",
    "    print(m.start(), '.....', m.end(), '.....', m.group())"
   ]
  },
  {
   "cell_type": "code",
   "execution_count": 11,
   "metadata": {},
   "outputs": [
    {
     "name": "stdout",
     "output_type": "stream",
     "text": [
      "0 ..... 1 ..... a\n",
      "1 ..... 2 ..... c\n",
      "2 ..... 3 ..... r\n",
      "3 ..... 4 ..... t\n",
      "4 ..... 5 ..... y\n",
      "9 ..... 10 ..... y\n",
      "10 ..... 11 ..... A\n",
      "11 ..... 12 ..... u\n"
     ]
    }
   ],
   "source": [
    "matcher = re.finditer('[a-zA-Z]','acrty6%$ yAu7&')\n",
    "for m in matcher:\n",
    "    print(m.start(), '.....', m.end(), '.....', m.group())"
   ]
  },
  {
   "cell_type": "code",
   "execution_count": 12,
   "metadata": {},
   "outputs": [
    {
     "name": "stdout",
     "output_type": "stream",
     "text": [
      "5 ..... 6 ..... 6\n",
      "12 ..... 13 ..... 7\n"
     ]
    }
   ],
   "source": [
    "matcher = re.finditer('[0-9]','acrty6%$ yAu7&')\n",
    "for m in matcher:\n",
    "    print(m.start(), '.....', m.end(), '.....', m.group())"
   ]
  },
  {
   "cell_type": "code",
   "execution_count": 13,
   "metadata": {},
   "outputs": [
    {
     "name": "stdout",
     "output_type": "stream",
     "text": [
      "0 ..... 1 ..... a\n",
      "1 ..... 2 ..... c\n",
      "2 ..... 3 ..... r\n",
      "3 ..... 4 ..... t\n",
      "4 ..... 5 ..... y\n",
      "5 ..... 6 ..... 6\n",
      "9 ..... 10 ..... y\n",
      "10 ..... 11 ..... A\n",
      "11 ..... 12 ..... u\n",
      "12 ..... 13 ..... 7\n"
     ]
    }
   ],
   "source": [
    "matcher = re.finditer('[a-zA-Z0-9]','acrty6%$ yAu7&')\n",
    "for m in matcher:\n",
    "    print(m.start(), '.....', m.end(), '.....', m.group())"
   ]
  },
  {
   "cell_type": "code",
   "execution_count": 14,
   "metadata": {},
   "outputs": [
    {
     "name": "stdout",
     "output_type": "stream",
     "text": [
      "6 ..... 7 ..... %\n",
      "7 ..... 8 ..... $\n",
      "8 ..... 9 .....  \n",
      "13 ..... 14 ..... &\n"
     ]
    }
   ],
   "source": [
    "matcher = re.finditer('[^a-zA-Z0-9]','acrty6%$ yAu7&')\n",
    "for m in matcher:\n",
    "    print(m.start(), '.....', m.end(), '.....', m.group())"
   ]
  },
  {
   "cell_type": "code",
   "execution_count": null,
   "metadata": {},
   "outputs": [],
   "source": [
    "#Predefined character classes \n",
    "\\s\n",
    "\\S\n",
    "\\d\n",
    "\\D\n",
    "\\w\n",
    "\\W\n",
    "."
   ]
  },
  {
   "cell_type": "code",
   "execution_count": 15,
   "metadata": {},
   "outputs": [
    {
     "name": "stdout",
     "output_type": "stream",
     "text": [
      "8 ..... 9 .....  \n"
     ]
    }
   ],
   "source": [
    "matcher = re.finditer('\\s','acrty6%$ yAu7&')\n",
    "for m in matcher:\n",
    "    print(m.start(), '.....', m.end(), '.....', m.group())"
   ]
  },
  {
   "cell_type": "code",
   "execution_count": 16,
   "metadata": {},
   "outputs": [
    {
     "name": "stdout",
     "output_type": "stream",
     "text": [
      "0 ..... 1 ..... a\n",
      "1 ..... 2 ..... c\n",
      "2 ..... 3 ..... r\n",
      "3 ..... 4 ..... t\n",
      "4 ..... 5 ..... y\n",
      "5 ..... 6 ..... 6\n",
      "6 ..... 7 ..... %\n",
      "7 ..... 8 ..... $\n",
      "9 ..... 10 ..... y\n",
      "10 ..... 11 ..... A\n",
      "11 ..... 12 ..... u\n",
      "12 ..... 13 ..... 7\n",
      "13 ..... 14 ..... &\n"
     ]
    }
   ],
   "source": [
    "matcher = re.finditer('\\S','acrty6%$ yAu7&')\n",
    "for m in matcher:\n",
    "    print(m.start(), '.....', m.end(), '.....', m.group())"
   ]
  },
  {
   "cell_type": "code",
   "execution_count": 17,
   "metadata": {},
   "outputs": [
    {
     "name": "stdout",
     "output_type": "stream",
     "text": [
      "5 ..... 6 ..... 6\n",
      "12 ..... 13 ..... 7\n"
     ]
    }
   ],
   "source": [
    "matcher = re.finditer('\\d','acrty6%$ yAu7&')\n",
    "for m in matcher:\n",
    "    print(m.start(), '.....', m.end(), '.....', m.group())"
   ]
  },
  {
   "cell_type": "code",
   "execution_count": 18,
   "metadata": {},
   "outputs": [
    {
     "name": "stdout",
     "output_type": "stream",
     "text": [
      "0 ..... 1 ..... a\n",
      "1 ..... 2 ..... c\n",
      "2 ..... 3 ..... r\n",
      "3 ..... 4 ..... t\n",
      "4 ..... 5 ..... y\n",
      "6 ..... 7 ..... %\n",
      "7 ..... 8 ..... $\n",
      "8 ..... 9 .....  \n",
      "9 ..... 10 ..... y\n",
      "10 ..... 11 ..... A\n",
      "11 ..... 12 ..... u\n",
      "13 ..... 14 ..... &\n"
     ]
    }
   ],
   "source": [
    "matcher = re.finditer('\\D','acrty6%$ yAu7&')\n",
    "for m in matcher:\n",
    "    print(m.start(), '.....', m.end(), '.....', m.group())"
   ]
  },
  {
   "cell_type": "code",
   "execution_count": 19,
   "metadata": {},
   "outputs": [
    {
     "name": "stdout",
     "output_type": "stream",
     "text": [
      "0 ..... 1 ..... a\n",
      "1 ..... 2 ..... c\n",
      "2 ..... 3 ..... r\n",
      "3 ..... 4 ..... t\n",
      "4 ..... 5 ..... y\n",
      "5 ..... 6 ..... 6\n",
      "9 ..... 10 ..... y\n",
      "10 ..... 11 ..... A\n",
      "11 ..... 12 ..... u\n",
      "12 ..... 13 ..... 7\n"
     ]
    }
   ],
   "source": [
    "matcher = re.finditer('\\w','acrty6%$ yAu7&')\n",
    "for m in matcher:\n",
    "    print(m.start(), '.....', m.end(), '.....', m.group())"
   ]
  },
  {
   "cell_type": "code",
   "execution_count": 20,
   "metadata": {},
   "outputs": [
    {
     "name": "stdout",
     "output_type": "stream",
     "text": [
      "6 ..... 7 ..... %\n",
      "7 ..... 8 ..... $\n",
      "8 ..... 9 .....  \n",
      "13 ..... 14 ..... &\n"
     ]
    }
   ],
   "source": [
    "matcher = re.finditer('\\W','acrty6%$ yAu7&')\n",
    "for m in matcher:\n",
    "    print(m.start(), '.....', m.end(), '.....', m.group())"
   ]
  },
  {
   "cell_type": "code",
   "execution_count": 21,
   "metadata": {},
   "outputs": [
    {
     "name": "stdout",
     "output_type": "stream",
     "text": [
      "0 ..... 1 ..... a\n",
      "1 ..... 2 ..... c\n",
      "2 ..... 3 ..... r\n",
      "3 ..... 4 ..... t\n",
      "4 ..... 5 ..... y\n",
      "5 ..... 6 ..... 6\n",
      "6 ..... 7 ..... %\n",
      "7 ..... 8 ..... $\n",
      "8 ..... 9 .....  \n",
      "9 ..... 10 ..... y\n",
      "10 ..... 11 ..... A\n",
      "11 ..... 12 ..... u\n",
      "12 ..... 13 ..... 7\n",
      "13 ..... 14 ..... &\n"
     ]
    }
   ],
   "source": [
    "matcher = re.finditer('.','acrty6%$ yAu7&')\n",
    "for m in matcher:\n",
    "    print(m.start(), '.....', m.end(), '.....', m.group())"
   ]
  },
  {
   "cell_type": "code",
   "execution_count": 22,
   "metadata": {},
   "outputs": [
    {
     "name": "stdout",
     "output_type": "stream",
     "text": [
      "0 .... 1 .... c\n",
      "2 .... 3 .... c\n",
      "3 .... 4 .... c\n",
      "4 .... 5 .... c\n",
      "6 .... 7 .... c\n",
      "7 .... 8 .... c\n",
      "8 .... 9 .... c\n",
      "12 .... 13 .... c\n",
      "14 .... 15 .... c\n",
      "16 .... 17 .... c\n"
     ]
    }
   ],
   "source": [
    "matcher = re.finditer('c', 'cdcccdcccdddcdcdcd')\n",
    "for m in matcher:\n",
    "    print(m.start(), '....', m.end(), '....',m.group())"
   ]
  },
  {
   "cell_type": "code",
   "execution_count": 24,
   "metadata": {},
   "outputs": [
    {
     "name": "stdout",
     "output_type": "stream",
     "text": [
      "0 .... 1 .... c\n",
      "2 .... 5 .... ccc\n",
      "6 .... 9 .... ccc\n",
      "12 .... 13 .... c\n",
      "14 .... 15 .... c\n",
      "16 .... 18 .... cc\n"
     ]
    }
   ],
   "source": [
    "matcher = re.finditer('c+', 'cdcccdcccdddcdcdccd')\n",
    "for m in matcher:\n",
    "    print(m.start(), '....', m.end(), '....',m.group())"
   ]
  },
  {
   "cell_type": "code",
   "execution_count": 25,
   "metadata": {},
   "outputs": [
    {
     "name": "stdout",
     "output_type": "stream",
     "text": [
      "0 .... 1 .... c\n",
      "1 .... 1 .... \n",
      "2 .... 5 .... ccc\n",
      "5 .... 5 .... \n",
      "6 .... 9 .... ccc\n",
      "9 .... 9 .... \n",
      "10 .... 10 .... \n",
      "11 .... 11 .... \n",
      "12 .... 13 .... c\n",
      "13 .... 13 .... \n",
      "14 .... 15 .... c\n",
      "15 .... 15 .... \n",
      "16 .... 18 .... cc\n",
      "18 .... 18 .... \n",
      "19 .... 19 .... \n"
     ]
    }
   ],
   "source": [
    "matcher = re.finditer('c*', 'cdcccdcccdddcdcdccd')\n",
    "for m in matcher:\n",
    "    print(m.start(), '....', m.end(), '....',m.group())"
   ]
  },
  {
   "cell_type": "code",
   "execution_count": 26,
   "metadata": {},
   "outputs": [
    {
     "name": "stdout",
     "output_type": "stream",
     "text": [
      "0 .... 1 .... c\n",
      "1 .... 1 .... \n",
      "2 .... 3 .... c\n",
      "3 .... 4 .... c\n",
      "4 .... 5 .... c\n",
      "5 .... 5 .... \n",
      "6 .... 7 .... c\n",
      "7 .... 8 .... c\n",
      "8 .... 9 .... c\n",
      "9 .... 9 .... \n",
      "10 .... 10 .... \n",
      "11 .... 11 .... \n",
      "12 .... 13 .... c\n",
      "13 .... 13 .... \n",
      "14 .... 15 .... c\n",
      "15 .... 15 .... \n",
      "16 .... 17 .... c\n",
      "17 .... 18 .... c\n",
      "18 .... 18 .... \n",
      "19 .... 19 .... \n"
     ]
    }
   ],
   "source": [
    "matcher = re.finditer('c?', 'cdcccdcccdddcdcdccd')\n",
    "for m in matcher:\n",
    "    print(m.start(), '....', m.end(), '....',m.group())"
   ]
  },
  {
   "cell_type": "code",
   "execution_count": 27,
   "metadata": {},
   "outputs": [
    {
     "name": "stdout",
     "output_type": "stream",
     "text": [
      "2 .... 5 .... ccc\n",
      "6 .... 9 .... ccc\n"
     ]
    }
   ],
   "source": [
    "matcher = re.finditer('c{3}', 'cdcccdcccdddcdcdccd')\n",
    "for m in matcher:\n",
    "    print(m.start(), '....', m.end(), '....',m.group())"
   ]
  },
  {
   "cell_type": "code",
   "execution_count": 28,
   "metadata": {},
   "outputs": [
    {
     "name": "stdout",
     "output_type": "stream",
     "text": [
      "2 .... 5 .... ccc\n",
      "6 .... 9 .... ccc\n",
      "16 .... 18 .... cc\n"
     ]
    }
   ],
   "source": [
    "matcher = re.finditer('c{2,3}', 'cdcccdcccdddcdcdccd')\n",
    "for m in matcher:\n",
    "    print(m.start(), '....', m.end(), '....',m.group())"
   ]
  },
  {
   "cell_type": "code",
   "execution_count": 29,
   "metadata": {},
   "outputs": [
    {
     "name": "stdout",
     "output_type": "stream",
     "text": [
      "1 .... 2 .... d\n",
      "5 .... 6 .... d\n",
      "9 .... 10 .... d\n",
      "10 .... 11 .... d\n",
      "11 .... 12 .... d\n",
      "13 .... 14 .... d\n",
      "15 .... 16 .... d\n",
      "18 .... 19 .... d\n"
     ]
    }
   ],
   "source": [
    "matcher = re.finditer('[^c]', 'cdcccdcccdddcdcdccd')\n",
    "for m in matcher:\n",
    "    print(m.start(), '....', m.end(), '....',m.group())"
   ]
  },
  {
   "cell_type": "code",
   "execution_count": 32,
   "metadata": {},
   "outputs": [
    {
     "name": "stdout",
     "output_type": "stream",
     "text": [
      "0 .... 1 .... c\n"
     ]
    }
   ],
   "source": [
    "matcher = re.finditer('^c', 'cdcccdcccdddcdcdccd')\n",
    "for m in matcher:\n",
    "    print(m.start(), '....', m.end(), '....',m.group())"
   ]
  },
  {
   "cell_type": "code",
   "execution_count": 33,
   "metadata": {},
   "outputs": [
    {
     "name": "stdout",
     "output_type": "stream",
     "text": [
      "18 .... 19 .... d\n"
     ]
    }
   ],
   "source": [
    "matcher = re.finditer('d$', 'cdcccdcccdddcdcdccd')\n",
    "for m in matcher:\n",
    "    print(m.start(), '....', m.end(), '....',m.group())"
   ]
  },
  {
   "cell_type": "code",
   "execution_count": null,
   "metadata": {},
   "outputs": [],
   "source": [
    "#Important functions on RE\n",
    "finditer()\n",
    "compile()\n",
    "match()\n",
    "fullmatch()\n",
    "search()\n",
    "findall()\n",
    "sub()\n",
    "subn()\n",
    "split()"
   ]
  },
  {
   "cell_type": "code",
   "execution_count": 58,
   "metadata": {},
   "outputs": [
    {
     "name": "stdout",
     "output_type": "stream",
     "text": [
      "Enter the string that you are looking fore\n",
      "Pattern matched\n"
     ]
    }
   ],
   "source": [
    "s = input('Enter the string that you are looking for')\n",
    "m = re.match(s, 'erdfgty654tghy6534d4t5gf$$#^f%%fvff')\n",
    "if m!=None:\n",
    "    print('Pattern matched')\n",
    "else:\n",
    "    print('Pattern did not match')"
   ]
  },
  {
   "cell_type": "code",
   "execution_count": 47,
   "metadata": {},
   "outputs": [
    {
     "data": {
      "text/plain": [
       "re.Match"
      ]
     },
     "execution_count": 47,
     "metadata": {},
     "output_type": "execute_result"
    }
   ],
   "source": [
    "type(m)"
   ]
  },
  {
   "cell_type": "code",
   "execution_count": 56,
   "metadata": {},
   "outputs": [
    {
     "name": "stdout",
     "output_type": "stream",
     "text": [
      "Enter the string that you are looking for$\n"
     ]
    }
   ],
   "source": [
    "s = input('Enter the string that you are looking for')\n",
    "m = re.match(s, '$$#^%%')\n",
    "m"
   ]
  },
  {
   "cell_type": "code",
   "execution_count": 62,
   "metadata": {},
   "outputs": [
    {
     "name": "stdout",
     "output_type": "stream",
     "text": [
      "Enter the string that you are looking forerdfgty654tghy6534d4t5g\n",
      "Pattern matched\n"
     ]
    }
   ],
   "source": [
    "s = input('Enter the string that you are looking for')\n",
    "m = re.fullmatch(s, 'erdfgty654tghy6534d4t5g')\n",
    "if m!=None:\n",
    "    print('Pattern matched')\n",
    "else:\n",
    "    print('Pattern did not match')"
   ]
  },
  {
   "cell_type": "code",
   "execution_count": 64,
   "metadata": {},
   "outputs": [
    {
     "name": "stdout",
     "output_type": "stream",
     "text": [
      "Enter the value u looking forc\n",
      "Match is avaiable\n",
      "0 ... 1\n"
     ]
    }
   ],
   "source": [
    "s = input('Enter the value u looking for')\n",
    "m = re.search(s, 'cdccdcccdccccd')\n",
    "if m!=None:\n",
    "    print('Match is avaiable')\n",
    "    print(m.start(), '...', m.end())\n",
    "else:\n",
    "    print('Match is unavailable')"
   ]
  },
  {
   "cell_type": "code",
   "execution_count": 70,
   "metadata": {},
   "outputs": [
    {
     "name": "stdout",
     "output_type": "stream",
     "text": [
      "Enter the string you are looking forccc\n",
      "['ccc', 'ccc']\n"
     ]
    }
   ],
   "source": [
    "s = input('Enter the string you are looking for')\n",
    "m = re.findall(s, 'cdccdcccdccdcccd')\n",
    "print(m)"
   ]
  },
  {
   "cell_type": "code",
   "execution_count": 74,
   "metadata": {},
   "outputs": [
    {
     "name": "stdout",
     "output_type": "stream",
     "text": [
      "Enter the string you are looking forpython\n",
      "['python', 'python', 'python']\n",
      "Your resume is rejected\n"
     ]
    }
   ],
   "source": [
    "s = input('Enter the string you are looking for')\n",
    "m = re.findall(s, 'I am python developer, I love python, python is an amazing programming lang')\n",
    "print(m)\n",
    "if len(m)<=5:\n",
    "    print('Your resume is rejected')\n",
    "else:\n",
    "    print('your resume is selected')"
   ]
  },
  {
   "cell_type": "code",
   "execution_count": 75,
   "metadata": {},
   "outputs": [
    {
     "name": "stdout",
     "output_type": "stream",
     "text": [
      "a#t ## y# u# ty# rt#\n"
     ]
    }
   ],
   "source": [
    "s = re.sub('\\d', '#', 'a5t 67 y6 u7 ty6 rt5')\n",
    "print(s)"
   ]
  },
  {
   "cell_type": "code",
   "execution_count": 78,
   "metadata": {},
   "outputs": [
    {
     "name": "stdout",
     "output_type": "stream",
     "text": [
      "('a#t ## y# u# ty# rt#', 7)\n"
     ]
    },
    {
     "data": {
      "text/plain": [
       "7"
      ]
     },
     "execution_count": 78,
     "metadata": {},
     "output_type": "execute_result"
    }
   ],
   "source": [
    "s = re.subn('\\d', '#', 'a5t 67 y6 u7 ty6 rt5')\n",
    "print(s)\n",
    "s[0]\n",
    "s[1]"
   ]
  },
  {
   "cell_type": "code",
   "execution_count": 79,
   "metadata": {},
   "outputs": [
    {
     "data": {
      "text/plain": [
       "['10', '20', '30', '40', '50', '60']"
      ]
     },
     "execution_count": 79,
     "metadata": {},
     "output_type": "execute_result"
    }
   ],
   "source": [
    "re.split('-', '10-20-30-40-50-60')\n"
   ]
  },
  {
   "cell_type": "code",
   "execution_count": 81,
   "metadata": {},
   "outputs": [
    {
     "data": {
      "text/plain": [
       "['www', 'rahultiwari', 'in']"
      ]
     },
     "execution_count": 81,
     "metadata": {},
     "output_type": "execute_result"
    }
   ],
   "source": [
    "re.split('\\.', 'www.rahultiwari.in')"
   ]
  },
  {
   "cell_type": "code",
   "execution_count": 82,
   "metadata": {},
   "outputs": [
    {
     "data": {
      "text/plain": [
       "['www', 'rahultiwari', 'in']"
      ]
     },
     "execution_count": 82,
     "metadata": {},
     "output_type": "execute_result"
    }
   ],
   "source": [
    "re.split('[.]', 'www.rahultiwari.in')"
   ]
  },
  {
   "cell_type": "code",
   "execution_count": 85,
   "metadata": {},
   "outputs": [
    {
     "data": {
      "text/plain": [
       "<re.Match object; span=(23, 27), match='easy'>"
      ]
     },
     "execution_count": 85,
     "metadata": {},
     "output_type": "execute_result"
    }
   ],
   "source": [
    "s = 'Learning Python is ver easy'\n",
    "re.search('Easy$', s, re.IGNORECASE)"
   ]
  },
  {
   "cell_type": "code",
   "execution_count": 86,
   "metadata": {},
   "outputs": [],
   "source": [
    "#Vython \n",
    "#1. The allowable characters will be\n",
    "    #a. Alphabets (A-Za-z)\n",
    "    #b. Digits (0-9)\n",
    "    #c. # \n",
    "#2. My first character should be lower case and also it should fall between [a-k]\n",
    "#3. The second character should be any digit divisible by 3 [0369]\n",
    "#4. The length of my identifier should be atleast 2"
   ]
  },
  {
   "cell_type": "code",
   "execution_count": 93,
   "metadata": {},
   "outputs": [
    {
     "name": "stdout",
     "output_type": "stream",
     "text": [
      "Enter the identifiera3#####rty654\n",
      "Valid identifier\n"
     ]
    }
   ],
   "source": [
    "s = input('Enter the identifier')\n",
    "m =re.fullmatch('[a-k][0369][a-zA-Z0-9#]*', s)\n",
    "if m!=None:\n",
    "    print('Valid identifier')\n",
    "else:\n",
    "    print('Invalid identifier')"
   ]
  },
  {
   "cell_type": "code",
   "execution_count": 96,
   "metadata": {},
   "outputs": [
    {
     "name": "stdout",
     "output_type": "stream",
     "text": [
      "Enter the phone number6555555555\n",
      "6555555555 valid no\n"
     ]
    }
   ],
   "source": [
    "s = input('Enter the phone number')\n",
    "m = re.fullmatch('[6-9]\\d{9}', s)\n",
    "if m!=None:\n",
    "    print(s, 'valid no')\n",
    "else:\n",
    "    print(s, 'invalid no')\n",
    "0-----\n",
    "91------\n",
    "+91-----"
   ]
  },
  {
   "cell_type": "code",
   "execution_count": null,
   "metadata": {},
   "outputs": [],
   "source": []
  },
  {
   "cell_type": "raw",
   "metadata": {},
   "source": [
    "s = input('Enter the email id')\n",
    "m = re.fullmatch(('[a-zA-Z0-9_.]*@(gmail|yahoo)[.]com'),s)\n",
    "if m!=None:\n",
    "    print('Valid')\n",
    "else:\n",
    "    print('Invalid')"
   ]
  },
  {
   "cell_type": "code",
   "execution_count": 102,
   "metadata": {},
   "outputs": [
    {
     "name": "stdout",
     "output_type": "stream",
     "text": [
      "Enter the email idrahul@hotmail.com\n",
      "Invalid\n"
     ]
    }
   ],
   "source": [
    "s = input('Enter the email id')\n",
    "m = re.fullmatch(('[a-zA-Z0-9_.]*@(gmail|yahoo)[.]com'),s)\n",
    "if m!=None:\n",
    "    print('Valid')\n",
    "else:\n",
    "    print('Invalid')"
   ]
  },
  {
   "cell_type": "code",
   "execution_count": 105,
   "metadata": {},
   "outputs": [
    {
     "name": "stdout",
     "output_type": "stream",
     "text": [
      "Enter the email idrahul@datasciencepro.in\n",
      "Valid\n"
     ]
    }
   ],
   "source": [
    "s = input('Enter the email id')\n",
    "m = re.fullmatch(('[a-zA-Z0-9_.]*@[a-zA-Z0-9]*[.][a-zA-Z]*'),s)\n",
    "if m!=None:\n",
    "    print('Valid')\n",
    "else:\n",
    "    print('Invalid')"
   ]
  },
  {
   "cell_type": "code",
   "execution_count": 110,
   "metadata": {},
   "outputs": [
    {
     "data": {
      "text/plain": [
       "['(257) 563-7401',\n",
       " '(372) 587-2335',\n",
       " '(786) 713-8616',\n",
       " '(793) 151-6230',\n",
       " '(492) 709-6392',\n",
       " '(654) 393-5734',\n",
       " '(404) 960-3807',\n",
       " '(314) 244-6306',\n",
       " '(947) 278-5929',\n",
       " '(684) 579-1879',\n",
       " '(389) 737-2852',\n",
       " '(660) 663-4518',\n",
       " '(608) 265-2215',\n",
       " '(959) 119-8364',\n",
       " '(468) 353-2641',\n",
       " '(248) 675-4007',\n",
       " '(939) 353-1107',\n",
       " '(570) 873-7090',\n",
       " '(302) 259-2375',\n",
       " '(717) 450-4729',\n",
       " '(453) 391-4650',\n",
       " '(559) 104-5475',\n",
       " '(387) 142-9434',\n",
       " '(516) 745-4496',\n",
       " '(326) 677-3419',\n",
       " '(746) 679-2470',\n",
       " '(455) 430-0989',\n",
       " '(490) 936-4694',\n",
       " '(985) 834-8285',\n",
       " '(662) 661-1446',\n",
       " '(802) 668-8240',\n",
       " '(477) 768-9247',\n",
       " '(791) 239-9057',\n",
       " '(832) 109-0213',\n",
       " '(837) 196-3274',\n",
       " '(268) 442-2428',\n",
       " '(850) 676-5117',\n",
       " '(861) 546-5032',\n",
       " '(176) 805-4108',\n",
       " '(715) 912-6931',\n",
       " '(993) 554-0563',\n",
       " '(357) 616-5411',\n",
       " '(121) 347-0086',\n",
       " '(304) 506-6314',\n",
       " '(425) 288-2332',\n",
       " '(145) 987-4962',\n",
       " '(187) 582-9707',\n",
       " '(750) 558-3965',\n",
       " '(492) 467-3131',\n",
       " '(774) 914-2510',\n",
       " '(888) 106-8550',\n",
       " '(539) 567-3573',\n",
       " '(693) 337-2849',\n",
       " '(545) 604-9386',\n",
       " '(221) 156-5026',\n",
       " '(414) 876-0865',\n",
       " '(932) 726-8645',\n",
       " '(726) 710-9826',\n",
       " '(622) 594-1662',\n",
       " '(948) 600-8503',\n",
       " '(605) 900-7508',\n",
       " '(716) 977-5775',\n",
       " '(368) 239-8275',\n",
       " '(725) 342-0650',\n",
       " '(711) 993-5187',\n",
       " '(882) 399-5084',\n",
       " '(287) 755-9948',\n",
       " '(659) 551-3389',\n",
       " '(275) 730-6868',\n",
       " '(725) 757-4047',\n",
       " '(314) 882-1496',\n",
       " '(639) 360-7590',\n",
       " '(168) 222-1592',\n",
       " '(896) 303-1164',\n",
       " '(203) 982-6130',\n",
       " '(906) 217-1470',\n",
       " '(614) 514-1269',\n",
       " '(763) 409-5446',\n",
       " '(836) 292-5324',\n",
       " '(926) 709-3295',\n",
       " '(963) 356-9268',\n",
       " '(736) 522-8584',\n",
       " '(410) 483-0352',\n",
       " '(252) 204-1434',\n",
       " '(874) 886-4174',\n",
       " '(581) 379-7573',\n",
       " '(983) 632-8597',\n",
       " '(295) 983-3476',\n",
       " '(873) 392-8802',\n",
       " '(360) 669-3923',\n",
       " '(840) 987-9449',\n",
       " '(422) 517-6053',\n",
       " '(126) 940-2753',\n",
       " '(427) 930-5255',\n",
       " '(689) 721-5145',\n",
       " '(676) 334-2174',\n",
       " '(437) 994-5270',\n",
       " '(564) 908-6970',\n",
       " '(577) 333-6244',\n",
       " '(655) 840-6139']"
      ]
     },
     "execution_count": 110,
     "metadata": {},
     "output_type": "execute_result"
    }
   ],
   "source": [
    "import urllib.request\n",
    "url = 'https://www.summet.com/dmsi/html/codesamples/addresses.html'\n",
    "response = urllib.request.urlopen(url)\n",
    "data = response.read()\n",
    "data_str = data.decode()\n",
    "data_str\n",
    "re.findall('\\(\\d{3}\\) \\d{3}-\\d{4}',data_str)"
   ]
  },
  {
   "cell_type": "code",
   "execution_count": 113,
   "metadata": {},
   "outputs": [
    {
     "name": "stdout",
     "output_type": "stream",
     "text": [
      "Searching in site https://www.google.com/\n",
      "<title>Google</title>\n",
      "Searching in site https://www.rediff.com/\n",
      "<title>Rediff.com: News | Rediffmail | Stock Quotes | Shopping</title>\n"
     ]
    }
   ],
   "source": [
    "sites = ['https://www.google.com/', 'https://www.rediff.com/']\n",
    "for s in sites: \n",
    "    print('Searching in site', s)\n",
    "    u = urllib.request.urlopen(s)\n",
    "    text = u.read()\n",
    "    title = re.findall('<title>.*</title>', str(text), re.IGNORECASE)\n",
    "    print(title[0])"
   ]
  },
  {
   "cell_type": "code",
   "execution_count": 116,
   "metadata": {},
   "outputs": [
    {
     "name": "stdout",
     "output_type": "stream",
     "text": [
      "Enter the pan card noAFUYT8712K\n",
      "Invalid\n"
     ]
    }
   ],
   "source": [
    "s = input('Enter the pan card no')\n",
    "m = re.fullmatch('[A-Z][A-Z][A-Z][PCAFHT][A-Z][0-9][0-9][0-9][0-9][A-Z]',s)\n",
    "if m!=None:\n",
    "    print('Valid')\n",
    "else:\n",
    "    print('Invalid')"
   ]
  },
  {
   "cell_type": "code",
   "execution_count": 120,
   "metadata": {},
   "outputs": [
    {
     "name": "stdout",
     "output_type": "stream",
     "text": [
      "Enter the pan card noaffffffe\n",
      "Invalid\n"
     ]
    }
   ],
   "source": [
    "s = input('Enter the pan card no')\n",
    "m = re.fullmatch('[a-zA-Z]{3}[pcafhtPCAFHT][a-zA-Z][0-9]{4}[a-zA-Z]',s)\n",
    "if m!=None:\n",
    "    print('Valid')\n",
    "else:\n",
    "    print('Invalid')"
   ]
  },
  {
   "cell_type": "code",
   "execution_count": null,
   "metadata": {},
   "outputs": [],
   "source": []
  },
  {
   "cell_type": "code",
   "execution_count": null,
   "metadata": {},
   "outputs": [],
   "source": []
  },
  {
   "cell_type": "code",
   "execution_count": null,
   "metadata": {},
   "outputs": [],
   "source": []
  }
 ],
 "metadata": {
  "kernelspec": {
   "display_name": "Python 3",
   "language": "python",
   "name": "python3"
  },
  "language_info": {
   "codemirror_mode": {
    "name": "ipython",
    "version": 3
   },
   "file_extension": ".py",
   "mimetype": "text/x-python",
   "name": "python",
   "nbconvert_exporter": "python",
   "pygments_lexer": "ipython3",
   "version": "3.8.3"
  }
 },
 "nbformat": 4,
 "nbformat_minor": 4
}
