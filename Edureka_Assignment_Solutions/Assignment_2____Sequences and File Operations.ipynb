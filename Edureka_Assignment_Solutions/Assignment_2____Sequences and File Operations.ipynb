{
 "cells": [
  {
   "cell_type": "markdown",
   "metadata": {},
   "source": [
    "# Module 2 -Sequence and File Operations"
   ]
  },
  {
   "cell_type": "markdown",
   "metadata": {},
   "source": [
    "https://learnbyexample.github.io/python-regex-cheatsheet/"
   ]
  },
  {
   "cell_type": "markdown",
   "metadata": {},
   "source": [
    "## Question 1 "
   ]
  },
  {
   "cell_type": "raw",
   "metadata": {},
   "source": [
    "Smith wishesto register in a ticket booking website for booking bus tickets. For authenticate there gistration, he needs to provide user-id and password. There are some built-in rules for checking the validity of the passwords entered by the users.\n",
    "\n",
    "Following are the rules for checking the validity of a password:\n",
    "i.At least 1 alphabet\n",
    "ii.At least 1 digitbetween [0-9]\n",
    "iii.At least 1 character from [@&]\n",
    "iv.Minimum length of transaction password: 5\n",
    "v.Maximum length of transaction password: 10"
   ]
  },
  {
   "cell_type": "code",
   "execution_count": 19,
   "metadata": {},
   "outputs": [
    {
     "name": "stdout",
     "output_type": "stream",
     "text": [
      "Password is as per the criteria : Good!\n",
      "\n",
      "Below is the extra information for you:\n",
      "\n",
      "Length of the input password :  10\n",
      "Numeric Used :  ['1', '2']\n",
      "Special Charecter Used :  ['#', '$', '&']\n",
      "Capital Alpha Used :  ['S']\n",
      "Small Alpha Used :  ['u', 'n', 'i', 'l']\n"
     ]
    }
   ],
   "source": [
    "#my_pw = input('')\n",
    "my_pw = 'Sunil12#$&'\n",
    "x = True\n",
    "\n",
    "import re\n",
    "\n",
    "\n",
    "\n",
    "while x:\n",
    "    \n",
    "    if len(my_pw) <5 and len(my_pw) > 10:\n",
    "        print('Password is exceding the charecter limit')\n",
    "        break\n",
    "    elif not re.findall('[0-9]' ,my_pw):\n",
    "        print ('Password is not having any numeric value')\n",
    "        break\n",
    "    elif not re.findall('[a-zA-Z]' ,my_pw):\n",
    "        print ('Password is not having any alphabet')\n",
    "        x = False\n",
    "        break\n",
    "    elif not len(list(re.findall('\\W' ,my_pw))) >0:\n",
    "        print ('Password is not having any special charecter')\n",
    "        x = False\n",
    "        break\n",
    "    else:\n",
    "        print ('Password is as per the criteria : Good!')\n",
    "        x = False\n",
    "        break\n",
    "if x:\n",
    "    print('Password is not as per the criteria : Bad ')\n",
    "    x = False\n",
    "    \n",
    "print()\n",
    "print('Below is the extra information for you:')\n",
    "print()\n",
    "print ('Length of the input password : ' , len(my_pw))\n",
    "print ('Numeric Used : ' , list(re.findall('[\\d]' ,my_pw)))    \n",
    "print ('Special Charecter Used : ' , list(re.findall('[\\W]' ,my_pw)))    \n",
    "print ('Capital Alpha Used : ' , list(re.findall('[A-Z]' ,my_pw)))    \n",
    "print ('Small Alpha Used : ' , list(re.findall('[a-z]' ,my_pw)))    \n",
    "\n",
    "\n"
   ]
  },
  {
   "cell_type": "markdown",
   "metadata": {},
   "source": [
    "## Question 2\n",
    "Write a program for printing all elements of a list and their indexes in the list.Take the list as a user input "
   ]
  },
  {
   "cell_type": "code",
   "execution_count": 423,
   "metadata": {},
   "outputs": [
    {
     "name": "stdout",
     "output_type": "stream",
     "text": [
      "Enter any string.Sunil Kumar\n",
      "S  __  0\n",
      "u  __  1\n",
      "n  __  2\n",
      "i  __  3\n",
      "l  __  4\n",
      "   __  5\n",
      "K  __  6\n",
      "u  __  7\n",
      "m  __  8\n",
      "a  __  9\n",
      "r  __  10\n",
      "(0, 'S')\n",
      "(1, 'u')\n",
      "(2, 'n')\n",
      "(3, 'i')\n",
      "(4, 'l')\n",
      "(5, ' ')\n",
      "(6, 'K')\n",
      "(7, 'u')\n",
      "(8, 'm')\n",
      "(9, 'a')\n",
      "(10, 'r')\n"
     ]
    }
   ],
   "source": [
    "my_string = input(\"Enter any string.\")\n",
    "my_string = 'Sunil Kumar'\n",
    "\n",
    "#=============With Loop getting their Index ===============================\n",
    "for i in range(0 , len(my_string)):\n",
    "    alpha = my_string[i]\n",
    "    print( alpha , ' __ ' , i)\n",
    "\n",
    "#=============With enumerate function getting their Index ===============================\n",
    "b = enumerate(my_string)\n",
    "for i in b:\n",
    "    print(i)\n",
    "\n",
    "\n"
   ]
  },
  {
   "cell_type": "markdown",
   "metadata": {},
   "source": [
    "## Question 3\n",
    "Write a program which accepts a string from the console and print the characters that have even indexes if the character is an alphabet. Concatenate the characters and print.\n",
    "Example: If the following string is given as input to the program:Ed12ur3ka1Python12\n",
    "Then, the output of the program should be:EuaPto"
   ]
  },
  {
   "cell_type": "raw",
   "metadata": {},
   "source": [
    "Write a program which accepts a string from the console and print the characters that have even indexes if the character is an alphabet. Concatenate the characters and print.\n",
    "\n",
    "Example: If the following string is given as input to the program:Ed12ur3ka1Python12\n",
    "Then, the output of the program should be:EuaPto"
   ]
  },
  {
   "cell_type": "code",
   "execution_count": 21,
   "metadata": {},
   "outputs": [
    {
     "name": "stdout",
     "output_type": "stream",
     "text": [
      "EuaPto\n"
     ]
    }
   ],
   "source": [
    "str1 = 'Ed12ur3ka1Python12'\n",
    "\n",
    "import re        \n",
    "a = 0\n",
    "output_str=\"\"\n",
    "for i in (str1):\n",
    "    a = a+1\n",
    "    if a % 2 != 0:\n",
    "        \n",
    "        if re.search('[a-zA-Z]', i):\n",
    "            output_str = output_str + i\n",
    "print(output_str)\n",
    "        \n",
    "        "
   ]
  },
  {
   "cell_type": "markdown",
   "metadata": {},
   "source": [
    "## Question 4 "
   ]
  },
  {
   "cell_type": "raw",
   "metadata": {},
   "source": [
    "Please write a program which accepts a string from console and print it in reverse order.\n",
    "\n",
    "Example: If the following string is given as input to the program: welcome to edureka\n",
    "Then, the output of the program should be:\n",
    "akerude ot emoclew"
   ]
  },
  {
   "cell_type": "code",
   "execution_count": 22,
   "metadata": {},
   "outputs": [
    {
     "name": "stdout",
     "output_type": "stream",
     "text": [
      "akerude ot emoclew\n"
     ]
    }
   ],
   "source": [
    "input_str = 'welcome to edureka'\n",
    "output_str = \"\"\n",
    "\n",
    "list1 = list(input_str)\n",
    "length = len(list1)\n",
    "\n",
    "for i in range(1,length+1):\n",
    "    output_str = output_str+input_str[-i]\n",
    "print(output_str)\n",
    "    "
   ]
  },
  {
   "cell_type": "markdown",
   "metadata": {},
   "source": [
    "## Question 5 "
   ]
  },
  {
   "cell_type": "raw",
   "metadata": {},
   "source": [
    "Please write a program which countsand printsthe numbers of each character in a string input bytheconsole.\n",
    "\n",
    "Example: If the following string is given as input to the program:\n",
    "\n",
    "abcdefgabc\n",
    "\n",
    "Then, the output of the program should be:\n",
    "\n",
    "a,2\n",
    "c,2\n",
    "b,2\n",
    "e,1\n",
    "d,1\n",
    "g,1\n",
    "f,1"
   ]
  },
  {
   "cell_type": "code",
   "execution_count": 37,
   "metadata": {},
   "outputs": [
    {
     "name": "stdout",
     "output_type": "stream",
     "text": [
      "a _____ 2\n",
      "b _____ 2\n",
      "c _____ 2\n",
      "d _____ 1\n",
      "e _____ 1\n",
      "f _____ 1\n",
      "g _____ 1\n"
     ]
    }
   ],
   "source": [
    "input_str = 'abcdefgabc'\n",
    "container = \"\"\n",
    "for i in input_str:\n",
    "    if i not in container:\n",
    "        print (i , '_____' , input_str.count(i))\n",
    "        container = container+i\n"
   ]
  },
  {
   "cell_type": "markdown",
   "metadata": {},
   "source": [
    "## Question 6\n",
    "Given: Lists [1,5,10,12,34,13] and [4,7,8,10,5,13,24]. With the above give lists, write a program tocreate a newlist whose elements are intersection of the above given lists"
   ]
  },
  {
   "cell_type": "code",
   "execution_count": 93,
   "metadata": {},
   "outputs": [
    {
     "name": "stdout",
     "output_type": "stream",
     "text": [
      "This is a list common values in both the list :  [5, 10, 13]\n",
      "\n",
      "This is a list of uncommon values in both the list:  [1, 12, 34]\n"
     ]
    }
   ],
   "source": [
    "#Intersection of two list means we need to take all those elements which are common to both \n",
    "#of the initial lists and store them into another list. \n",
    "list1  = [1,5,10,12,34,13]\n",
    "list2 =  [4,7,8,10,5,13,24]\n",
    "\n",
    "list3 = [x for x in list1 if x  in list2]\n",
    "print ('This is a list common values in both the list : ' , list3)\n",
    "print()\n",
    "\n",
    "list3 = [x for x in list1 if x not in list2]\n",
    "print ('This is a list of uncommon values in both the list: ' , list3)\n",
    "\n"
   ]
  },
  {
   "cell_type": "markdown",
   "metadata": {},
   "source": [
    "## Question 7\n",
    "By using list comprehension, please write a program to print the list after removing the values which are divisible by 6in [12,24,35,24,88,120,155]."
   ]
  },
  {
   "cell_type": "code",
   "execution_count": 215,
   "metadata": {},
   "outputs": [
    {
     "name": "stdout",
     "output_type": "stream",
     "text": [
      "This is the list which contains number not divisable by 6 :  [35, 88, 155]\n"
     ]
    }
   ],
   "source": [
    "# List comprehension is an elegant way to define and create lists based on existing lists.\n",
    "# List comprehensions can utilize conditional statement to modify existing list (or other tuples). \n",
    "list1 = [12,24,35,24,88,120,155]\n",
    "x = 6\n",
    "\n",
    "number_list = [ x for x in list1 if (x % 6 != 0)]\n",
    "print('This is the list which contains number not divisable by 6 : ',number_list)\n"
   ]
  },
  {
   "cell_type": "markdown",
   "metadata": {},
   "source": [
    "## Question 8\n",
    "By using list comprehension, please write a program to print the list after removing the 1st,3rd,5thnumbers in [12,24,35,70,88,120,155]."
   ]
  },
  {
   "cell_type": "code",
   "execution_count": 212,
   "metadata": {},
   "outputs": [
    {
     "name": "stdout",
     "output_type": "stream",
     "text": [
      "This list is with List Comprehenssive Method :  [24, 70, 120, 155]\n",
      "\n",
      "This list with pop method :   [24, 70, 120, 155]\n"
     ]
    }
   ],
   "source": [
    "# List comprehensions are Python functions that are used for creating new sequences (such as lists, dictionaries, etc.) using sequences that have already been created. \n",
    "#They help to reduce longer loops and make your code easier to read and maintain. \n",
    "\n",
    "# Enumerate() :-This built-in function generates both the values and indexes of items in an iterable, \n",
    "#so we don't need to count manually \n",
    "\n",
    "list1 = [12,24,35,70,88,120,155]\n",
    "b = [( j) for i, j in enumerate(list1) if i not in [0,2,4]]\n",
    "print('This list is with List Comprehenssive Method : ', b)\n",
    "print()\n",
    "#===========================================================================\n",
    "#===========================================================================\n",
    "list1 = [12,24,35,70,88,120,155]\n",
    "for i in range (0,3):\n",
    "    list1.pop(i)\n",
    "print('This list with pop method :  ' ,list1)\n",
    "#===========================================================================\n"
   ]
  },
  {
   "cell_type": "markdown",
   "metadata": {},
   "source": [
    "## Question 9\n",
    "Please  write  a  program  to  randomly  generate  a  list  with 6numbers,  which  are divisible by 5 and 7, between 1 and 1500 inclusive"
   ]
  },
  {
   "cell_type": "code",
   "execution_count": 393,
   "metadata": {},
   "outputs": [
    {
     "name": "stdout",
     "output_type": "stream",
     "text": [
      "This is a list of Total Number found divisable by 5 and 7 in range 1 to 1500 :  42\n",
      "\n",
      "This is a list of random Index of list which are divisable by 5 and 7 :  [14, 8, 24, 37, 31, 15]\n",
      "14\n",
      "8\n",
      "24\n",
      "37\n",
      "31\n",
      "15\n",
      "\n",
      "\n",
      "This is a list of random values between 1 to 1500 which are divisable by 5 and 7 :  [525, 315, 875, 1330, 1120, 560]\n"
     ]
    }
   ],
   "source": [
    "import random   \n",
    "output_list =[]\n",
    "new_list=[]\n",
    "for i in range(1,1500):\n",
    "    if i % 5==0 and i%7==0:\n",
    "        new_list.append(i)\n",
    "print('This is a list of Total Number found divisable by 5 and 7 in range 1 to 1500 : ',len(new_list))\n",
    "print()\n",
    "random_list = []\n",
    "for i in range (0,6):\n",
    "    random_list.append(random.randint(0,len(new_list)-1))\n",
    "\n",
    "print('This is a list of random Index of list which are divisable by 5 and 7 : ' ,random_list)\n",
    "for k in random_list:\n",
    "    print(k)\n",
    "    output_list.append(new_list[k])\n",
    "    \n",
    "print()\n",
    "print()\n",
    "print('This is a list of random values between 1 to 1500 which are divisable by 5 and 7 : ' ,output_list)"
   ]
  },
  {
   "cell_type": "markdown",
   "metadata": {},
   "source": [
    "## Question 10 "
   ]
  },
  {
   "cell_type": "markdown",
   "metadata": {},
   "source": [
    "Write  a  program  to  compute  1/2+2/3+3/4+...+n/n+1  with  a  given  n  input  by console (n>0).\n",
    "\n",
    "Example:If the following n is given as input to the program:5\n",
    "\n",
    "Then, the output of the program should be:3.55"
   ]
  },
  {
   "cell_type": "code",
   "execution_count": 2,
   "metadata": {},
   "outputs": [
    {
     "name": "stdout",
     "output_type": "stream",
     "text": [
      "Enter any value : 5\n",
      "3.55\n"
     ]
    }
   ],
   "source": [
    "num = int(input('Enter any value : '))\n",
    "new_num = 0\n",
    "for i in range(1,num+1):\n",
    "    new_num = new_num+ (i/(i+1))\n",
    "print(round(new_num,2))\n"
   ]
  }
 ],
 "metadata": {
  "kernelspec": {
   "display_name": "Python 3",
   "language": "python",
   "name": "python3"
  },
  "language_info": {
   "codemirror_mode": {
    "name": "ipython",
    "version": 3
   },
   "file_extension": ".py",
   "mimetype": "text/x-python",
   "name": "python",
   "nbconvert_exporter": "python",
   "pygments_lexer": "ipython3",
   "version": "3.8.3"
  }
 },
 "nbformat": 4,
 "nbformat_minor": 4
}
