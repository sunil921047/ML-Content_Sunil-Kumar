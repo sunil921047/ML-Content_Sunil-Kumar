{
 "cells": [
  {
   "cell_type": "markdown",
   "id": "57cc6c21",
   "metadata": {},
   "source": [
    "# Feature Selection Techniques  (Dimensionality Reduction Techniques)"
   ]
  },
  {
   "cell_type": "markdown",
   "id": "452a7fbc",
   "metadata": {},
   "source": [
    "###### What Is Feature Selection in Machine Learning?"
   ]
  },
  {
   "cell_type": "markdown",
   "id": "610bc8eb",
   "metadata": {},
   "source": [
    "The goal of feature selection techniques in machine learning is to find the best set of features that allows one to build optimized models of studied phenomena."
   ]
  },
  {
   "cell_type": "markdown",
   "id": "fab6fb37",
   "metadata": {},
   "source": [
    "The techniques for feature selection in machine learning can be broadly classified into the following categories:\n"
   ]
  },
  {
   "cell_type": "markdown",
   "id": "c50d190b",
   "metadata": {},
   "source": [
    "###### Supervised Techniques: \n",
    "    \n",
    "These techniques can be used for labeled data and to identify the relevant features for increasing the efficiency of supervised models like classification and regression. For Example- linear regression, decision tree, SVM, etc."
   ]
  },
  {
   "cell_type": "markdown",
   "id": "df30e5cc",
   "metadata": {},
   "source": [
    "###### Unsupervised Techniques: \n",
    "    \n",
    "These techniques can be used for unlabeled data. For Example- K-Means Clustering, Principal Component Analysis, Hierarchical Clustering, etc."
   ]
  },
  {
   "cell_type": "code",
   "execution_count": 398,
   "id": "9e6aa5c7",
   "metadata": {},
   "outputs": [],
   "source": [
    "import warnings\n",
    "warnings.filterwarnings('ignore')"
   ]
  },
  {
   "cell_type": "markdown",
   "id": "a135e693",
   "metadata": {},
   "source": [
    "###### Why Feature Selection is Important in Machine Learning?"
   ]
  },
  {
   "cell_type": "markdown",
   "id": "ec7f207e",
   "metadata": {},
   "source": [
    " *  Curse of Dimensionality: There are certain ML algorithim where your model affect if higher dimensionality. Hence we reduce it.\n",
    " *  Complexity : Model will take much time for calculation if we have more features.\n",
    " *  Interpretability  : ML also used for INFER. The lesser feature will help you to understand your model, you can make inferential statement between DV and IV.\n",
    " \n",
    "  *  Easiear to understand model.\n",
    "  *  Better performance model.\n",
    "  *  Model Run Fasters"
   ]
  },
  {
   "cell_type": "markdown",
   "id": "f588b5e2",
   "metadata": {},
   "source": [
    "### Basic and very common Steps for feature selection process:-"
   ]
  },
  {
   "cell_type": "markdown",
   "id": "6df9ec91",
   "metadata": {},
   "source": [
    "###### Remove duplicate features"
   ]
  },
  {
   "cell_type": "markdown",
   "id": "b3c60ce5",
   "metadata": {},
   "source": [
    "Sometime in our dataset we get same columns twice/thrice then we can keep one of them and drop rest of columns"
   ]
  },
  {
   "cell_type": "markdown",
   "id": "8e04701b",
   "metadata": {},
   "source": [
    "###### Remove null values or missing values features\n",
    "We should handle null values first and then move to below three feature selection process. "
   ]
  },
  {
   "cell_type": "markdown",
   "id": "aade7830",
   "metadata": {},
   "source": [
    "###### High Percentage Missing Value :\n",
    "We should handle null values first and then move to below three feature selection process. "
   ]
  },
  {
   "cell_type": "markdown",
   "id": "2753bad4",
   "metadata": {},
   "source": [
    "#### Data Leakage"
   ]
  },
  {
   "cell_type": "markdown",
   "id": "056664f4",
   "metadata": {},
   "source": [
    "Before we start following feature selection methods - we should split the dataset into train and test dataset. It is a thumb rule to \n",
    "split into train/test, otherwise there are chances to data leakage. (e.g. our test dataset shouldn't know about train test feature)"
   ]
  },
  {
   "cell_type": "markdown",
   "id": "141ae727",
   "metadata": {},
   "source": [
    "## Three Categories of feature selection:-"
   ]
  },
  {
   "cell_type": "markdown",
   "id": "63fa73fe",
   "metadata": {},
   "source": [
    "### 1. Filter Method"
   ]
  },
  {
   "cell_type": "markdown",
   "id": "8b67f034",
   "metadata": {},
   "source": [
    "Filter based techniques are methods that are use statistical measure to score each feature indepenently, and then select a subset of \n",
    "feature based on these scores.These methods are called 'Filter Method' because eventually they filter out the feature on their score based on some criteria."
   ]
  },
  {
   "cell_type": "markdown",
   "id": "b9b9b3fa",
   "metadata": {},
   "source": [
    "###### A. Variance Threshold\n",
    "###### B.  Correlation Coefficient\n",
    "###### C. Anova Test\n",
    "###### D. Chi Square Test"
   ]
  },
  {
   "cell_type": "markdown",
   "id": "6ba46e6f",
   "metadata": {},
   "source": [
    "### 2. Wrapper Method"
   ]
  },
  {
   "cell_type": "markdown",
   "id": "66d37ae4",
   "metadata": {},
   "source": [
    "##### A. Exhaustive Feature Selection/Best Subset Selection (No more in python)"
   ]
  },
  {
   "cell_type": "markdown",
   "id": "27a29a7b",
   "metadata": {},
   "source": [
    "###### B. Forward Selection"
   ]
  },
  {
   "cell_type": "markdown",
   "id": "372f7b1d",
   "metadata": {},
   "source": [
    "###### c. Backward Elemination"
   ]
  },
  {
   "cell_type": "markdown",
   "id": "a46bde74",
   "metadata": {},
   "source": [
    "##### D. Recursive Feature Elemination\n",
    "\n",
    "Note: Wrapper method should be used when your dataset is very less."
   ]
  },
  {
   "cell_type": "markdown",
   "id": "d4024dc1",
   "metadata": {},
   "source": [
    "The process involves developing a model with the remaining features after repeatedly removing the least significant parts until the desired number of features is obtained."
   ]
  },
  {
   "cell_type": "markdown",
   "id": "386da55d",
   "metadata": {},
   "source": [
    "###### Steps in RFE:--"
   ]
  },
  {
   "cell_type": "raw",
   "id": "a3444ebf",
   "metadata": {},
   "source": [
    "1 Rank the importance of all features using the chosen RFE machine learning algorithm.\n",
    "2 Eliminate the least important feature.\n",
    "3. Build a model using the remaining features.\n",
    "4. Repeat steps 1-3 until the desired number of features is reached."
   ]
  },
  {
   "cell_type": "markdown",
   "id": "96c9b605",
   "metadata": {},
   "source": [
    "### 3. Embedded Methods"
   ]
  },
  {
   "cell_type": "markdown",
   "id": "8a10b96b",
   "metadata": {},
   "source": [
    "###### A. LASSO"
   ]
  },
  {
   "cell_type": "code",
   "execution_count": null,
   "id": "ce55f35b",
   "metadata": {},
   "outputs": [],
   "source": []
  },
  {
   "cell_type": "code",
   "execution_count": null,
   "id": "73358540",
   "metadata": {},
   "outputs": [],
   "source": []
  },
  {
   "cell_type": "code",
   "execution_count": null,
   "id": "dfaad155",
   "metadata": {},
   "outputs": [],
   "source": []
  },
  {
   "cell_type": "code",
   "execution_count": null,
   "id": "c1913b01",
   "metadata": {},
   "outputs": [],
   "source": []
  },
  {
   "cell_type": "markdown",
   "id": "bd2457e5",
   "metadata": {},
   "source": [
    "# Model Canser Dataset to predict patient health"
   ]
  },
  {
   "cell_type": "code",
   "execution_count": 399,
   "id": "276142c3",
   "metadata": {},
   "outputs": [
    {
     "data": {
      "text/html": [
       "<div>\n",
       "<style scoped>\n",
       "    .dataframe tbody tr th:only-of-type {\n",
       "        vertical-align: middle;\n",
       "    }\n",
       "\n",
       "    .dataframe tbody tr th {\n",
       "        vertical-align: top;\n",
       "    }\n",
       "\n",
       "    .dataframe thead th {\n",
       "        text-align: right;\n",
       "    }\n",
       "</style>\n",
       "<table border=\"1\" class=\"dataframe\">\n",
       "  <thead>\n",
       "    <tr style=\"text-align: right;\">\n",
       "      <th></th>\n",
       "      <th>mean radius</th>\n",
       "      <th>mean texture</th>\n",
       "      <th>mean perimeter</th>\n",
       "      <th>mean area</th>\n",
       "      <th>mean smoothness</th>\n",
       "      <th>mean compactness</th>\n",
       "      <th>mean concavity</th>\n",
       "      <th>mean concave points</th>\n",
       "      <th>mean symmetry</th>\n",
       "      <th>mean fractal dimension</th>\n",
       "      <th>...</th>\n",
       "      <th>worst radius</th>\n",
       "      <th>worst texture</th>\n",
       "      <th>worst perimeter</th>\n",
       "      <th>worst area</th>\n",
       "      <th>worst smoothness</th>\n",
       "      <th>worst compactness</th>\n",
       "      <th>worst concavity</th>\n",
       "      <th>worst concave points</th>\n",
       "      <th>worst symmetry</th>\n",
       "      <th>worst fractal dimension</th>\n",
       "    </tr>\n",
       "  </thead>\n",
       "  <tbody>\n",
       "    <tr>\n",
       "      <th>0</th>\n",
       "      <td>17.99</td>\n",
       "      <td>10.38</td>\n",
       "      <td>122.8</td>\n",
       "      <td>1001.0</td>\n",
       "      <td>0.11840</td>\n",
       "      <td>0.27760</td>\n",
       "      <td>0.3001</td>\n",
       "      <td>0.14710</td>\n",
       "      <td>0.2419</td>\n",
       "      <td>0.07871</td>\n",
       "      <td>...</td>\n",
       "      <td>25.38</td>\n",
       "      <td>17.33</td>\n",
       "      <td>184.6</td>\n",
       "      <td>2019.0</td>\n",
       "      <td>0.1622</td>\n",
       "      <td>0.6656</td>\n",
       "      <td>0.7119</td>\n",
       "      <td>0.2654</td>\n",
       "      <td>0.4601</td>\n",
       "      <td>0.11890</td>\n",
       "    </tr>\n",
       "    <tr>\n",
       "      <th>1</th>\n",
       "      <td>20.57</td>\n",
       "      <td>17.77</td>\n",
       "      <td>132.9</td>\n",
       "      <td>1326.0</td>\n",
       "      <td>0.08474</td>\n",
       "      <td>0.07864</td>\n",
       "      <td>0.0869</td>\n",
       "      <td>0.07017</td>\n",
       "      <td>0.1812</td>\n",
       "      <td>0.05667</td>\n",
       "      <td>...</td>\n",
       "      <td>24.99</td>\n",
       "      <td>23.41</td>\n",
       "      <td>158.8</td>\n",
       "      <td>1956.0</td>\n",
       "      <td>0.1238</td>\n",
       "      <td>0.1866</td>\n",
       "      <td>0.2416</td>\n",
       "      <td>0.1860</td>\n",
       "      <td>0.2750</td>\n",
       "      <td>0.08902</td>\n",
       "    </tr>\n",
       "  </tbody>\n",
       "</table>\n",
       "<p>2 rows × 30 columns</p>\n",
       "</div>"
      ],
      "text/plain": [
       "   mean radius  mean texture  mean perimeter  mean area  mean smoothness  \\\n",
       "0        17.99         10.38           122.8     1001.0          0.11840   \n",
       "1        20.57         17.77           132.9     1326.0          0.08474   \n",
       "\n",
       "   mean compactness  mean concavity  mean concave points  mean symmetry  \\\n",
       "0           0.27760          0.3001              0.14710         0.2419   \n",
       "1           0.07864          0.0869              0.07017         0.1812   \n",
       "\n",
       "   mean fractal dimension  ...  worst radius  worst texture  worst perimeter  \\\n",
       "0                 0.07871  ...         25.38          17.33            184.6   \n",
       "1                 0.05667  ...         24.99          23.41            158.8   \n",
       "\n",
       "   worst area  worst smoothness  worst compactness  worst concavity  \\\n",
       "0      2019.0            0.1622             0.6656           0.7119   \n",
       "1      1956.0            0.1238             0.1866           0.2416   \n",
       "\n",
       "   worst concave points  worst symmetry  worst fractal dimension  \n",
       "0                0.2654          0.4601                  0.11890  \n",
       "1                0.1860          0.2750                  0.08902  \n",
       "\n",
       "[2 rows x 30 columns]"
      ]
     },
     "execution_count": 399,
     "metadata": {},
     "output_type": "execute_result"
    }
   ],
   "source": [
    "import pandas as pd\n",
    "import numpy as np\n",
    "import seaborn as sns\n",
    "import matplotlib.pyplot as plt\n",
    "from sklearn import datasets\n",
    "df_array = datasets.load_breast_cancer()\n",
    "# Converting array dataset into dataframe\n",
    "df = pd.DataFrame(df_array.data,columns=df_array.feature_names)\n",
    "df.head(2)"
   ]
  },
  {
   "cell_type": "code",
   "execution_count": 400,
   "id": "821cebf3",
   "metadata": {},
   "outputs": [],
   "source": [
    "#Concating output feature to main dataset\n",
    "df['target']=df_array['target']"
   ]
  },
  {
   "cell_type": "markdown",
   "id": "4465666d",
   "metadata": {},
   "source": [
    "###### Remove Duplicate Columns - If Any"
   ]
  },
  {
   "cell_type": "code",
   "execution_count": 401,
   "id": "7b7de091",
   "metadata": {},
   "outputs": [],
   "source": [
    "def rem_duplicate_col(df):\n",
    "    col_len=len(list(df.columns))\n",
    "    No_duplicate_col=[]\n",
    "    duplicate_col = []\n",
    "    for col in range(0,col_len):\n",
    "        if list(df.columns)[col] not in No_duplicate_col:\n",
    "            No_duplicate_col.append(col)\n",
    "        else:\n",
    "            duplicate_col.append(col)\n",
    "    if  len(duplicate_col) > 0:\n",
    "        print('Duplicate Column found : ' , duplicate_col)\n",
    "    else:\n",
    "        print('No Duplicate Column Found.')"
   ]
  },
  {
   "cell_type": "code",
   "execution_count": 402,
   "id": "7d681815",
   "metadata": {},
   "outputs": [],
   "source": [
    "from sklearn.model_selection import train_test_split\n",
    "X = df.iloc[:,:-1]\n",
    "y=df.iloc[:,-1]\n",
    "X_Train,X_Test,y_Train,y_Test = train_test_split(X,y,train_size = 0.8,random_state = 0)"
   ]
  },
  {
   "cell_type": "code",
   "execution_count": 403,
   "id": "91138e08",
   "metadata": {},
   "outputs": [
    {
     "name": "stdout",
     "output_type": "stream",
     "text": [
      "No Duplicate Column Found.\n"
     ]
    }
   ],
   "source": [
    "rem_duplicate_col(df)"
   ]
  },
  {
   "cell_type": "markdown",
   "id": "ee7d5f5d",
   "metadata": {},
   "source": [
    "## Multicollinearity"
   ]
  },
  {
   "cell_type": "markdown",
   "id": "dae2c532",
   "metadata": {},
   "source": [
    "Collinearity is a linear association between two explanatory variables. Two variables are perfectly collinear if there is an exact linear relationship between them. \n",
    "Multicollinearity refers to a situation in which more than two explanatory variables in a multiple regression model are highly linearly related."
   ]
  },
  {
   "cell_type": "markdown",
   "id": "e1fae8e8",
   "metadata": {},
   "source": [
    "###### How to detect Multicollinearity"
   ]
  },
  {
   "cell_type": "markdown",
   "id": "f5364129",
   "metadata": {},
   "source": [
    " *  Domain Knowledge : If you have good  domain knowledge you can easily understand two IV may have multicollinearity\n",
    " *  Scatter Plot : With the help of scatter plot of two IV you can see is there any relationship. Have to plot multiple plots.\n",
    " *  Correlation Function: With Corr() function you can see which two features are having more relationship.  Threshold .9 or .08\n",
    " *  Variance Influence Factor : You can use VIF - if vif is greater than 5 then you can remove these feature."
   ]
  },
  {
   "cell_type": "markdown",
   "id": "f12be80d",
   "metadata": {},
   "source": [
    "### Implementing VIF using statsmodels:"
   ]
  },
  {
   "cell_type": "markdown",
   "id": "af3127d2",
   "metadata": {},
   "source": [
    "For VIF - we need only IV. We will make a loop and pick variable one by one and make a linear regression with other features."
   ]
  },
  {
   "cell_type": "code",
   "execution_count": 509,
   "id": "a32c738b",
   "metadata": {},
   "outputs": [],
   "source": [
    "from statsmodels.stats.outliers_influence import variance_inflation_factor \n",
    "import statsmodels.api as sm"
   ]
  },
  {
   "cell_type": "code",
   "execution_count": 506,
   "id": "3f077861",
   "metadata": {},
   "outputs": [
    {
     "name": "stdout",
     "output_type": "stream",
     "text": [
      "(102, 13)\n",
      "(404, 13)\n",
      "Index(['crim', 'zn', 'indus', 'chas', 'nox', 'rm', 'age', 'dis', 'rad', 'tax',\n",
      "       'ptratio', 'b', 'lstat'],\n",
      "      dtype='object')\n"
     ]
    }
   ],
   "source": [
    "print(X_Test.shape)\n",
    "print(X_Train.shape)\n",
    "print(X_Train.columns)"
   ]
  },
  {
   "cell_type": "markdown",
   "id": "e1844663",
   "metadata": {},
   "source": [
    "###### Calculate VIF Factors"
   ]
  },
  {
   "cell_type": "markdown",
   "id": "69125e1d",
   "metadata": {},
   "source": [
    "###### First way of VIF"
   ]
  },
  {
   "cell_type": "code",
   "execution_count": 512,
   "id": "d3d7ec7f",
   "metadata": {},
   "outputs": [
    {
     "data": {
      "text/html": [
       "<div>\n",
       "<style scoped>\n",
       "    .dataframe tbody tr th:only-of-type {\n",
       "        vertical-align: middle;\n",
       "    }\n",
       "\n",
       "    .dataframe tbody tr th {\n",
       "        vertical-align: top;\n",
       "    }\n",
       "\n",
       "    .dataframe thead th {\n",
       "        text-align: right;\n",
       "    }\n",
       "</style>\n",
       "<table border=\"1\" class=\"dataframe\">\n",
       "  <thead>\n",
       "    <tr style=\"text-align: right;\">\n",
       "      <th></th>\n",
       "      <th>VIF Factor</th>\n",
       "      <th>features</th>\n",
       "    </tr>\n",
       "  </thead>\n",
       "  <tbody>\n",
       "    <tr>\n",
       "      <th>0</th>\n",
       "      <td>2.017452</td>\n",
       "      <td>crim</td>\n",
       "    </tr>\n",
       "    <tr>\n",
       "      <th>1</th>\n",
       "      <td>3.132732</td>\n",
       "      <td>zn</td>\n",
       "    </tr>\n",
       "    <tr>\n",
       "      <th>2</th>\n",
       "      <td>13.756002</td>\n",
       "      <td>indus</td>\n",
       "    </tr>\n",
       "    <tr>\n",
       "      <th>3</th>\n",
       "      <td>1.167461</td>\n",
       "      <td>chas</td>\n",
       "    </tr>\n",
       "    <tr>\n",
       "      <th>4</th>\n",
       "      <td>73.260193</td>\n",
       "      <td>nox</td>\n",
       "    </tr>\n",
       "    <tr>\n",
       "      <th>5</th>\n",
       "      <td>79.012462</td>\n",
       "      <td>rm</td>\n",
       "    </tr>\n",
       "    <tr>\n",
       "      <th>6</th>\n",
       "      <td>21.452509</td>\n",
       "      <td>age</td>\n",
       "    </tr>\n",
       "    <tr>\n",
       "      <th>7</th>\n",
       "      <td>15.961636</td>\n",
       "      <td>dis</td>\n",
       "    </tr>\n",
       "    <tr>\n",
       "      <th>8</th>\n",
       "      <td>16.491841</td>\n",
       "      <td>rad</td>\n",
       "    </tr>\n",
       "    <tr>\n",
       "      <th>9</th>\n",
       "      <td>65.139542</td>\n",
       "      <td>tax</td>\n",
       "    </tr>\n",
       "    <tr>\n",
       "      <th>10</th>\n",
       "      <td>87.027845</td>\n",
       "      <td>ptratio</td>\n",
       "    </tr>\n",
       "    <tr>\n",
       "      <th>11</th>\n",
       "      <td>20.380468</td>\n",
       "      <td>b</td>\n",
       "    </tr>\n",
       "    <tr>\n",
       "      <th>12</th>\n",
       "      <td>11.596660</td>\n",
       "      <td>lstat</td>\n",
       "    </tr>\n",
       "  </tbody>\n",
       "</table>\n",
       "</div>"
      ],
      "text/plain": [
       "    VIF Factor features\n",
       "0     2.017452     crim\n",
       "1     3.132732       zn\n",
       "2    13.756002    indus\n",
       "3     1.167461     chas\n",
       "4    73.260193      nox\n",
       "5    79.012462       rm\n",
       "6    21.452509      age\n",
       "7    15.961636      dis\n",
       "8    16.491841      rad\n",
       "9    65.139542      tax\n",
       "10   87.027845  ptratio\n",
       "11   20.380468        b\n",
       "12   11.596660    lstat"
      ]
     },
     "execution_count": 512,
     "metadata": {},
     "output_type": "execute_result"
    }
   ],
   "source": [
    "#vif_ = pd.DataFrame()\n",
    "#vif(X_Test.values, i) for i in range(X_Test.shape[1])\n",
    "#vif_[\"features\"] = X.columns\n",
    "# For each X, calculate VIF and save in dataframe\n",
    "X = X_Train\n",
    "vif = pd.DataFrame()\n",
    "vif[\"VIF Factor\"] = [variance_inflation_factor(X.values, i) for i in range(X.shape[1])]\n",
    "vif[\"features\"] = X.columns\n",
    "vif"
   ]
  },
  {
   "cell_type": "markdown",
   "id": "a730d27c",
   "metadata": {},
   "source": [
    "###### Second Way for VIF"
   ]
  },
  {
   "cell_type": "code",
   "execution_count": 515,
   "id": "7e21d4ae",
   "metadata": {},
   "outputs": [
    {
     "name": "stdout",
     "output_type": "stream",
     "text": [
      "rsquare  of  crim  :  0.7434246350495224    VIF of  crim  :  3.9\n",
      "rsquare  of  zn  :  0.5478169792716303    VIF of  zn  :  2.21\n",
      "rsquare  of  indus  :  0.9514676303654372    VIF of  indus  :  20.6\n",
      "rsquare  of  chas  :  0.17616666688933835    VIF of  chas  :  1.21\n",
      "rsquare  of  nox  :  0.9878406929046671    VIF of  nox  :  82.24\n",
      "rsquare  of  rm  :  0.9870315588848078    VIF of  rm  :  77.11\n",
      "rsquare  of  age  :  0.9585542212659053    VIF of  age  :  24.13\n",
      "rsquare  of  dis  :  0.9203303107186741    VIF of  dis  :  12.55\n",
      "rsquare  of  rad  :  0.9290731439928506    VIF of  rad  :  14.1\n",
      "rsquare  of  tax  :  0.9839041953976262    VIF of  tax  :  62.13\n",
      "rsquare  of  ptratio  :  0.9880259610862815    VIF of  ptratio  :  83.51\n",
      "rsquare  of  b  :  0.953925651782058    VIF of  b  :  21.7\n",
      "rsquare  of  lstat  :  0.9028746118375448    VIF of  lstat  :  10.3\n"
     ]
    }
   ],
   "source": [
    "col = X_Test.columns\n",
    "for i in range(0,len(X_Test.columns)):\n",
    "    y = X_Test.loc[: , X_Test.columns==col[i]]\n",
    "    x = X_Test.loc[: , X_Test.columns!=col[i]]\n",
    "    model=sm.OLS(y,x)\n",
    "    results= model.fit()\n",
    "    rsquare=results.rsquared\n",
    "    vif= round(1/(1-rsquare),2)\n",
    "    print('rsquare  of ' , col[i] , ' : ' , rsquare, '  ', 'VIF of ' , col[i] , ' : ' , vif)\n",
    "    \n",
    "    "
   ]
  },
  {
   "cell_type": "markdown",
   "id": "feb86844",
   "metadata": {},
   "source": [
    "# 1. Filter Method"
   ]
  },
  {
   "cell_type": "markdown",
   "id": "1788dd68",
   "metadata": {},
   "source": [
    "###### Filter Methods: Advantages\n",
    "\n",
    "They are computationally inexpensive, you can process thousands of features in a matter of seconds.\n",
    "\n",
    "Filter methods are very good for eliminating irrelevant, redundant, constant, duplicated, and correlated features."
   ]
  },
  {
   "cell_type": "markdown",
   "id": "292db935",
   "metadata": {},
   "source": [
    "## Variance Threshold Method"
   ]
  },
  {
   "cell_type": "markdown",
   "id": "6baa91ab",
   "metadata": {},
   "source": [
    "###### Two types of feature:-\n",
    "\n",
    " *  Constant Feature: In your dataset if a column value is always 1 or 2 or 3, means the same number. so the variance of that particular feature zero. There is no importance of that particular column to predict output column. you will directly delete that feature.\n",
    "\n",
    " *  Quasi Constant Feature: In your dataset of 1000 records if 995 records are male and 5 records are female. These are quasi constant feature. you can see that these feature is also not valuable to predict ouptut column, so you can delete/drop."
   ]
  },
  {
   "cell_type": "markdown",
   "id": "78fe1a33",
   "metadata": {},
   "source": [
    "###### Steps in Variance Threshold Method:-"
   ]
  },
  {
   "cell_type": "raw",
   "id": "53125d5a",
   "metadata": {},
   "source": [
    "1. Calculate the variance of each feature.(normalize or standardize is must before variance calc).\n",
    "2. Decide a threshold of variance (normally it is 0.01 to 0.05) \n",
    "3. Remove all feature whose threshold is lesser than the given threshold\n",
    "\n",
    "Note: It is very very important to normalize/standarize the independent features and then calc variance"
   ]
  },
  {
   "cell_type": "code",
   "execution_count": 404,
   "id": "05ccb679",
   "metadata": {},
   "outputs": [],
   "source": [
    "from sklearn.feature_selection import VarianceThreshold\n",
    "sel = VarianceThreshold(threshold = 0.05)   # There is long discussion/calculation required to give threshold number , generally we give value from .1 to .01. so we use 0.05. Before that your dataset should be standardize/normalize"
   ]
  },
  {
   "cell_type": "code",
   "execution_count": 405,
   "id": "0b102360",
   "metadata": {},
   "outputs": [
    {
     "data": {
      "text/plain": [
       "VarianceThreshold(threshold=0.05)"
      ]
     },
     "execution_count": 405,
     "metadata": {},
     "output_type": "execute_result"
    }
   ],
   "source": [
    "# fit the X_Train Columns\n",
    "sel.fit(X_Train)"
   ]
  },
  {
   "cell_type": "code",
   "execution_count": 406,
   "id": "83b10e5e",
   "metadata": {},
   "outputs": [
    {
     "data": {
      "text/plain": [
       "array([ True,  True,  True,  True, False, False, False, False, False,\n",
       "       False,  True,  True,  True,  True, False, False, False, False,\n",
       "       False, False,  True,  True,  True,  True, False, False, False,\n",
       "       False, False, False])"
      ]
     },
     "execution_count": 406,
     "metadata": {},
     "output_type": "execute_result"
    }
   ],
   "source": [
    "sel.get_support()"
   ]
  },
  {
   "cell_type": "code",
   "execution_count": 407,
   "id": "c958bf72",
   "metadata": {},
   "outputs": [
    {
     "data": {
      "text/plain": [
       "12"
      ]
     },
     "execution_count": 407,
     "metadata": {},
     "output_type": "execute_result"
    }
   ],
   "source": [
    "# Out of 30 only 12 columns are greater variance than given threshold\n",
    "sel.get_support().sum()"
   ]
  },
  {
   "cell_type": "code",
   "execution_count": 408,
   "id": "8ccd1b96",
   "metadata": {},
   "outputs": [
    {
     "data": {
      "text/plain": [
       "numpy.ndarray"
      ]
     },
     "execution_count": 408,
     "metadata": {},
     "output_type": "execute_result"
    }
   ],
   "source": [
    "# This code will give column which are greater variance than threshold and it will convert it in an array\n",
    "X_Train = sel.transform(X_Train)\n",
    "X_Test = sel.transform(X_Test)\n",
    "type(X_Test)"
   ]
  },
  {
   "cell_type": "code",
   "execution_count": 409,
   "id": "c3581cf6",
   "metadata": {},
   "outputs": [
    {
     "name": "stdout",
     "output_type": "stream",
     "text": [
      "<class 'pandas.core.frame.DataFrame'>\n",
      "(114, 12)\n"
     ]
    }
   ],
   "source": [
    "# Converting them back to Panda Dataframe\n",
    "X_Train = pd.DataFrame(X_Train)\n",
    "X_Test = pd.DataFrame(X_Test)\n",
    "print(type(X_Test))\n",
    "print(X_Test.shape)"
   ]
  },
  {
   "cell_type": "markdown",
   "id": "ba62b523",
   "metadata": {},
   "source": [
    "### Cons of Variance Threshold Method"
   ]
  },
  {
   "cell_type": "markdown",
   "id": "7d0b0767",
   "metadata": {},
   "source": [
    "###### *   Ignore Relation with IV with DV : \n",
    "It may be a feature with low variance is having good relation with dependent variable, or high variance variable have very low relation with dependent variable. We just focus on IV variance that  impact our model."
   ]
  },
  {
   "cell_type": "markdown",
   "id": "ab7d138b",
   "metadata": {},
   "source": [
    "###### *   Ignore Feature Interaction: \n",
    "It ignote the feature interaction between IV. suppose one IV is become very import if you use it with IV second and may beneficial for model. But with Variance Threshold we wil delete column which has lesser variance threshold.\n"
   ]
  },
  {
   "cell_type": "markdown",
   "id": "d9baf7f3",
   "metadata": {},
   "source": [
    "###### *   Sensative to feature scalling:-\n",
    "We have to scale the feature before using this technique. Support one feature is salary in 10000,12000,13000 and other feature is work experience in years 10,13,14 yrs. So if you follow this technique without scaling then always be salary feature variance would be higher than experience. "
   ]
  },
  {
   "cell_type": "markdown",
   "id": "3425f8e6",
   "metadata": {},
   "source": [
    "###### *   Arbitary Threshold Value:\n",
    "There is no fixed threshold value or any calculation method to get it. Generally, we give any value from 0.1 to 0.01 and it gives us the good features. but there is no fixed threshold number."
   ]
  },
  {
   "cell_type": "markdown",
   "id": "a5c2ca29",
   "metadata": {},
   "source": [
    "## Pearson Correlation Coefficient"
   ]
  },
  {
   "cell_type": "markdown",
   "id": "f9f07a4d",
   "metadata": {},
   "source": [
    "In this technique we try to findout the relationship between IV with DV one by one. That value comes from -1 to 1. If the value is near to -1 means there is a highly negetive relation between IV and DV. however it the value is near to 1 means there is highly positive relation between IV and DV.\n",
    "\n",
    "If the value is near to 0 - means there is no linear relation between IV and DV"
   ]
  },
  {
   "cell_type": "markdown",
   "id": "0b333af2",
   "metadata": {},
   "source": [
    "#### Two methods are:\n",
    "1. Check relation between all IV to DV and give a threshold e.g. (-0.3 to 0.3) , whaterver columns comes between this threshold you will directly drop them. They are not highly correlated with dependent variable.\n",
    "\n",
    "2. Check relation between all IV with other IV. Means F1 feature will check correlation with F2, then F1 with F3 and so on. Then \n",
    "we will give some threshold and remove feature which are having greater correlation than threshold. That ways we will also handle  *  multicollinearity *  .\n",
    "###### Multicollearity also handled."
   ]
  },
  {
   "cell_type": "code",
   "execution_count": 410,
   "id": "7529a15a",
   "metadata": {},
   "outputs": [
    {
     "name": "stdout",
     "output_type": "stream",
     "text": [
      "Shape of X Train :  (455, 30)\n"
     ]
    }
   ],
   "source": [
    "X = df.iloc[:,:-1]\n",
    "y=df.iloc[:,-1]\n",
    "X_Train,X_Test,y_Train,y_Test = train_test_split(X,y,train_size = 0.8,random_state = 0)\n",
    "print('Shape of X Train : ' , X_Train.shape)"
   ]
  },
  {
   "cell_type": "code",
   "execution_count": 411,
   "id": "45c22bbb",
   "metadata": {},
   "outputs": [
    {
     "data": {
      "text/plain": [
       "<AxesSubplot:>"
      ]
     },
     "execution_count": 411,
     "metadata": {},
     "output_type": "execute_result"
    },
    {
     "data": {
      "image/png": "[encoded data removed]",
      "text/plain": [
       "<Figure size 640x480 with 2 Axes>"
      ]
     },
     "metadata": {},
     "output_type": "display_data"
    }
   ],
   "source": [
    "sns.heatmap(X_Train.corr())"
   ]
  },
  {
   "cell_type": "code",
   "execution_count": 412,
   "id": "f31017dc",
   "metadata": {},
   "outputs": [
    {
     "data": {
      "text/html": [
       "<div>\n",
       "<style scoped>\n",
       "    .dataframe tbody tr th:only-of-type {\n",
       "        vertical-align: middle;\n",
       "    }\n",
       "\n",
       "    .dataframe tbody tr th {\n",
       "        vertical-align: top;\n",
       "    }\n",
       "\n",
       "    .dataframe thead th {\n",
       "        text-align: right;\n",
       "    }\n",
       "</style>\n",
       "<table border=\"1\" class=\"dataframe\">\n",
       "  <thead>\n",
       "    <tr style=\"text-align: right;\">\n",
       "      <th></th>\n",
       "      <th>mean radius</th>\n",
       "      <th>mean texture</th>\n",
       "      <th>mean perimeter</th>\n",
       "      <th>mean area</th>\n",
       "      <th>mean smoothness</th>\n",
       "      <th>mean compactness</th>\n",
       "      <th>mean concavity</th>\n",
       "      <th>mean concave points</th>\n",
       "      <th>mean symmetry</th>\n",
       "      <th>mean fractal dimension</th>\n",
       "      <th>...</th>\n",
       "      <th>worst radius</th>\n",
       "      <th>worst texture</th>\n",
       "      <th>worst perimeter</th>\n",
       "      <th>worst area</th>\n",
       "      <th>worst smoothness</th>\n",
       "      <th>worst compactness</th>\n",
       "      <th>worst concavity</th>\n",
       "      <th>worst concave points</th>\n",
       "      <th>worst symmetry</th>\n",
       "      <th>worst fractal dimension</th>\n",
       "    </tr>\n",
       "  </thead>\n",
       "  <tbody>\n",
       "    <tr>\n",
       "      <th>mean radius</th>\n",
       "      <td>1.000000</td>\n",
       "      <td>0.316083</td>\n",
       "      <td>0.998185</td>\n",
       "      <td>0.987094</td>\n",
       "      <td>0.164226</td>\n",
       "      <td>0.508985</td>\n",
       "      <td>0.669625</td>\n",
       "      <td>0.823662</td>\n",
       "      <td>0.130193</td>\n",
       "      <td>-0.330992</td>\n",
       "      <td>...</td>\n",
       "      <td>0.969537</td>\n",
       "      <td>0.281647</td>\n",
       "      <td>0.966220</td>\n",
       "      <td>0.941185</td>\n",
       "      <td>0.116935</td>\n",
       "      <td>0.403744</td>\n",
       "      <td>0.511501</td>\n",
       "      <td>0.736397</td>\n",
       "      <td>0.149669</td>\n",
       "      <td>-0.004484</td>\n",
       "    </tr>\n",
       "    <tr>\n",
       "      <th>mean texture</th>\n",
       "      <td>0.316083</td>\n",
       "      <td>1.000000</td>\n",
       "      <td>0.322445</td>\n",
       "      <td>0.318626</td>\n",
       "      <td>-0.023107</td>\n",
       "      <td>0.241977</td>\n",
       "      <td>0.298975</td>\n",
       "      <td>0.292473</td>\n",
       "      <td>0.064376</td>\n",
       "      <td>-0.071964</td>\n",
       "      <td>...</td>\n",
       "      <td>0.349677</td>\n",
       "      <td>0.908182</td>\n",
       "      <td>0.354636</td>\n",
       "      <td>0.348051</td>\n",
       "      <td>0.093454</td>\n",
       "      <td>0.273151</td>\n",
       "      <td>0.298302</td>\n",
       "      <td>0.289088</td>\n",
       "      <td>0.098803</td>\n",
       "      <td>0.115940</td>\n",
       "    </tr>\n",
       "    <tr>\n",
       "      <th>mean perimeter</th>\n",
       "      <td>0.998185</td>\n",
       "      <td>0.322445</td>\n",
       "      <td>1.000000</td>\n",
       "      <td>0.986692</td>\n",
       "      <td>0.197597</td>\n",
       "      <td>0.555299</td>\n",
       "      <td>0.705993</td>\n",
       "      <td>0.850247</td>\n",
       "      <td>0.161548</td>\n",
       "      <td>-0.286012</td>\n",
       "      <td>...</td>\n",
       "      <td>0.969520</td>\n",
       "      <td>0.288406</td>\n",
       "      <td>0.970507</td>\n",
       "      <td>0.941920</td>\n",
       "      <td>0.145972</td>\n",
       "      <td>0.442236</td>\n",
       "      <td>0.545424</td>\n",
       "      <td>0.762361</td>\n",
       "      <td>0.171204</td>\n",
       "      <td>0.035518</td>\n",
       "    </tr>\n",
       "    <tr>\n",
       "      <th>mean area</th>\n",
       "      <td>0.987094</td>\n",
       "      <td>0.318626</td>\n",
       "      <td>0.986692</td>\n",
       "      <td>1.000000</td>\n",
       "      <td>0.170459</td>\n",
       "      <td>0.500276</td>\n",
       "      <td>0.679675</td>\n",
       "      <td>0.823160</td>\n",
       "      <td>0.131129</td>\n",
       "      <td>-0.302548</td>\n",
       "      <td>...</td>\n",
       "      <td>0.961717</td>\n",
       "      <td>0.276386</td>\n",
       "      <td>0.959382</td>\n",
       "      <td>0.958527</td>\n",
       "      <td>0.120212</td>\n",
       "      <td>0.380076</td>\n",
       "      <td>0.498019</td>\n",
       "      <td>0.712975</td>\n",
       "      <td>0.126243</td>\n",
       "      <td>-0.008425</td>\n",
       "    </tr>\n",
       "    <tr>\n",
       "      <th>mean smoothness</th>\n",
       "      <td>0.164226</td>\n",
       "      <td>-0.023107</td>\n",
       "      <td>0.197597</td>\n",
       "      <td>0.170459</td>\n",
       "      <td>1.000000</td>\n",
       "      <td>0.643792</td>\n",
       "      <td>0.503715</td>\n",
       "      <td>0.540170</td>\n",
       "      <td>0.536098</td>\n",
       "      <td>0.569111</td>\n",
       "      <td>...</td>\n",
       "      <td>0.202340</td>\n",
       "      <td>0.039730</td>\n",
       "      <td>0.222953</td>\n",
       "      <td>0.196480</td>\n",
       "      <td>0.800811</td>\n",
       "      <td>0.454826</td>\n",
       "      <td>0.418035</td>\n",
       "      <td>0.491856</td>\n",
       "      <td>0.374436</td>\n",
       "      <td>0.487641</td>\n",
       "    </tr>\n",
       "    <tr>\n",
       "      <th>mean compactness</th>\n",
       "      <td>0.508985</td>\n",
       "      <td>0.241977</td>\n",
       "      <td>0.555299</td>\n",
       "      <td>0.500276</td>\n",
       "      <td>0.643792</td>\n",
       "      <td>1.000000</td>\n",
       "      <td>0.879782</td>\n",
       "      <td>0.832933</td>\n",
       "      <td>0.583548</td>\n",
       "      <td>0.540311</td>\n",
       "      <td>...</td>\n",
       "      <td>0.537510</td>\n",
       "      <td>0.257121</td>\n",
       "      <td>0.583536</td>\n",
       "      <td>0.511644</td>\n",
       "      <td>0.577326</td>\n",
       "      <td>0.865480</td>\n",
       "      <td>0.818573</td>\n",
       "      <td>0.825494</td>\n",
       "      <td>0.501795</td>\n",
       "      <td>0.685937</td>\n",
       "    </tr>\n",
       "    <tr>\n",
       "      <th>mean concavity</th>\n",
       "      <td>0.669625</td>\n",
       "      <td>0.298975</td>\n",
       "      <td>0.705993</td>\n",
       "      <td>0.679675</td>\n",
       "      <td>0.503715</td>\n",
       "      <td>0.879782</td>\n",
       "      <td>1.000000</td>\n",
       "      <td>0.914627</td>\n",
       "      <td>0.477989</td>\n",
       "      <td>0.326375</td>\n",
       "      <td>...</td>\n",
       "      <td>0.679315</td>\n",
       "      <td>0.299400</td>\n",
       "      <td>0.713638</td>\n",
       "      <td>0.668894</td>\n",
       "      <td>0.442474</td>\n",
       "      <td>0.735011</td>\n",
       "      <td>0.880653</td>\n",
       "      <td>0.856157</td>\n",
       "      <td>0.387143</td>\n",
       "      <td>0.506538</td>\n",
       "    </tr>\n",
       "    <tr>\n",
       "      <th>mean concave points</th>\n",
       "      <td>0.823662</td>\n",
       "      <td>0.292473</td>\n",
       "      <td>0.850247</td>\n",
       "      <td>0.823160</td>\n",
       "      <td>0.540170</td>\n",
       "      <td>0.832933</td>\n",
       "      <td>0.914627</td>\n",
       "      <td>1.000000</td>\n",
       "      <td>0.443281</td>\n",
       "      <td>0.143624</td>\n",
       "      <td>...</td>\n",
       "      <td>0.829558</td>\n",
       "      <td>0.293345</td>\n",
       "      <td>0.852132</td>\n",
       "      <td>0.808452</td>\n",
       "      <td>0.447236</td>\n",
       "      <td>0.654748</td>\n",
       "      <td>0.739295</td>\n",
       "      <td>0.906312</td>\n",
       "      <td>0.358796</td>\n",
       "      <td>0.354534</td>\n",
       "    </tr>\n",
       "    <tr>\n",
       "      <th>mean symmetry</th>\n",
       "      <td>0.130193</td>\n",
       "      <td>0.064376</td>\n",
       "      <td>0.161548</td>\n",
       "      <td>0.131129</td>\n",
       "      <td>0.536098</td>\n",
       "      <td>0.583548</td>\n",
       "      <td>0.477989</td>\n",
       "      <td>0.443281</td>\n",
       "      <td>1.000000</td>\n",
       "      <td>0.460547</td>\n",
       "      <td>...</td>\n",
       "      <td>0.161466</td>\n",
       "      <td>0.075811</td>\n",
       "      <td>0.188754</td>\n",
       "      <td>0.152443</td>\n",
       "      <td>0.410912</td>\n",
       "      <td>0.454890</td>\n",
       "      <td>0.412594</td>\n",
       "      <td>0.418307</td>\n",
       "      <td>0.688489</td>\n",
       "      <td>0.429271</td>\n",
       "    </tr>\n",
       "    <tr>\n",
       "      <th>mean fractal dimension</th>\n",
       "      <td>-0.330992</td>\n",
       "      <td>-0.071964</td>\n",
       "      <td>-0.286012</td>\n",
       "      <td>-0.302548</td>\n",
       "      <td>0.569111</td>\n",
       "      <td>0.540311</td>\n",
       "      <td>0.326375</td>\n",
       "      <td>0.143624</td>\n",
       "      <td>0.460547</td>\n",
       "      <td>1.000000</td>\n",
       "      <td>...</td>\n",
       "      <td>-0.276891</td>\n",
       "      <td>-0.037746</td>\n",
       "      <td>-0.237261</td>\n",
       "      <td>-0.254045</td>\n",
       "      <td>0.517432</td>\n",
       "      <td>0.451716</td>\n",
       "      <td>0.352917</td>\n",
       "      <td>0.168906</td>\n",
       "      <td>0.329159</td>\n",
       "      <td>0.771562</td>\n",
       "    </tr>\n",
       "    <tr>\n",
       "      <th>radius error</th>\n",
       "      <td>0.687831</td>\n",
       "      <td>0.274250</td>\n",
       "      <td>0.699386</td>\n",
       "      <td>0.741652</td>\n",
       "      <td>0.291174</td>\n",
       "      <td>0.490794</td>\n",
       "      <td>0.630715</td>\n",
       "      <td>0.698765</td>\n",
       "      <td>0.272369</td>\n",
       "      <td>-0.037154</td>\n",
       "      <td>...</td>\n",
       "      <td>0.713420</td>\n",
       "      <td>0.186120</td>\n",
       "      <td>0.717690</td>\n",
       "      <td>0.749135</td>\n",
       "      <td>0.125882</td>\n",
       "      <td>0.267638</td>\n",
       "      <td>0.366849</td>\n",
       "      <td>0.517894</td>\n",
       "      <td>0.071529</td>\n",
       "      <td>0.023822</td>\n",
       "    </tr>\n",
       "    <tr>\n",
       "      <th>texture error</th>\n",
       "      <td>-0.133134</td>\n",
       "      <td>0.391945</td>\n",
       "      <td>-0.122660</td>\n",
       "      <td>-0.095706</td>\n",
       "      <td>0.078002</td>\n",
       "      <td>0.037658</td>\n",
       "      <td>0.083288</td>\n",
       "      <td>0.016334</td>\n",
       "      <td>0.116087</td>\n",
       "      <td>0.184162</td>\n",
       "      <td>...</td>\n",
       "      <td>-0.139056</td>\n",
       "      <td>0.410729</td>\n",
       "      <td>-0.132603</td>\n",
       "      <td>-0.103099</td>\n",
       "      <td>-0.057574</td>\n",
       "      <td>-0.093201</td>\n",
       "      <td>-0.057449</td>\n",
       "      <td>-0.129857</td>\n",
       "      <td>-0.141848</td>\n",
       "      <td>-0.030074</td>\n",
       "    </tr>\n",
       "    <tr>\n",
       "      <th>perimeter error</th>\n",
       "      <td>0.684132</td>\n",
       "      <td>0.279962</td>\n",
       "      <td>0.700160</td>\n",
       "      <td>0.739008</td>\n",
       "      <td>0.281436</td>\n",
       "      <td>0.523968</td>\n",
       "      <td>0.648869</td>\n",
       "      <td>0.706920</td>\n",
       "      <td>0.267812</td>\n",
       "      <td>-0.012570</td>\n",
       "      <td>...</td>\n",
       "      <td>0.699586</td>\n",
       "      <td>0.191149</td>\n",
       "      <td>0.719483</td>\n",
       "      <td>0.734447</td>\n",
       "      <td>0.117321</td>\n",
       "      <td>0.308378</td>\n",
       "      <td>0.393967</td>\n",
       "      <td>0.538372</td>\n",
       "      <td>0.074094</td>\n",
       "      <td>0.048084</td>\n",
       "    </tr>\n",
       "    <tr>\n",
       "      <th>area error</th>\n",
       "      <td>0.736629</td>\n",
       "      <td>0.258296</td>\n",
       "      <td>0.745369</td>\n",
       "      <td>0.802692</td>\n",
       "      <td>0.237709</td>\n",
       "      <td>0.448349</td>\n",
       "      <td>0.611714</td>\n",
       "      <td>0.684406</td>\n",
       "      <td>0.195215</td>\n",
       "      <td>-0.116853</td>\n",
       "      <td>...</td>\n",
       "      <td>0.749034</td>\n",
       "      <td>0.187092</td>\n",
       "      <td>0.753241</td>\n",
       "      <td>0.803830</td>\n",
       "      <td>0.112663</td>\n",
       "      <td>0.263258</td>\n",
       "      <td>0.368037</td>\n",
       "      <td>0.519300</td>\n",
       "      <td>0.047289</td>\n",
       "      <td>-0.003095</td>\n",
       "    </tr>\n",
       "    <tr>\n",
       "      <th>smoothness error</th>\n",
       "      <td>-0.233293</td>\n",
       "      <td>0.005236</td>\n",
       "      <td>-0.212220</td>\n",
       "      <td>-0.173831</td>\n",
       "      <td>0.361200</td>\n",
       "      <td>0.164984</td>\n",
       "      <td>0.113273</td>\n",
       "      <td>0.039861</td>\n",
       "      <td>0.239717</td>\n",
       "      <td>0.444301</td>\n",
       "      <td>...</td>\n",
       "      <td>-0.243564</td>\n",
       "      <td>-0.075974</td>\n",
       "      <td>-0.228997</td>\n",
       "      <td>-0.191134</td>\n",
       "      <td>0.339360</td>\n",
       "      <td>-0.038623</td>\n",
       "      <td>-0.044535</td>\n",
       "      <td>-0.099332</td>\n",
       "      <td>-0.087002</td>\n",
       "      <td>0.128695</td>\n",
       "    </tr>\n",
       "    <tr>\n",
       "      <th>compactness error</th>\n",
       "      <td>0.174817</td>\n",
       "      <td>0.187780</td>\n",
       "      <td>0.216026</td>\n",
       "      <td>0.182002</td>\n",
       "      <td>0.296529</td>\n",
       "      <td>0.726166</td>\n",
       "      <td>0.657862</td>\n",
       "      <td>0.466464</td>\n",
       "      <td>0.421014</td>\n",
       "      <td>0.556838</td>\n",
       "      <td>...</td>\n",
       "      <td>0.173219</td>\n",
       "      <td>0.149377</td>\n",
       "      <td>0.219181</td>\n",
       "      <td>0.169882</td>\n",
       "      <td>0.234201</td>\n",
       "      <td>0.670588</td>\n",
       "      <td>0.641070</td>\n",
       "      <td>0.465854</td>\n",
       "      <td>0.286317</td>\n",
       "      <td>0.596930</td>\n",
       "    </tr>\n",
       "    <tr>\n",
       "      <th>concavity error</th>\n",
       "      <td>0.134351</td>\n",
       "      <td>0.115727</td>\n",
       "      <td>0.164918</td>\n",
       "      <td>0.152064</td>\n",
       "      <td>0.219063</td>\n",
       "      <td>0.534107</td>\n",
       "      <td>0.667334</td>\n",
       "      <td>0.386527</td>\n",
       "      <td>0.326318</td>\n",
       "      <td>0.469985</td>\n",
       "      <td>...</td>\n",
       "      <td>0.130449</td>\n",
       "      <td>0.081833</td>\n",
       "      <td>0.161620</td>\n",
       "      <td>0.137777</td>\n",
       "      <td>0.154529</td>\n",
       "      <td>0.444276</td>\n",
       "      <td>0.650462</td>\n",
       "      <td>0.395539</td>\n",
       "      <td>0.179098</td>\n",
       "      <td>0.440103</td>\n",
       "    </tr>\n",
       "    <tr>\n",
       "      <th>concave points error</th>\n",
       "      <td>0.337090</td>\n",
       "      <td>0.138461</td>\n",
       "      <td>0.367159</td>\n",
       "      <td>0.334977</td>\n",
       "      <td>0.371415</td>\n",
       "      <td>0.641033</td>\n",
       "      <td>0.689313</td>\n",
       "      <td>0.600496</td>\n",
       "      <td>0.408775</td>\n",
       "      <td>0.357160</td>\n",
       "      <td>...</td>\n",
       "      <td>0.326320</td>\n",
       "      <td>0.068094</td>\n",
       "      <td>0.359068</td>\n",
       "      <td>0.313778</td>\n",
       "      <td>0.226148</td>\n",
       "      <td>0.451559</td>\n",
       "      <td>0.570797</td>\n",
       "      <td>0.595372</td>\n",
       "      <td>0.155259</td>\n",
       "      <td>0.329664</td>\n",
       "    </tr>\n",
       "    <tr>\n",
       "      <th>symmetry error</th>\n",
       "      <td>-0.131112</td>\n",
       "      <td>-0.011331</td>\n",
       "      <td>-0.113737</td>\n",
       "      <td>-0.097331</td>\n",
       "      <td>0.190091</td>\n",
       "      <td>0.188297</td>\n",
       "      <td>0.148760</td>\n",
       "      <td>0.066280</td>\n",
       "      <td>0.443154</td>\n",
       "      <td>0.333950</td>\n",
       "      <td>...</td>\n",
       "      <td>-0.152792</td>\n",
       "      <td>-0.103741</td>\n",
       "      <td>-0.136766</td>\n",
       "      <td>-0.134139</td>\n",
       "      <td>-0.020608</td>\n",
       "      <td>0.042031</td>\n",
       "      <td>0.018609</td>\n",
       "      <td>-0.051812</td>\n",
       "      <td>0.388952</td>\n",
       "      <td>0.084569</td>\n",
       "    </tr>\n",
       "    <tr>\n",
       "      <th>fractal dimension error</th>\n",
       "      <td>-0.050336</td>\n",
       "      <td>0.045517</td>\n",
       "      <td>-0.016077</td>\n",
       "      <td>-0.029255</td>\n",
       "      <td>0.277729</td>\n",
       "      <td>0.506778</td>\n",
       "      <td>0.471887</td>\n",
       "      <td>0.257497</td>\n",
       "      <td>0.350194</td>\n",
       "      <td>0.687009</td>\n",
       "      <td>...</td>\n",
       "      <td>-0.046255</td>\n",
       "      <td>0.002044</td>\n",
       "      <td>-0.016716</td>\n",
       "      <td>-0.031791</td>\n",
       "      <td>0.183212</td>\n",
       "      <td>0.391150</td>\n",
       "      <td>0.408069</td>\n",
       "      <td>0.220364</td>\n",
       "      <td>0.135637</td>\n",
       "      <td>0.597808</td>\n",
       "    </tr>\n",
       "    <tr>\n",
       "      <th>worst radius</th>\n",
       "      <td>0.969537</td>\n",
       "      <td>0.349677</td>\n",
       "      <td>0.969520</td>\n",
       "      <td>0.961717</td>\n",
       "      <td>0.202340</td>\n",
       "      <td>0.537510</td>\n",
       "      <td>0.679315</td>\n",
       "      <td>0.829558</td>\n",
       "      <td>0.161466</td>\n",
       "      <td>-0.276891</td>\n",
       "      <td>...</td>\n",
       "      <td>1.000000</td>\n",
       "      <td>0.352365</td>\n",
       "      <td>0.994696</td>\n",
       "      <td>0.983841</td>\n",
       "      <td>0.210176</td>\n",
       "      <td>0.465978</td>\n",
       "      <td>0.559063</td>\n",
       "      <td>0.779544</td>\n",
       "      <td>0.227048</td>\n",
       "      <td>0.078569</td>\n",
       "    </tr>\n",
       "    <tr>\n",
       "      <th>worst texture</th>\n",
       "      <td>0.281647</td>\n",
       "      <td>0.908182</td>\n",
       "      <td>0.288406</td>\n",
       "      <td>0.276386</td>\n",
       "      <td>0.039730</td>\n",
       "      <td>0.257121</td>\n",
       "      <td>0.299400</td>\n",
       "      <td>0.293345</td>\n",
       "      <td>0.075811</td>\n",
       "      <td>-0.037746</td>\n",
       "      <td>...</td>\n",
       "      <td>0.352365</td>\n",
       "      <td>1.000000</td>\n",
       "      <td>0.356532</td>\n",
       "      <td>0.344028</td>\n",
       "      <td>0.248467</td>\n",
       "      <td>0.367797</td>\n",
       "      <td>0.375064</td>\n",
       "      <td>0.360558</td>\n",
       "      <td>0.226122</td>\n",
       "      <td>0.228625</td>\n",
       "    </tr>\n",
       "    <tr>\n",
       "      <th>worst perimeter</th>\n",
       "      <td>0.966220</td>\n",
       "      <td>0.354636</td>\n",
       "      <td>0.970507</td>\n",
       "      <td>0.959382</td>\n",
       "      <td>0.222953</td>\n",
       "      <td>0.583536</td>\n",
       "      <td>0.713638</td>\n",
       "      <td>0.852132</td>\n",
       "      <td>0.188754</td>\n",
       "      <td>-0.237261</td>\n",
       "      <td>...</td>\n",
       "      <td>0.994696</td>\n",
       "      <td>0.356532</td>\n",
       "      <td>1.000000</td>\n",
       "      <td>0.978816</td>\n",
       "      <td>0.228374</td>\n",
       "      <td>0.508865</td>\n",
       "      <td>0.593674</td>\n",
       "      <td>0.806077</td>\n",
       "      <td>0.246402</td>\n",
       "      <td>0.113605</td>\n",
       "    </tr>\n",
       "    <tr>\n",
       "      <th>worst area</th>\n",
       "      <td>0.941185</td>\n",
       "      <td>0.348051</td>\n",
       "      <td>0.941920</td>\n",
       "      <td>0.958527</td>\n",
       "      <td>0.196480</td>\n",
       "      <td>0.511644</td>\n",
       "      <td>0.668894</td>\n",
       "      <td>0.808452</td>\n",
       "      <td>0.152443</td>\n",
       "      <td>-0.254045</td>\n",
       "      <td>...</td>\n",
       "      <td>0.983841</td>\n",
       "      <td>0.344028</td>\n",
       "      <td>0.978816</td>\n",
       "      <td>1.000000</td>\n",
       "      <td>0.202540</td>\n",
       "      <td>0.428653</td>\n",
       "      <td>0.530511</td>\n",
       "      <td>0.738731</td>\n",
       "      <td>0.189616</td>\n",
       "      <td>0.065143</td>\n",
       "    </tr>\n",
       "    <tr>\n",
       "      <th>worst smoothness</th>\n",
       "      <td>0.116935</td>\n",
       "      <td>0.093454</td>\n",
       "      <td>0.145972</td>\n",
       "      <td>0.120212</td>\n",
       "      <td>0.800811</td>\n",
       "      <td>0.577326</td>\n",
       "      <td>0.442474</td>\n",
       "      <td>0.447236</td>\n",
       "      <td>0.410912</td>\n",
       "      <td>0.517432</td>\n",
       "      <td>...</td>\n",
       "      <td>0.210176</td>\n",
       "      <td>0.248467</td>\n",
       "      <td>0.228374</td>\n",
       "      <td>0.202540</td>\n",
       "      <td>1.000000</td>\n",
       "      <td>0.581554</td>\n",
       "      <td>0.521912</td>\n",
       "      <td>0.550334</td>\n",
       "      <td>0.478908</td>\n",
       "      <td>0.629921</td>\n",
       "    </tr>\n",
       "    <tr>\n",
       "      <th>worst compactness</th>\n",
       "      <td>0.403744</td>\n",
       "      <td>0.273151</td>\n",
       "      <td>0.442236</td>\n",
       "      <td>0.380076</td>\n",
       "      <td>0.454826</td>\n",
       "      <td>0.865480</td>\n",
       "      <td>0.735011</td>\n",
       "      <td>0.654748</td>\n",
       "      <td>0.454890</td>\n",
       "      <td>0.451716</td>\n",
       "      <td>...</td>\n",
       "      <td>0.465978</td>\n",
       "      <td>0.367797</td>\n",
       "      <td>0.508865</td>\n",
       "      <td>0.428653</td>\n",
       "      <td>0.581554</td>\n",
       "      <td>1.000000</td>\n",
       "      <td>0.880455</td>\n",
       "      <td>0.799318</td>\n",
       "      <td>0.615249</td>\n",
       "      <td>0.810015</td>\n",
       "    </tr>\n",
       "    <tr>\n",
       "      <th>worst concavity</th>\n",
       "      <td>0.511501</td>\n",
       "      <td>0.298302</td>\n",
       "      <td>0.545424</td>\n",
       "      <td>0.498019</td>\n",
       "      <td>0.418035</td>\n",
       "      <td>0.818573</td>\n",
       "      <td>0.880653</td>\n",
       "      <td>0.739295</td>\n",
       "      <td>0.412594</td>\n",
       "      <td>0.352917</td>\n",
       "      <td>...</td>\n",
       "      <td>0.559063</td>\n",
       "      <td>0.375064</td>\n",
       "      <td>0.593674</td>\n",
       "      <td>0.530511</td>\n",
       "      <td>0.521912</td>\n",
       "      <td>0.880455</td>\n",
       "      <td>1.000000</td>\n",
       "      <td>0.853694</td>\n",
       "      <td>0.519811</td>\n",
       "      <td>0.685228</td>\n",
       "    </tr>\n",
       "    <tr>\n",
       "      <th>worst concave points</th>\n",
       "      <td>0.736397</td>\n",
       "      <td>0.289088</td>\n",
       "      <td>0.762361</td>\n",
       "      <td>0.712975</td>\n",
       "      <td>0.491856</td>\n",
       "      <td>0.825494</td>\n",
       "      <td>0.856157</td>\n",
       "      <td>0.906312</td>\n",
       "      <td>0.418307</td>\n",
       "      <td>0.168906</td>\n",
       "      <td>...</td>\n",
       "      <td>0.779544</td>\n",
       "      <td>0.360558</td>\n",
       "      <td>0.806077</td>\n",
       "      <td>0.738731</td>\n",
       "      <td>0.550334</td>\n",
       "      <td>0.799318</td>\n",
       "      <td>0.853694</td>\n",
       "      <td>1.000000</td>\n",
       "      <td>0.500586</td>\n",
       "      <td>0.508199</td>\n",
       "    </tr>\n",
       "    <tr>\n",
       "      <th>worst symmetry</th>\n",
       "      <td>0.149669</td>\n",
       "      <td>0.098803</td>\n",
       "      <td>0.171204</td>\n",
       "      <td>0.126243</td>\n",
       "      <td>0.374436</td>\n",
       "      <td>0.501795</td>\n",
       "      <td>0.387143</td>\n",
       "      <td>0.358796</td>\n",
       "      <td>0.688489</td>\n",
       "      <td>0.329159</td>\n",
       "      <td>...</td>\n",
       "      <td>0.227048</td>\n",
       "      <td>0.226122</td>\n",
       "      <td>0.246402</td>\n",
       "      <td>0.189616</td>\n",
       "      <td>0.478908</td>\n",
       "      <td>0.615249</td>\n",
       "      <td>0.519811</td>\n",
       "      <td>0.500586</td>\n",
       "      <td>1.000000</td>\n",
       "      <td>0.542867</td>\n",
       "    </tr>\n",
       "    <tr>\n",
       "      <th>worst fractal dimension</th>\n",
       "      <td>-0.004484</td>\n",
       "      <td>0.115940</td>\n",
       "      <td>0.035518</td>\n",
       "      <td>-0.008425</td>\n",
       "      <td>0.487641</td>\n",
       "      <td>0.685937</td>\n",
       "      <td>0.506538</td>\n",
       "      <td>0.354534</td>\n",
       "      <td>0.429271</td>\n",
       "      <td>0.771562</td>\n",
       "      <td>...</td>\n",
       "      <td>0.078569</td>\n",
       "      <td>0.228625</td>\n",
       "      <td>0.113605</td>\n",
       "      <td>0.065143</td>\n",
       "      <td>0.629921</td>\n",
       "      <td>0.810015</td>\n",
       "      <td>0.685228</td>\n",
       "      <td>0.508199</td>\n",
       "      <td>0.542867</td>\n",
       "      <td>1.000000</td>\n",
       "    </tr>\n",
       "  </tbody>\n",
       "</table>\n",
       "<p>30 rows × 30 columns</p>\n",
       "</div>"
      ],
      "text/plain": [
       "                         mean radius  mean texture  mean perimeter  mean area  \\\n",
       "mean radius                 1.000000      0.316083        0.998185   0.987094   \n",
       "mean texture                0.316083      1.000000        0.322445   0.318626   \n",
       "mean perimeter              0.998185      0.322445        1.000000   0.986692   \n",
       "mean area                   0.987094      0.318626        0.986692   1.000000   \n",
       "mean smoothness             0.164226     -0.023107        0.197597   0.170459   \n",
       "mean compactness            0.508985      0.241977        0.555299   0.500276   \n",
       "mean concavity              0.669625      0.298975        0.705993   0.679675   \n",
       "mean concave points         0.823662      0.292473        0.850247   0.823160   \n",
       "mean symmetry               0.130193      0.064376        0.161548   0.131129   \n",
       "mean fractal dimension     -0.330992     -0.071964       -0.286012  -0.302548   \n",
       "radius error                0.687831      0.274250        0.699386   0.741652   \n",
       "texture error              -0.133134      0.391945       -0.122660  -0.095706   \n",
       "perimeter error             0.684132      0.279962        0.700160   0.739008   \n",
       "area error                  0.736629      0.258296        0.745369   0.802692   \n",
       "smoothness error           -0.233293      0.005236       -0.212220  -0.173831   \n",
       "compactness error           0.174817      0.187780        0.216026   0.182002   \n",
       "concavity error             0.134351      0.115727        0.164918   0.152064   \n",
       "concave points error        0.337090      0.138461        0.367159   0.334977   \n",
       "symmetry error             -0.131112     -0.011331       -0.113737  -0.097331   \n",
       "fractal dimension error    -0.050336      0.045517       -0.016077  -0.029255   \n",
       "worst radius                0.969537      0.349677        0.969520   0.961717   \n",
       "worst texture               0.281647      0.908182        0.288406   0.276386   \n",
       "worst perimeter             0.966220      0.354636        0.970507   0.959382   \n",
       "worst area                  0.941185      0.348051        0.941920   0.958527   \n",
       "worst smoothness            0.116935      0.093454        0.145972   0.120212   \n",
       "worst compactness           0.403744      0.273151        0.442236   0.380076   \n",
       "worst concavity             0.511501      0.298302        0.545424   0.498019   \n",
       "worst concave points        0.736397      0.289088        0.762361   0.712975   \n",
       "worst symmetry              0.149669      0.098803        0.171204   0.126243   \n",
       "worst fractal dimension    -0.004484      0.115940        0.035518  -0.008425   \n",
       "\n",
       "                         mean smoothness  mean compactness  mean concavity  \\\n",
       "mean radius                     0.164226          0.508985        0.669625   \n",
       "mean texture                   -0.023107          0.241977        0.298975   \n",
       "mean perimeter                  0.197597          0.555299        0.705993   \n",
       "mean area                       0.170459          0.500276        0.679675   \n",
       "mean smoothness                 1.000000          0.643792        0.503715   \n",
       "mean compactness                0.643792          1.000000        0.879782   \n",
       "mean concavity                  0.503715          0.879782        1.000000   \n",
       "mean concave points             0.540170          0.832933        0.914627   \n",
       "mean symmetry                   0.536098          0.583548        0.477989   \n",
       "mean fractal dimension          0.569111          0.540311        0.326375   \n",
       "radius error                    0.291174          0.490794        0.630715   \n",
       "texture error                   0.078002          0.037658        0.083288   \n",
       "perimeter error                 0.281436          0.523968        0.648869   \n",
       "area error                      0.237709          0.448349        0.611714   \n",
       "smoothness error                0.361200          0.164984        0.113273   \n",
       "compactness error               0.296529          0.726166        0.657862   \n",
       "concavity error                 0.219063          0.534107        0.667334   \n",
       "concave points error            0.371415          0.641033        0.689313   \n",
       "symmetry error                  0.190091          0.188297        0.148760   \n",
       "fractal dimension error         0.277729          0.506778        0.471887   \n",
       "worst radius                    0.202340          0.537510        0.679315   \n",
       "worst texture                   0.039730          0.257121        0.299400   \n",
       "worst perimeter                 0.222953          0.583536        0.713638   \n",
       "worst area                      0.196480          0.511644        0.668894   \n",
       "worst smoothness                0.800811          0.577326        0.442474   \n",
       "worst compactness               0.454826          0.865480        0.735011   \n",
       "worst concavity                 0.418035          0.818573        0.880653   \n",
       "worst concave points            0.491856          0.825494        0.856157   \n",
       "worst symmetry                  0.374436          0.501795        0.387143   \n",
       "worst fractal dimension         0.487641          0.685937        0.506538   \n",
       "\n",
       "                         mean concave points  mean symmetry  \\\n",
       "mean radius                         0.823662       0.130193   \n",
       "mean texture                        0.292473       0.064376   \n",
       "mean perimeter                      0.850247       0.161548   \n",
       "mean area                           0.823160       0.131129   \n",
       "mean smoothness                     0.540170       0.536098   \n",
       "mean compactness                    0.832933       0.583548   \n",
       "mean concavity                      0.914627       0.477989   \n",
       "mean concave points                 1.000000       0.443281   \n",
       "mean symmetry                       0.443281       1.000000   \n",
       "mean fractal dimension              0.143624       0.460547   \n",
       "radius error                        0.698765       0.272369   \n",
       "texture error                       0.016334       0.116087   \n",
       "perimeter error                     0.706920       0.267812   \n",
       "area error                          0.684406       0.195215   \n",
       "smoothness error                    0.039861       0.239717   \n",
       "compactness error                   0.466464       0.421014   \n",
       "concavity error                     0.386527       0.326318   \n",
       "concave points error                0.600496       0.408775   \n",
       "symmetry error                      0.066280       0.443154   \n",
       "fractal dimension error             0.257497       0.350194   \n",
       "worst radius                        0.829558       0.161466   \n",
       "worst texture                       0.293345       0.075811   \n",
       "worst perimeter                     0.852132       0.188754   \n",
       "worst area                          0.808452       0.152443   \n",
       "worst smoothness                    0.447236       0.410912   \n",
       "worst compactness                   0.654748       0.454890   \n",
       "worst concavity                     0.739295       0.412594   \n",
       "worst concave points                0.906312       0.418307   \n",
       "worst symmetry                      0.358796       0.688489   \n",
       "worst fractal dimension             0.354534       0.429271   \n",
       "\n",
       "                         mean fractal dimension  ...  worst radius  \\\n",
       "mean radius                           -0.330992  ...      0.969537   \n",
       "mean texture                          -0.071964  ...      0.349677   \n",
       "mean perimeter                        -0.286012  ...      0.969520   \n",
       "mean area                             -0.302548  ...      0.961717   \n",
       "mean smoothness                        0.569111  ...      0.202340   \n",
       "mean compactness                       0.540311  ...      0.537510   \n",
       "mean concavity                         0.326375  ...      0.679315   \n",
       "mean concave points                    0.143624  ...      0.829558   \n",
       "mean symmetry                          0.460547  ...      0.161466   \n",
       "mean fractal dimension                 1.000000  ...     -0.276891   \n",
       "radius error                          -0.037154  ...      0.713420   \n",
       "texture error                          0.184162  ...     -0.139056   \n",
       "perimeter error                       -0.012570  ...      0.699586   \n",
       "area error                            -0.116853  ...      0.749034   \n",
       "smoothness error                       0.444301  ...     -0.243564   \n",
       "compactness error                      0.556838  ...      0.173219   \n",
       "concavity error                        0.469985  ...      0.130449   \n",
       "concave points error                   0.357160  ...      0.326320   \n",
       "symmetry error                         0.333950  ...     -0.152792   \n",
       "fractal dimension error                0.687009  ...     -0.046255   \n",
       "worst radius                          -0.276891  ...      1.000000   \n",
       "worst texture                         -0.037746  ...      0.352365   \n",
       "worst perimeter                       -0.237261  ...      0.994696   \n",
       "worst area                            -0.254045  ...      0.983841   \n",
       "worst smoothness                       0.517432  ...      0.210176   \n",
       "worst compactness                      0.451716  ...      0.465978   \n",
       "worst concavity                        0.352917  ...      0.559063   \n",
       "worst concave points                   0.168906  ...      0.779544   \n",
       "worst symmetry                         0.329159  ...      0.227048   \n",
       "worst fractal dimension                0.771562  ...      0.078569   \n",
       "\n",
       "                         worst texture  worst perimeter  worst area  \\\n",
       "mean radius                   0.281647         0.966220    0.941185   \n",
       "mean texture                  0.908182         0.354636    0.348051   \n",
       "mean perimeter                0.288406         0.970507    0.941920   \n",
       "mean area                     0.276386         0.959382    0.958527   \n",
       "mean smoothness               0.039730         0.222953    0.196480   \n",
       "mean compactness              0.257121         0.583536    0.511644   \n",
       "mean concavity                0.299400         0.713638    0.668894   \n",
       "mean concave points           0.293345         0.852132    0.808452   \n",
       "mean symmetry                 0.075811         0.188754    0.152443   \n",
       "mean fractal dimension       -0.037746        -0.237261   -0.254045   \n",
       "radius error                  0.186120         0.717690    0.749135   \n",
       "texture error                 0.410729        -0.132603   -0.103099   \n",
       "perimeter error               0.191149         0.719483    0.734447   \n",
       "area error                    0.187092         0.753241    0.803830   \n",
       "smoothness error             -0.075974        -0.228997   -0.191134   \n",
       "compactness error             0.149377         0.219181    0.169882   \n",
       "concavity error               0.081833         0.161620    0.137777   \n",
       "concave points error          0.068094         0.359068    0.313778   \n",
       "symmetry error               -0.103741        -0.136766   -0.134139   \n",
       "fractal dimension error       0.002044        -0.016716   -0.031791   \n",
       "worst radius                  0.352365         0.994696    0.983841   \n",
       "worst texture                 1.000000         0.356532    0.344028   \n",
       "worst perimeter               0.356532         1.000000    0.978816   \n",
       "worst area                    0.344028         0.978816    1.000000   \n",
       "worst smoothness              0.248467         0.228374    0.202540   \n",
       "worst compactness             0.367797         0.508865    0.428653   \n",
       "worst concavity               0.375064         0.593674    0.530511   \n",
       "worst concave points          0.360558         0.806077    0.738731   \n",
       "worst symmetry                0.226122         0.246402    0.189616   \n",
       "worst fractal dimension       0.228625         0.113605    0.065143   \n",
       "\n",
       "                         worst smoothness  worst compactness  worst concavity  \\\n",
       "mean radius                      0.116935           0.403744         0.511501   \n",
       "mean texture                     0.093454           0.273151         0.298302   \n",
       "mean perimeter                   0.145972           0.442236         0.545424   \n",
       "mean area                        0.120212           0.380076         0.498019   \n",
       "mean smoothness                  0.800811           0.454826         0.418035   \n",
       "mean compactness                 0.577326           0.865480         0.818573   \n",
       "mean concavity                   0.442474           0.735011         0.880653   \n",
       "mean concave points              0.447236           0.654748         0.739295   \n",
       "mean symmetry                    0.410912           0.454890         0.412594   \n",
       "mean fractal dimension           0.517432           0.451716         0.352917   \n",
       "radius error                     0.125882           0.267638         0.366849   \n",
       "texture error                   -0.057574          -0.093201        -0.057449   \n",
       "perimeter error                  0.117321           0.308378         0.393967   \n",
       "area error                       0.112663           0.263258         0.368037   \n",
       "smoothness error                 0.339360          -0.038623        -0.044535   \n",
       "compactness error                0.234201           0.670588         0.641070   \n",
       "concavity error                  0.154529           0.444276         0.650462   \n",
       "concave points error             0.226148           0.451559         0.570797   \n",
       "symmetry error                  -0.020608           0.042031         0.018609   \n",
       "fractal dimension error          0.183212           0.391150         0.408069   \n",
       "worst radius                     0.210176           0.465978         0.559063   \n",
       "worst texture                    0.248467           0.367797         0.375064   \n",
       "worst perimeter                  0.228374           0.508865         0.593674   \n",
       "worst area                       0.202540           0.428653         0.530511   \n",
       "worst smoothness                 1.000000           0.581554         0.521912   \n",
       "worst compactness                0.581554           1.000000         0.880455   \n",
       "worst concavity                  0.521912           0.880455         1.000000   \n",
       "worst concave points             0.550334           0.799318         0.853694   \n",
       "worst symmetry                   0.478908           0.615249         0.519811   \n",
       "worst fractal dimension          0.629921           0.810015         0.685228   \n",
       "\n",
       "                         worst concave points  worst symmetry  \\\n",
       "mean radius                          0.736397        0.149669   \n",
       "mean texture                         0.289088        0.098803   \n",
       "mean perimeter                       0.762361        0.171204   \n",
       "mean area                            0.712975        0.126243   \n",
       "mean smoothness                      0.491856        0.374436   \n",
       "mean compactness                     0.825494        0.501795   \n",
       "mean concavity                       0.856157        0.387143   \n",
       "mean concave points                  0.906312        0.358796   \n",
       "mean symmetry                        0.418307        0.688489   \n",
       "mean fractal dimension               0.168906        0.329159   \n",
       "radius error                         0.517894        0.071529   \n",
       "texture error                       -0.129857       -0.141848   \n",
       "perimeter error                      0.538372        0.074094   \n",
       "area error                           0.519300        0.047289   \n",
       "smoothness error                    -0.099332       -0.087002   \n",
       "compactness error                    0.465854        0.286317   \n",
       "concavity error                      0.395539        0.179098   \n",
       "concave points error                 0.595372        0.155259   \n",
       "symmetry error                      -0.051812        0.388952   \n",
       "fractal dimension error              0.220364        0.135637   \n",
       "worst radius                         0.779544        0.227048   \n",
       "worst texture                        0.360558        0.226122   \n",
       "worst perimeter                      0.806077        0.246402   \n",
       "worst area                           0.738731        0.189616   \n",
       "worst smoothness                     0.550334        0.478908   \n",
       "worst compactness                    0.799318        0.615249   \n",
       "worst concavity                      0.853694        0.519811   \n",
       "worst concave points                 1.000000        0.500586   \n",
       "worst symmetry                       0.500586        1.000000   \n",
       "worst fractal dimension              0.508199        0.542867   \n",
       "\n",
       "                         worst fractal dimension  \n",
       "mean radius                            -0.004484  \n",
       "mean texture                            0.115940  \n",
       "mean perimeter                          0.035518  \n",
       "mean area                              -0.008425  \n",
       "mean smoothness                         0.487641  \n",
       "mean compactness                        0.685937  \n",
       "mean concavity                          0.506538  \n",
       "mean concave points                     0.354534  \n",
       "mean symmetry                           0.429271  \n",
       "mean fractal dimension                  0.771562  \n",
       "radius error                            0.023822  \n",
       "texture error                          -0.030074  \n",
       "perimeter error                         0.048084  \n",
       "area error                             -0.003095  \n",
       "smoothness error                        0.128695  \n",
       "compactness error                       0.596930  \n",
       "concavity error                         0.440103  \n",
       "concave points error                    0.329664  \n",
       "symmetry error                          0.084569  \n",
       "fractal dimension error                 0.597808  \n",
       "worst radius                            0.078569  \n",
       "worst texture                           0.228625  \n",
       "worst perimeter                         0.113605  \n",
       "worst area                              0.065143  \n",
       "worst smoothness                        0.629921  \n",
       "worst compactness                       0.810015  \n",
       "worst concavity                         0.685228  \n",
       "worst concave points                    0.508199  \n",
       "worst symmetry                          0.542867  \n",
       "worst fractal dimension                 1.000000  \n",
       "\n",
       "[30 rows x 30 columns]"
      ]
     },
     "execution_count": 412,
     "metadata": {},
     "output_type": "execute_result"
    }
   ],
   "source": [
    "X_Train.corr()"
   ]
  },
  {
   "cell_type": "code",
   "execution_count": 413,
   "id": "44a6edc9",
   "metadata": {},
   "outputs": [
    {
     "data": {
      "text/plain": [
       "7"
      ]
     },
     "execution_count": 413,
     "metadata": {},
     "output_type": "execute_result"
    }
   ],
   "source": [
    "# We will create a loop to get a list of columns whose correlation with other columns is greater than .95\n",
    "col_matrics = X_Train.corr()\n",
    "columns = col_matrics.columns\n",
    "col_to_drop = []\n",
    "for i in range(len(columns)):\n",
    "    for j in range(i+1 , len(columns)):\n",
    "        if col_matrics.loc[columns[i], columns[j]]> 0.95:\n",
    "            col_to_drop.append(columns[j])\n",
    "            \n",
    "col_to_drop=set(col_to_drop)\n",
    "len(col_to_drop)\n",
    " "
   ]
  },
  {
   "cell_type": "markdown",
   "id": "dd641e65",
   "metadata": {},
   "source": [
    "## Anova"
   ]
  },
  {
   "cell_type": "markdown",
   "id": "55f67157",
   "metadata": {},
   "source": [
    "We use ANOVA when IV are numerical features and DV is categorical with more than 2 output. This is the best scenario for ANOVA,\n",
    "even though ANOVA can be use in numerica DV as well.\n",
    "\n",
    "We have to calculate F-Ratio "
   ]
  },
  {
   "cell_type": "code",
   "execution_count": 414,
   "id": "5e52fdff",
   "metadata": {},
   "outputs": [
    {
     "name": "stdout",
     "output_type": "stream",
     "text": [
      "Shape of X Train :  (455, 30)\n"
     ]
    }
   ],
   "source": [
    "X = df.iloc[:,:-1]\n",
    "y=df.iloc[:,-1]\n",
    "X_Train,X_Test,y_Train,y_Test = train_test_split(X,y,train_size = 0.8,random_state = 0)\n",
    "print('Shape of X Train : ' , X_Train.shape)"
   ]
  },
  {
   "cell_type": "markdown",
   "id": "b8dc60c0",
   "metadata": {},
   "source": [
    "TO BE CONTINUED....."
   ]
  },
  {
   "cell_type": "markdown",
   "id": "2e18043c",
   "metadata": {},
   "source": [
    "## CHI SQUARE"
   ]
  },
  {
   "cell_type": "markdown",
   "id": "6aed9f80",
   "metadata": {},
   "source": [
    "It is a process to check relation between IV and DV. We use it when both IV and DV are categorical. It will not work on numerical columns. \n",
    "\n",
    "We have to use another dataset - where we have categorical columns."
   ]
  },
  {
   "cell_type": "code",
   "execution_count": 415,
   "id": "5cc3b1b9",
   "metadata": {},
   "outputs": [],
   "source": [
    "import seaborn as sns\n",
    "df_array = list(sns.get_dataset_names())\n",
    "#print(df_array)"
   ]
  },
  {
   "cell_type": "code",
   "execution_count": 416,
   "id": "a2e32877",
   "metadata": {},
   "outputs": [
    {
     "data": {
      "text/html": [
       "<div>\n",
       "<style scoped>\n",
       "    .dataframe tbody tr th:only-of-type {\n",
       "        vertical-align: middle;\n",
       "    }\n",
       "\n",
       "    .dataframe tbody tr th {\n",
       "        vertical-align: top;\n",
       "    }\n",
       "\n",
       "    .dataframe thead th {\n",
       "        text-align: right;\n",
       "    }\n",
       "</style>\n",
       "<table border=\"1\" class=\"dataframe\">\n",
       "  <thead>\n",
       "    <tr style=\"text-align: right;\">\n",
       "      <th></th>\n",
       "      <th>survived</th>\n",
       "      <th>pclass</th>\n",
       "      <th>sex</th>\n",
       "      <th>age</th>\n",
       "      <th>sibsp</th>\n",
       "      <th>parch</th>\n",
       "      <th>fare</th>\n",
       "      <th>embarked</th>\n",
       "      <th>class</th>\n",
       "      <th>who</th>\n",
       "      <th>adult_male</th>\n",
       "      <th>deck</th>\n",
       "      <th>embark_town</th>\n",
       "      <th>alive</th>\n",
       "      <th>alone</th>\n",
       "    </tr>\n",
       "  </thead>\n",
       "  <tbody>\n",
       "    <tr>\n",
       "      <th>0</th>\n",
       "      <td>0</td>\n",
       "      <td>3</td>\n",
       "      <td>male</td>\n",
       "      <td>22.0</td>\n",
       "      <td>1</td>\n",
       "      <td>0</td>\n",
       "      <td>7.2500</td>\n",
       "      <td>S</td>\n",
       "      <td>Third</td>\n",
       "      <td>man</td>\n",
       "      <td>True</td>\n",
       "      <td>NaN</td>\n",
       "      <td>Southampton</td>\n",
       "      <td>no</td>\n",
       "      <td>False</td>\n",
       "    </tr>\n",
       "    <tr>\n",
       "      <th>1</th>\n",
       "      <td>1</td>\n",
       "      <td>1</td>\n",
       "      <td>female</td>\n",
       "      <td>38.0</td>\n",
       "      <td>1</td>\n",
       "      <td>0</td>\n",
       "      <td>71.2833</td>\n",
       "      <td>C</td>\n",
       "      <td>First</td>\n",
       "      <td>woman</td>\n",
       "      <td>False</td>\n",
       "      <td>C</td>\n",
       "      <td>Cherbourg</td>\n",
       "      <td>yes</td>\n",
       "      <td>False</td>\n",
       "    </tr>\n",
       "  </tbody>\n",
       "</table>\n",
       "</div>"
      ],
      "text/plain": [
       "   survived  pclass     sex   age  sibsp  parch     fare embarked  class  \\\n",
       "0         0       3    male  22.0      1      0   7.2500        S  Third   \n",
       "1         1       1  female  38.0      1      0  71.2833        C  First   \n",
       "\n",
       "     who  adult_male deck  embark_town alive  alone  \n",
       "0    man        True  NaN  Southampton    no  False  \n",
       "1  woman       False    C    Cherbourg   yes  False  "
      ]
     },
     "execution_count": 416,
     "metadata": {},
     "output_type": "execute_result"
    }
   ],
   "source": [
    "# We will use titanic dataset and pick only categorical columns\n",
    "df_tit= sns.load_dataset('titanic' )\n",
    "df_tit.head(2)"
   ]
  },
  {
   "cell_type": "code",
   "execution_count": 417,
   "id": "7bec5d77",
   "metadata": {},
   "outputs": [
    {
     "data": {
      "text/html": [
       "<div>\n",
       "<style scoped>\n",
       "    .dataframe tbody tr th:only-of-type {\n",
       "        vertical-align: middle;\n",
       "    }\n",
       "\n",
       "    .dataframe tbody tr th {\n",
       "        vertical-align: top;\n",
       "    }\n",
       "\n",
       "    .dataframe thead th {\n",
       "        text-align: right;\n",
       "    }\n",
       "</style>\n",
       "<table border=\"1\" class=\"dataframe\">\n",
       "  <thead>\n",
       "    <tr style=\"text-align: right;\">\n",
       "      <th></th>\n",
       "      <th>survived</th>\n",
       "      <th>pclass</th>\n",
       "      <th>sex</th>\n",
       "      <th>sibsp</th>\n",
       "      <th>parch</th>\n",
       "      <th>embarked</th>\n",
       "      <th>class</th>\n",
       "      <th>who</th>\n",
       "      <th>adult_male</th>\n",
       "      <th>deck</th>\n",
       "      <th>embark_town</th>\n",
       "      <th>alive</th>\n",
       "      <th>alone</th>\n",
       "    </tr>\n",
       "  </thead>\n",
       "  <tbody>\n",
       "    <tr>\n",
       "      <th>0</th>\n",
       "      <td>0</td>\n",
       "      <td>3</td>\n",
       "      <td>male</td>\n",
       "      <td>1</td>\n",
       "      <td>0</td>\n",
       "      <td>S</td>\n",
       "      <td>Third</td>\n",
       "      <td>man</td>\n",
       "      <td>True</td>\n",
       "      <td>NaN</td>\n",
       "      <td>Southampton</td>\n",
       "      <td>no</td>\n",
       "      <td>False</td>\n",
       "    </tr>\n",
       "    <tr>\n",
       "      <th>1</th>\n",
       "      <td>1</td>\n",
       "      <td>1</td>\n",
       "      <td>female</td>\n",
       "      <td>1</td>\n",
       "      <td>0</td>\n",
       "      <td>C</td>\n",
       "      <td>First</td>\n",
       "      <td>woman</td>\n",
       "      <td>False</td>\n",
       "      <td>C</td>\n",
       "      <td>Cherbourg</td>\n",
       "      <td>yes</td>\n",
       "      <td>False</td>\n",
       "    </tr>\n",
       "    <tr>\n",
       "      <th>2</th>\n",
       "      <td>1</td>\n",
       "      <td>3</td>\n",
       "      <td>female</td>\n",
       "      <td>0</td>\n",
       "      <td>0</td>\n",
       "      <td>S</td>\n",
       "      <td>Third</td>\n",
       "      <td>woman</td>\n",
       "      <td>False</td>\n",
       "      <td>NaN</td>\n",
       "      <td>Southampton</td>\n",
       "      <td>yes</td>\n",
       "      <td>True</td>\n",
       "    </tr>\n",
       "    <tr>\n",
       "      <th>3</th>\n",
       "      <td>1</td>\n",
       "      <td>1</td>\n",
       "      <td>female</td>\n",
       "      <td>1</td>\n",
       "      <td>0</td>\n",
       "      <td>S</td>\n",
       "      <td>First</td>\n",
       "      <td>woman</td>\n",
       "      <td>False</td>\n",
       "      <td>C</td>\n",
       "      <td>Southampton</td>\n",
       "      <td>yes</td>\n",
       "      <td>False</td>\n",
       "    </tr>\n",
       "    <tr>\n",
       "      <th>4</th>\n",
       "      <td>0</td>\n",
       "      <td>3</td>\n",
       "      <td>male</td>\n",
       "      <td>0</td>\n",
       "      <td>0</td>\n",
       "      <td>S</td>\n",
       "      <td>Third</td>\n",
       "      <td>man</td>\n",
       "      <td>True</td>\n",
       "      <td>NaN</td>\n",
       "      <td>Southampton</td>\n",
       "      <td>no</td>\n",
       "      <td>True</td>\n",
       "    </tr>\n",
       "    <tr>\n",
       "      <th>...</th>\n",
       "      <td>...</td>\n",
       "      <td>...</td>\n",
       "      <td>...</td>\n",
       "      <td>...</td>\n",
       "      <td>...</td>\n",
       "      <td>...</td>\n",
       "      <td>...</td>\n",
       "      <td>...</td>\n",
       "      <td>...</td>\n",
       "      <td>...</td>\n",
       "      <td>...</td>\n",
       "      <td>...</td>\n",
       "      <td>...</td>\n",
       "    </tr>\n",
       "    <tr>\n",
       "      <th>886</th>\n",
       "      <td>0</td>\n",
       "      <td>2</td>\n",
       "      <td>male</td>\n",
       "      <td>0</td>\n",
       "      <td>0</td>\n",
       "      <td>S</td>\n",
       "      <td>Second</td>\n",
       "      <td>man</td>\n",
       "      <td>True</td>\n",
       "      <td>NaN</td>\n",
       "      <td>Southampton</td>\n",
       "      <td>no</td>\n",
       "      <td>True</td>\n",
       "    </tr>\n",
       "    <tr>\n",
       "      <th>887</th>\n",
       "      <td>1</td>\n",
       "      <td>1</td>\n",
       "      <td>female</td>\n",
       "      <td>0</td>\n",
       "      <td>0</td>\n",
       "      <td>S</td>\n",
       "      <td>First</td>\n",
       "      <td>woman</td>\n",
       "      <td>False</td>\n",
       "      <td>B</td>\n",
       "      <td>Southampton</td>\n",
       "      <td>yes</td>\n",
       "      <td>True</td>\n",
       "    </tr>\n",
       "    <tr>\n",
       "      <th>888</th>\n",
       "      <td>0</td>\n",
       "      <td>3</td>\n",
       "      <td>female</td>\n",
       "      <td>1</td>\n",
       "      <td>2</td>\n",
       "      <td>S</td>\n",
       "      <td>Third</td>\n",
       "      <td>woman</td>\n",
       "      <td>False</td>\n",
       "      <td>NaN</td>\n",
       "      <td>Southampton</td>\n",
       "      <td>no</td>\n",
       "      <td>False</td>\n",
       "    </tr>\n",
       "    <tr>\n",
       "      <th>889</th>\n",
       "      <td>1</td>\n",
       "      <td>1</td>\n",
       "      <td>male</td>\n",
       "      <td>0</td>\n",
       "      <td>0</td>\n",
       "      <td>C</td>\n",
       "      <td>First</td>\n",
       "      <td>man</td>\n",
       "      <td>True</td>\n",
       "      <td>C</td>\n",
       "      <td>Cherbourg</td>\n",
       "      <td>yes</td>\n",
       "      <td>True</td>\n",
       "    </tr>\n",
       "    <tr>\n",
       "      <th>890</th>\n",
       "      <td>0</td>\n",
       "      <td>3</td>\n",
       "      <td>male</td>\n",
       "      <td>0</td>\n",
       "      <td>0</td>\n",
       "      <td>Q</td>\n",
       "      <td>Third</td>\n",
       "      <td>man</td>\n",
       "      <td>True</td>\n",
       "      <td>NaN</td>\n",
       "      <td>Queenstown</td>\n",
       "      <td>no</td>\n",
       "      <td>True</td>\n",
       "    </tr>\n",
       "  </tbody>\n",
       "</table>\n",
       "<p>891 rows × 13 columns</p>\n",
       "</div>"
      ],
      "text/plain": [
       "     survived  pclass     sex  sibsp  parch embarked   class    who  \\\n",
       "0           0       3    male      1      0        S   Third    man   \n",
       "1           1       1  female      1      0        C   First  woman   \n",
       "2           1       3  female      0      0        S   Third  woman   \n",
       "3           1       1  female      1      0        S   First  woman   \n",
       "4           0       3    male      0      0        S   Third    man   \n",
       "..        ...     ...     ...    ...    ...      ...     ...    ...   \n",
       "886         0       2    male      0      0        S  Second    man   \n",
       "887         1       1  female      0      0        S   First  woman   \n",
       "888         0       3  female      1      2        S   Third  woman   \n",
       "889         1       1    male      0      0        C   First    man   \n",
       "890         0       3    male      0      0        Q   Third    man   \n",
       "\n",
       "     adult_male deck  embark_town alive  alone  \n",
       "0          True  NaN  Southampton    no  False  \n",
       "1         False    C    Cherbourg   yes  False  \n",
       "2         False  NaN  Southampton   yes   True  \n",
       "3         False    C  Southampton   yes  False  \n",
       "4          True  NaN  Southampton    no   True  \n",
       "..          ...  ...          ...   ...    ...  \n",
       "886        True  NaN  Southampton    no   True  \n",
       "887       False    B  Southampton   yes   True  \n",
       "888       False  NaN  Southampton    no  False  \n",
       "889        True    C    Cherbourg   yes   True  \n",
       "890        True  NaN   Queenstown    no   True  \n",
       "\n",
       "[891 rows x 13 columns]"
      ]
     },
     "execution_count": 417,
     "metadata": {},
     "output_type": "execute_result"
    }
   ],
   "source": [
    "df = df_tit.drop(['fare','age'],axis=1)\n",
    "df"
   ]
  },
  {
   "cell_type": "code",
   "execution_count": 418,
   "id": "227d27fa",
   "metadata": {},
   "outputs": [
    {
     "data": {
      "text/html": [
       "<div>\n",
       "<style scoped>\n",
       "    .dataframe tbody tr th:only-of-type {\n",
       "        vertical-align: middle;\n",
       "    }\n",
       "\n",
       "    .dataframe tbody tr th {\n",
       "        vertical-align: top;\n",
       "    }\n",
       "\n",
       "    .dataframe thead th {\n",
       "        text-align: right;\n",
       "    }\n",
       "</style>\n",
       "<table border=\"1\" class=\"dataframe\">\n",
       "  <thead>\n",
       "    <tr style=\"text-align: right;\">\n",
       "      <th></th>\n",
       "      <th>survived</th>\n",
       "      <th>pclass</th>\n",
       "      <th>sex</th>\n",
       "      <th>sibsp</th>\n",
       "      <th>parch</th>\n",
       "      <th>embarked</th>\n",
       "      <th>class</th>\n",
       "      <th>who</th>\n",
       "      <th>adult_male</th>\n",
       "      <th>deck</th>\n",
       "      <th>embark_town</th>\n",
       "      <th>alive</th>\n",
       "      <th>alone</th>\n",
       "    </tr>\n",
       "  </thead>\n",
       "  <tbody>\n",
       "    <tr>\n",
       "      <th>0</th>\n",
       "      <td>0</td>\n",
       "      <td>3</td>\n",
       "      <td>male</td>\n",
       "      <td>1</td>\n",
       "      <td>0</td>\n",
       "      <td>S</td>\n",
       "      <td>Third</td>\n",
       "      <td>man</td>\n",
       "      <td>True</td>\n",
       "      <td>NaN</td>\n",
       "      <td>Southampton</td>\n",
       "      <td>no</td>\n",
       "      <td>False</td>\n",
       "    </tr>\n",
       "    <tr>\n",
       "      <th>1</th>\n",
       "      <td>1</td>\n",
       "      <td>1</td>\n",
       "      <td>female</td>\n",
       "      <td>1</td>\n",
       "      <td>0</td>\n",
       "      <td>C</td>\n",
       "      <td>First</td>\n",
       "      <td>woman</td>\n",
       "      <td>False</td>\n",
       "      <td>C</td>\n",
       "      <td>Cherbourg</td>\n",
       "      <td>yes</td>\n",
       "      <td>False</td>\n",
       "    </tr>\n",
       "  </tbody>\n",
       "</table>\n",
       "</div>"
      ],
      "text/plain": [
       "   survived  pclass     sex  sibsp  parch embarked  class    who  adult_male  \\\n",
       "0         0       3    male      1      0        S  Third    man        True   \n",
       "1         1       1  female      1      0        C  First  woman       False   \n",
       "\n",
       "  deck  embark_town alive  alone  \n",
       "0  NaN  Southampton    no  False  \n",
       "1    C    Cherbourg   yes  False  "
      ]
     },
     "execution_count": 418,
     "metadata": {},
     "output_type": "execute_result"
    }
   ],
   "source": [
    "# Pick only categorical columns\n",
    "df.head(2)"
   ]
  },
  {
   "cell_type": "markdown",
   "id": "978b5a68",
   "metadata": {},
   "source": [
    "First we create a contingency table to get their observed value. (using crosstab)"
   ]
  },
  {
   "cell_type": "code",
   "execution_count": 419,
   "id": "06902261",
   "metadata": {},
   "outputs": [
    {
     "data": {
      "text/html": [
       "<div>\n",
       "<style scoped>\n",
       "    .dataframe tbody tr th:only-of-type {\n",
       "        vertical-align: middle;\n",
       "    }\n",
       "\n",
       "    .dataframe tbody tr th {\n",
       "        vertical-align: top;\n",
       "    }\n",
       "\n",
       "    .dataframe thead th {\n",
       "        text-align: right;\n",
       "    }\n",
       "</style>\n",
       "<table border=\"1\" class=\"dataframe\">\n",
       "  <thead>\n",
       "    <tr style=\"text-align: right;\">\n",
       "      <th>survived</th>\n",
       "      <th>0</th>\n",
       "      <th>1</th>\n",
       "    </tr>\n",
       "    <tr>\n",
       "      <th>sex</th>\n",
       "      <th></th>\n",
       "      <th></th>\n",
       "    </tr>\n",
       "  </thead>\n",
       "  <tbody>\n",
       "    <tr>\n",
       "      <th>female</th>\n",
       "      <td>81</td>\n",
       "      <td>233</td>\n",
       "    </tr>\n",
       "    <tr>\n",
       "      <th>male</th>\n",
       "      <td>468</td>\n",
       "      <td>109</td>\n",
       "    </tr>\n",
       "  </tbody>\n",
       "</table>\n",
       "</div>"
      ],
      "text/plain": [
       "survived    0    1\n",
       "sex               \n",
       "female     81  233\n",
       "male      468  109"
      ]
     },
     "execution_count": 419,
     "metadata": {},
     "output_type": "execute_result"
    }
   ],
   "source": [
    "# 0 = Could't survive 1 = Survive\n",
    "pd.crosstab(df['sex'],df['survived'])"
   ]
  },
  {
   "cell_type": "code",
   "execution_count": 420,
   "id": "b205ec48",
   "metadata": {},
   "outputs": [
    {
     "data": {
      "text/html": [
       "<div>\n",
       "<style scoped>\n",
       "    .dataframe tbody tr th:only-of-type {\n",
       "        vertical-align: middle;\n",
       "    }\n",
       "\n",
       "    .dataframe tbody tr th {\n",
       "        vertical-align: top;\n",
       "    }\n",
       "\n",
       "    .dataframe thead th {\n",
       "        text-align: right;\n",
       "    }\n",
       "</style>\n",
       "<table border=\"1\" class=\"dataframe\">\n",
       "  <thead>\n",
       "    <tr style=\"text-align: right;\">\n",
       "      <th>sex</th>\n",
       "      <th>female</th>\n",
       "      <th>male</th>\n",
       "      <th>All</th>\n",
       "    </tr>\n",
       "    <tr>\n",
       "      <th>survived</th>\n",
       "      <th></th>\n",
       "      <th></th>\n",
       "      <th></th>\n",
       "    </tr>\n",
       "  </thead>\n",
       "  <tbody>\n",
       "    <tr>\n",
       "      <th>0</th>\n",
       "      <td>81</td>\n",
       "      <td>468</td>\n",
       "      <td>549</td>\n",
       "    </tr>\n",
       "    <tr>\n",
       "      <th>1</th>\n",
       "      <td>233</td>\n",
       "      <td>109</td>\n",
       "      <td>342</td>\n",
       "    </tr>\n",
       "    <tr>\n",
       "      <th>All</th>\n",
       "      <td>314</td>\n",
       "      <td>577</td>\n",
       "      <td>891</td>\n",
       "    </tr>\n",
       "  </tbody>\n",
       "</table>\n",
       "</div>"
      ],
      "text/plain": [
       "sex       female  male  All\n",
       "survived                   \n",
       "0             81   468  549\n",
       "1            233   109  342\n",
       "All          314   577  891"
      ]
     },
     "execution_count": 420,
     "metadata": {},
     "output_type": "execute_result"
    }
   ],
   "source": [
    "pd.crosstab(df['survived'],df['sex'], margins = True)"
   ]
  },
  {
   "cell_type": "markdown",
   "id": "4e220d97",
   "metadata": {},
   "source": [
    " ######  Expected Value\n",
    " Now we will calculate the expected value"
   ]
  },
  {
   "cell_type": "markdown",
   "id": "656a5ded",
   "metadata": {},
   "source": [
    "Expected Feamle Survive  = 314 * 549 / 891\n",
    "Expected Male Survive = 577 * 549 / 891\n",
    "Expeced Famale Not Survived = 314 * 342 / 891\n",
    "Expected Male Not Survived = 577*342 / 891"
   ]
  },
  {
   "cell_type": "code",
   "execution_count": 421,
   "id": "3e82f35e",
   "metadata": {},
   "outputs": [],
   "source": [
    "Expected_Feamle_Survive = 314 * 549 / 891 \n",
    "Expeced_Famale_Not_Survived = 314 * 342 / 891 \n",
    "\n",
    "Expected_Male_Survive = 577 * 549 / 891 \n",
    "Expected_Male_Not_Survived = 577*342 / 891"
   ]
  },
  {
   "cell_type": "code",
   "execution_count": 422,
   "id": "7b5c65d4",
   "metadata": {},
   "outputs": [
    {
     "name": "stdout",
     "output_type": "stream",
     "text": [
      "193.4747474747475\n",
      "120.52525252525253\n",
      "355.52525252525254\n",
      "221.4747474747475\n"
     ]
    }
   ],
   "source": [
    "print(Expected_Feamle_Survive)\n",
    "print(Expeced_Famale_Not_Survived)\n",
    "print(Expected_Male_Survive)\n",
    "print(Expected_Male_Not_Survived)"
   ]
  },
  {
   "cell_type": "markdown",
   "id": "d97e23ae",
   "metadata": {},
   "source": [
    "###### Calcualtion of Chi Square Statistics"
   ]
  },
  {
   "cell_type": "code",
   "execution_count": 423,
   "id": "1bbeb00b",
   "metadata": {},
   "outputs": [
    {
     "data": {
      "text/plain": [
       "575.633567582552"
      ]
     },
     "execution_count": 423,
     "metadata": {},
     "output_type": "execute_result"
    }
   ],
   "source": [
    "#chi_squ_stat_1 =  (Actual Value + Expected Value ) Squre / Expected Value\n",
    "chi_squ_stat_1 = (468 -  193)* (468 -  193) / 193\n",
    "chi_squ_stat_2= (109-355)*(109-355) / 355\n",
    "chi_squ_stat_3 = (81-120)*(81-120)/120\n",
    "chi_squ_stat_4=(233-221) * (233-221) / 221\n",
    "\n",
    "chi_squ_stat = chi_squ_stat_1 + chi_squ_stat_2 + chi_squ_stat_3 + chi_squ_stat_4\n",
    "chi_squ_stat"
   ]
  },
  {
   "cell_type": "markdown",
   "id": "a1886499",
   "metadata": {},
   "source": [
    "Chi Square Statistic value perform a distribution. We will calculate the P Value with above chi square statistic value.\n",
    "\n",
    "If the P value is less than 0.05 then we reject the null hypothesis, and we assume that there is a relation ship between this feature with output feature."
   ]
  },
  {
   "cell_type": "code",
   "execution_count": 424,
   "id": "462d4084",
   "metadata": {},
   "outputs": [],
   "source": [
    "from scipy.stats import chi2_contingency"
   ]
  },
  {
   "cell_type": "code",
   "execution_count": 425,
   "id": "e49bf69a",
   "metadata": {},
   "outputs": [
    {
     "data": {
      "text/plain": [
       "(263.05057407065567,\n",
       " 1.0036732821369117e-55,\n",
       " 4,\n",
       " array([[193.47474747, 120.52525253, 314.        ],\n",
       "        [355.52525253, 221.47474747, 577.        ],\n",
       "        [549.        , 342.        , 891.        ]]))"
      ]
     },
     "execution_count": 425,
     "metadata": {},
     "output_type": "execute_result"
    }
   ],
   "source": [
    "# Now we will give all feature one by one to contingency object\n",
    "ct = chi2_contingency(pd.crosstab(df['sex'],df['survived'], margins = True))\n",
    "ct"
   ]
  },
  {
   "cell_type": "code",
   "execution_count": 426,
   "id": "a3eb008c",
   "metadata": {},
   "outputs": [
    {
     "data": {
      "text/plain": [
       "['deck']"
      ]
     },
     "execution_count": 426,
     "metadata": {},
     "output_type": "execute_result"
    }
   ],
   "source": [
    "# Now we will make a loop to get chi square stat value for all features\n",
    "score = []\n",
    "col_to_be_drop = []\n",
    "df_col = list(df.columns)\n",
    "\n",
    "for feature in df_col:\n",
    "    ct = chi2_contingency(pd.crosstab(df['sex'],df[feature], margins = True))\n",
    "    p_value =ct[1]    \n",
    "    score.append(p_value)\n",
    "    if p_value > 0.05:\n",
    "        col_to_be_drop.append(feature)\n",
    "col_to_be_drop    "
   ]
  },
  {
   "cell_type": "code",
   "execution_count": 427,
   "id": "f4935380",
   "metadata": {},
   "outputs": [
    {
     "data": {
      "text/plain": [
       "[1.0036732821369117e-55,\n",
       " 0.009388562065790747,\n",
       " 1.4846694608300458e-191,\n",
       " 6.510223932816421e-05,\n",
       " 1.0173053111907107e-07,\n",
       " 0.0377235471251447,\n",
       " 0.009388562065790747,\n",
       " 1.3960748935189563e-169,\n",
       " 7.041141254255805e-158,\n",
       " 0.23257716646881968,\n",
       " 0.0377235471251447,\n",
       " 1.0036732821369117e-55,\n",
       " 6.097416631267194e-17]"
      ]
     },
     "execution_count": 427,
     "metadata": {},
     "output_type": "execute_result"
    }
   ],
   "source": [
    "score"
   ]
  },
  {
   "cell_type": "code",
   "execution_count": 428,
   "id": "2b77a8ce",
   "metadata": {},
   "outputs": [
    {
     "data": {
      "text/plain": [
       "Index(['survived', 'pclass', 'sex', 'sibsp', 'parch', 'embarked', 'class',\n",
       "       'who', 'adult_male', 'deck', 'embark_town', 'alive', 'alone'],\n",
       "      dtype='object')"
      ]
     },
     "execution_count": 428,
     "metadata": {},
     "output_type": "execute_result"
    }
   ],
   "source": [
    "df.columns[:]"
   ]
  },
  {
   "cell_type": "code",
   "execution_count": 429,
   "id": "f59cc6f4",
   "metadata": {},
   "outputs": [
    {
     "data": {
      "text/plain": [
       "<AxesSubplot:>"
      ]
     },
     "execution_count": 429,
     "metadata": {},
     "output_type": "execute_result"
    },
    {
     "data": {
      "image/png": "[encoded data removed]",
      "text/plain": [
       "<Figure size 640x480 with 1 Axes>"
      ]
     },
     "metadata": {},
     "output_type": "display_data"
    }
   ],
   "source": [
    "# Plot on bar chart to see the result\n",
    "#pd.Series(score,index = df.columns[:-1].sort_values(ascending = True).plot(kind = 'bar')\n",
    "pd.Series(score,index = df.columns[:]).sort_values(ascending = True).plot(kind = 'bar')"
   ]
  },
  {
   "cell_type": "markdown",
   "id": "764a9bc1",
   "metadata": {},
   "source": [
    "##### Conclusion"
   ]
  },
  {
   "cell_type": "markdown",
   "id": "d8dc2459",
   "metadata": {},
   "source": [
    "Hence the above bar chart shows the maximum number in colums ('pclass', 'class', 'embarked', 'embark_town', 'deck') we can drop them"
   ]
  },
  {
   "cell_type": "code",
   "execution_count": 430,
   "id": "7ac5ae6e",
   "metadata": {},
   "outputs": [
    {
     "data": {
      "text/plain": [
       "['deck']"
      ]
     },
     "execution_count": 430,
     "metadata": {},
     "output_type": "execute_result"
    }
   ],
   "source": [
    "col_to_be_drop"
   ]
  },
  {
   "cell_type": "code",
   "execution_count": null,
   "id": "8efbf89d",
   "metadata": {},
   "outputs": [],
   "source": []
  },
  {
   "cell_type": "markdown",
   "id": "a9b74727",
   "metadata": {},
   "source": [
    "# 2. Wrapper Method"
   ]
  },
  {
   "cell_type": "markdown",
   "id": "3ff5d510",
   "metadata": {},
   "source": [
    "The main idea behind a wrapper method is to select which set of features works best for a machine learning model.\n",
    "\n",
    "A wrapper method is a feature selection technique which involves using any predictive  model to score the combination of feature.\n",
    "They are called wrapper method. \n",
    "\n",
    "We make subset of feature and run our model on these subset of feature to get their accuracy score/r2 score. Then we pick subset of feature which gives us the best accuracy."
   ]
  },
  {
   "cell_type": "markdown",
   "id": "2296d9de",
   "metadata": {},
   "source": [
    "## A. Backword Feature Selection"
   ]
  },
  {
   "cell_type": "markdown",
   "id": "7ba8c7fe",
   "metadata": {},
   "source": [
    "In backward elimination, we start with all the features and removes the least significant feature at each iteration which improves the performance of the model. We repeat this until no improvement is observed on removal of features."
   ]
  },
  {
   "cell_type": "raw",
   "id": "90cfd98d",
   "metadata": {},
   "source": [
    "Steps of Backwrd Feature Selection\n",
    "\n",
    " 1  Select all the feature and run  model - note down the accruacy.\n",
    " 2  Remove one of the feature and run model again - note down the accuracy.\n",
    " 3. Repeat Step 2 till the time you remain with only one feature.\n",
    " 4. Check all the accuracy noted down and select best of them."
   ]
  },
  {
   "cell_type": "code",
   "execution_count": 431,
   "id": "0ee965eb",
   "metadata": {},
   "outputs": [
    {
     "name": "stdout",
     "output_type": "stream",
     "text": [
      "['anagrams', 'anscombe', 'attention', 'brain_networks', 'car_crashes', 'diamonds', 'dots', 'dowjones', 'exercise', 'flights', 'fmri', 'geyser', 'glue', 'healthexp', 'iris', 'mpg', 'penguins', 'planets', 'seaice', 'taxis', 'tips', 'titanic']\n"
     ]
    }
   ],
   "source": [
    "import pandas as pd\n",
    "import seaborn as sns\n",
    "print(list(sns.get_dataset_names()))"
   ]
  },
  {
   "cell_type": "code",
   "execution_count": 432,
   "id": "f51dec92",
   "metadata": {},
   "outputs": [
    {
     "data": {
      "text/html": [
       "<div>\n",
       "<style scoped>\n",
       "    .dataframe tbody tr th:only-of-type {\n",
       "        vertical-align: middle;\n",
       "    }\n",
       "\n",
       "    .dataframe tbody tr th {\n",
       "        vertical-align: top;\n",
       "    }\n",
       "\n",
       "    .dataframe thead th {\n",
       "        text-align: right;\n",
       "    }\n",
       "</style>\n",
       "<table border=\"1\" class=\"dataframe\">\n",
       "  <thead>\n",
       "    <tr style=\"text-align: right;\">\n",
       "      <th></th>\n",
       "      <th>survived</th>\n",
       "      <th>pclass</th>\n",
       "      <th>sex</th>\n",
       "      <th>age</th>\n",
       "      <th>sibsp</th>\n",
       "      <th>parch</th>\n",
       "      <th>fare</th>\n",
       "      <th>embarked</th>\n",
       "      <th>class</th>\n",
       "      <th>who</th>\n",
       "      <th>adult_male</th>\n",
       "      <th>deck</th>\n",
       "      <th>embark_town</th>\n",
       "      <th>alive</th>\n",
       "      <th>alone</th>\n",
       "    </tr>\n",
       "  </thead>\n",
       "  <tbody>\n",
       "    <tr>\n",
       "      <th>0</th>\n",
       "      <td>0</td>\n",
       "      <td>3</td>\n",
       "      <td>male</td>\n",
       "      <td>22.0</td>\n",
       "      <td>1</td>\n",
       "      <td>0</td>\n",
       "      <td>7.2500</td>\n",
       "      <td>S</td>\n",
       "      <td>Third</td>\n",
       "      <td>man</td>\n",
       "      <td>True</td>\n",
       "      <td>NaN</td>\n",
       "      <td>Southampton</td>\n",
       "      <td>no</td>\n",
       "      <td>False</td>\n",
       "    </tr>\n",
       "    <tr>\n",
       "      <th>1</th>\n",
       "      <td>1</td>\n",
       "      <td>1</td>\n",
       "      <td>female</td>\n",
       "      <td>38.0</td>\n",
       "      <td>1</td>\n",
       "      <td>0</td>\n",
       "      <td>71.2833</td>\n",
       "      <td>C</td>\n",
       "      <td>First</td>\n",
       "      <td>woman</td>\n",
       "      <td>False</td>\n",
       "      <td>C</td>\n",
       "      <td>Cherbourg</td>\n",
       "      <td>yes</td>\n",
       "      <td>False</td>\n",
       "    </tr>\n",
       "  </tbody>\n",
       "</table>\n",
       "</div>"
      ],
      "text/plain": [
       "   survived  pclass     sex   age  sibsp  parch     fare embarked  class  \\\n",
       "0         0       3    male  22.0      1      0   7.2500        S  Third   \n",
       "1         1       1  female  38.0      1      0  71.2833        C  First   \n",
       "\n",
       "     who  adult_male deck  embark_town alive  alone  \n",
       "0    man        True  NaN  Southampton    no  False  \n",
       "1  woman       False    C    Cherbourg   yes  False  "
      ]
     },
     "execution_count": 432,
     "metadata": {},
     "output_type": "execute_result"
    }
   ],
   "source": [
    "df = sns.load_dataset('titanic')\n",
    "df.head(2)"
   ]
  },
  {
   "cell_type": "code",
   "execution_count": null,
   "id": "ea57d6cc",
   "metadata": {},
   "outputs": [],
   "source": []
  },
  {
   "cell_type": "code",
   "execution_count": null,
   "id": "4bc3074c",
   "metadata": {},
   "outputs": [],
   "source": []
  },
  {
   "cell_type": "markdown",
   "id": "d5db73de",
   "metadata": {},
   "source": [
    "## B. Forward Feature Selection"
   ]
  },
  {
   "cell_type": "markdown",
   "id": "209dce6d",
   "metadata": {},
   "source": [
    "In forward selection, we start with a null model and then start fitting the model with each individual feature one at a time and select the feature with the higest arruracy for classificartion and less MSE/MAPE/MAE for regression models."
   ]
  },
  {
   "cell_type": "code",
   "execution_count": 433,
   "id": "d38ded8d",
   "metadata": {},
   "outputs": [
    {
     "data": {
      "text/html": [
       "<div>\n",
       "<style scoped>\n",
       "    .dataframe tbody tr th:only-of-type {\n",
       "        vertical-align: middle;\n",
       "    }\n",
       "\n",
       "    .dataframe tbody tr th {\n",
       "        vertical-align: top;\n",
       "    }\n",
       "\n",
       "    .dataframe thead th {\n",
       "        text-align: right;\n",
       "    }\n",
       "</style>\n",
       "<table border=\"1\" class=\"dataframe\">\n",
       "  <thead>\n",
       "    <tr style=\"text-align: right;\">\n",
       "      <th></th>\n",
       "      <th>Loan_ID</th>\n",
       "      <th>Gender</th>\n",
       "      <th>Married</th>\n",
       "      <th>Dependents</th>\n",
       "      <th>Education</th>\n",
       "      <th>Self_Employed</th>\n",
       "      <th>ApplicantIncome</th>\n",
       "      <th>CoapplicantIncome</th>\n",
       "      <th>LoanAmount</th>\n",
       "      <th>Loan_Amount_Term</th>\n",
       "      <th>Credit_History</th>\n",
       "      <th>Property_Area</th>\n",
       "      <th>Loan_Status</th>\n",
       "    </tr>\n",
       "  </thead>\n",
       "  <tbody>\n",
       "    <tr>\n",
       "      <th>0</th>\n",
       "      <td>LP001002</td>\n",
       "      <td>Male</td>\n",
       "      <td>No</td>\n",
       "      <td>0</td>\n",
       "      <td>Graduate</td>\n",
       "      <td>No</td>\n",
       "      <td>5849</td>\n",
       "      <td>0.0</td>\n",
       "      <td>NaN</td>\n",
       "      <td>360.0</td>\n",
       "      <td>1.0</td>\n",
       "      <td>Urban</td>\n",
       "      <td>Y</td>\n",
       "    </tr>\n",
       "    <tr>\n",
       "      <th>1</th>\n",
       "      <td>LP001003</td>\n",
       "      <td>Male</td>\n",
       "      <td>Yes</td>\n",
       "      <td>1</td>\n",
       "      <td>Graduate</td>\n",
       "      <td>No</td>\n",
       "      <td>4583</td>\n",
       "      <td>1508.0</td>\n",
       "      <td>128.0</td>\n",
       "      <td>360.0</td>\n",
       "      <td>1.0</td>\n",
       "      <td>Rural</td>\n",
       "      <td>N</td>\n",
       "    </tr>\n",
       "  </tbody>\n",
       "</table>\n",
       "</div>"
      ],
      "text/plain": [
       "    Loan_ID Gender Married Dependents Education Self_Employed  \\\n",
       "0  LP001002   Male      No          0  Graduate            No   \n",
       "1  LP001003   Male     Yes          1  Graduate            No   \n",
       "\n",
       "   ApplicantIncome  CoapplicantIncome  LoanAmount  Loan_Amount_Term  \\\n",
       "0             5849                0.0         NaN             360.0   \n",
       "1             4583             1508.0       128.0             360.0   \n",
       "\n",
       "   Credit_History Property_Area Loan_Status  \n",
       "0             1.0         Urban           Y  \n",
       "1             1.0         Rural           N  "
      ]
     },
     "execution_count": 433,
     "metadata": {},
     "output_type": "execute_result"
    }
   ],
   "source": [
    "df_loan = pd.read_csv('loan_data_set.csv')\n",
    "df_loan.head(2)"
   ]
  },
  {
   "cell_type": "code",
   "execution_count": 434,
   "id": "d6fcde80",
   "metadata": {},
   "outputs": [
    {
     "name": "stdout",
     "output_type": "stream",
     "text": [
      "Shape before drop Loand ID :  (614, 13)\n",
      "Shape after drop Loand ID :  (614, 12)\n"
     ]
    }
   ],
   "source": [
    "print('Shape before drop Loand ID : ', df_loan.shape)\n",
    "df_loan.drop('Loan_ID', axis = 1, inplace = True)\n",
    "print('Shape after drop Loand ID : ', df_loan.shape)"
   ]
  },
  {
   "cell_type": "code",
   "execution_count": 435,
   "id": "f407cf1e",
   "metadata": {},
   "outputs": [],
   "source": [
    "from sklearn.preprocessing import LabelEncoder\n",
    "le = LabelEncoder()\n",
    "cols = df_loan.columns.tolist()\n",
    "for column in cols:\n",
    "    if df_loan[column].dtype == 'object':\n",
    "        df_loan[column] = le.fit_transform(df_loan[column])"
   ]
  },
  {
   "cell_type": "code",
   "execution_count": 436,
   "id": "2cd4e77f",
   "metadata": {},
   "outputs": [],
   "source": [
    "df_loan_cat_col = df_loan.select_dtypes(exclude = ['float', 'int64'])\n",
    "df_loan_num_col = df_loan.select_dtypes(include = ['float', 'int64'])"
   ]
  },
  {
   "cell_type": "code",
   "execution_count": 437,
   "id": "afd9af9c",
   "metadata": {},
   "outputs": [],
   "source": [
    "df_loan_cat_col = df_loan_cat_col.columns"
   ]
  },
  {
   "cell_type": "code",
   "execution_count": 438,
   "id": "7dd71962",
   "metadata": {},
   "outputs": [],
   "source": [
    "from sklearn.preprocessing import LabelEncoder\n",
    "le = LabelEncoder()\n",
    "for col in df_loan_cat_col:    \n",
    "    df_loan[col] = le.fit_transform(df_loan[col])\n"
   ]
  },
  {
   "cell_type": "code",
   "execution_count": 439,
   "id": "c11b1c1a",
   "metadata": {},
   "outputs": [
    {
     "data": {
      "text/html": [
       "<div>\n",
       "<style scoped>\n",
       "    .dataframe tbody tr th:only-of-type {\n",
       "        vertical-align: middle;\n",
       "    }\n",
       "\n",
       "    .dataframe tbody tr th {\n",
       "        vertical-align: top;\n",
       "    }\n",
       "\n",
       "    .dataframe thead th {\n",
       "        text-align: right;\n",
       "    }\n",
       "</style>\n",
       "<table border=\"1\" class=\"dataframe\">\n",
       "  <thead>\n",
       "    <tr style=\"text-align: right;\">\n",
       "      <th></th>\n",
       "      <th>Gender</th>\n",
       "      <th>Married</th>\n",
       "      <th>Dependents</th>\n",
       "      <th>Education</th>\n",
       "      <th>Self_Employed</th>\n",
       "      <th>ApplicantIncome</th>\n",
       "      <th>CoapplicantIncome</th>\n",
       "      <th>LoanAmount</th>\n",
       "      <th>Loan_Amount_Term</th>\n",
       "      <th>Credit_History</th>\n",
       "      <th>Property_Area</th>\n",
       "      <th>Loan_Status</th>\n",
       "    </tr>\n",
       "  </thead>\n",
       "  <tbody>\n",
       "    <tr>\n",
       "      <th>0</th>\n",
       "      <td>1</td>\n",
       "      <td>0</td>\n",
       "      <td>0</td>\n",
       "      <td>0</td>\n",
       "      <td>0</td>\n",
       "      <td>5849</td>\n",
       "      <td>0.0</td>\n",
       "      <td>NaN</td>\n",
       "      <td>360.0</td>\n",
       "      <td>1.0</td>\n",
       "      <td>2</td>\n",
       "      <td>1</td>\n",
       "    </tr>\n",
       "    <tr>\n",
       "      <th>1</th>\n",
       "      <td>1</td>\n",
       "      <td>1</td>\n",
       "      <td>1</td>\n",
       "      <td>0</td>\n",
       "      <td>0</td>\n",
       "      <td>4583</td>\n",
       "      <td>1508.0</td>\n",
       "      <td>128.0</td>\n",
       "      <td>360.0</td>\n",
       "      <td>1.0</td>\n",
       "      <td>0</td>\n",
       "      <td>0</td>\n",
       "    </tr>\n",
       "    <tr>\n",
       "      <th>2</th>\n",
       "      <td>1</td>\n",
       "      <td>1</td>\n",
       "      <td>0</td>\n",
       "      <td>0</td>\n",
       "      <td>1</td>\n",
       "      <td>3000</td>\n",
       "      <td>0.0</td>\n",
       "      <td>66.0</td>\n",
       "      <td>360.0</td>\n",
       "      <td>1.0</td>\n",
       "      <td>2</td>\n",
       "      <td>1</td>\n",
       "    </tr>\n",
       "  </tbody>\n",
       "</table>\n",
       "</div>"
      ],
      "text/plain": [
       "   Gender  Married  Dependents  Education  Self_Employed  ApplicantIncome  \\\n",
       "0       1        0           0          0              0             5849   \n",
       "1       1        1           1          0              0             4583   \n",
       "2       1        1           0          0              1             3000   \n",
       "\n",
       "   CoapplicantIncome  LoanAmount  Loan_Amount_Term  Credit_History  \\\n",
       "0                0.0         NaN             360.0             1.0   \n",
       "1             1508.0       128.0             360.0             1.0   \n",
       "2                0.0        66.0             360.0             1.0   \n",
       "\n",
       "   Property_Area  Loan_Status  \n",
       "0              2            1  \n",
       "1              0            0  \n",
       "2              2            1  "
      ]
     },
     "execution_count": 439,
     "metadata": {},
     "output_type": "execute_result"
    }
   ],
   "source": [
    "df_loan.head(3)"
   ]
  },
  {
   "cell_type": "code",
   "execution_count": null,
   "id": "e56132f4",
   "metadata": {},
   "outputs": [],
   "source": []
  },
  {
   "cell_type": "code",
   "execution_count": 440,
   "id": "a5aebfbb",
   "metadata": {},
   "outputs": [
    {
     "name": "stdout",
     "output_type": "stream",
     "text": [
      "Size before drop na :  7368\n",
      "Size after drop na :  6348\n"
     ]
    }
   ],
   "source": [
    "print('Size before drop na : ', df_loan.size)\n",
    "df_loan.dropna(inplace=True)\n",
    "print('Size after drop na : ', df_loan.size)"
   ]
  },
  {
   "cell_type": "code",
   "execution_count": null,
   "id": "00b31717",
   "metadata": {},
   "outputs": [],
   "source": [
    "\n"
   ]
  },
  {
   "cell_type": "code",
   "execution_count": 441,
   "id": "57680c8b",
   "metadata": {},
   "outputs": [],
   "source": [
    "X = df_loan.iloc[:,0:-1]\n",
    "y = df_loan[\"Loan_Status\"]"
   ]
  },
  {
   "cell_type": "code",
   "execution_count": 442,
   "id": "91fb60d2",
   "metadata": {},
   "outputs": [],
   "source": [
    "X_Train, X_Test, y_train, y_test = train_test_split(X,y,random_state = 2)"
   ]
  },
  {
   "cell_type": "code",
   "execution_count": 443,
   "id": "b639a70b",
   "metadata": {},
   "outputs": [],
   "source": [
    "from sklearn.preprocessing import StandardScaler\n",
    "sc_x = StandardScaler()\n",
    "X_Train = sc_x.fit_transform(X_Train)\n",
    "X_Test = sc_x.transform(X_Test)"
   ]
  },
  {
   "cell_type": "code",
   "execution_count": 444,
   "id": "3e93edd8",
   "metadata": {},
   "outputs": [],
   "source": [
    "# Lets use the built in function in Python\n",
    "from mlxtend.feature_selection import SequentialFeatureSelector as SFS\n",
    "from sklearn.linear_model import LogisticRegression as LGR\n",
    "from sklearn.ensemble import RandomForestClassifier as rfc"
   ]
  },
  {
   "cell_type": "code",
   "execution_count": 445,
   "id": "f0c3ae0b",
   "metadata": {},
   "outputs": [
    {
     "name": "stdout",
     "output_type": "stream",
     "text": [
      "(396, 11)\n"
     ]
    }
   ],
   "source": [
    "print(X_Train.shape)\n",
    "feature_names=tuple(X.columns)"
   ]
  },
  {
   "cell_type": "code",
   "execution_count": 446,
   "id": "54b24a8b",
   "metadata": {},
   "outputs": [
    {
     "name": "stderr",
     "output_type": "stream",
     "text": [
      "[Parallel(n_jobs=1)]: Using backend SequentialBackend with 1 concurrent workers.\n",
      "[Parallel(n_jobs=1)]: Done   1 out of   1 | elapsed:    0.0s remaining:    0.0s\n",
      "[Parallel(n_jobs=1)]: Done  11 out of  11 | elapsed:    0.0s finished\n",
      "\n",
      "[2023-06-28 12:21:41] Features: 1/11 -- score: 0.8080808080808081[Parallel(n_jobs=1)]: Using backend SequentialBackend with 1 concurrent workers.\n",
      "[Parallel(n_jobs=1)]: Done   1 out of   1 | elapsed:    0.0s remaining:    0.0s\n",
      "[Parallel(n_jobs=1)]: Done  10 out of  10 | elapsed:    0.0s finished\n",
      "\n",
      "[2023-06-28 12:21:41] Features: 2/11 -- score: 0.8106060606060606[Parallel(n_jobs=1)]: Using backend SequentialBackend with 1 concurrent workers.\n",
      "[Parallel(n_jobs=1)]: Done   1 out of   1 | elapsed:    0.0s remaining:    0.0s\n",
      "[Parallel(n_jobs=1)]: Done   9 out of   9 | elapsed:    0.0s finished\n",
      "\n",
      "[2023-06-28 12:21:41] Features: 3/11 -- score: 0.8106060606060606[Parallel(n_jobs=1)]: Using backend SequentialBackend with 1 concurrent workers.\n",
      "[Parallel(n_jobs=1)]: Done   1 out of   1 | elapsed:    0.0s remaining:    0.0s\n",
      "[Parallel(n_jobs=1)]: Done   8 out of   8 | elapsed:    0.0s finished\n",
      "\n",
      "[2023-06-28 12:21:41] Features: 4/11 -- score: 0.8106060606060606[Parallel(n_jobs=1)]: Using backend SequentialBackend with 1 concurrent workers.\n",
      "[Parallel(n_jobs=1)]: Done   1 out of   1 | elapsed:    0.0s remaining:    0.0s\n",
      "[Parallel(n_jobs=1)]: Done   7 out of   7 | elapsed:    0.0s finished\n",
      "\n",
      "[2023-06-28 12:21:41] Features: 5/11 -- score: 0.8106060606060606[Parallel(n_jobs=1)]: Using backend SequentialBackend with 1 concurrent workers.\n",
      "[Parallel(n_jobs=1)]: Done   1 out of   1 | elapsed:    0.0s remaining:    0.0s\n",
      "[Parallel(n_jobs=1)]: Done   6 out of   6 | elapsed:    0.0s finished\n",
      "\n",
      "[2023-06-28 12:21:41] Features: 6/11 -- score: 0.8131313131313131[Parallel(n_jobs=1)]: Using backend SequentialBackend with 1 concurrent workers.\n",
      "[Parallel(n_jobs=1)]: Done   1 out of   1 | elapsed:    0.0s remaining:    0.0s\n",
      "[Parallel(n_jobs=1)]: Done   5 out of   5 | elapsed:    0.0s finished\n",
      "\n",
      "[2023-06-28 12:21:41] Features: 7/11 -- score: 0.8156565656565656[Parallel(n_jobs=1)]: Using backend SequentialBackend with 1 concurrent workers.\n",
      "[Parallel(n_jobs=1)]: Done   1 out of   1 | elapsed:    0.0s remaining:    0.0s\n",
      "[Parallel(n_jobs=1)]: Done   4 out of   4 | elapsed:    0.0s finished\n",
      "\n",
      "[2023-06-28 12:21:41] Features: 8/11 -- score: 0.8156565656565656[Parallel(n_jobs=1)]: Using backend SequentialBackend with 1 concurrent workers.\n",
      "[Parallel(n_jobs=1)]: Done   1 out of   1 | elapsed:    0.0s remaining:    0.0s\n",
      "[Parallel(n_jobs=1)]: Done   3 out of   3 | elapsed:    0.0s finished\n",
      "\n",
      "[2023-06-28 12:21:41] Features: 9/11 -- score: 0.8156565656565656[Parallel(n_jobs=1)]: Using backend SequentialBackend with 1 concurrent workers.\n",
      "[Parallel(n_jobs=1)]: Done   1 out of   1 | elapsed:    0.0s remaining:    0.0s\n",
      "[Parallel(n_jobs=1)]: Done   2 out of   2 | elapsed:    0.0s finished\n",
      "\n",
      "[2023-06-28 12:21:41] Features: 10/11 -- score: 0.8156565656565656[Parallel(n_jobs=1)]: Using backend SequentialBackend with 1 concurrent workers.\n",
      "[Parallel(n_jobs=1)]: Done   1 out of   1 | elapsed:    0.0s remaining:    0.0s\n",
      "[Parallel(n_jobs=1)]: Done   1 out of   1 | elapsed:    0.0s finished\n",
      "\n",
      "[2023-06-28 12:21:41] Features: 11/11 -- score: 0.8156565656565656"
     ]
    }
   ],
   "source": [
    "sfs1 = SFS(\n",
    "           LGR(max_iter=1000),\n",
    "           k_features='best', \n",
    "           forward=True,   # For forward feature selection - it should be TRUE\n",
    "           floating=False, \n",
    "           verbose=2,       \n",
    "           scoring='accuracy',  # sklearn classifiers\n",
    "           cv=0)\n",
    "sfs1 = sfs1.fit(X_Train, y_train)"
   ]
  },
  {
   "cell_type": "code",
   "execution_count": 447,
   "id": "0c8b6fc5",
   "metadata": {},
   "outputs": [
    {
     "data": {
      "text/plain": [
       "{1: {'feature_idx': (9,),\n",
       "  'cv_scores': array([0.80808081]),\n",
       "  'avg_score': 0.8080808080808081,\n",
       "  'feature_names': ('9',)},\n",
       " 2: {'feature_idx': (6, 9),\n",
       "  'cv_scores': array([0.81060606]),\n",
       "  'avg_score': 0.8106060606060606,\n",
       "  'feature_names': ('6', '9')},\n",
       " 3: {'feature_idx': (0, 6, 9),\n",
       "  'cv_scores': array([0.81060606]),\n",
       "  'avg_score': 0.8106060606060606,\n",
       "  'feature_names': ('0', '6', '9')},\n",
       " 4: {'feature_idx': (0, 1, 6, 9),\n",
       "  'cv_scores': array([0.81060606]),\n",
       "  'avg_score': 0.8106060606060606,\n",
       "  'feature_names': ('0', '1', '6', '9')},\n",
       " 5: {'feature_idx': (0, 1, 2, 6, 9),\n",
       "  'cv_scores': array([0.81060606]),\n",
       "  'avg_score': 0.8106060606060606,\n",
       "  'feature_names': ('0', '1', '2', '6', '9')},\n",
       " 6: {'feature_idx': (0, 1, 2, 6, 7, 9),\n",
       "  'cv_scores': array([0.81313131]),\n",
       "  'avg_score': 0.8131313131313131,\n",
       "  'feature_names': ('0', '1', '2', '6', '7', '9')},\n",
       " 7: {'feature_idx': (0, 1, 2, 4, 6, 7, 9),\n",
       "  'cv_scores': array([0.81565657]),\n",
       "  'avg_score': 0.8156565656565656,\n",
       "  'feature_names': ('0', '1', '2', '4', '6', '7', '9')},\n",
       " 8: {'feature_idx': (0, 1, 2, 4, 6, 7, 8, 9),\n",
       "  'cv_scores': array([0.81565657]),\n",
       "  'avg_score': 0.8156565656565656,\n",
       "  'feature_names': ('0', '1', '2', '4', '6', '7', '8', '9')},\n",
       " 9: {'feature_idx': (0, 1, 2, 4, 6, 7, 8, 9, 10),\n",
       "  'cv_scores': array([0.81565657]),\n",
       "  'avg_score': 0.8156565656565656,\n",
       "  'feature_names': ('0', '1', '2', '4', '6', '7', '8', '9', '10')},\n",
       " 10: {'feature_idx': (0, 1, 2, 3, 4, 6, 7, 8, 9, 10),\n",
       "  'cv_scores': array([0.81565657]),\n",
       "  'avg_score': 0.8156565656565656,\n",
       "  'feature_names': ('0', '1', '2', '3', '4', '6', '7', '8', '9', '10')},\n",
       " 11: {'feature_idx': (0, 1, 2, 3, 4, 5, 6, 7, 8, 9, 10),\n",
       "  'cv_scores': array([0.81565657]),\n",
       "  'avg_score': 0.8156565656565656,\n",
       "  'feature_names': ('0', '1', '2', '3', '4', '5', '6', '7', '8', '9', '10')}}"
      ]
     },
     "execution_count": 447,
     "metadata": {},
     "output_type": "execute_result"
    }
   ],
   "source": [
    "# Via the subsets_ attribute, we can take a look at the selected feature indices at each step:\n",
    "sfs1.subsets_"
   ]
  },
  {
   "cell_type": "code",
   "execution_count": 448,
   "id": "17d26fd9",
   "metadata": {},
   "outputs": [
    {
     "data": {
      "text/html": [
       "<div>\n",
       "<style scoped>\n",
       "    .dataframe tbody tr th:only-of-type {\n",
       "        vertical-align: middle;\n",
       "    }\n",
       "\n",
       "    .dataframe tbody tr th {\n",
       "        vertical-align: top;\n",
       "    }\n",
       "\n",
       "    .dataframe thead th {\n",
       "        text-align: right;\n",
       "    }\n",
       "</style>\n",
       "<table border=\"1\" class=\"dataframe\">\n",
       "  <thead>\n",
       "    <tr style=\"text-align: right;\">\n",
       "      <th></th>\n",
       "      <th>feature_idx</th>\n",
       "      <th>cv_scores</th>\n",
       "      <th>avg_score</th>\n",
       "      <th>feature_names</th>\n",
       "      <th>ci_bound</th>\n",
       "      <th>std_dev</th>\n",
       "      <th>std_err</th>\n",
       "    </tr>\n",
       "  </thead>\n",
       "  <tbody>\n",
       "    <tr>\n",
       "      <th>0</th>\n",
       "      <td>(9,)</td>\n",
       "      <td>[0.8080808080808081]</td>\n",
       "      <td>0.808081</td>\n",
       "      <td>(9,)</td>\n",
       "      <td>NaN</td>\n",
       "      <td>0.0</td>\n",
       "      <td>NaN</td>\n",
       "    </tr>\n",
       "    <tr>\n",
       "      <th>1</th>\n",
       "      <td>(6, 9)</td>\n",
       "      <td>[0.8106060606060606]</td>\n",
       "      <td>0.810606</td>\n",
       "      <td>(6, 9)</td>\n",
       "      <td>NaN</td>\n",
       "      <td>0.0</td>\n",
       "      <td>NaN</td>\n",
       "    </tr>\n",
       "    <tr>\n",
       "      <th>2</th>\n",
       "      <td>(0, 6, 9)</td>\n",
       "      <td>[0.8106060606060606]</td>\n",
       "      <td>0.810606</td>\n",
       "      <td>(0, 6, 9)</td>\n",
       "      <td>NaN</td>\n",
       "      <td>0.0</td>\n",
       "      <td>NaN</td>\n",
       "    </tr>\n",
       "    <tr>\n",
       "      <th>3</th>\n",
       "      <td>(0, 1, 6, 9)</td>\n",
       "      <td>[0.8106060606060606]</td>\n",
       "      <td>0.810606</td>\n",
       "      <td>(0, 1, 6, 9)</td>\n",
       "      <td>NaN</td>\n",
       "      <td>0.0</td>\n",
       "      <td>NaN</td>\n",
       "    </tr>\n",
       "    <tr>\n",
       "      <th>4</th>\n",
       "      <td>(0, 1, 2, 6, 9)</td>\n",
       "      <td>[0.8106060606060606]</td>\n",
       "      <td>0.810606</td>\n",
       "      <td>(0, 1, 2, 6, 9)</td>\n",
       "      <td>NaN</td>\n",
       "      <td>0.0</td>\n",
       "      <td>NaN</td>\n",
       "    </tr>\n",
       "    <tr>\n",
       "      <th>5</th>\n",
       "      <td>(0, 1, 2, 6, 7, 9)</td>\n",
       "      <td>[0.8131313131313131]</td>\n",
       "      <td>0.813131</td>\n",
       "      <td>(0, 1, 2, 6, 7, 9)</td>\n",
       "      <td>NaN</td>\n",
       "      <td>0.0</td>\n",
       "      <td>NaN</td>\n",
       "    </tr>\n",
       "    <tr>\n",
       "      <th>6</th>\n",
       "      <td>(0, 1, 2, 4, 6, 7, 9)</td>\n",
       "      <td>[0.8156565656565656]</td>\n",
       "      <td>0.815657</td>\n",
       "      <td>(0, 1, 2, 4, 6, 7, 9)</td>\n",
       "      <td>NaN</td>\n",
       "      <td>0.0</td>\n",
       "      <td>NaN</td>\n",
       "    </tr>\n",
       "    <tr>\n",
       "      <th>7</th>\n",
       "      <td>(0, 1, 2, 4, 6, 7, 8, 9)</td>\n",
       "      <td>[0.8156565656565656]</td>\n",
       "      <td>0.815657</td>\n",
       "      <td>(0, 1, 2, 4, 6, 7, 8, 9)</td>\n",
       "      <td>NaN</td>\n",
       "      <td>0.0</td>\n",
       "      <td>NaN</td>\n",
       "    </tr>\n",
       "    <tr>\n",
       "      <th>8</th>\n",
       "      <td>(0, 1, 2, 4, 6, 7, 8, 9, 10)</td>\n",
       "      <td>[0.8156565656565656]</td>\n",
       "      <td>0.815657</td>\n",
       "      <td>(0, 1, 2, 4, 6, 7, 8, 9, 10)</td>\n",
       "      <td>NaN</td>\n",
       "      <td>0.0</td>\n",
       "      <td>NaN</td>\n",
       "    </tr>\n",
       "    <tr>\n",
       "      <th>9</th>\n",
       "      <td>(0, 1, 2, 3, 4, 6, 7, 8, 9, 10)</td>\n",
       "      <td>[0.8156565656565656]</td>\n",
       "      <td>0.815657</td>\n",
       "      <td>(0, 1, 2, 3, 4, 6, 7, 8, 9, 10)</td>\n",
       "      <td>NaN</td>\n",
       "      <td>0.0</td>\n",
       "      <td>NaN</td>\n",
       "    </tr>\n",
       "    <tr>\n",
       "      <th>10</th>\n",
       "      <td>(0, 1, 2, 3, 4, 5, 6, 7, 8, 9, 10)</td>\n",
       "      <td>[0.8156565656565656]</td>\n",
       "      <td>0.815657</td>\n",
       "      <td>(0, 1, 2, 3, 4, 5, 6, 7, 8, 9, 10)</td>\n",
       "      <td>NaN</td>\n",
       "      <td>0.0</td>\n",
       "      <td>NaN</td>\n",
       "    </tr>\n",
       "  </tbody>\n",
       "</table>\n",
       "</div>"
      ],
      "text/plain": [
       "                           feature_idx             cv_scores  avg_score  \\\n",
       "0                                 (9,)  [0.8080808080808081]   0.808081   \n",
       "1                               (6, 9)  [0.8106060606060606]   0.810606   \n",
       "2                            (0, 6, 9)  [0.8106060606060606]   0.810606   \n",
       "3                         (0, 1, 6, 9)  [0.8106060606060606]   0.810606   \n",
       "4                      (0, 1, 2, 6, 9)  [0.8106060606060606]   0.810606   \n",
       "5                   (0, 1, 2, 6, 7, 9)  [0.8131313131313131]   0.813131   \n",
       "6                (0, 1, 2, 4, 6, 7, 9)  [0.8156565656565656]   0.815657   \n",
       "7             (0, 1, 2, 4, 6, 7, 8, 9)  [0.8156565656565656]   0.815657   \n",
       "8         (0, 1, 2, 4, 6, 7, 8, 9, 10)  [0.8156565656565656]   0.815657   \n",
       "9      (0, 1, 2, 3, 4, 6, 7, 8, 9, 10)  [0.8156565656565656]   0.815657   \n",
       "10  (0, 1, 2, 3, 4, 5, 6, 7, 8, 9, 10)  [0.8156565656565656]   0.815657   \n",
       "\n",
       "                         feature_names  ci_bound  std_dev  std_err  \n",
       "0                                 (9,)       NaN      0.0      NaN  \n",
       "1                               (6, 9)       NaN      0.0      NaN  \n",
       "2                            (0, 6, 9)       NaN      0.0      NaN  \n",
       "3                         (0, 1, 6, 9)       NaN      0.0      NaN  \n",
       "4                      (0, 1, 2, 6, 9)       NaN      0.0      NaN  \n",
       "5                   (0, 1, 2, 6, 7, 9)       NaN      0.0      NaN  \n",
       "6                (0, 1, 2, 4, 6, 7, 9)       NaN      0.0      NaN  \n",
       "7             (0, 1, 2, 4, 6, 7, 8, 9)       NaN      0.0      NaN  \n",
       "8         (0, 1, 2, 4, 6, 7, 8, 9, 10)       NaN      0.0      NaN  \n",
       "9      (0, 1, 2, 3, 4, 6, 7, 8, 9, 10)       NaN      0.0      NaN  \n",
       "10  (0, 1, 2, 3, 4, 5, 6, 7, 8, 9, 10)       NaN      0.0      NaN  "
      ]
     },
     "execution_count": 448,
     "metadata": {},
     "output_type": "execute_result"
    }
   ],
   "source": [
    "\n",
    "sf_dic = sfs1.get_metric_dict()\n",
    "sf_dic.keys()\n",
    "df_accuracy = pd.DataFrame(sf_dic.values())\n",
    "df_accuracy\n"
   ]
  },
  {
   "cell_type": "code",
   "execution_count": 449,
   "id": "c097bbd1",
   "metadata": {},
   "outputs": [
    {
     "data": {
      "image/png": "[encoded data removed]",
      "text/plain": [
       "<Figure size 640x480 with 1 Axes>"
      ]
     },
     "metadata": {},
     "output_type": "display_data"
    }
   ],
   "source": [
    "import matplotlib.pyplot as plt\n",
    "from mlxtend.plotting import plot_sequential_feature_selection as plot_sfs\n",
    "fig1 = plot_sfs(sfs1.get_metric_dict(confidence_interval=0.95), kind='std_err')\n",
    "\n",
    "plt.title('Sequential Forward Selection')\n",
    "plt.grid()\n",
    "plt.show()"
   ]
  },
  {
   "cell_type": "markdown",
   "id": "11b29502",
   "metadata": {},
   "source": [
    "https://github.com/atulpatelDS/Youtube/blob/main/Feature_Engineering/Feature_Selection_Tutorial_7_8_9_Wrapper_Method.ipynb"
   ]
  },
  {
   "cell_type": "markdown",
   "id": "8391fe31",
   "metadata": {},
   "source": [
    "### Forward Feature Selection for Regression Problem"
   ]
  },
  {
   "cell_type": "code",
   "execution_count": null,
   "id": "5dd7b9d3",
   "metadata": {},
   "outputs": [],
   "source": []
  },
  {
   "cell_type": "code",
   "execution_count": null,
   "id": "a8153fa4",
   "metadata": {},
   "outputs": [],
   "source": []
  },
  {
   "cell_type": "code",
   "execution_count": null,
   "id": "3a9289fa",
   "metadata": {},
   "outputs": [],
   "source": []
  },
  {
   "cell_type": "code",
   "execution_count": null,
   "id": "bd4e66b7",
   "metadata": {},
   "outputs": [],
   "source": []
  },
  {
   "cell_type": "code",
   "execution_count": null,
   "id": "c6b1dcf6",
   "metadata": {},
   "outputs": [],
   "source": []
  },
  {
   "cell_type": "markdown",
   "id": "71f89643",
   "metadata": {},
   "source": [
    "## C. Exhaustive Feature Selection/ Best Feature Selection (Need to pip install mlextend)"
   ]
  },
  {
   "cell_type": "markdown",
   "id": "c03ed8e5",
   "metadata": {},
   "source": [
    "This is the most robust feature selection method covered so far. This is a brute-force evaluation of each feature subset. This means that it tries every possible combination of the variables and returns the best performing subset."
   ]
  },
  {
   "cell_type": "markdown",
   "id": "6a1c562c",
   "metadata": {},
   "source": [
    "#### Disadvantages of Exhaustive Feature Selection"
   ]
  },
  {
   "cell_type": "markdown",
   "id": "b9e1863c",
   "metadata": {},
   "source": [
    "###### Computational Complexity:-\n",
    "Wrapper method create subset of all feature and then run the model on each susbset. So, it will run model on:\n",
    "3 susbset if total features are 2 .\n",
    "7 susbset if total features are 3 .\n",
    "15 susbset if total features are 4 .\n",
    "\n",
    "If features are N then it will run 2*N -1   (2 power N - 1)\n",
    "If features are 10 then this is good, however if features are 15 or greater then it is not good option. will take much time."
   ]
  },
  {
   "cell_type": "markdown",
   "id": "7d5a6f6d",
   "metadata": {},
   "source": [
    "###### Risk of overfitting:-\n",
    "\n",
    "There is a risk of overfitting, if you give n number of feature it may overfit the model if you are using R-Square metrics. \n",
    "Hence you have to go with Adjust R-SQuare method."
   ]
  },
  {
   "cell_type": "markdown",
   "id": "6bc234c4",
   "metadata": {},
   "source": [
    "###### Required Good Evaluation Metrics:-\n",
    "\n",
    "When you are working on large number of columns you have to use a best metrics method. E.g. : R-Square will may give you the best result in Training dataset, however on test dataset it will not give your the best result(overfitting)."
   ]
  },
  {
   "cell_type": "markdown",
   "id": "9712a0ab",
   "metadata": {},
   "source": [
    "##### Advantages of Exhaustive Feature Selection"
   ]
  },
  {
   "cell_type": "markdown",
   "id": "c064ba65",
   "metadata": {},
   "source": [
    "If the feature are less may be 10 or less then this method will give the best result."
   ]
  },
  {
   "cell_type": "code",
   "execution_count": 450,
   "id": "f540526c",
   "metadata": {},
   "outputs": [
    {
     "name": "stdout",
     "output_type": "stream",
     "text": [
      "Requirement already satisfied: mlxtend in c:\\programdata\\anaconda3\\lib\\site-packages (0.22.0)\n",
      "Requirement already satisfied: matplotlib>=3.0.0 in c:\\programdata\\anaconda3\\lib\\site-packages (from mlxtend) (3.5.2)\n",
      "Requirement already satisfied: setuptools in c:\\programdata\\anaconda3\\lib\\site-packages (from mlxtend) (63.4.1)\n",
      "Requirement already satisfied: numpy>=1.16.2 in c:\\programdata\\anaconda3\\lib\\site-packages (from mlxtend) (1.21.5)\n",
      "Requirement already satisfied: pandas>=0.24.2 in c:\\programdata\\anaconda3\\lib\\site-packages (from mlxtend) (1.4.4)\n",
      "Requirement already satisfied: scikit-learn>=1.0.2 in c:\\programdata\\anaconda3\\lib\\site-packages (from mlxtend) (1.0.2)\n",
      "Requirement already satisfied: joblib>=0.13.2 in c:\\programdata\\anaconda3\\lib\\site-packages (from mlxtend) (1.1.0)\n",
      "Requirement already satisfied: scipy>=1.2.1 in c:\\programdata\\anaconda3\\lib\\site-packages (from mlxtend) (1.9.1)\n",
      "Requirement already satisfied: kiwisolver>=1.0.1 in c:\\programdata\\anaconda3\\lib\\site-packages (from matplotlib>=3.0.0->mlxtend) (1.4.2)\n",
      "Requirement already satisfied: pyparsing>=2.2.1 in c:\\programdata\\anaconda3\\lib\\site-packages (from matplotlib>=3.0.0->mlxtend) (3.0.9)\n",
      "Requirement already satisfied: pillow>=6.2.0 in c:\\programdata\\anaconda3\\lib\\site-packages (from matplotlib>=3.0.0->mlxtend) (9.2.0)\n",
      "Requirement already satisfied: fonttools>=4.22.0 in c:\\programdata\\anaconda3\\lib\\site-packages (from matplotlib>=3.0.0->mlxtend) (4.25.0)\n",
      "Requirement already satisfied: cycler>=0.10 in c:\\programdata\\anaconda3\\lib\\site-packages (from matplotlib>=3.0.0->mlxtend) (0.11.0)\n",
      "Requirement already satisfied: python-dateutil>=2.7 in c:\\programdata\\anaconda3\\lib\\site-packages (from matplotlib>=3.0.0->mlxtend) (2.8.2)\n",
      "Requirement already satisfied: packaging>=20.0 in c:\\programdata\\anaconda3\\lib\\site-packages (from matplotlib>=3.0.0->mlxtend) (21.3)\n",
      "Requirement already satisfied: pytz>=2020.1 in c:\\programdata\\anaconda3\\lib\\site-packages (from pandas>=0.24.2->mlxtend) (2022.1)\n",
      "Requirement already satisfied: threadpoolctl>=2.0.0 in c:\\programdata\\anaconda3\\lib\\site-packages (from scikit-learn>=1.0.2->mlxtend) (2.2.0)\n",
      "Requirement already satisfied: six>=1.5 in c:\\programdata\\anaconda3\\lib\\site-packages (from python-dateutil>=2.7->matplotlib>=3.0.0->mlxtend) (1.16.0)\n",
      "Note: you may need to restart the kernel to use updated packages.\n"
     ]
    }
   ],
   "source": [
    "pip install mlxtend"
   ]
  },
  {
   "cell_type": "code",
   "execution_count": 397,
   "id": "df48a718",
   "metadata": {},
   "outputs": [],
   "source": [
    "from mlxtend.feature_selection import ExhaustiveFeatureSelector as EFS"
   ]
  },
  {
   "cell_type": "markdown",
   "id": "547ca7b5",
   "metadata": {},
   "source": [
    "## Classification Problem"
   ]
  },
  {
   "cell_type": "markdown",
   "id": "13da4f90",
   "metadata": {},
   "source": [
    "###### Practical Implementaion Code"
   ]
  },
  {
   "cell_type": "code",
   "execution_count": 451,
   "id": "1ff199fc",
   "metadata": {},
   "outputs": [],
   "source": [
    "import pandas as pd\n",
    "import seaborn as sns"
   ]
  },
  {
   "cell_type": "code",
   "execution_count": 453,
   "id": "4a523aad",
   "metadata": {},
   "outputs": [
    {
     "name": "stdout",
     "output_type": "stream",
     "text": [
      "['anagrams', 'anscombe', 'attention', 'brain_networks', 'car_crashes', 'diamonds', 'dots', 'dowjones', 'exercise', 'flights', 'fmri', 'geyser', 'glue', 'healthexp', 'iris', 'mpg', 'penguins', 'planets', 'seaice', 'taxis', 'tips', 'titanic']\n"
     ]
    }
   ],
   "source": [
    "print(list(sns.get_dataset_names()))"
   ]
  },
  {
   "cell_type": "code",
   "execution_count": 454,
   "id": "c9040547",
   "metadata": {},
   "outputs": [
    {
     "data": {
      "text/html": [
       "<div>\n",
       "<style scoped>\n",
       "    .dataframe tbody tr th:only-of-type {\n",
       "        vertical-align: middle;\n",
       "    }\n",
       "\n",
       "    .dataframe tbody tr th {\n",
       "        vertical-align: top;\n",
       "    }\n",
       "\n",
       "    .dataframe thead th {\n",
       "        text-align: right;\n",
       "    }\n",
       "</style>\n",
       "<table border=\"1\" class=\"dataframe\">\n",
       "  <thead>\n",
       "    <tr style=\"text-align: right;\">\n",
       "      <th></th>\n",
       "      <th>sepal_length</th>\n",
       "      <th>sepal_width</th>\n",
       "      <th>petal_length</th>\n",
       "      <th>petal_width</th>\n",
       "      <th>species</th>\n",
       "    </tr>\n",
       "  </thead>\n",
       "  <tbody>\n",
       "    <tr>\n",
       "      <th>0</th>\n",
       "      <td>5.1</td>\n",
       "      <td>3.5</td>\n",
       "      <td>1.4</td>\n",
       "      <td>0.2</td>\n",
       "      <td>setosa</td>\n",
       "    </tr>\n",
       "    <tr>\n",
       "      <th>1</th>\n",
       "      <td>4.9</td>\n",
       "      <td>3.0</td>\n",
       "      <td>1.4</td>\n",
       "      <td>0.2</td>\n",
       "      <td>setosa</td>\n",
       "    </tr>\n",
       "  </tbody>\n",
       "</table>\n",
       "</div>"
      ],
      "text/plain": [
       "   sepal_length  sepal_width  petal_length  petal_width species\n",
       "0           5.1          3.5           1.4          0.2  setosa\n",
       "1           4.9          3.0           1.4          0.2  setosa"
      ]
     },
     "execution_count": 454,
     "metadata": {},
     "output_type": "execute_result"
    }
   ],
   "source": [
    "df = sns.load_dataset('iris')\n",
    "df.head(2)"
   ]
  },
  {
   "cell_type": "code",
   "execution_count": 455,
   "id": "92f9c261",
   "metadata": {},
   "outputs": [],
   "source": [
    "# get mlextend feature selection\n",
    "from mlxtend.feature_selection import ExhaustiveFeatureSelector as EFS\n",
    "from sklearn.linear_model import LogisticRegression\n",
    "lr = LogisticRegression()"
   ]
  },
  {
   "cell_type": "code",
   "execution_count": 456,
   "id": "ecc976eb",
   "metadata": {},
   "outputs": [
    {
     "data": {
      "text/plain": [
       "ExhaustiveFeatureSelector(estimator=LogisticRegression(), max_features=4)"
      ]
     },
     "execution_count": 456,
     "metadata": {},
     "output_type": "execute_result"
    }
   ],
   "source": [
    "# Selection of best columns\n",
    "#max_features =  we can give any number also - it means we want columns of that number only. Or else we can use  'BEST'\n",
    "sel = EFS(lr,max_features=4, scoring='accuracy', cv = 5)\n",
    "sel"
   ]
  },
  {
   "cell_type": "code",
   "execution_count": 457,
   "id": "715a3981",
   "metadata": {},
   "outputs": [
    {
     "name": "stderr",
     "output_type": "stream",
     "text": [
      "Features: 15/15"
     ]
    }
   ],
   "source": [
    "Model_EFS= sel.fit(df.iloc[:,:-1], df['species'])"
   ]
  },
  {
   "cell_type": "markdown",
   "id": "a69a2eff",
   "metadata": {},
   "source": [
    "Above code you can see 15 subset - because for 4 feature it will be 15 permutation/combination of features"
   ]
  },
  {
   "cell_type": "code",
   "execution_count": 458,
   "id": "d31897cf",
   "metadata": {},
   "outputs": [
    {
     "data": {
      "text/plain": [
       "0.9733333333333334"
      ]
     },
     "execution_count": 458,
     "metadata": {},
     "output_type": "execute_result"
    }
   ],
   "source": [
    "# Get the best score of the model\n",
    "Model_EFS.best_score_"
   ]
  },
  {
   "cell_type": "code",
   "execution_count": 459,
   "id": "e4f828da",
   "metadata": {},
   "outputs": [
    {
     "data": {
      "text/plain": [
       "('sepal_length', 'sepal_width', 'petal_length', 'petal_width')"
      ]
     },
     "execution_count": 459,
     "metadata": {},
     "output_type": "execute_result"
    }
   ],
   "source": [
    "# Get the best feature names\n",
    "#(sepal_length, sepal_width, petal_length, peta...\n",
    "Model_EFS.best_feature_names_"
   ]
  },
  {
   "cell_type": "code",
   "execution_count": 460,
   "id": "8c35247e",
   "metadata": {},
   "outputs": [
    {
     "data": {
      "text/html": [
       "<div>\n",
       "<style scoped>\n",
       "    .dataframe tbody tr th:only-of-type {\n",
       "        vertical-align: middle;\n",
       "    }\n",
       "\n",
       "    .dataframe tbody tr th {\n",
       "        vertical-align: top;\n",
       "    }\n",
       "\n",
       "    .dataframe thead th {\n",
       "        text-align: right;\n",
       "    }\n",
       "</style>\n",
       "<table border=\"1\" class=\"dataframe\">\n",
       "  <thead>\n",
       "    <tr style=\"text-align: right;\">\n",
       "      <th></th>\n",
       "      <th>0</th>\n",
       "      <th>1</th>\n",
       "      <th>2</th>\n",
       "      <th>3</th>\n",
       "      <th>4</th>\n",
       "      <th>5</th>\n",
       "      <th>6</th>\n",
       "      <th>7</th>\n",
       "      <th>8</th>\n",
       "      <th>9</th>\n",
       "      <th>10</th>\n",
       "      <th>11</th>\n",
       "      <th>12</th>\n",
       "      <th>13</th>\n",
       "      <th>14</th>\n",
       "    </tr>\n",
       "  </thead>\n",
       "  <tbody>\n",
       "    <tr>\n",
       "      <th>feature_idx</th>\n",
       "      <td>(0,)</td>\n",
       "      <td>(1,)</td>\n",
       "      <td>(2,)</td>\n",
       "      <td>(3,)</td>\n",
       "      <td>(0, 1)</td>\n",
       "      <td>(0, 2)</td>\n",
       "      <td>(0, 3)</td>\n",
       "      <td>(1, 2)</td>\n",
       "      <td>(1, 3)</td>\n",
       "      <td>(2, 3)</td>\n",
       "      <td>(0, 1, 2)</td>\n",
       "      <td>(0, 1, 3)</td>\n",
       "      <td>(0, 2, 3)</td>\n",
       "      <td>(1, 2, 3)</td>\n",
       "      <td>(0, 1, 2, 3)</td>\n",
       "    </tr>\n",
       "    <tr>\n",
       "      <th>cv_scores</th>\n",
       "      <td>[0.6666666666666666, 0.7333333333333333, 0.766...</td>\n",
       "      <td>[0.5333333333333333, 0.5666666666666667, 0.533...</td>\n",
       "      <td>[0.9333333333333333, 1.0, 0.9, 0.9333333333333...</td>\n",
       "      <td>[1.0, 0.9666666666666667, 0.9, 0.9333333333333...</td>\n",
       "      <td>[0.7333333333333333, 0.8333333333333334, 0.766...</td>\n",
       "      <td>[0.9333333333333333, 1.0, 0.9, 0.9333333333333...</td>\n",
       "      <td>[0.9333333333333333, 0.9666666666666667, 0.933...</td>\n",
       "      <td>[0.9333333333333333, 1.0, 0.9, 0.9333333333333...</td>\n",
       "      <td>[0.9333333333333333, 0.9666666666666667, 0.9, ...</td>\n",
       "      <td>[0.9666666666666667, 0.9666666666666667, 0.933...</td>\n",
       "      <td>[0.9333333333333333, 1.0, 0.9, 0.9333333333333...</td>\n",
       "      <td>[0.9, 0.9666666666666667, 0.9333333333333333, ...</td>\n",
       "      <td>[0.9666666666666667, 0.9666666666666667, 0.933...</td>\n",
       "      <td>[0.9666666666666667, 0.9666666666666667, 0.933...</td>\n",
       "      <td>[0.9666666666666667, 1.0, 0.9333333333333333, ...</td>\n",
       "    </tr>\n",
       "    <tr>\n",
       "      <th>avg_score</th>\n",
       "      <td>0.753333</td>\n",
       "      <td>0.566667</td>\n",
       "      <td>0.953333</td>\n",
       "      <td>0.96</td>\n",
       "      <td>0.813333</td>\n",
       "      <td>0.953333</td>\n",
       "      <td>0.953333</td>\n",
       "      <td>0.953333</td>\n",
       "      <td>0.94</td>\n",
       "      <td>0.96</td>\n",
       "      <td>0.953333</td>\n",
       "      <td>0.946667</td>\n",
       "      <td>0.966667</td>\n",
       "      <td>0.966667</td>\n",
       "      <td>0.973333</td>\n",
       "    </tr>\n",
       "    <tr>\n",
       "      <th>feature_names</th>\n",
       "      <td>(sepal_length,)</td>\n",
       "      <td>(sepal_width,)</td>\n",
       "      <td>(petal_length,)</td>\n",
       "      <td>(petal_width,)</td>\n",
       "      <td>(sepal_length, sepal_width)</td>\n",
       "      <td>(sepal_length, petal_length)</td>\n",
       "      <td>(sepal_length, petal_width)</td>\n",
       "      <td>(sepal_width, petal_length)</td>\n",
       "      <td>(sepal_width, petal_width)</td>\n",
       "      <td>(petal_length, petal_width)</td>\n",
       "      <td>(sepal_length, sepal_width, petal_length)</td>\n",
       "      <td>(sepal_length, sepal_width, petal_width)</td>\n",
       "      <td>(sepal_length, petal_length, petal_width)</td>\n",
       "      <td>(sepal_width, petal_length, petal_width)</td>\n",
       "      <td>(sepal_length, sepal_width, petal_length, peta...</td>\n",
       "    </tr>\n",
       "  </tbody>\n",
       "</table>\n",
       "</div>"
      ],
      "text/plain": [
       "                                                              0   \\\n",
       "feature_idx                                                 (0,)   \n",
       "cv_scores      [0.6666666666666666, 0.7333333333333333, 0.766...   \n",
       "avg_score                                               0.753333   \n",
       "feature_names                                    (sepal_length,)   \n",
       "\n",
       "                                                              1   \\\n",
       "feature_idx                                                 (1,)   \n",
       "cv_scores      [0.5333333333333333, 0.5666666666666667, 0.533...   \n",
       "avg_score                                               0.566667   \n",
       "feature_names                                     (sepal_width,)   \n",
       "\n",
       "                                                              2   \\\n",
       "feature_idx                                                 (2,)   \n",
       "cv_scores      [0.9333333333333333, 1.0, 0.9, 0.9333333333333...   \n",
       "avg_score                                               0.953333   \n",
       "feature_names                                    (petal_length,)   \n",
       "\n",
       "                                                              3   \\\n",
       "feature_idx                                                 (3,)   \n",
       "cv_scores      [1.0, 0.9666666666666667, 0.9, 0.9333333333333...   \n",
       "avg_score                                                   0.96   \n",
       "feature_names                                     (petal_width,)   \n",
       "\n",
       "                                                              4   \\\n",
       "feature_idx                                               (0, 1)   \n",
       "cv_scores      [0.7333333333333333, 0.8333333333333334, 0.766...   \n",
       "avg_score                                               0.813333   \n",
       "feature_names                        (sepal_length, sepal_width)   \n",
       "\n",
       "                                                              5   \\\n",
       "feature_idx                                               (0, 2)   \n",
       "cv_scores      [0.9333333333333333, 1.0, 0.9, 0.9333333333333...   \n",
       "avg_score                                               0.953333   \n",
       "feature_names                       (sepal_length, petal_length)   \n",
       "\n",
       "                                                              6   \\\n",
       "feature_idx                                               (0, 3)   \n",
       "cv_scores      [0.9333333333333333, 0.9666666666666667, 0.933...   \n",
       "avg_score                                               0.953333   \n",
       "feature_names                        (sepal_length, petal_width)   \n",
       "\n",
       "                                                              7   \\\n",
       "feature_idx                                               (1, 2)   \n",
       "cv_scores      [0.9333333333333333, 1.0, 0.9, 0.9333333333333...   \n",
       "avg_score                                               0.953333   \n",
       "feature_names                        (sepal_width, petal_length)   \n",
       "\n",
       "                                                              8   \\\n",
       "feature_idx                                               (1, 3)   \n",
       "cv_scores      [0.9333333333333333, 0.9666666666666667, 0.9, ...   \n",
       "avg_score                                                   0.94   \n",
       "feature_names                         (sepal_width, petal_width)   \n",
       "\n",
       "                                                              9   \\\n",
       "feature_idx                                               (2, 3)   \n",
       "cv_scores      [0.9666666666666667, 0.9666666666666667, 0.933...   \n",
       "avg_score                                                   0.96   \n",
       "feature_names                        (petal_length, petal_width)   \n",
       "\n",
       "                                                              10  \\\n",
       "feature_idx                                            (0, 1, 2)   \n",
       "cv_scores      [0.9333333333333333, 1.0, 0.9, 0.9333333333333...   \n",
       "avg_score                                               0.953333   \n",
       "feature_names          (sepal_length, sepal_width, petal_length)   \n",
       "\n",
       "                                                              11  \\\n",
       "feature_idx                                            (0, 1, 3)   \n",
       "cv_scores      [0.9, 0.9666666666666667, 0.9333333333333333, ...   \n",
       "avg_score                                               0.946667   \n",
       "feature_names           (sepal_length, sepal_width, petal_width)   \n",
       "\n",
       "                                                              12  \\\n",
       "feature_idx                                            (0, 2, 3)   \n",
       "cv_scores      [0.9666666666666667, 0.9666666666666667, 0.933...   \n",
       "avg_score                                               0.966667   \n",
       "feature_names          (sepal_length, petal_length, petal_width)   \n",
       "\n",
       "                                                              13  \\\n",
       "feature_idx                                            (1, 2, 3)   \n",
       "cv_scores      [0.9666666666666667, 0.9666666666666667, 0.933...   \n",
       "avg_score                                               0.966667   \n",
       "feature_names           (sepal_width, petal_length, petal_width)   \n",
       "\n",
       "                                                              14  \n",
       "feature_idx                                         (0, 1, 2, 3)  \n",
       "cv_scores      [0.9666666666666667, 1.0, 0.9333333333333333, ...  \n",
       "avg_score                                               0.973333  \n",
       "feature_names  (sepal_length, sepal_width, petal_length, peta...  "
      ]
     },
     "execution_count": 460,
     "metadata": {},
     "output_type": "execute_result"
    }
   ],
   "source": [
    "# We can also see all the subset and their accuracy\n",
    "col_accuracy = pd.DataFrame(Model_EFS.subsets_)\n",
    "col_accuracy"
   ]
  },
  {
   "cell_type": "code",
   "execution_count": 461,
   "id": "9689fd0b",
   "metadata": {},
   "outputs": [
    {
     "data": {
      "text/html": [
       "<div>\n",
       "<style scoped>\n",
       "    .dataframe tbody tr th:only-of-type {\n",
       "        vertical-align: middle;\n",
       "    }\n",
       "\n",
       "    .dataframe tbody tr th {\n",
       "        vertical-align: top;\n",
       "    }\n",
       "\n",
       "    .dataframe thead th {\n",
       "        text-align: right;\n",
       "    }\n",
       "</style>\n",
       "<table border=\"1\" class=\"dataframe\">\n",
       "  <thead>\n",
       "    <tr style=\"text-align: right;\">\n",
       "      <th></th>\n",
       "      <th>feature_idx</th>\n",
       "      <th>cv_scores</th>\n",
       "      <th>avg_score</th>\n",
       "      <th>feature_names</th>\n",
       "      <th>ci_bound</th>\n",
       "      <th>std_dev</th>\n",
       "      <th>std_err</th>\n",
       "    </tr>\n",
       "  </thead>\n",
       "  <tbody>\n",
       "    <tr>\n",
       "      <th>0</th>\n",
       "      <td>(0,)</td>\n",
       "      <td>[0.6666666666666666, 0.7333333333333333, 0.766...</td>\n",
       "      <td>0.753333</td>\n",
       "      <td>(sepal_length,)</td>\n",
       "      <td>0.069612</td>\n",
       "      <td>0.05416</td>\n",
       "      <td>0.02708</td>\n",
       "    </tr>\n",
       "    <tr>\n",
       "      <th>1</th>\n",
       "      <td>(1,)</td>\n",
       "      <td>[0.5333333333333333, 0.5666666666666667, 0.533...</td>\n",
       "      <td>0.566667</td>\n",
       "      <td>(sepal_width,)</td>\n",
       "      <td>0.046932</td>\n",
       "      <td>0.036515</td>\n",
       "      <td>0.018257</td>\n",
       "    </tr>\n",
       "    <tr>\n",
       "      <th>2</th>\n",
       "      <td>(2,)</td>\n",
       "      <td>[0.9333333333333333, 1.0, 0.9, 0.9333333333333...</td>\n",
       "      <td>0.953333</td>\n",
       "      <td>(petal_length,)</td>\n",
       "      <td>0.051412</td>\n",
       "      <td>0.04</td>\n",
       "      <td>0.02</td>\n",
       "    </tr>\n",
       "    <tr>\n",
       "      <th>3</th>\n",
       "      <td>(3,)</td>\n",
       "      <td>[1.0, 0.9666666666666667, 0.9, 0.9333333333333...</td>\n",
       "      <td>0.96</td>\n",
       "      <td>(petal_width,)</td>\n",
       "      <td>0.049963</td>\n",
       "      <td>0.038873</td>\n",
       "      <td>0.019437</td>\n",
       "    </tr>\n",
       "    <tr>\n",
       "      <th>4</th>\n",
       "      <td>(0, 1)</td>\n",
       "      <td>[0.7333333333333333, 0.8333333333333334, 0.766...</td>\n",
       "      <td>0.813333</td>\n",
       "      <td>(sepal_length, sepal_width)</td>\n",
       "      <td>0.069612</td>\n",
       "      <td>0.05416</td>\n",
       "      <td>0.02708</td>\n",
       "    </tr>\n",
       "    <tr>\n",
       "      <th>5</th>\n",
       "      <td>(0, 2)</td>\n",
       "      <td>[0.9333333333333333, 1.0, 0.9, 0.9333333333333...</td>\n",
       "      <td>0.953333</td>\n",
       "      <td>(sepal_length, petal_length)</td>\n",
       "      <td>0.051412</td>\n",
       "      <td>0.04</td>\n",
       "      <td>0.02</td>\n",
       "    </tr>\n",
       "    <tr>\n",
       "      <th>6</th>\n",
       "      <td>(0, 3)</td>\n",
       "      <td>[0.9333333333333333, 0.9666666666666667, 0.933...</td>\n",
       "      <td>0.953333</td>\n",
       "      <td>(sepal_length, petal_width)</td>\n",
       "      <td>0.034274</td>\n",
       "      <td>0.026667</td>\n",
       "      <td>0.013333</td>\n",
       "    </tr>\n",
       "    <tr>\n",
       "      <th>7</th>\n",
       "      <td>(1, 2)</td>\n",
       "      <td>[0.9333333333333333, 1.0, 0.9, 0.9333333333333...</td>\n",
       "      <td>0.953333</td>\n",
       "      <td>(sepal_width, petal_length)</td>\n",
       "      <td>0.051412</td>\n",
       "      <td>0.04</td>\n",
       "      <td>0.02</td>\n",
       "    </tr>\n",
       "    <tr>\n",
       "      <th>8</th>\n",
       "      <td>(1, 3)</td>\n",
       "      <td>[0.9333333333333333, 0.9666666666666667, 0.9, ...</td>\n",
       "      <td>0.94</td>\n",
       "      <td>(sepal_width, petal_width)</td>\n",
       "      <td>0.032061</td>\n",
       "      <td>0.024944</td>\n",
       "      <td>0.012472</td>\n",
       "    </tr>\n",
       "    <tr>\n",
       "      <th>9</th>\n",
       "      <td>(2, 3)</td>\n",
       "      <td>[0.9666666666666667, 0.9666666666666667, 0.933...</td>\n",
       "      <td>0.96</td>\n",
       "      <td>(petal_length, petal_width)</td>\n",
       "      <td>0.032061</td>\n",
       "      <td>0.024944</td>\n",
       "      <td>0.012472</td>\n",
       "    </tr>\n",
       "    <tr>\n",
       "      <th>10</th>\n",
       "      <td>(0, 1, 2)</td>\n",
       "      <td>[0.9333333333333333, 1.0, 0.9, 0.9333333333333...</td>\n",
       "      <td>0.953333</td>\n",
       "      <td>(sepal_length, sepal_width, petal_length)</td>\n",
       "      <td>0.051412</td>\n",
       "      <td>0.04</td>\n",
       "      <td>0.02</td>\n",
       "    </tr>\n",
       "    <tr>\n",
       "      <th>11</th>\n",
       "      <td>(0, 1, 3)</td>\n",
       "      <td>[0.9, 0.9666666666666667, 0.9333333333333333, ...</td>\n",
       "      <td>0.946667</td>\n",
       "      <td>(sepal_length, sepal_width, petal_width)</td>\n",
       "      <td>0.043691</td>\n",
       "      <td>0.033993</td>\n",
       "      <td>0.016997</td>\n",
       "    </tr>\n",
       "    <tr>\n",
       "      <th>12</th>\n",
       "      <td>(0, 2, 3)</td>\n",
       "      <td>[0.9666666666666667, 0.9666666666666667, 0.933...</td>\n",
       "      <td>0.966667</td>\n",
       "      <td>(sepal_length, petal_length, petal_width)</td>\n",
       "      <td>0.027096</td>\n",
       "      <td>0.021082</td>\n",
       "      <td>0.010541</td>\n",
       "    </tr>\n",
       "    <tr>\n",
       "      <th>13</th>\n",
       "      <td>(1, 2, 3)</td>\n",
       "      <td>[0.9666666666666667, 0.9666666666666667, 0.933...</td>\n",
       "      <td>0.966667</td>\n",
       "      <td>(sepal_width, petal_length, petal_width)</td>\n",
       "      <td>0.027096</td>\n",
       "      <td>0.021082</td>\n",
       "      <td>0.010541</td>\n",
       "    </tr>\n",
       "    <tr>\n",
       "      <th>14</th>\n",
       "      <td>(0, 1, 2, 3)</td>\n",
       "      <td>[0.9666666666666667, 1.0, 0.9333333333333333, ...</td>\n",
       "      <td>0.973333</td>\n",
       "      <td>(sepal_length, sepal_width, petal_length, peta...</td>\n",
       "      <td>0.032061</td>\n",
       "      <td>0.024944</td>\n",
       "      <td>0.012472</td>\n",
       "    </tr>\n",
       "  </tbody>\n",
       "</table>\n",
       "</div>"
      ],
      "text/plain": [
       "     feature_idx                                          cv_scores avg_score  \\\n",
       "0           (0,)  [0.6666666666666666, 0.7333333333333333, 0.766...  0.753333   \n",
       "1           (1,)  [0.5333333333333333, 0.5666666666666667, 0.533...  0.566667   \n",
       "2           (2,)  [0.9333333333333333, 1.0, 0.9, 0.9333333333333...  0.953333   \n",
       "3           (3,)  [1.0, 0.9666666666666667, 0.9, 0.9333333333333...      0.96   \n",
       "4         (0, 1)  [0.7333333333333333, 0.8333333333333334, 0.766...  0.813333   \n",
       "5         (0, 2)  [0.9333333333333333, 1.0, 0.9, 0.9333333333333...  0.953333   \n",
       "6         (0, 3)  [0.9333333333333333, 0.9666666666666667, 0.933...  0.953333   \n",
       "7         (1, 2)  [0.9333333333333333, 1.0, 0.9, 0.9333333333333...  0.953333   \n",
       "8         (1, 3)  [0.9333333333333333, 0.9666666666666667, 0.9, ...      0.94   \n",
       "9         (2, 3)  [0.9666666666666667, 0.9666666666666667, 0.933...      0.96   \n",
       "10     (0, 1, 2)  [0.9333333333333333, 1.0, 0.9, 0.9333333333333...  0.953333   \n",
       "11     (0, 1, 3)  [0.9, 0.9666666666666667, 0.9333333333333333, ...  0.946667   \n",
       "12     (0, 2, 3)  [0.9666666666666667, 0.9666666666666667, 0.933...  0.966667   \n",
       "13     (1, 2, 3)  [0.9666666666666667, 0.9666666666666667, 0.933...  0.966667   \n",
       "14  (0, 1, 2, 3)  [0.9666666666666667, 1.0, 0.9333333333333333, ...  0.973333   \n",
       "\n",
       "                                        feature_names  ci_bound   std_dev  \\\n",
       "0                                     (sepal_length,)  0.069612   0.05416   \n",
       "1                                      (sepal_width,)  0.046932  0.036515   \n",
       "2                                     (petal_length,)  0.051412      0.04   \n",
       "3                                      (petal_width,)  0.049963  0.038873   \n",
       "4                         (sepal_length, sepal_width)  0.069612   0.05416   \n",
       "5                        (sepal_length, petal_length)  0.051412      0.04   \n",
       "6                         (sepal_length, petal_width)  0.034274  0.026667   \n",
       "7                         (sepal_width, petal_length)  0.051412      0.04   \n",
       "8                          (sepal_width, petal_width)  0.032061  0.024944   \n",
       "9                         (petal_length, petal_width)  0.032061  0.024944   \n",
       "10          (sepal_length, sepal_width, petal_length)  0.051412      0.04   \n",
       "11           (sepal_length, sepal_width, petal_width)  0.043691  0.033993   \n",
       "12          (sepal_length, petal_length, petal_width)  0.027096  0.021082   \n",
       "13           (sepal_width, petal_length, petal_width)  0.027096  0.021082   \n",
       "14  (sepal_length, sepal_width, petal_length, peta...  0.032061  0.024944   \n",
       "\n",
       "     std_err  \n",
       "0    0.02708  \n",
       "1   0.018257  \n",
       "2       0.02  \n",
       "3   0.019437  \n",
       "4    0.02708  \n",
       "5       0.02  \n",
       "6   0.013333  \n",
       "7       0.02  \n",
       "8   0.012472  \n",
       "9   0.012472  \n",
       "10      0.02  \n",
       "11  0.016997  \n",
       "12  0.010541  \n",
       "13  0.010541  \n",
       "14  0.012472  "
      ]
     },
     "execution_count": 461,
     "metadata": {},
     "output_type": "execute_result"
    }
   ],
   "source": [
    "# Getting model output data in dataframe\n",
    "df_col_accuracy = pd.DataFrame.from_dict(Model_EFS.get_metric_dict()).T\n",
    "df_col_accuracy"
   ]
  },
  {
   "cell_type": "code",
   "execution_count": 463,
   "id": "e47ae4c2",
   "metadata": {},
   "outputs": [
    {
     "data": {
      "text/html": [
       "<div>\n",
       "<style scoped>\n",
       "    .dataframe tbody tr th:only-of-type {\n",
       "        vertical-align: middle;\n",
       "    }\n",
       "\n",
       "    .dataframe tbody tr th {\n",
       "        vertical-align: top;\n",
       "    }\n",
       "\n",
       "    .dataframe thead th {\n",
       "        text-align: right;\n",
       "    }\n",
       "</style>\n",
       "<table border=\"1\" class=\"dataframe\">\n",
       "  <thead>\n",
       "    <tr style=\"text-align: right;\">\n",
       "      <th></th>\n",
       "      <th>feature_idx</th>\n",
       "      <th>cv_scores</th>\n",
       "      <th>avg_score</th>\n",
       "      <th>feature_names</th>\n",
       "    </tr>\n",
       "  </thead>\n",
       "  <tbody>\n",
       "    <tr>\n",
       "      <th>0</th>\n",
       "      <td>(0,)</td>\n",
       "      <td>[0.6666666666666666, 0.7333333333333333, 0.766...</td>\n",
       "      <td>0.753333</td>\n",
       "      <td>(sepal_length,)</td>\n",
       "    </tr>\n",
       "    <tr>\n",
       "      <th>1</th>\n",
       "      <td>(1,)</td>\n",
       "      <td>[0.5333333333333333, 0.5666666666666667, 0.533...</td>\n",
       "      <td>0.566667</td>\n",
       "      <td>(sepal_width,)</td>\n",
       "    </tr>\n",
       "    <tr>\n",
       "      <th>2</th>\n",
       "      <td>(2,)</td>\n",
       "      <td>[0.9333333333333333, 1.0, 0.9, 0.9333333333333...</td>\n",
       "      <td>0.953333</td>\n",
       "      <td>(petal_length,)</td>\n",
       "    </tr>\n",
       "    <tr>\n",
       "      <th>3</th>\n",
       "      <td>(3,)</td>\n",
       "      <td>[1.0, 0.9666666666666667, 0.9, 0.9333333333333...</td>\n",
       "      <td>0.960000</td>\n",
       "      <td>(petal_width,)</td>\n",
       "    </tr>\n",
       "    <tr>\n",
       "      <th>4</th>\n",
       "      <td>(0, 1)</td>\n",
       "      <td>[0.7333333333333333, 0.8333333333333334, 0.766...</td>\n",
       "      <td>0.813333</td>\n",
       "      <td>(sepal_length, sepal_width)</td>\n",
       "    </tr>\n",
       "    <tr>\n",
       "      <th>5</th>\n",
       "      <td>(0, 2)</td>\n",
       "      <td>[0.9333333333333333, 1.0, 0.9, 0.9333333333333...</td>\n",
       "      <td>0.953333</td>\n",
       "      <td>(sepal_length, petal_length)</td>\n",
       "    </tr>\n",
       "    <tr>\n",
       "      <th>6</th>\n",
       "      <td>(0, 3)</td>\n",
       "      <td>[0.9333333333333333, 0.9666666666666667, 0.933...</td>\n",
       "      <td>0.953333</td>\n",
       "      <td>(sepal_length, petal_width)</td>\n",
       "    </tr>\n",
       "    <tr>\n",
       "      <th>7</th>\n",
       "      <td>(1, 2)</td>\n",
       "      <td>[0.9333333333333333, 1.0, 0.9, 0.9333333333333...</td>\n",
       "      <td>0.953333</td>\n",
       "      <td>(sepal_width, petal_length)</td>\n",
       "    </tr>\n",
       "    <tr>\n",
       "      <th>8</th>\n",
       "      <td>(1, 3)</td>\n",
       "      <td>[0.9333333333333333, 0.9666666666666667, 0.9, ...</td>\n",
       "      <td>0.940000</td>\n",
       "      <td>(sepal_width, petal_width)</td>\n",
       "    </tr>\n",
       "    <tr>\n",
       "      <th>9</th>\n",
       "      <td>(2, 3)</td>\n",
       "      <td>[0.9666666666666667, 0.9666666666666667, 0.933...</td>\n",
       "      <td>0.960000</td>\n",
       "      <td>(petal_length, petal_width)</td>\n",
       "    </tr>\n",
       "    <tr>\n",
       "      <th>10</th>\n",
       "      <td>(0, 1, 2)</td>\n",
       "      <td>[0.9333333333333333, 1.0, 0.9, 0.9333333333333...</td>\n",
       "      <td>0.953333</td>\n",
       "      <td>(sepal_length, sepal_width, petal_length)</td>\n",
       "    </tr>\n",
       "    <tr>\n",
       "      <th>11</th>\n",
       "      <td>(0, 1, 3)</td>\n",
       "      <td>[0.9, 0.9666666666666667, 0.9333333333333333, ...</td>\n",
       "      <td>0.946667</td>\n",
       "      <td>(sepal_length, sepal_width, petal_width)</td>\n",
       "    </tr>\n",
       "    <tr>\n",
       "      <th>12</th>\n",
       "      <td>(0, 2, 3)</td>\n",
       "      <td>[0.9666666666666667, 0.9666666666666667, 0.933...</td>\n",
       "      <td>0.966667</td>\n",
       "      <td>(sepal_length, petal_length, petal_width)</td>\n",
       "    </tr>\n",
       "    <tr>\n",
       "      <th>13</th>\n",
       "      <td>(1, 2, 3)</td>\n",
       "      <td>[0.9666666666666667, 0.9666666666666667, 0.933...</td>\n",
       "      <td>0.966667</td>\n",
       "      <td>(sepal_width, petal_length, petal_width)</td>\n",
       "    </tr>\n",
       "    <tr>\n",
       "      <th>14</th>\n",
       "      <td>(0, 1, 2, 3)</td>\n",
       "      <td>[0.9666666666666667, 1.0, 0.9333333333333333, ...</td>\n",
       "      <td>0.973333</td>\n",
       "      <td>(sepal_length, sepal_width, petal_length, peta...</td>\n",
       "    </tr>\n",
       "  </tbody>\n",
       "</table>\n",
       "</div>"
      ],
      "text/plain": [
       "     feature_idx                                          cv_scores  \\\n",
       "0           (0,)  [0.6666666666666666, 0.7333333333333333, 0.766...   \n",
       "1           (1,)  [0.5333333333333333, 0.5666666666666667, 0.533...   \n",
       "2           (2,)  [0.9333333333333333, 1.0, 0.9, 0.9333333333333...   \n",
       "3           (3,)  [1.0, 0.9666666666666667, 0.9, 0.9333333333333...   \n",
       "4         (0, 1)  [0.7333333333333333, 0.8333333333333334, 0.766...   \n",
       "5         (0, 2)  [0.9333333333333333, 1.0, 0.9, 0.9333333333333...   \n",
       "6         (0, 3)  [0.9333333333333333, 0.9666666666666667, 0.933...   \n",
       "7         (1, 2)  [0.9333333333333333, 1.0, 0.9, 0.9333333333333...   \n",
       "8         (1, 3)  [0.9333333333333333, 0.9666666666666667, 0.9, ...   \n",
       "9         (2, 3)  [0.9666666666666667, 0.9666666666666667, 0.933...   \n",
       "10     (0, 1, 2)  [0.9333333333333333, 1.0, 0.9, 0.9333333333333...   \n",
       "11     (0, 1, 3)  [0.9, 0.9666666666666667, 0.9333333333333333, ...   \n",
       "12     (0, 2, 3)  [0.9666666666666667, 0.9666666666666667, 0.933...   \n",
       "13     (1, 2, 3)  [0.9666666666666667, 0.9666666666666667, 0.933...   \n",
       "14  (0, 1, 2, 3)  [0.9666666666666667, 1.0, 0.9333333333333333, ...   \n",
       "\n",
       "    avg_score                                      feature_names  \n",
       "0    0.753333                                    (sepal_length,)  \n",
       "1    0.566667                                     (sepal_width,)  \n",
       "2    0.953333                                    (petal_length,)  \n",
       "3    0.960000                                     (petal_width,)  \n",
       "4    0.813333                        (sepal_length, sepal_width)  \n",
       "5    0.953333                       (sepal_length, petal_length)  \n",
       "6    0.953333                        (sepal_length, petal_width)  \n",
       "7    0.953333                        (sepal_width, petal_length)  \n",
       "8    0.940000                         (sepal_width, petal_width)  \n",
       "9    0.960000                        (petal_length, petal_width)  \n",
       "10   0.953333          (sepal_length, sepal_width, petal_length)  \n",
       "11   0.946667           (sepal_length, sepal_width, petal_width)  \n",
       "12   0.966667          (sepal_length, petal_length, petal_width)  \n",
       "13   0.966667           (sepal_width, petal_length, petal_width)  \n",
       "14   0.973333  (sepal_length, sepal_width, petal_length, peta...  "
      ]
     },
     "execution_count": 463,
     "metadata": {},
     "output_type": "execute_result"
    }
   ],
   "source": [
    "# Getting model output data in dataframe\n",
    "#my_dict = dict(Model_EFS.subsets_)\n",
    "df1= pd.DataFrame(my_dict.values())\n",
    "df1"
   ]
  },
  {
   "cell_type": "markdown",
   "id": "c1e5226c",
   "metadata": {},
   "source": [
    "## Regression Problem"
   ]
  },
  {
   "cell_type": "code",
   "execution_count": null,
   "id": "8097342c",
   "metadata": {},
   "outputs": [],
   "source": [
    "#from sklearn import datasets\n",
    "#boston = datasets.load_boston()\n",
    "#boston = datasets.load_boston()\n",
    "#x = pd.DataFrame(boston.data)\n",
    "#x.head(3)"
   ]
  },
  {
   "cell_type": "code",
   "execution_count": 464,
   "id": "79ef4776",
   "metadata": {},
   "outputs": [
    {
     "data": {
      "text/html": [
       "<div>\n",
       "<style scoped>\n",
       "    .dataframe tbody tr th:only-of-type {\n",
       "        vertical-align: middle;\n",
       "    }\n",
       "\n",
       "    .dataframe tbody tr th {\n",
       "        vertical-align: top;\n",
       "    }\n",
       "\n",
       "    .dataframe thead th {\n",
       "        text-align: right;\n",
       "    }\n",
       "</style>\n",
       "<table border=\"1\" class=\"dataframe\">\n",
       "  <thead>\n",
       "    <tr style=\"text-align: right;\">\n",
       "      <th></th>\n",
       "      <th>crim</th>\n",
       "      <th>zn</th>\n",
       "      <th>indus</th>\n",
       "      <th>chas</th>\n",
       "      <th>nox</th>\n",
       "      <th>rm</th>\n",
       "      <th>age</th>\n",
       "      <th>dis</th>\n",
       "      <th>rad</th>\n",
       "      <th>tax</th>\n",
       "      <th>ptratio</th>\n",
       "      <th>b</th>\n",
       "      <th>lstat</th>\n",
       "      <th>medv</th>\n",
       "    </tr>\n",
       "  </thead>\n",
       "  <tbody>\n",
       "    <tr>\n",
       "      <th>0</th>\n",
       "      <td>0.00632</td>\n",
       "      <td>18.0</td>\n",
       "      <td>2.31</td>\n",
       "      <td>0</td>\n",
       "      <td>0.538</td>\n",
       "      <td>6.575</td>\n",
       "      <td>65.2</td>\n",
       "      <td>4.0900</td>\n",
       "      <td>1</td>\n",
       "      <td>296</td>\n",
       "      <td>15.3</td>\n",
       "      <td>396.9</td>\n",
       "      <td>4.98</td>\n",
       "      <td>24.0</td>\n",
       "    </tr>\n",
       "    <tr>\n",
       "      <th>1</th>\n",
       "      <td>0.02731</td>\n",
       "      <td>0.0</td>\n",
       "      <td>7.07</td>\n",
       "      <td>0</td>\n",
       "      <td>0.469</td>\n",
       "      <td>6.421</td>\n",
       "      <td>78.9</td>\n",
       "      <td>4.9671</td>\n",
       "      <td>2</td>\n",
       "      <td>242</td>\n",
       "      <td>17.8</td>\n",
       "      <td>396.9</td>\n",
       "      <td>9.14</td>\n",
       "      <td>21.6</td>\n",
       "    </tr>\n",
       "  </tbody>\n",
       "</table>\n",
       "</div>"
      ],
      "text/plain": [
       "      crim    zn  indus  chas    nox     rm   age     dis  rad  tax  ptratio  \\\n",
       "0  0.00632  18.0   2.31     0  0.538  6.575  65.2  4.0900    1  296     15.3   \n",
       "1  0.02731   0.0   7.07     0  0.469  6.421  78.9  4.9671    2  242     17.8   \n",
       "\n",
       "       b  lstat  medv  \n",
       "0  396.9   4.98  24.0  \n",
       "1  396.9   9.14  21.6  "
      ]
     },
     "execution_count": 464,
     "metadata": {},
     "output_type": "execute_result"
    }
   ],
   "source": [
    "df = pd.read_csv('BostonHousing.csv')\n",
    "df.head(2)"
   ]
  },
  {
   "cell_type": "code",
   "execution_count": null,
   "id": "66fc8ca6",
   "metadata": {},
   "outputs": [],
   "source": []
  },
  {
   "cell_type": "code",
   "execution_count": 465,
   "id": "f20eff54",
   "metadata": {},
   "outputs": [],
   "source": [
    "x = df.iloc[: , :-1]\n",
    "y = df.iloc[: , -1]"
   ]
  },
  {
   "cell_type": "code",
   "execution_count": 466,
   "id": "dc39697a",
   "metadata": {},
   "outputs": [],
   "source": [
    "from sklearn.model_selection import train_test_split\n",
    "X_Train, X_Test,y_train, y_test  = train_test_split(x, y, test_size=0.2, random_state=1)"
   ]
  },
  {
   "cell_type": "code",
   "execution_count": 467,
   "id": "d6f95e66",
   "metadata": {},
   "outputs": [
    {
     "name": "stdout",
     "output_type": "stream",
     "text": [
      "(404, 13)\n"
     ]
    }
   ],
   "source": [
    "print(X_Train.shape)"
   ]
  },
  {
   "cell_type": "code",
   "execution_count": 468,
   "id": "05bdb134",
   "metadata": {},
   "outputs": [],
   "source": [
    "# We have to stanrdardize our dataset\n",
    "from sklearn.preprocessing import StandardScaler\n",
    "sc = StandardScaler()\n",
    "X_train = sc.fit_transform(X_Train)\n",
    "X_test = sc.fit_transform(X_Test)"
   ]
  },
  {
   "cell_type": "code",
   "execution_count": null,
   "id": "97c0c37b",
   "metadata": {},
   "outputs": [],
   "source": []
  },
  {
   "cell_type": "markdown",
   "id": "674db315",
   "metadata": {},
   "source": [
    "###### Base Line Model  (Minimum Viable Product)"
   ]
  },
  {
   "cell_type": "code",
   "execution_count": 469,
   "id": "088068ce",
   "metadata": {},
   "outputs": [],
   "source": [
    "from sklearn.linear_model import LinearRegression , LogisticRegression\n",
    "from sklearn.model_selection import cross_val_score\n",
    "from sklearn.metrics import  adjusted_mutual_info_score,r2_score\n",
    "lr = LinearRegression()"
   ]
  },
  {
   "cell_type": "code",
   "execution_count": 470,
   "id": "2b1b2ced",
   "metadata": {},
   "outputs": [],
   "source": [
    "lr=LinearRegression()"
   ]
  },
  {
   "cell_type": "code",
   "execution_count": 471,
   "id": "b38694cf",
   "metadata": {},
   "outputs": [
    {
     "name": "stdout",
     "output_type": "stream",
     "text": [
      "Variance score: 0.7293585058196337\n",
      "Variance score: 0.7707631420978828\n"
     ]
    }
   ],
   "source": [
    "import numpy as np\n",
    "lr.fit(X_train, y_train)\n",
    "print('Variance score: {}'.format(lr.score(X_train, y_train)))\n",
    "print('Variance score: {}'.format(lr.score(X_test, y_test)))"
   ]
  },
  {
   "cell_type": "code",
   "execution_count": 472,
   "id": "2f84fe73",
   "metadata": {},
   "outputs": [
    {
     "name": "stdout",
     "output_type": "stream",
     "text": [
      "training 0.7025123301096212\n",
      "testing 0.6514899901155413\n"
     ]
    }
   ],
   "source": [
    "print(\"training\",np.mean(cross_val_score(model, X_train, y_train, cv=5, scoring='r2')))\n",
    "print(\"testing\",np.mean(cross_val_score(model, X_test, y_test, cv=5, scoring='r2')))"
   ]
  },
  {
   "cell_type": "markdown",
   "id": "69680405",
   "metadata": {},
   "source": [
    "print(\"training\",np.mean(cross_val_score(model, X_train, y_train, cv=5, scoring='r2')))\n",
    "print(\"testing\",np.mean(cross_val_score(model, X_test, y_test, cv=5, scoring='r2')))"
   ]
  },
  {
   "cell_type": "markdown",
   "id": "d365e6ba",
   "metadata": {},
   "source": [
    "## Model with Exhaustive Feature Selection"
   ]
  },
  {
   "cell_type": "code",
   "execution_count": 473,
   "id": "b79452e4",
   "metadata": {},
   "outputs": [
    {
     "name": "stderr",
     "output_type": "stream",
     "text": [
      "Features: 8191/8191"
     ]
    }
   ],
   "source": [
    "lr = LinearRegression()\n",
    "exh = EFS(lr, max_features=13, scoring='r2', cv=10, print_progress=True,n_jobs=-1)\n",
    "sel = exh.fit(X_train, y_train)"
   ]
  },
  {
   "cell_type": "code",
   "execution_count": 474,
   "id": "5ebe3392",
   "metadata": {},
   "outputs": [
    {
     "data": {
      "text/plain": [
       "0.6827988156800064"
      ]
     },
     "execution_count": 474,
     "metadata": {},
     "output_type": "execute_result"
    }
   ],
   "source": [
    "sel.best_score_"
   ]
  },
  {
   "cell_type": "code",
   "execution_count": 475,
   "id": "21cb5ada",
   "metadata": {},
   "outputs": [
    {
     "data": {
      "text/plain": [
       "('0', '1', '4', '5', '7', '8', '9', '10', '11', '12')"
      ]
     },
     "execution_count": 475,
     "metadata": {},
     "output_type": "execute_result"
    }
   ],
   "source": [
    "sel.best_feature_names_"
   ]
  },
  {
   "cell_type": "code",
   "execution_count": 476,
   "id": "060e58e8",
   "metadata": {},
   "outputs": [
    {
     "data": {
      "text/html": [
       "<div>\n",
       "<style scoped>\n",
       "    .dataframe tbody tr th:only-of-type {\n",
       "        vertical-align: middle;\n",
       "    }\n",
       "\n",
       "    .dataframe tbody tr th {\n",
       "        vertical-align: top;\n",
       "    }\n",
       "\n",
       "    .dataframe thead th {\n",
       "        text-align: right;\n",
       "    }\n",
       "</style>\n",
       "<table border=\"1\" class=\"dataframe\">\n",
       "  <thead>\n",
       "    <tr style=\"text-align: right;\">\n",
       "      <th></th>\n",
       "      <th>feature_idx</th>\n",
       "      <th>cv_scores</th>\n",
       "      <th>avg_score</th>\n",
       "      <th>feature_names</th>\n",
       "      <th>ci_bound</th>\n",
       "      <th>std_dev</th>\n",
       "      <th>std_err</th>\n",
       "    </tr>\n",
       "  </thead>\n",
       "  <tbody>\n",
       "    <tr>\n",
       "      <th>0</th>\n",
       "      <td>(0,)</td>\n",
       "      <td>[0.03941987916919154, 0.12695789031653215, -0....</td>\n",
       "      <td>0.129009</td>\n",
       "      <td>(0,)</td>\n",
       "      <td>0.064226</td>\n",
       "      <td>0.086475</td>\n",
       "      <td>0.028825</td>\n",
       "    </tr>\n",
       "    <tr>\n",
       "      <th>1</th>\n",
       "      <td>(1,)</td>\n",
       "      <td>[0.14236716209182765, -0.10598329567838705, 0....</td>\n",
       "      <td>0.100963</td>\n",
       "      <td>(1,)</td>\n",
       "      <td>0.076751</td>\n",
       "      <td>0.103339</td>\n",
       "      <td>0.034446</td>\n",
       "    </tr>\n",
       "  </tbody>\n",
       "</table>\n",
       "</div>"
      ],
      "text/plain": [
       "  feature_idx                                          cv_scores avg_score  \\\n",
       "0        (0,)  [0.03941987916919154, 0.12695789031653215, -0....  0.129009   \n",
       "1        (1,)  [0.14236716209182765, -0.10598329567838705, 0....  0.100963   \n",
       "\n",
       "  feature_names  ci_bound   std_dev   std_err  \n",
       "0          (0,)  0.064226  0.086475  0.028825  \n",
       "1          (1,)  0.076751  0.103339  0.034446  "
      ]
     },
     "execution_count": 476,
     "metadata": {},
     "output_type": "execute_result"
    }
   ],
   "source": [
    "score_df = pd.DataFrame((sel.get_metric_dict()))\n",
    "score_df = score_df.T\n",
    "score_df.head(2)"
   ]
  },
  {
   "cell_type": "code",
   "execution_count": 477,
   "id": "364cd9f9",
   "metadata": {},
   "outputs": [
    {
     "data": {
      "text/html": [
       "<div>\n",
       "<style scoped>\n",
       "    .dataframe tbody tr th:only-of-type {\n",
       "        vertical-align: middle;\n",
       "    }\n",
       "\n",
       "    .dataframe tbody tr th {\n",
       "        vertical-align: top;\n",
       "    }\n",
       "\n",
       "    .dataframe thead th {\n",
       "        text-align: right;\n",
       "    }\n",
       "</style>\n",
       "<table border=\"1\" class=\"dataframe\">\n",
       "  <thead>\n",
       "    <tr style=\"text-align: right;\">\n",
       "      <th></th>\n",
       "      <th>feature_idx</th>\n",
       "      <th>cv_scores</th>\n",
       "      <th>avg_score</th>\n",
       "      <th>feature_names</th>\n",
       "      <th>ci_bound</th>\n",
       "      <th>std_dev</th>\n",
       "      <th>std_err</th>\n",
       "    </tr>\n",
       "  </thead>\n",
       "  <tbody>\n",
       "    <tr>\n",
       "      <th>7975</th>\n",
       "      <td>(0, 1, 4, 5, 7, 8, 9, 10, 11, 12)</td>\n",
       "      <td>[0.8855189158291968, 0.5742220049707848, 0.437...</td>\n",
       "      <td>0.682799</td>\n",
       "      <td>(0, 1, 4, 5, 7, 8, 9, 10, 11, 12)</td>\n",
       "      <td>0.096995</td>\n",
       "      <td>0.130595</td>\n",
       "      <td>0.043532</td>\n",
       "    </tr>\n",
       "    <tr>\n",
       "      <th>8141</th>\n",
       "      <td>(0, 1, 2, 4, 5, 7, 8, 9, 10, 11, 12)</td>\n",
       "      <td>[0.8792702841985803, 0.5752245789381258, 0.438...</td>\n",
       "      <td>0.681125</td>\n",
       "      <td>(0, 1, 2, 4, 5, 7, 8, 9, 10, 11, 12)</td>\n",
       "      <td>0.096068</td>\n",
       "      <td>0.129348</td>\n",
       "      <td>0.043116</td>\n",
       "    </tr>\n",
       "    <tr>\n",
       "      <th>8150</th>\n",
       "      <td>(0, 1, 3, 4, 5, 7, 8, 9, 10, 11, 12)</td>\n",
       "      <td>[0.8734082301119797, 0.5381382515761788, 0.461...</td>\n",
       "      <td>0.680994</td>\n",
       "      <td>(0, 1, 3, 4, 5, 7, 8, 9, 10, 11, 12)</td>\n",
       "      <td>0.098795</td>\n",
       "      <td>0.133019</td>\n",
       "      <td>0.04434</td>\n",
       "    </tr>\n",
       "  </tbody>\n",
       "</table>\n",
       "</div>"
      ],
      "text/plain": [
       "                               feature_idx  \\\n",
       "7975     (0, 1, 4, 5, 7, 8, 9, 10, 11, 12)   \n",
       "8141  (0, 1, 2, 4, 5, 7, 8, 9, 10, 11, 12)   \n",
       "8150  (0, 1, 3, 4, 5, 7, 8, 9, 10, 11, 12)   \n",
       "\n",
       "                                              cv_scores avg_score  \\\n",
       "7975  [0.8855189158291968, 0.5742220049707848, 0.437...  0.682799   \n",
       "8141  [0.8792702841985803, 0.5752245789381258, 0.438...  0.681125   \n",
       "8150  [0.8734082301119797, 0.5381382515761788, 0.461...  0.680994   \n",
       "\n",
       "                             feature_names  ci_bound   std_dev   std_err  \n",
       "7975     (0, 1, 4, 5, 7, 8, 9, 10, 11, 12)  0.096995  0.130595  0.043532  \n",
       "8141  (0, 1, 2, 4, 5, 7, 8, 9, 10, 11, 12)  0.096068  0.129348  0.043116  \n",
       "8150  (0, 1, 3, 4, 5, 7, 8, 9, 10, 11, 12)  0.098795  0.133019   0.04434  "
      ]
     },
     "execution_count": 477,
     "metadata": {},
     "output_type": "execute_result"
    }
   ],
   "source": [
    "score_df.sort_values('avg_score', ascending = False).head(3)"
   ]
  },
  {
   "cell_type": "markdown",
   "id": "c87a58de",
   "metadata": {},
   "source": [
    "###### Best Feature"
   ]
  },
  {
   "cell_type": "code",
   "execution_count": 478,
   "id": "beaa7d5e",
   "metadata": {},
   "outputs": [],
   "source": [
    "#(0, 1, 4, 5, 7, 8, 9, 10, 11, 12)\n"
   ]
  },
  {
   "cell_type": "code",
   "execution_count": 479,
   "id": "2c1f58e7",
   "metadata": {},
   "outputs": [
    {
     "data": {
      "text/html": [
       "<div>\n",
       "<style scoped>\n",
       "    .dataframe tbody tr th:only-of-type {\n",
       "        vertical-align: middle;\n",
       "    }\n",
       "\n",
       "    .dataframe tbody tr th {\n",
       "        vertical-align: top;\n",
       "    }\n",
       "\n",
       "    .dataframe thead th {\n",
       "        text-align: right;\n",
       "    }\n",
       "</style>\n",
       "<table border=\"1\" class=\"dataframe\">\n",
       "  <thead>\n",
       "    <tr style=\"text-align: right;\">\n",
       "      <th></th>\n",
       "      <th>crim</th>\n",
       "      <th>zn</th>\n",
       "      <th>indus</th>\n",
       "      <th>chas</th>\n",
       "      <th>nox</th>\n",
       "      <th>rm</th>\n",
       "      <th>age</th>\n",
       "      <th>dis</th>\n",
       "      <th>rad</th>\n",
       "      <th>tax</th>\n",
       "      <th>ptratio</th>\n",
       "      <th>b</th>\n",
       "      <th>lstat</th>\n",
       "      <th>medv</th>\n",
       "    </tr>\n",
       "  </thead>\n",
       "  <tbody>\n",
       "    <tr>\n",
       "      <th>0</th>\n",
       "      <td>0.00632</td>\n",
       "      <td>18.0</td>\n",
       "      <td>2.31</td>\n",
       "      <td>0</td>\n",
       "      <td>0.538</td>\n",
       "      <td>6.575</td>\n",
       "      <td>65.2</td>\n",
       "      <td>4.0900</td>\n",
       "      <td>1</td>\n",
       "      <td>296</td>\n",
       "      <td>15.3</td>\n",
       "      <td>396.9</td>\n",
       "      <td>4.98</td>\n",
       "      <td>24.0</td>\n",
       "    </tr>\n",
       "    <tr>\n",
       "      <th>1</th>\n",
       "      <td>0.02731</td>\n",
       "      <td>0.0</td>\n",
       "      <td>7.07</td>\n",
       "      <td>0</td>\n",
       "      <td>0.469</td>\n",
       "      <td>6.421</td>\n",
       "      <td>78.9</td>\n",
       "      <td>4.9671</td>\n",
       "      <td>2</td>\n",
       "      <td>242</td>\n",
       "      <td>17.8</td>\n",
       "      <td>396.9</td>\n",
       "      <td>9.14</td>\n",
       "      <td>21.6</td>\n",
       "    </tr>\n",
       "  </tbody>\n",
       "</table>\n",
       "</div>"
      ],
      "text/plain": [
       "      crim    zn  indus  chas    nox     rm   age     dis  rad  tax  ptratio  \\\n",
       "0  0.00632  18.0   2.31     0  0.538  6.575  65.2  4.0900    1  296     15.3   \n",
       "1  0.02731   0.0   7.07     0  0.469  6.421  78.9  4.9671    2  242     17.8   \n",
       "\n",
       "       b  lstat  medv  \n",
       "0  396.9   4.98  24.0  \n",
       "1  396.9   9.14  21.6  "
      ]
     },
     "execution_count": 479,
     "metadata": {},
     "output_type": "execute_result"
    }
   ],
   "source": [
    "df = pd.read_csv('BostonHousing.csv')\n",
    "df.head(2)"
   ]
  },
  {
   "cell_type": "code",
   "execution_count": 480,
   "id": "d444cda9",
   "metadata": {},
   "outputs": [
    {
     "name": "stdout",
     "output_type": "stream",
     "text": [
      "Important Feature :  crim\n",
      "Important Feature :  zn\n",
      "Important Feature :  nox\n",
      "Important Feature :  rm\n",
      "Important Feature :  dis\n",
      "Important Feature :  rad\n",
      "Important Feature :  tax\n",
      "Important Feature :  ptratio\n",
      "Important Feature :  b\n",
      "Important Feature :  lstat\n"
     ]
    }
   ],
   "source": [
    "col = list(df.columns)\n",
    "col_num = list((0, 1, 4, 5, 7, 8, 9, 10, 11, 12))\n",
    "for i in range(0,len(col)):\n",
    "    if i in col_num:\n",
    "        print('Important Feature : ',col[i] )"
   ]
  },
  {
   "cell_type": "code",
   "execution_count": null,
   "id": "185236d3",
   "metadata": {},
   "outputs": [],
   "source": []
  },
  {
   "cell_type": "markdown",
   "id": "60838182",
   "metadata": {},
   "source": [
    "### 1. High Percentage Missing Value "
   ]
  },
  {
   "cell_type": "markdown",
   "id": "dec23884",
   "metadata": {},
   "source": [
    "Any feature which has maximum missing value, we can remove such feature."
   ]
  },
  {
   "cell_type": "markdown",
   "id": "1fb290a9",
   "metadata": {},
   "source": [
    "### 2. Amount of Variation"
   ]
  },
  {
   "cell_type": "markdown",
   "id": "d1579c3b",
   "metadata": {},
   "source": [
    "### 3. Pairwise Correlation"
   ]
  },
  {
   "cell_type": "code",
   "execution_count": null,
   "id": "5462935c",
   "metadata": {},
   "outputs": [],
   "source": []
  },
  {
   "cell_type": "markdown",
   "id": "27486bcc",
   "metadata": {},
   "source": [
    "### 4. Multicolianarity"
   ]
  },
  {
   "cell_type": "code",
   "execution_count": null,
   "id": "3f6d0102",
   "metadata": {},
   "outputs": [],
   "source": []
  },
  {
   "cell_type": "markdown",
   "id": "129ca385",
   "metadata": {},
   "source": [
    "### 5. Principal Components Method"
   ]
  },
  {
   "cell_type": "code",
   "execution_count": null,
   "id": "16d5b280",
   "metadata": {},
   "outputs": [],
   "source": []
  },
  {
   "cell_type": "markdown",
   "id": "dfd6affa",
   "metadata": {},
   "source": [
    "### 6. Cluster Analysis"
   ]
  },
  {
   "cell_type": "code",
   "execution_count": null,
   "id": "3f64e111",
   "metadata": {},
   "outputs": [],
   "source": []
  },
  {
   "cell_type": "markdown",
   "id": "68e0d381",
   "metadata": {},
   "source": [
    "### 7. Correlation (with Target)"
   ]
  },
  {
   "cell_type": "code",
   "execution_count": null,
   "id": "ad32ee81",
   "metadata": {},
   "outputs": [],
   "source": []
  },
  {
   "cell_type": "markdown",
   "id": "0782881d",
   "metadata": {},
   "source": [
    "### 8. Forward Selection"
   ]
  },
  {
   "cell_type": "code",
   "execution_count": null,
   "id": "d9e87adb",
   "metadata": {},
   "outputs": [],
   "source": []
  },
  {
   "cell_type": "markdown",
   "id": "24793403",
   "metadata": {},
   "source": [
    "### 9. Backward Selection (RFE)"
   ]
  },
  {
   "cell_type": "code",
   "execution_count": null,
   "id": "099220ae",
   "metadata": {},
   "outputs": [],
   "source": []
  },
  {
   "cell_type": "markdown",
   "id": "c6d74560",
   "metadata": {},
   "source": [
    "### 10. Stepwise Selection"
   ]
  },
  {
   "cell_type": "code",
   "execution_count": null,
   "id": "06d020ab",
   "metadata": {},
   "outputs": [],
   "source": []
  },
  {
   "cell_type": "markdown",
   "id": "78fae871",
   "metadata": {},
   "source": [
    "### 11. LASSO"
   ]
  },
  {
   "cell_type": "code",
   "execution_count": null,
   "id": "ed72e58c",
   "metadata": {},
   "outputs": [],
   "source": []
  },
  {
   "cell_type": "markdown",
   "id": "8a8c9873",
   "metadata": {},
   "source": [
    "### 12. Tree Based Selection"
   ]
  },
  {
   "cell_type": "code",
   "execution_count": null,
   "id": "ab829a39",
   "metadata": {},
   "outputs": [],
   "source": []
  },
  {
   "cell_type": "markdown",
   "id": "14b8b3dc",
   "metadata": {},
   "source": [
    "https://github.com/atulpatelDS/Youtube/blob/main/Feature_Engineering/Feature%20Selection%20using%20VarianceThreshold%20to%20remove%20Constant%20and%20Quasi%20Constant%20Features%20-Tutorial%202.ipynb"
   ]
  },
  {
   "cell_type": "markdown",
   "id": "8d3f3f02",
   "metadata": {},
   "source": [
    "https://www.analyticsvidhya.com/blog/2020/10/feature-selection-techniques-in-machine-learning/"
   ]
  }
 ],
 "metadata": {
  "kernelspec": {
   "display_name": "Python 3 (ipykernel)",
   "language": "python",
   "name": "python3"
  },
  "language_info": {
   "codemirror_mode": {
    "name": "ipython",
    "version": 3
   },
   "file_extension": ".py",
   "mimetype": "text/x-python",
   "name": "python",
   "nbconvert_exporter": "python",
   "pygments_lexer": "ipython3",
   "version": "3.9.13"
  }
 },
 "nbformat": 4,
 "nbformat_minor": 5
}
