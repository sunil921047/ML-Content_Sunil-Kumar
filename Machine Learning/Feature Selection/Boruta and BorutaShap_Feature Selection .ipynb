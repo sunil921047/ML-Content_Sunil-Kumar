{
 "cells": [
  {
   "cell_type": "markdown",
   "id": "9a764e83",
   "metadata": {},
   "source": [
    "# Boruta SHAP: A Tool for Feature Selection"
   ]
  },
  {
   "cell_type": "code",
   "execution_count": 221,
   "id": "a518da81",
   "metadata": {},
   "outputs": [
    {
     "name": "stdout",
     "output_type": "stream",
     "text": [
      "Requirement already satisfied: boruta in c:\\programdata\\anaconda3\\lib\\site-packages (0.3)Note: you may need to restart the kernel to use updated packages.\n",
      "\n",
      "Requirement already satisfied: scipy>=0.17.0 in c:\\programdata\\anaconda3\\lib\\site-packages (from boruta) (1.9.1)\n",
      "Requirement already satisfied: scikit-learn>=0.17.1 in c:\\programdata\\anaconda3\\lib\\site-packages (from boruta) (1.0.2)\n",
      "Requirement already satisfied: numpy>=1.10.4 in c:\\programdata\\anaconda3\\lib\\site-packages (from boruta) (1.21.5)\n",
      "Requirement already satisfied: joblib>=0.11 in c:\\programdata\\anaconda3\\lib\\site-packages (from scikit-learn>=0.17.1->boruta) (1.1.0)\n",
      "Requirement already satisfied: threadpoolctl>=2.0.0 in c:\\programdata\\anaconda3\\lib\\site-packages (from scikit-learn>=0.17.1->boruta) (2.2.0)\n"
     ]
    }
   ],
   "source": [
    "pip install boruta"
   ]
  },
  {
   "cell_type": "code",
   "execution_count": 222,
   "id": "07c290c4",
   "metadata": {},
   "outputs": [],
   "source": [
    "from boruta import BorutaPy"
   ]
  },
  {
   "cell_type": "markdown",
   "id": "4c5d3ea0",
   "metadata": {},
   "source": [
    "###### Note: Always give X and Y in arrays only - if you are using BorutaPy"
   ]
  },
  {
   "cell_type": "code",
   "execution_count": 223,
   "id": "8db46174",
   "metadata": {},
   "outputs": [],
   "source": [
    "import pandas as pd\n",
    "from sklearn.datasets import load_iris\n",
    "from sklearn.ensemble import RandomForestClassifier\n",
    "from boruta import BorutaPy"
   ]
  },
  {
   "cell_type": "code",
   "execution_count": 224,
   "id": "14d70ac8",
   "metadata": {},
   "outputs": [],
   "source": [
    "#def load_data():\n",
    "    # URLS for dataset via UCI\n",
    "train_data_url='https://archive.ics.uci.edu/ml/machine-learning-databases/madelon/MADELON/madelon_train.data'\n",
    "train_label_url='https://archive.ics.uci.edu/ml/machine-learning-databases/madelon/MADELON/madelon_train.labels'\n",
    "X_data = pd.read_csv(train_data_url, sep=\" \", header=None)\n",
    "y_data = pd.read_csv(train_label_url, sep=\" \", header=None)"
   ]
  },
  {
   "cell_type": "code",
   "execution_count": 225,
   "id": "341e9005",
   "metadata": {},
   "outputs": [
    {
     "name": "stdout",
     "output_type": "stream",
     "text": [
      "(2000, 501)\n",
      "(2000, 1)\n"
     ]
    }
   ],
   "source": [
    "print(X_data.shape)\n",
    "print(y_data.shape)"
   ]
  },
  {
   "cell_type": "code",
   "execution_count": 226,
   "id": "ea91009e",
   "metadata": {},
   "outputs": [],
   "source": [
    "data = X_data.loc[:, :499]\n",
    "data['target'] = y_data[0]"
   ]
  },
  {
   "cell_type": "code",
   "execution_count": 227,
   "id": "e36a17f8",
   "metadata": {},
   "outputs": [
    {
     "data": {
      "text/html": [
       "<div>\n",
       "<style scoped>\n",
       "    .dataframe tbody tr th:only-of-type {\n",
       "        vertical-align: middle;\n",
       "    }\n",
       "\n",
       "    .dataframe tbody tr th {\n",
       "        vertical-align: top;\n",
       "    }\n",
       "\n",
       "    .dataframe thead th {\n",
       "        text-align: right;\n",
       "    }\n",
       "</style>\n",
       "<table border=\"1\" class=\"dataframe\">\n",
       "  <thead>\n",
       "    <tr style=\"text-align: right;\">\n",
       "      <th></th>\n",
       "      <th>0</th>\n",
       "      <th>1</th>\n",
       "      <th>2</th>\n",
       "      <th>3</th>\n",
       "      <th>4</th>\n",
       "      <th>5</th>\n",
       "      <th>6</th>\n",
       "      <th>7</th>\n",
       "      <th>8</th>\n",
       "      <th>9</th>\n",
       "      <th>...</th>\n",
       "      <th>491</th>\n",
       "      <th>492</th>\n",
       "      <th>493</th>\n",
       "      <th>494</th>\n",
       "      <th>495</th>\n",
       "      <th>496</th>\n",
       "      <th>497</th>\n",
       "      <th>498</th>\n",
       "      <th>499</th>\n",
       "      <th>target</th>\n",
       "    </tr>\n",
       "  </thead>\n",
       "  <tbody>\n",
       "    <tr>\n",
       "      <th>0</th>\n",
       "      <td>485</td>\n",
       "      <td>477</td>\n",
       "      <td>537</td>\n",
       "      <td>479</td>\n",
       "      <td>452</td>\n",
       "      <td>471</td>\n",
       "      <td>491</td>\n",
       "      <td>476</td>\n",
       "      <td>475</td>\n",
       "      <td>473</td>\n",
       "      <td>...</td>\n",
       "      <td>481</td>\n",
       "      <td>477</td>\n",
       "      <td>485</td>\n",
       "      <td>511</td>\n",
       "      <td>485</td>\n",
       "      <td>481</td>\n",
       "      <td>479</td>\n",
       "      <td>475</td>\n",
       "      <td>496</td>\n",
       "      <td>-1</td>\n",
       "    </tr>\n",
       "    <tr>\n",
       "      <th>1</th>\n",
       "      <td>483</td>\n",
       "      <td>458</td>\n",
       "      <td>460</td>\n",
       "      <td>487</td>\n",
       "      <td>587</td>\n",
       "      <td>475</td>\n",
       "      <td>526</td>\n",
       "      <td>479</td>\n",
       "      <td>485</td>\n",
       "      <td>469</td>\n",
       "      <td>...</td>\n",
       "      <td>478</td>\n",
       "      <td>487</td>\n",
       "      <td>338</td>\n",
       "      <td>513</td>\n",
       "      <td>486</td>\n",
       "      <td>483</td>\n",
       "      <td>492</td>\n",
       "      <td>510</td>\n",
       "      <td>517</td>\n",
       "      <td>-1</td>\n",
       "    </tr>\n",
       "  </tbody>\n",
       "</table>\n",
       "<p>2 rows × 501 columns</p>\n",
       "</div>"
      ],
      "text/plain": [
       "     0    1    2    3    4    5    6    7    8    9  ...  491  492  493  494  \\\n",
       "0  485  477  537  479  452  471  491  476  475  473  ...  481  477  485  511   \n",
       "1  483  458  460  487  587  475  526  479  485  469  ...  478  487  338  513   \n",
       "\n",
       "   495  496  497  498  499  target  \n",
       "0  485  481  479  475  496      -1  \n",
       "1  486  483  492  510  517      -1  \n",
       "\n",
       "[2 rows x 501 columns]"
      ]
     },
     "execution_count": 227,
     "metadata": {},
     "output_type": "execute_result"
    }
   ],
   "source": [
    "X = data.iloc[:, :-1]\n",
    "y = data.iloc[:,-1]\n",
    "data.head(2)"
   ]
  },
  {
   "cell_type": "code",
   "execution_count": 228,
   "id": "c7049b32",
   "metadata": {},
   "outputs": [],
   "source": [
    "# Splits the dataset\n",
    "from sklearn.model_selection import train_test_split\n",
    "X_train, X_test, y_train, y_test = train_test_split(X, y, test_size = 0.2, random_state = 0)"
   ]
  },
  {
   "cell_type": "markdown",
   "id": "6c243fd9",
   "metadata": {},
   "source": [
    "###### Random Forest Classifier"
   ]
  },
  {
   "cell_type": "code",
   "execution_count": 229,
   "id": "6e734d4f",
   "metadata": {},
   "outputs": [],
   "source": [
    "rfc = RandomForestClassifier(n_jobs=-1, class_weight=None, max_depth=7, min_samples_split=8,random_state=0)"
   ]
  },
  {
   "cell_type": "code",
   "execution_count": 230,
   "id": "b00c329d",
   "metadata": {
    "scrolled": false
   },
   "outputs": [],
   "source": [
    "rfc_model = rfc.fit(X_train, y_train)"
   ]
  },
  {
   "cell_type": "markdown",
   "id": "d798f737",
   "metadata": {},
   "source": [
    "###### Accuracy Check"
   ]
  },
  {
   "cell_type": "code",
   "execution_count": 231,
   "id": "2af654c1",
   "metadata": {},
   "outputs": [
    {
     "name": "stdout",
     "output_type": "stream",
     "text": [
      "Random Forest Basic Accuracy :  0.69\n"
     ]
    }
   ],
   "source": [
    "from sklearn.metrics import accuracy_score\n",
    "rfc_model_predict =rfc_model.predict(X_test)\n",
    "print('Random Forest Basic Accuracy : ' , accuracy_score(y_test, rfc_model_predict))"
   ]
  },
  {
   "cell_type": "markdown",
   "id": "74c1a19a",
   "metadata": {},
   "source": [
    "###### Top 10 Feature Importance based on Random Forest Classifer - "
   ]
  },
  {
   "cell_type": "code",
   "execution_count": 232,
   "id": "9430c1ea",
   "metadata": {},
   "outputs": [],
   "source": [
    "Col = X.columns\n",
    "rfc.feature_importances_\n",
    "col_imp = pd.DataFrame(Col, columns = ['Column Name'])\n",
    "col_imp['Importance'] = rfc.feature_importances_"
   ]
  },
  {
   "cell_type": "code",
   "execution_count": 233,
   "id": "abc516ab",
   "metadata": {},
   "outputs": [
    {
     "data": {
      "text/html": [
       "<div>\n",
       "<style scoped>\n",
       "    .dataframe tbody tr th:only-of-type {\n",
       "        vertical-align: middle;\n",
       "    }\n",
       "\n",
       "    .dataframe tbody tr th {\n",
       "        vertical-align: top;\n",
       "    }\n",
       "\n",
       "    .dataframe thead th {\n",
       "        text-align: right;\n",
       "    }\n",
       "</style>\n",
       "<table border=\"1\" class=\"dataframe\">\n",
       "  <thead>\n",
       "    <tr style=\"text-align: right;\">\n",
       "      <th></th>\n",
       "      <th>Column Name</th>\n",
       "      <th>Importance</th>\n",
       "    </tr>\n",
       "  </thead>\n",
       "  <tbody>\n",
       "    <tr>\n",
       "      <th>475</th>\n",
       "      <td>475</td>\n",
       "      <td>0.030027</td>\n",
       "    </tr>\n",
       "    <tr>\n",
       "      <th>338</th>\n",
       "      <td>338</td>\n",
       "      <td>0.024086</td>\n",
       "    </tr>\n",
       "    <tr>\n",
       "      <th>241</th>\n",
       "      <td>241</td>\n",
       "      <td>0.020665</td>\n",
       "    </tr>\n",
       "    <tr>\n",
       "      <th>105</th>\n",
       "      <td>105</td>\n",
       "      <td>0.017017</td>\n",
       "    </tr>\n",
       "    <tr>\n",
       "      <th>442</th>\n",
       "      <td>442</td>\n",
       "      <td>0.015837</td>\n",
       "    </tr>\n",
       "    <tr>\n",
       "      <th>64</th>\n",
       "      <td>64</td>\n",
       "      <td>0.015315</td>\n",
       "    </tr>\n",
       "    <tr>\n",
       "      <th>336</th>\n",
       "      <td>336</td>\n",
       "      <td>0.014541</td>\n",
       "    </tr>\n",
       "    <tr>\n",
       "      <th>128</th>\n",
       "      <td>128</td>\n",
       "      <td>0.013961</td>\n",
       "    </tr>\n",
       "    <tr>\n",
       "      <th>472</th>\n",
       "      <td>472</td>\n",
       "      <td>0.012751</td>\n",
       "    </tr>\n",
       "    <tr>\n",
       "      <th>48</th>\n",
       "      <td>48</td>\n",
       "      <td>0.010120</td>\n",
       "    </tr>\n",
       "    <tr>\n",
       "      <th>318</th>\n",
       "      <td>318</td>\n",
       "      <td>0.009818</td>\n",
       "    </tr>\n",
       "    <tr>\n",
       "      <th>433</th>\n",
       "      <td>433</td>\n",
       "      <td>0.009361</td>\n",
       "    </tr>\n",
       "    <tr>\n",
       "      <th>451</th>\n",
       "      <td>451</td>\n",
       "      <td>0.008850</td>\n",
       "    </tr>\n",
       "    <tr>\n",
       "      <th>493</th>\n",
       "      <td>493</td>\n",
       "      <td>0.008840</td>\n",
       "    </tr>\n",
       "    <tr>\n",
       "      <th>153</th>\n",
       "      <td>153</td>\n",
       "      <td>0.008115</td>\n",
       "    </tr>\n",
       "    <tr>\n",
       "      <th>453</th>\n",
       "      <td>453</td>\n",
       "      <td>0.007741</td>\n",
       "    </tr>\n",
       "    <tr>\n",
       "      <th>378</th>\n",
       "      <td>378</td>\n",
       "      <td>0.007459</td>\n",
       "    </tr>\n",
       "    <tr>\n",
       "      <th>281</th>\n",
       "      <td>281</td>\n",
       "      <td>0.005746</td>\n",
       "    </tr>\n",
       "    <tr>\n",
       "      <th>455</th>\n",
       "      <td>455</td>\n",
       "      <td>0.005189</td>\n",
       "    </tr>\n",
       "    <tr>\n",
       "      <th>199</th>\n",
       "      <td>199</td>\n",
       "      <td>0.004503</td>\n",
       "    </tr>\n",
       "    <tr>\n",
       "      <th>298</th>\n",
       "      <td>298</td>\n",
       "      <td>0.004181</td>\n",
       "    </tr>\n",
       "    <tr>\n",
       "      <th>430</th>\n",
       "      <td>430</td>\n",
       "      <td>0.004165</td>\n",
       "    </tr>\n",
       "    <tr>\n",
       "      <th>204</th>\n",
       "      <td>204</td>\n",
       "      <td>0.004146</td>\n",
       "    </tr>\n",
       "    <tr>\n",
       "      <th>116</th>\n",
       "      <td>116</td>\n",
       "      <td>0.003991</td>\n",
       "    </tr>\n",
       "    <tr>\n",
       "      <th>28</th>\n",
       "      <td>28</td>\n",
       "      <td>0.003935</td>\n",
       "    </tr>\n",
       "    <tr>\n",
       "      <th>109</th>\n",
       "      <td>109</td>\n",
       "      <td>0.003850</td>\n",
       "    </tr>\n",
       "    <tr>\n",
       "      <th>434</th>\n",
       "      <td>434</td>\n",
       "      <td>0.003698</td>\n",
       "    </tr>\n",
       "    <tr>\n",
       "      <th>42</th>\n",
       "      <td>42</td>\n",
       "      <td>0.003598</td>\n",
       "    </tr>\n",
       "    <tr>\n",
       "      <th>303</th>\n",
       "      <td>303</td>\n",
       "      <td>0.003529</td>\n",
       "    </tr>\n",
       "    <tr>\n",
       "      <th>121</th>\n",
       "      <td>121</td>\n",
       "      <td>0.003429</td>\n",
       "    </tr>\n",
       "  </tbody>\n",
       "</table>\n",
       "</div>"
      ],
      "text/plain": [
       "    Column Name  Importance\n",
       "475         475    0.030027\n",
       "338         338    0.024086\n",
       "241         241    0.020665\n",
       "105         105    0.017017\n",
       "442         442    0.015837\n",
       "64           64    0.015315\n",
       "336         336    0.014541\n",
       "128         128    0.013961\n",
       "472         472    0.012751\n",
       "48           48    0.010120\n",
       "318         318    0.009818\n",
       "433         433    0.009361\n",
       "451         451    0.008850\n",
       "493         493    0.008840\n",
       "153         153    0.008115\n",
       "453         453    0.007741\n",
       "378         378    0.007459\n",
       "281         281    0.005746\n",
       "455         455    0.005189\n",
       "199         199    0.004503\n",
       "298         298    0.004181\n",
       "430         430    0.004165\n",
       "204         204    0.004146\n",
       "116         116    0.003991\n",
       "28           28    0.003935\n",
       "109         109    0.003850\n",
       "434         434    0.003698\n",
       "42           42    0.003598\n",
       "303         303    0.003529\n",
       "121         121    0.003429"
      ]
     },
     "execution_count": 233,
     "metadata": {},
     "output_type": "execute_result"
    }
   ],
   "source": [
    "col_imp.sort_values('Importance', ascending=False).head(30)"
   ]
  },
  {
   "cell_type": "markdown",
   "id": "9673998f",
   "metadata": {},
   "source": [
    "###### Boruta"
   ]
  },
  {
   "cell_type": "markdown",
   "id": "37ee6dff",
   "metadata": {},
   "source": [
    "###### Always give X and Y in Boruta model as in Array"
   ]
  },
  {
   "cell_type": "code",
   "execution_count": 234,
   "id": "6eef6b6c",
   "metadata": {},
   "outputs": [
    {
     "data": {
      "text/plain": [
       "BorutaPy(estimator=RandomForestClassifier(max_depth=7, min_samples_split=8,\n",
       "                                          n_estimators=92, n_jobs=-1,\n",
       "                                          random_state=RandomState(MT19937) at 0x24892928540),\n",
       "         n_estimators='auto',\n",
       "         random_state=RandomState(MT19937) at 0x24892928540)"
      ]
     },
     "execution_count": 234,
     "metadata": {},
     "output_type": "execute_result"
    }
   ],
   "source": [
    "# Define Boruta feature selection method\n",
    "from boruta import BorutaPy\n",
    "import numpy as np\n",
    "boruta1 = BorutaPy(estimator = rfc, n_estimators = 'auto')\n",
    "boruta1.fit(np.array(X_train), np.array(y_train))"
   ]
  },
  {
   "cell_type": "markdown",
   "id": "c3314065",
   "metadata": {},
   "source": [
    "###### Boruta gives you feature importance in three categories"
   ]
  },
  {
   "cell_type": "code",
   "execution_count": 235,
   "id": "4e688e46",
   "metadata": {},
   "outputs": [
    {
     "name": "stdout",
     "output_type": "stream",
     "text": [
      "<bound method BaseEstimator.get_params of BorutaPy(estimator=RandomForestClassifier(max_depth=7, min_samples_split=8,\n",
      "                                          n_estimators=92, n_jobs=-1,\n",
      "                                          random_state=RandomState(MT19937) at 0x24892928540),\n",
      "         n_estimators='auto',\n",
      "         random_state=RandomState(MT19937) at 0x24892928540)>\n"
     ]
    }
   ],
   "source": [
    "print(boruta1.get_params)"
   ]
  },
  {
   "cell_type": "code",
   "execution_count": 236,
   "id": "b23dab2e",
   "metadata": {},
   "outputs": [
    {
     "data": {
      "text/plain": [
       "[4,\n",
       " 28,\n",
       " 48,\n",
       " 64,\n",
       " 105,\n",
       " 128,\n",
       " 153,\n",
       " 241,\n",
       " 281,\n",
       " 318,\n",
       " 336,\n",
       " 338,\n",
       " 378,\n",
       " 433,\n",
       " 442,\n",
       " 451,\n",
       " 453,\n",
       " 472,\n",
       " 475,\n",
       " 493]"
      ]
     },
     "execution_count": 236,
     "metadata": {},
     "output_type": "execute_result"
    }
   ],
   "source": [
    "# Important columns by boturo\n",
    "important_col_by_boruto = list(X_train.columns[boruta1.support_])\n",
    "important_col_by_boruto"
   ]
  },
  {
   "cell_type": "code",
   "execution_count": 237,
   "id": "cdb4ab7e",
   "metadata": {},
   "outputs": [
    {
     "name": "stderr",
     "output_type": "stream",
     "text": [
      "C:\\ProgramData\\Anaconda3\\lib\\site-packages\\pandas\\core\\indexes\\base.py:5069: FutureWarning: Using a non-tuple sequence for multidimensional indexing is deprecated; use `arr[tuple(seq)]` instead of `arr[seq]`. In the future this will be interpreted as an array index, `arr[np.array(seq)]`, which will result either in an error or a different result.\n",
      "  result = getitem(key)\n"
     ]
    },
    {
     "data": {
      "text/plain": [
       "[]"
      ]
     },
     "execution_count": 237,
     "metadata": {},
     "output_type": "execute_result"
    }
   ],
   "source": [
    "# tentative columns by boruto\n",
    "tentative_column = list(X.columns[[boruta1.support_weak_]])\n",
    "tentative_column"
   ]
  },
  {
   "cell_type": "code",
   "execution_count": 238,
   "id": "74df2b1d",
   "metadata": {},
   "outputs": [],
   "source": [
    "# Adding a tentative columns to important columns\n",
    "important_col_by_boruto.append(334)"
   ]
  },
  {
   "cell_type": "code",
   "execution_count": 239,
   "id": "fb3b068d",
   "metadata": {},
   "outputs": [
    {
     "data": {
      "text/plain": [
       "21"
      ]
     },
     "execution_count": 239,
     "metadata": {},
     "output_type": "execute_result"
    }
   ],
   "source": [
    "df_imp_col_boturo = pd.DataFrame(important_col_by_boruto)\n",
    "df_imp_col_boturo.shape[0]"
   ]
  },
  {
   "cell_type": "code",
   "execution_count": 240,
   "id": "72c43175",
   "metadata": {},
   "outputs": [],
   "source": [
    "# All columns RFC in list\n",
    "rfc_imp_col = list(imp_col['Column Name'])"
   ]
  },
  {
   "cell_type": "code",
   "execution_count": 241,
   "id": "cf230550",
   "metadata": {},
   "outputs": [],
   "source": [
    "imp_col = col_imp.sort_values('Importance', ascending=False).head(df_imp_col_boturo.shape[0])"
   ]
  },
  {
   "cell_type": "code",
   "execution_count": 242,
   "id": "b7af8c3f",
   "metadata": {},
   "outputs": [
    {
     "data": {
      "text/html": [
       "<div>\n",
       "<style scoped>\n",
       "    .dataframe tbody tr th:only-of-type {\n",
       "        vertical-align: middle;\n",
       "    }\n",
       "\n",
       "    .dataframe tbody tr th {\n",
       "        vertical-align: top;\n",
       "    }\n",
       "\n",
       "    .dataframe thead th {\n",
       "        text-align: right;\n",
       "    }\n",
       "</style>\n",
       "<table border=\"1\" class=\"dataframe\">\n",
       "  <thead>\n",
       "    <tr style=\"text-align: right;\">\n",
       "      <th></th>\n",
       "      <th>Column Name</th>\n",
       "      <th>Importance</th>\n",
       "      <th>0</th>\n",
       "    </tr>\n",
       "  </thead>\n",
       "  <tbody>\n",
       "    <tr>\n",
       "      <th>475</th>\n",
       "      <td>475</td>\n",
       "      <td>0.030027</td>\n",
       "      <td>4</td>\n",
       "    </tr>\n",
       "    <tr>\n",
       "      <th>338</th>\n",
       "      <td>338</td>\n",
       "      <td>0.024086</td>\n",
       "      <td>28</td>\n",
       "    </tr>\n",
       "    <tr>\n",
       "      <th>241</th>\n",
       "      <td>241</td>\n",
       "      <td>0.020665</td>\n",
       "      <td>48</td>\n",
       "    </tr>\n",
       "    <tr>\n",
       "      <th>105</th>\n",
       "      <td>105</td>\n",
       "      <td>0.017017</td>\n",
       "      <td>64</td>\n",
       "    </tr>\n",
       "    <tr>\n",
       "      <th>442</th>\n",
       "      <td>442</td>\n",
       "      <td>0.015837</td>\n",
       "      <td>105</td>\n",
       "    </tr>\n",
       "    <tr>\n",
       "      <th>64</th>\n",
       "      <td>64</td>\n",
       "      <td>0.015315</td>\n",
       "      <td>128</td>\n",
       "    </tr>\n",
       "    <tr>\n",
       "      <th>336</th>\n",
       "      <td>336</td>\n",
       "      <td>0.014541</td>\n",
       "      <td>153</td>\n",
       "    </tr>\n",
       "    <tr>\n",
       "      <th>128</th>\n",
       "      <td>128</td>\n",
       "      <td>0.013961</td>\n",
       "      <td>241</td>\n",
       "    </tr>\n",
       "    <tr>\n",
       "      <th>472</th>\n",
       "      <td>472</td>\n",
       "      <td>0.012751</td>\n",
       "      <td>281</td>\n",
       "    </tr>\n",
       "    <tr>\n",
       "      <th>48</th>\n",
       "      <td>48</td>\n",
       "      <td>0.010120</td>\n",
       "      <td>318</td>\n",
       "    </tr>\n",
       "    <tr>\n",
       "      <th>318</th>\n",
       "      <td>318</td>\n",
       "      <td>0.009818</td>\n",
       "      <td>336</td>\n",
       "    </tr>\n",
       "    <tr>\n",
       "      <th>433</th>\n",
       "      <td>433</td>\n",
       "      <td>0.009361</td>\n",
       "      <td>338</td>\n",
       "    </tr>\n",
       "    <tr>\n",
       "      <th>451</th>\n",
       "      <td>451</td>\n",
       "      <td>0.008850</td>\n",
       "      <td>378</td>\n",
       "    </tr>\n",
       "    <tr>\n",
       "      <th>493</th>\n",
       "      <td>493</td>\n",
       "      <td>0.008840</td>\n",
       "      <td>433</td>\n",
       "    </tr>\n",
       "    <tr>\n",
       "      <th>153</th>\n",
       "      <td>153</td>\n",
       "      <td>0.008115</td>\n",
       "      <td>442</td>\n",
       "    </tr>\n",
       "    <tr>\n",
       "      <th>453</th>\n",
       "      <td>453</td>\n",
       "      <td>0.007741</td>\n",
       "      <td>451</td>\n",
       "    </tr>\n",
       "    <tr>\n",
       "      <th>378</th>\n",
       "      <td>378</td>\n",
       "      <td>0.007459</td>\n",
       "      <td>453</td>\n",
       "    </tr>\n",
       "    <tr>\n",
       "      <th>281</th>\n",
       "      <td>281</td>\n",
       "      <td>0.005746</td>\n",
       "      <td>472</td>\n",
       "    </tr>\n",
       "    <tr>\n",
       "      <th>455</th>\n",
       "      <td>455</td>\n",
       "      <td>0.005189</td>\n",
       "      <td>475</td>\n",
       "    </tr>\n",
       "    <tr>\n",
       "      <th>199</th>\n",
       "      <td>199</td>\n",
       "      <td>0.004503</td>\n",
       "      <td>493</td>\n",
       "    </tr>\n",
       "    <tr>\n",
       "      <th>298</th>\n",
       "      <td>298</td>\n",
       "      <td>0.004181</td>\n",
       "      <td>334</td>\n",
       "    </tr>\n",
       "  </tbody>\n",
       "</table>\n",
       "</div>"
      ],
      "text/plain": [
       "    Column Name  Importance    0\n",
       "475         475    0.030027    4\n",
       "338         338    0.024086   28\n",
       "241         241    0.020665   48\n",
       "105         105    0.017017   64\n",
       "442         442    0.015837  105\n",
       "64           64    0.015315  128\n",
       "336         336    0.014541  153\n",
       "128         128    0.013961  241\n",
       "472         472    0.012751  281\n",
       "48           48    0.010120  318\n",
       "318         318    0.009818  336\n",
       "433         433    0.009361  338\n",
       "451         451    0.008850  378\n",
       "493         493    0.008840  433\n",
       "153         153    0.008115  442\n",
       "453         453    0.007741  451\n",
       "378         378    0.007459  453\n",
       "281         281    0.005746  472\n",
       "455         455    0.005189  475\n",
       "199         199    0.004503  493\n",
       "298         298    0.004181  334"
      ]
     },
     "execution_count": 242,
     "metadata": {},
     "output_type": "execute_result"
    }
   ],
   "source": [
    "df_imp_columns = pd.concat([imp_col, df_imp_col_boturo.set_index(imp_col.index)], axis=1)\n",
    "df_imp_columns"
   ]
  },
  {
   "cell_type": "code",
   "execution_count": 243,
   "id": "03b91ac1",
   "metadata": {},
   "outputs": [],
   "source": [
    " X_train, X_test, y_train, y_test = train_test_split(X, y, test_size = 0.2, random_state = 0)"
   ]
  },
  {
   "cell_type": "code",
   "execution_count": 245,
   "id": "3248ab34",
   "metadata": {},
   "outputs": [],
   "source": [
    "X_train_boruto_col = X_train[important_col_by_boruto]\n",
    "X_train_RFC_col = X_train[rfc_imp_col]"
   ]
  },
  {
   "cell_type": "code",
   "execution_count": 246,
   "id": "e9d6034f",
   "metadata": {},
   "outputs": [],
   "source": [
    "X_train_boruto_col = X_train[important_col_by_boruto]\n",
    "X_test_boruto_col = X_test[important_col_by_boruto]\n",
    "\n",
    "X_train_rfc_col=X_train[rfc_imp_col]\n",
    "X_test_rfc_col = X_test[rfc_imp_col]"
   ]
  },
  {
   "cell_type": "markdown",
   "id": "660ff744",
   "metadata": {},
   "source": [
    "###### Training Model on RFC and Boruto Important Columns"
   ]
  },
  {
   "cell_type": "code",
   "execution_count": 247,
   "id": "50eeb10e",
   "metadata": {},
   "outputs": [
    {
     "data": {
      "text/plain": [
       "(1600, 21)"
      ]
     },
     "execution_count": 247,
     "metadata": {},
     "output_type": "execute_result"
    }
   ],
   "source": [
    "X_train_boruto_col.shape"
   ]
  },
  {
   "cell_type": "code",
   "execution_count": 248,
   "id": "ad749184",
   "metadata": {},
   "outputs": [],
   "source": [
    "rfc_boruto = RandomForestClassifier(n_jobs=-1, class_weight=None, max_depth=7, min_samples_split=8,random_state=0)\n",
    "rfc_rfc_col = RandomForestClassifier(n_jobs=-1, class_weight=None, max_depth=7, min_samples_split=8,random_state=0)"
   ]
  },
  {
   "cell_type": "code",
   "execution_count": 254,
   "id": "3bdd17a8",
   "metadata": {},
   "outputs": [
    {
     "name": "stdout",
     "output_type": "stream",
     "text": [
      "Accuracy with RFC Imp Columns  :  0.875\n"
     ]
    }
   ],
   "source": [
    "rfc_rfc_model = rfc_rfc_col.fit(X_train_rfc_col,y_train)\n",
    "rfc_rfc_model_predict = rfc_rfc_model.predict(X_test_rfc_col)\n",
    "print('Accuracy with RFC Imp Columns  : ', accuracy_score(y_test, rfc_rfc_model_predict))"
   ]
  },
  {
   "cell_type": "code",
   "execution_count": 255,
   "id": "16486931",
   "metadata": {},
   "outputs": [
    {
     "name": "stdout",
     "output_type": "stream",
     "text": [
      "<bound method BaseEstimator.set_params of RandomForestClassifier(max_depth=7, min_samples_split=8, n_jobs=-1,\n",
      "                       random_state=0)>\n"
     ]
    }
   ],
   "source": [
    "print(rfc_rfc_model.set_params)"
   ]
  },
  {
   "cell_type": "code",
   "execution_count": 252,
   "id": "f10f21d7",
   "metadata": {},
   "outputs": [
    {
     "name": "stdout",
     "output_type": "stream",
     "text": [
      "Accuracy with Boruto Imp Columns  :  0.8775\n"
     ]
    }
   ],
   "source": [
    "rfc_boruto_model = rfc_boruto.fit(X_train_boruto_col,y_train)\n",
    "rfc_boruto_model_predict = rfc_boruto_model.predict(X_test_boruto_col)\n",
    "print('Accuracy with Boruto Imp Columns  : ', accuracy_score(y_test, rfc_boruto_model_predict))"
   ]
  },
  {
   "cell_type": "code",
   "execution_count": 257,
   "id": "46fe56de",
   "metadata": {},
   "outputs": [
    {
     "name": "stdout",
     "output_type": "stream",
     "text": [
      "<bound method BaseEstimator.set_params of RandomForestClassifier(max_depth=7, min_samples_split=8, n_jobs=-1,\n",
      "                       random_state=0)>\n"
     ]
    }
   ],
   "source": [
    "print(rfc_boruto_model.set_params)"
   ]
  },
  {
   "cell_type": "code",
   "execution_count": null,
   "id": "8946c6c0",
   "metadata": {},
   "outputs": [],
   "source": []
  }
 ],
 "metadata": {
  "kernelspec": {
   "display_name": "Python 3 (ipykernel)",
   "language": "python",
   "name": "python3"
  },
  "language_info": {
   "codemirror_mode": {
    "name": "ipython",
    "version": 3
   },
   "file_extension": ".py",
   "mimetype": "text/x-python",
   "name": "python",
   "nbconvert_exporter": "python",
   "pygments_lexer": "ipython3",
   "version": "3.9.13"
  }
 },
 "nbformat": 4,
 "nbformat_minor": 5
}
