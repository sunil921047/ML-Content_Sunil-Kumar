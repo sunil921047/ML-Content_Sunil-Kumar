{
 "cells": [
  {
   "cell_type": "markdown",
   "id": "abeaf1c4",
   "metadata": {},
   "source": [
    "# Melbourne Housing Prediction : Linear Regression"
   ]
  },
  {
   "cell_type": "markdown",
   "id": "f33d13bb",
   "metadata": {},
   "source": [
    "https://www.kaggle.com/datasets/anthonypino/melbourne-housing-marketm"
   ]
  },
  {
   "cell_type": "markdown",
   "id": "fdb611a5",
   "metadata": {},
   "source": [
    "## About Data and its Problem"
   ]
  },
  {
   "cell_type": "markdown",
   "id": "8f347c13",
   "metadata": {},
   "source": [
    "##### Well it finally happened, Melbourne housing has cooled off. So here's your challenge;  \n",
    "\n",
    "1) when did it exactly happen? , \n",
    "\n",
    "2) Could you see it slowing down? What were the variables that showed the slowing down (was it overall price, amount sold vs unsold, change in more rentals sold and less housing, changes in which CouncilArea or Region, more houses sold in distances further away from Melbourne CBD and less closer)? \n",
    "\n",
    "3) Could you have predicted it (I'm not sure how you would do this, but I'm sure you magicians have a way that would make me think we should burn you for being a witch) \n",
    "\n",
    "4) Should I hold off even longer in buying a two bedroom apartment in Northcote? "
   ]
  },
  {
   "cell_type": "code",
   "execution_count": null,
   "id": "9e0ec4e8",
   "metadata": {},
   "outputs": [],
   "source": []
  },
  {
   "cell_type": "markdown",
   "id": "74fb8812",
   "metadata": {},
   "source": [
    "###### Importing Libraries"
   ]
  },
  {
   "cell_type": "code",
   "execution_count": 175,
   "id": "f80d9375",
   "metadata": {},
   "outputs": [],
   "source": [
    "import pandas as pd\n",
    "import numpy as np\n",
    "import matplotlib.pyplot as plt\n",
    "import seaborn as sns\n",
    "from sklearn.model_selection import train_test_split\n",
    "from sklearn.linear_model import LinearRegression, LogisticRegression\n",
    "from sklearn.metrics import r2_score,accuracy_score\n",
    "import warnings\n",
    "warnings.filterwarnings('ignore')"
   ]
  },
  {
   "cell_type": "markdown",
   "id": "da555835",
   "metadata": {},
   "source": [
    "###### Import Data"
   ]
  },
  {
   "cell_type": "code",
   "execution_count": 176,
   "id": "f3071431",
   "metadata": {},
   "outputs": [
    {
     "data": {
      "text/html": [
       "<div>\n",
       "<style scoped>\n",
       "    .dataframe tbody tr th:only-of-type {\n",
       "        vertical-align: middle;\n",
       "    }\n",
       "\n",
       "    .dataframe tbody tr th {\n",
       "        vertical-align: top;\n",
       "    }\n",
       "\n",
       "    .dataframe thead th {\n",
       "        text-align: right;\n",
       "    }\n",
       "</style>\n",
       "<table border=\"1\" class=\"dataframe\">\n",
       "  <thead>\n",
       "    <tr style=\"text-align: right;\">\n",
       "      <th></th>\n",
       "      <th>Suburb</th>\n",
       "      <th>Address</th>\n",
       "      <th>Rooms</th>\n",
       "      <th>Type</th>\n",
       "      <th>Price</th>\n",
       "      <th>Method</th>\n",
       "      <th>SellerG</th>\n",
       "      <th>Date</th>\n",
       "      <th>Distance</th>\n",
       "      <th>Postcode</th>\n",
       "      <th>...</th>\n",
       "      <th>Bathroom</th>\n",
       "      <th>Car</th>\n",
       "      <th>Landsize</th>\n",
       "      <th>BuildingArea</th>\n",
       "      <th>YearBuilt</th>\n",
       "      <th>CouncilArea</th>\n",
       "      <th>Lattitude</th>\n",
       "      <th>Longtitude</th>\n",
       "      <th>Regionname</th>\n",
       "      <th>Propertycount</th>\n",
       "    </tr>\n",
       "  </thead>\n",
       "  <tbody>\n",
       "    <tr>\n",
       "      <th>0</th>\n",
       "      <td>Abbotsford</td>\n",
       "      <td>68 Studley St</td>\n",
       "      <td>2</td>\n",
       "      <td>h</td>\n",
       "      <td>NaN</td>\n",
       "      <td>SS</td>\n",
       "      <td>Jellis</td>\n",
       "      <td>3/09/2016</td>\n",
       "      <td>2.5</td>\n",
       "      <td>3067.0</td>\n",
       "      <td>...</td>\n",
       "      <td>1.0</td>\n",
       "      <td>1.0</td>\n",
       "      <td>126.0</td>\n",
       "      <td>NaN</td>\n",
       "      <td>NaN</td>\n",
       "      <td>Yarra City Council</td>\n",
       "      <td>-37.8014</td>\n",
       "      <td>144.9958</td>\n",
       "      <td>Northern Metropolitan</td>\n",
       "      <td>4019.0</td>\n",
       "    </tr>\n",
       "    <tr>\n",
       "      <th>1</th>\n",
       "      <td>Abbotsford</td>\n",
       "      <td>85 Turner St</td>\n",
       "      <td>2</td>\n",
       "      <td>h</td>\n",
       "      <td>1480000.0</td>\n",
       "      <td>S</td>\n",
       "      <td>Biggin</td>\n",
       "      <td>3/12/2016</td>\n",
       "      <td>2.5</td>\n",
       "      <td>3067.0</td>\n",
       "      <td>...</td>\n",
       "      <td>1.0</td>\n",
       "      <td>1.0</td>\n",
       "      <td>202.0</td>\n",
       "      <td>NaN</td>\n",
       "      <td>NaN</td>\n",
       "      <td>Yarra City Council</td>\n",
       "      <td>-37.7996</td>\n",
       "      <td>144.9984</td>\n",
       "      <td>Northern Metropolitan</td>\n",
       "      <td>4019.0</td>\n",
       "    </tr>\n",
       "    <tr>\n",
       "      <th>2</th>\n",
       "      <td>Abbotsford</td>\n",
       "      <td>25 Bloomburg St</td>\n",
       "      <td>2</td>\n",
       "      <td>h</td>\n",
       "      <td>1035000.0</td>\n",
       "      <td>S</td>\n",
       "      <td>Biggin</td>\n",
       "      <td>4/02/2016</td>\n",
       "      <td>2.5</td>\n",
       "      <td>3067.0</td>\n",
       "      <td>...</td>\n",
       "      <td>1.0</td>\n",
       "      <td>0.0</td>\n",
       "      <td>156.0</td>\n",
       "      <td>79.0</td>\n",
       "      <td>1900.0</td>\n",
       "      <td>Yarra City Council</td>\n",
       "      <td>-37.8079</td>\n",
       "      <td>144.9934</td>\n",
       "      <td>Northern Metropolitan</td>\n",
       "      <td>4019.0</td>\n",
       "    </tr>\n",
       "    <tr>\n",
       "      <th>3</th>\n",
       "      <td>Abbotsford</td>\n",
       "      <td>18/659 Victoria St</td>\n",
       "      <td>3</td>\n",
       "      <td>u</td>\n",
       "      <td>NaN</td>\n",
       "      <td>VB</td>\n",
       "      <td>Rounds</td>\n",
       "      <td>4/02/2016</td>\n",
       "      <td>2.5</td>\n",
       "      <td>3067.0</td>\n",
       "      <td>...</td>\n",
       "      <td>2.0</td>\n",
       "      <td>1.0</td>\n",
       "      <td>0.0</td>\n",
       "      <td>NaN</td>\n",
       "      <td>NaN</td>\n",
       "      <td>Yarra City Council</td>\n",
       "      <td>-37.8114</td>\n",
       "      <td>145.0116</td>\n",
       "      <td>Northern Metropolitan</td>\n",
       "      <td>4019.0</td>\n",
       "    </tr>\n",
       "    <tr>\n",
       "      <th>4</th>\n",
       "      <td>Abbotsford</td>\n",
       "      <td>5 Charles St</td>\n",
       "      <td>3</td>\n",
       "      <td>h</td>\n",
       "      <td>1465000.0</td>\n",
       "      <td>SP</td>\n",
       "      <td>Biggin</td>\n",
       "      <td>4/03/2017</td>\n",
       "      <td>2.5</td>\n",
       "      <td>3067.0</td>\n",
       "      <td>...</td>\n",
       "      <td>2.0</td>\n",
       "      <td>0.0</td>\n",
       "      <td>134.0</td>\n",
       "      <td>150.0</td>\n",
       "      <td>1900.0</td>\n",
       "      <td>Yarra City Council</td>\n",
       "      <td>-37.8093</td>\n",
       "      <td>144.9944</td>\n",
       "      <td>Northern Metropolitan</td>\n",
       "      <td>4019.0</td>\n",
       "    </tr>\n",
       "    <tr>\n",
       "      <th>5</th>\n",
       "      <td>Abbotsford</td>\n",
       "      <td>40 Federation La</td>\n",
       "      <td>3</td>\n",
       "      <td>h</td>\n",
       "      <td>850000.0</td>\n",
       "      <td>PI</td>\n",
       "      <td>Biggin</td>\n",
       "      <td>4/03/2017</td>\n",
       "      <td>2.5</td>\n",
       "      <td>3067.0</td>\n",
       "      <td>...</td>\n",
       "      <td>2.0</td>\n",
       "      <td>1.0</td>\n",
       "      <td>94.0</td>\n",
       "      <td>NaN</td>\n",
       "      <td>NaN</td>\n",
       "      <td>Yarra City Council</td>\n",
       "      <td>-37.7969</td>\n",
       "      <td>144.9969</td>\n",
       "      <td>Northern Metropolitan</td>\n",
       "      <td>4019.0</td>\n",
       "    </tr>\n",
       "  </tbody>\n",
       "</table>\n",
       "<p>6 rows × 21 columns</p>\n",
       "</div>"
      ],
      "text/plain": [
       "       Suburb             Address  Rooms Type      Price Method SellerG  \\\n",
       "0  Abbotsford       68 Studley St      2    h        NaN     SS  Jellis   \n",
       "1  Abbotsford        85 Turner St      2    h  1480000.0      S  Biggin   \n",
       "2  Abbotsford     25 Bloomburg St      2    h  1035000.0      S  Biggin   \n",
       "3  Abbotsford  18/659 Victoria St      3    u        NaN     VB  Rounds   \n",
       "4  Abbotsford        5 Charles St      3    h  1465000.0     SP  Biggin   \n",
       "5  Abbotsford    40 Federation La      3    h   850000.0     PI  Biggin   \n",
       "\n",
       "        Date  Distance  Postcode  ...  Bathroom  Car  Landsize  BuildingArea  \\\n",
       "0  3/09/2016       2.5    3067.0  ...       1.0  1.0     126.0           NaN   \n",
       "1  3/12/2016       2.5    3067.0  ...       1.0  1.0     202.0           NaN   \n",
       "2  4/02/2016       2.5    3067.0  ...       1.0  0.0     156.0          79.0   \n",
       "3  4/02/2016       2.5    3067.0  ...       2.0  1.0       0.0           NaN   \n",
       "4  4/03/2017       2.5    3067.0  ...       2.0  0.0     134.0         150.0   \n",
       "5  4/03/2017       2.5    3067.0  ...       2.0  1.0      94.0           NaN   \n",
       "\n",
       "   YearBuilt         CouncilArea Lattitude  Longtitude             Regionname  \\\n",
       "0        NaN  Yarra City Council  -37.8014    144.9958  Northern Metropolitan   \n",
       "1        NaN  Yarra City Council  -37.7996    144.9984  Northern Metropolitan   \n",
       "2     1900.0  Yarra City Council  -37.8079    144.9934  Northern Metropolitan   \n",
       "3        NaN  Yarra City Council  -37.8114    145.0116  Northern Metropolitan   \n",
       "4     1900.0  Yarra City Council  -37.8093    144.9944  Northern Metropolitan   \n",
       "5        NaN  Yarra City Council  -37.7969    144.9969  Northern Metropolitan   \n",
       "\n",
       "  Propertycount  \n",
       "0        4019.0  \n",
       "1        4019.0  \n",
       "2        4019.0  \n",
       "3        4019.0  \n",
       "4        4019.0  \n",
       "5        4019.0  \n",
       "\n",
       "[6 rows x 21 columns]"
      ]
     },
     "execution_count": 176,
     "metadata": {},
     "output_type": "execute_result"
    }
   ],
   "source": [
    "df_house = pd.read_csv('Melbourne_housing_FULL.csv')\n",
    "df = df_house.copy()\n",
    "df.head(6)"
   ]
  },
  {
   "cell_type": "markdown",
   "id": "d94db18e",
   "metadata": {},
   "source": [
    "###### Exploratiry Data Analysis"
   ]
  },
  {
   "cell_type": "code",
   "execution_count": 177,
   "id": "2d6e0ada",
   "metadata": {},
   "outputs": [
    {
     "data": {
      "text/plain": [
       "(34857, 21)"
      ]
     },
     "execution_count": 177,
     "metadata": {},
     "output_type": "execute_result"
    }
   ],
   "source": [
    "df.shape"
   ]
  },
  {
   "cell_type": "code",
   "execution_count": 178,
   "id": "333298dd",
   "metadata": {},
   "outputs": [
    {
     "data": {
      "text/plain": [
       "Suburb               0\n",
       "Address              0\n",
       "Rooms                0\n",
       "Type                 0\n",
       "Price             7610\n",
       "Method               0\n",
       "SellerG              0\n",
       "Date                 0\n",
       "Distance             1\n",
       "Postcode             1\n",
       "Bedroom2          8217\n",
       "Bathroom          8226\n",
       "Car               8728\n",
       "Landsize         11810\n",
       "BuildingArea     21115\n",
       "YearBuilt        19306\n",
       "CouncilArea          3\n",
       "Lattitude         7976\n",
       "Longtitude        7976\n",
       "Regionname           3\n",
       "Propertycount        3\n",
       "dtype: int64"
      ]
     },
     "execution_count": 178,
     "metadata": {},
     "output_type": "execute_result"
    }
   ],
   "source": [
    "df.isnull().sum()"
   ]
  },
  {
   "cell_type": "code",
   "execution_count": 179,
   "id": "034cd565",
   "metadata": {},
   "outputs": [
    {
     "data": {
      "text/plain": [
       "Suburb             351\n",
       "Address          34009\n",
       "Rooms               12\n",
       "Type                 3\n",
       "Price             2871\n",
       "Method               9\n",
       "SellerG            388\n",
       "Date                78\n",
       "Distance           215\n",
       "Postcode           211\n",
       "Bedroom2            15\n",
       "Bathroom            11\n",
       "Car                 15\n",
       "Landsize          1684\n",
       "BuildingArea       740\n",
       "YearBuilt          160\n",
       "CouncilArea         33\n",
       "Lattitude        13402\n",
       "Longtitude       14524\n",
       "Regionname           8\n",
       "Propertycount      342\n",
       "dtype: int64"
      ]
     },
     "execution_count": 179,
     "metadata": {},
     "output_type": "execute_result"
    }
   ],
   "source": [
    "df.nunique()"
   ]
  },
  {
   "cell_type": "markdown",
   "id": "631fe208",
   "metadata": {},
   "source": [
    "###### Handling Object/Categorical Features"
   ]
  },
  {
   "cell_type": "code",
   "execution_count": null,
   "id": "eaceb51d",
   "metadata": {},
   "outputs": [],
   "source": []
  },
  {
   "cell_type": "code",
   "execution_count": null,
   "id": "6eca4bd2",
   "metadata": {},
   "outputs": [],
   "source": []
  },
  {
   "cell_type": "markdown",
   "id": "23a47909",
   "metadata": {},
   "source": [
    "###### Checking Various Items Counts in each columns"
   ]
  },
  {
   "cell_type": "code",
   "execution_count": 180,
   "id": "b7386e7e",
   "metadata": {},
   "outputs": [
    {
     "data": {
      "text/html": [
       "<div>\n",
       "<style scoped>\n",
       "    .dataframe tbody tr th:only-of-type {\n",
       "        vertical-align: middle;\n",
       "    }\n",
       "\n",
       "    .dataframe tbody tr th {\n",
       "        vertical-align: top;\n",
       "    }\n",
       "\n",
       "    .dataframe thead th {\n",
       "        text-align: right;\n",
       "    }\n",
       "</style>\n",
       "<table border=\"1\" class=\"dataframe\">\n",
       "  <thead>\n",
       "    <tr style=\"text-align: right;\">\n",
       "      <th></th>\n",
       "      <th>count_item</th>\n",
       "    </tr>\n",
       "  </thead>\n",
       "  <tbody>\n",
       "    <tr>\n",
       "      <th>Type</th>\n",
       "      <td>3</td>\n",
       "    </tr>\n",
       "    <tr>\n",
       "      <th>Regionname</th>\n",
       "      <td>8</td>\n",
       "    </tr>\n",
       "    <tr>\n",
       "      <th>Method</th>\n",
       "      <td>9</td>\n",
       "    </tr>\n",
       "    <tr>\n",
       "      <th>Bathroom</th>\n",
       "      <td>11</td>\n",
       "    </tr>\n",
       "    <tr>\n",
       "      <th>Rooms</th>\n",
       "      <td>12</td>\n",
       "    </tr>\n",
       "    <tr>\n",
       "      <th>Bedroom2</th>\n",
       "      <td>15</td>\n",
       "    </tr>\n",
       "    <tr>\n",
       "      <th>Car</th>\n",
       "      <td>15</td>\n",
       "    </tr>\n",
       "    <tr>\n",
       "      <th>CouncilArea</th>\n",
       "      <td>33</td>\n",
       "    </tr>\n",
       "    <tr>\n",
       "      <th>Date</th>\n",
       "      <td>78</td>\n",
       "    </tr>\n",
       "    <tr>\n",
       "      <th>YearBuilt</th>\n",
       "      <td>160</td>\n",
       "    </tr>\n",
       "  </tbody>\n",
       "</table>\n",
       "</div>"
      ],
      "text/plain": [
       "             count_item\n",
       "Type                  3\n",
       "Regionname            8\n",
       "Method                9\n",
       "Bathroom             11\n",
       "Rooms                12\n",
       "Bedroom2             15\n",
       "Car                  15\n",
       "CouncilArea          33\n",
       "Date                 78\n",
       "YearBuilt           160"
      ]
     },
     "execution_count": 180,
     "metadata": {},
     "output_type": "execute_result"
    }
   ],
   "source": [
    "df_unique = pd.DataFrame(df.nunique())\n",
    "df_unique.columns =['count_item']\n",
    "df_unique_top_ten = df_unique.sort_values('count_item' , ascending = True).head(10)\n",
    "df_unique_top_ten"
   ]
  },
  {
   "cell_type": "code",
   "execution_count": 181,
   "id": "dd90742f",
   "metadata": {},
   "outputs": [
    {
     "name": "stdout",
     "output_type": "stream",
     "text": [
      "    Type\n",
      "h  23980\n",
      "u   7297\n",
      "t   3580\n",
      "\n",
      "\n",
      "                            Regionname\n",
      "Southern Metropolitan            11836\n",
      "Northern Metropolitan             9557\n",
      "Western Metropolitan              6799\n",
      "Eastern Metropolitan              4377\n",
      "South-Eastern Metropolitan        1739\n",
      "Eastern Victoria                   228\n",
      "Northern Victoria                  203\n",
      "Western Victoria                   115\n",
      "\n",
      "\n",
      "    Method\n",
      "S    19744\n",
      "SP    5095\n",
      "PI    4850\n",
      "VB    3108\n",
      "SN    1317\n",
      "PN     308\n",
      "SA     226\n",
      "W      173\n",
      "SS      36\n",
      "\n",
      "\n",
      "      Bathroom\n",
      "1.0      12969\n",
      "2.0      11064\n",
      "3.0       2181\n",
      "4.0        269\n",
      "5.0         77\n",
      "0.0         46\n",
      "6.0         16\n",
      "7.0          4\n",
      "8.0          3\n",
      "12.0         1\n",
      "9.0          1\n",
      "\n",
      "\n",
      "    Rooms\n",
      "3   15084\n",
      "2    8332\n",
      "4    7956\n",
      "5    1737\n",
      "1    1479\n",
      "6     204\n",
      "7      32\n",
      "8      19\n",
      "10      6\n",
      "9       4\n",
      "12      3\n",
      "16      1\n",
      "\n",
      "\n",
      "      Bedroom2\n",
      "3.0      11881\n",
      "4.0       6348\n",
      "2.0       5777\n",
      "5.0       1427\n",
      "1.0        966\n",
      "6.0        168\n",
      "7.0         30\n",
      "0.0         17\n",
      "8.0         13\n",
      "9.0          5\n",
      "10.0         4\n",
      "30.0         1\n",
      "20.0         1\n",
      "16.0         1\n",
      "12.0         1\n",
      "\n",
      "\n",
      "        Car\n",
      "2.0   12214\n",
      "1.0    9164\n",
      "0.0    1631\n",
      "3.0    1606\n",
      "4.0    1161\n",
      "5.0     151\n",
      "6.0     140\n",
      "7.0      25\n",
      "8.0      23\n",
      "10.0      6\n",
      "9.0       3\n",
      "11.0      2\n",
      "26.0      1\n",
      "18.0      1\n",
      "12.0      1\n",
      "\n",
      "\n",
      "                                CouncilArea\n",
      "Boroondara City Council                3675\n",
      "Darebin City Council                   2851\n",
      "Moreland City Council                  2122\n",
      "Glen Eira City Council                 2006\n",
      "Melbourne City Council                 1952\n",
      "Banyule City Council                   1861\n",
      "Moonee Valley City Council             1791\n",
      "Bayside City Council                   1764\n",
      "Brimbank City Council                  1593\n",
      "Monash City Council                    1466\n",
      "Stonnington City Council               1460\n",
      "Maribyrnong City Council               1451\n",
      "Port Phillip City Council              1280\n",
      "Hume City Council                      1214\n",
      "Yarra City Council                     1186\n",
      "Manningham City Council                1046\n",
      "Hobsons Bay City Council                942\n",
      "Kingston City Council                   871\n",
      "Whittlesea City Council                 828\n",
      "Wyndham City Council                    624\n",
      "Whitehorse City Council                 618\n",
      "Maroondah City Council                  506\n",
      "Knox City Council                       371\n",
      "Greater Dandenong City Council          314\n",
      "Melton City Council                     292\n",
      "Frankston City Council                  290\n",
      "Casey City Council                      176\n",
      "Yarra Ranges Shire Council              102\n",
      "Nillumbik Shire Council                  88\n",
      "Macedon Ranges Shire Council             46\n",
      "Cardinia Shire Council                   41\n",
      "Mitchell Shire Council                   20\n",
      "Moorabool Shire Council                   7\n",
      "\n",
      "\n",
      "            Date\n",
      "28/10/2017  1119\n",
      "17/03/2018   970\n",
      "24/02/2018   941\n",
      "9/12/2017    927\n",
      "25/11/2017   902\n",
      "...          ...\n",
      "4/02/2016     44\n",
      "30/09/2017    22\n",
      "20/01/2018    19\n",
      "27/01/2018    12\n",
      "28/01/2016     3\n",
      "\n",
      "[78 rows x 1 columns]\n",
      "\n",
      "\n",
      "        YearBuilt\n",
      "1970.0       1490\n",
      "1960.0       1260\n",
      "1950.0       1089\n",
      "1980.0        726\n",
      "1900.0        606\n",
      "...           ...\n",
      "1830.0          1\n",
      "2106.0          1\n",
      "1897.0          1\n",
      "1876.0          1\n",
      "1879.0          1\n",
      "\n",
      "[160 rows x 1 columns]\n",
      "\n",
      "\n"
     ]
    }
   ],
   "source": [
    "col_list = list(df_unique_top_ten.index.values)\n",
    "col_list\n",
    "for col in col_list:    \n",
    "    df_value_count = pd.DataFrame(df[col].value_counts())\n",
    "    print(df_value_count)    \n",
    "    print('\\n')  "
   ]
  },
  {
   "cell_type": "code",
   "execution_count": 182,
   "id": "abdd64dc",
   "metadata": {},
   "outputs": [
    {
     "data": {
      "text/html": [
       "<div>\n",
       "<style scoped>\n",
       "    .dataframe tbody tr th:only-of-type {\n",
       "        vertical-align: middle;\n",
       "    }\n",
       "\n",
       "    .dataframe tbody tr th {\n",
       "        vertical-align: top;\n",
       "    }\n",
       "\n",
       "    .dataframe thead th {\n",
       "        text-align: right;\n",
       "    }\n",
       "</style>\n",
       "<table border=\"1\" class=\"dataframe\">\n",
       "  <thead>\n",
       "    <tr style=\"text-align: right;\">\n",
       "      <th></th>\n",
       "      <th>Suburb</th>\n",
       "      <th>Postcode</th>\n",
       "    </tr>\n",
       "  </thead>\n",
       "  <tbody>\n",
       "    <tr>\n",
       "      <th>34817</th>\n",
       "      <td>Watsonia</td>\n",
       "      <td>3087.0</td>\n",
       "    </tr>\n",
       "    <tr>\n",
       "      <th>34818</th>\n",
       "      <td>Watsonia North</td>\n",
       "      <td>3087.0</td>\n",
       "    </tr>\n",
       "    <tr>\n",
       "      <th>34819</th>\n",
       "      <td>Watsonia North</td>\n",
       "      <td>3087.0</td>\n",
       "    </tr>\n",
       "    <tr>\n",
       "      <th>34820</th>\n",
       "      <td>Werribee</td>\n",
       "      <td>3030.0</td>\n",
       "    </tr>\n",
       "    <tr>\n",
       "      <th>34821</th>\n",
       "      <td>Werribee</td>\n",
       "      <td>3030.0</td>\n",
       "    </tr>\n",
       "    <tr>\n",
       "      <th>34822</th>\n",
       "      <td>Werribee</td>\n",
       "      <td>3030.0</td>\n",
       "    </tr>\n",
       "    <tr>\n",
       "      <th>34823</th>\n",
       "      <td>Werribee</td>\n",
       "      <td>3030.0</td>\n",
       "    </tr>\n",
       "    <tr>\n",
       "      <th>34824</th>\n",
       "      <td>Werribee</td>\n",
       "      <td>3030.0</td>\n",
       "    </tr>\n",
       "    <tr>\n",
       "      <th>34825</th>\n",
       "      <td>Werribee South</td>\n",
       "      <td>3030.0</td>\n",
       "    </tr>\n",
       "    <tr>\n",
       "      <th>34826</th>\n",
       "      <td>West Footscray</td>\n",
       "      <td>3012.0</td>\n",
       "    </tr>\n",
       "    <tr>\n",
       "      <th>34827</th>\n",
       "      <td>West Footscray</td>\n",
       "      <td>3012.0</td>\n",
       "    </tr>\n",
       "    <tr>\n",
       "      <th>34828</th>\n",
       "      <td>West Footscray</td>\n",
       "      <td>3012.0</td>\n",
       "    </tr>\n",
       "    <tr>\n",
       "      <th>34829</th>\n",
       "      <td>West Melbourne</td>\n",
       "      <td>3003.0</td>\n",
       "    </tr>\n",
       "    <tr>\n",
       "      <th>34830</th>\n",
       "      <td>West Melbourne</td>\n",
       "      <td>3003.0</td>\n",
       "    </tr>\n",
       "    <tr>\n",
       "      <th>34831</th>\n",
       "      <td>Westmeadows</td>\n",
       "      <td>3049.0</td>\n",
       "    </tr>\n",
       "    <tr>\n",
       "      <th>34832</th>\n",
       "      <td>Westmeadows</td>\n",
       "      <td>3049.0</td>\n",
       "    </tr>\n",
       "    <tr>\n",
       "      <th>34833</th>\n",
       "      <td>Wheelers Hill</td>\n",
       "      <td>3150.0</td>\n",
       "    </tr>\n",
       "    <tr>\n",
       "      <th>34834</th>\n",
       "      <td>Wheelers Hill</td>\n",
       "      <td>3150.0</td>\n",
       "    </tr>\n",
       "    <tr>\n",
       "      <th>34835</th>\n",
       "      <td>Wheelers Hill</td>\n",
       "      <td>3150.0</td>\n",
       "    </tr>\n",
       "    <tr>\n",
       "      <th>34836</th>\n",
       "      <td>Wheelers Hill</td>\n",
       "      <td>3150.0</td>\n",
       "    </tr>\n",
       "    <tr>\n",
       "      <th>34837</th>\n",
       "      <td>Williamstown</td>\n",
       "      <td>3016.0</td>\n",
       "    </tr>\n",
       "    <tr>\n",
       "      <th>34838</th>\n",
       "      <td>Williamstown</td>\n",
       "      <td>3016.0</td>\n",
       "    </tr>\n",
       "    <tr>\n",
       "      <th>34839</th>\n",
       "      <td>Williamstown</td>\n",
       "      <td>3016.0</td>\n",
       "    </tr>\n",
       "    <tr>\n",
       "      <th>34840</th>\n",
       "      <td>Williamstown</td>\n",
       "      <td>3016.0</td>\n",
       "    </tr>\n",
       "    <tr>\n",
       "      <th>34841</th>\n",
       "      <td>Williamstown</td>\n",
       "      <td>3016.0</td>\n",
       "    </tr>\n",
       "    <tr>\n",
       "      <th>34842</th>\n",
       "      <td>Williamstown</td>\n",
       "      <td>3016.0</td>\n",
       "    </tr>\n",
       "    <tr>\n",
       "      <th>34843</th>\n",
       "      <td>Williamstown North</td>\n",
       "      <td>3016.0</td>\n",
       "    </tr>\n",
       "    <tr>\n",
       "      <th>34844</th>\n",
       "      <td>Windsor</td>\n",
       "      <td>3181.0</td>\n",
       "    </tr>\n",
       "    <tr>\n",
       "      <th>34845</th>\n",
       "      <td>Windsor</td>\n",
       "      <td>3181.0</td>\n",
       "    </tr>\n",
       "    <tr>\n",
       "      <th>34846</th>\n",
       "      <td>Wollert</td>\n",
       "      <td>3750.0</td>\n",
       "    </tr>\n",
       "    <tr>\n",
       "      <th>34847</th>\n",
       "      <td>Wollert</td>\n",
       "      <td>3750.0</td>\n",
       "    </tr>\n",
       "    <tr>\n",
       "      <th>34848</th>\n",
       "      <td>Wollert</td>\n",
       "      <td>3750.0</td>\n",
       "    </tr>\n",
       "    <tr>\n",
       "      <th>34849</th>\n",
       "      <td>Wollert</td>\n",
       "      <td>3750.0</td>\n",
       "    </tr>\n",
       "    <tr>\n",
       "      <th>34850</th>\n",
       "      <td>Wollert</td>\n",
       "      <td>3750.0</td>\n",
       "    </tr>\n",
       "    <tr>\n",
       "      <th>34851</th>\n",
       "      <td>Yarraville</td>\n",
       "      <td>3013.0</td>\n",
       "    </tr>\n",
       "    <tr>\n",
       "      <th>34852</th>\n",
       "      <td>Yarraville</td>\n",
       "      <td>3013.0</td>\n",
       "    </tr>\n",
       "    <tr>\n",
       "      <th>34853</th>\n",
       "      <td>Yarraville</td>\n",
       "      <td>3013.0</td>\n",
       "    </tr>\n",
       "    <tr>\n",
       "      <th>34854</th>\n",
       "      <td>Yarraville</td>\n",
       "      <td>3013.0</td>\n",
       "    </tr>\n",
       "    <tr>\n",
       "      <th>34855</th>\n",
       "      <td>Yarraville</td>\n",
       "      <td>3013.0</td>\n",
       "    </tr>\n",
       "    <tr>\n",
       "      <th>34856</th>\n",
       "      <td>Yarraville</td>\n",
       "      <td>3013.0</td>\n",
       "    </tr>\n",
       "  </tbody>\n",
       "</table>\n",
       "</div>"
      ],
      "text/plain": [
       "                   Suburb  Postcode\n",
       "34817            Watsonia    3087.0\n",
       "34818      Watsonia North    3087.0\n",
       "34819      Watsonia North    3087.0\n",
       "34820            Werribee    3030.0\n",
       "34821            Werribee    3030.0\n",
       "34822            Werribee    3030.0\n",
       "34823            Werribee    3030.0\n",
       "34824            Werribee    3030.0\n",
       "34825      Werribee South    3030.0\n",
       "34826      West Footscray    3012.0\n",
       "34827      West Footscray    3012.0\n",
       "34828      West Footscray    3012.0\n",
       "34829      West Melbourne    3003.0\n",
       "34830      West Melbourne    3003.0\n",
       "34831         Westmeadows    3049.0\n",
       "34832         Westmeadows    3049.0\n",
       "34833       Wheelers Hill    3150.0\n",
       "34834       Wheelers Hill    3150.0\n",
       "34835       Wheelers Hill    3150.0\n",
       "34836       Wheelers Hill    3150.0\n",
       "34837        Williamstown    3016.0\n",
       "34838        Williamstown    3016.0\n",
       "34839        Williamstown    3016.0\n",
       "34840        Williamstown    3016.0\n",
       "34841        Williamstown    3016.0\n",
       "34842        Williamstown    3016.0\n",
       "34843  Williamstown North    3016.0\n",
       "34844             Windsor    3181.0\n",
       "34845             Windsor    3181.0\n",
       "34846             Wollert    3750.0\n",
       "34847             Wollert    3750.0\n",
       "34848             Wollert    3750.0\n",
       "34849             Wollert    3750.0\n",
       "34850             Wollert    3750.0\n",
       "34851          Yarraville    3013.0\n",
       "34852          Yarraville    3013.0\n",
       "34853          Yarraville    3013.0\n",
       "34854          Yarraville    3013.0\n",
       "34855          Yarraville    3013.0\n",
       "34856          Yarraville    3013.0"
      ]
     },
     "execution_count": 182,
     "metadata": {},
     "output_type": "execute_result"
    }
   ],
   "source": [
    "df[['Suburb', 'Postcode']].tail(40)"
   ]
  },
  {
   "cell_type": "markdown",
   "id": "ffd92d5d",
   "metadata": {},
   "source": [
    "###### Conclusion \n",
    "\n",
    "Columns like : ['Bedroom2' , 'Rooms', 'Bathroom', 'Car'] are with very less counf - if the items value is more than 8"
   ]
  },
  {
   "cell_type": "markdown",
   "id": "f720cd3a",
   "metadata": {},
   "source": [
    "###### Conclusion \n",
    "We can see the Blank/Null Vaues are very high for two columns : BuildingArea, YearBuilt. Hence, we can drop them\n",
    "\n",
    "BuildingArea     21115\n",
    "\n",
    "YearBuilt        19306"
   ]
  },
  {
   "cell_type": "markdown",
   "id": "258cafc4",
   "metadata": {},
   "source": [
    "Address Feature having 34009 unique values ....Out of total 34857 records, hence we should remove that entire column"
   ]
  },
  {
   "cell_type": "markdown",
   "id": "9ee89b1c",
   "metadata": {},
   "source": [
    "Columns like : ['Bedroom2' , 'Rooms', 'Bathroom'] are almost same value and making redundancy, hence we can drop any one of them\n",
    "    'Bedroom'"
   ]
  },
  {
   "cell_type": "markdown",
   "id": "6365f796",
   "metadata": {},
   "source": [
    "Postcode is very similar to the Suburb feature"
   ]
  },
  {
   "cell_type": "markdown",
   "id": "e5ba98c7",
   "metadata": {},
   "source": [
    "### Data Cleaning Steps"
   ]
  },
  {
   "cell_type": "raw",
   "id": "411a01ee",
   "metadata": {},
   "source": [
    "Drop irrelevant features in our dataset\n",
    "Check and rename/ modify some column names\n",
    "Check for missing values\n",
    "Remove all the rows with missing values\n",
    "Random sampling of the dataset for 5000 rows"
   ]
  },
  {
   "cell_type": "code",
   "execution_count": 183,
   "id": "74252e51",
   "metadata": {},
   "outputs": [
    {
     "name": "stdout",
     "output_type": "stream",
     "text": [
      "Shape before drop features  (34857, 21)\n",
      "Shape after drop features  (34857, 16)\n"
     ]
    }
   ],
   "source": [
    "# Drop date column\n",
    "print('Shape before drop features ' , df.shape)\n",
    "df.drop(['YearBuilt', 'BuildingArea', 'Address', 'Postcode', 'Bedroom2'], axis = 1, inplace = True)\n",
    "print('Shape after drop features ' , df.shape)\n"
   ]
  },
  {
   "cell_type": "code",
   "execution_count": 184,
   "id": "d0f218df",
   "metadata": {},
   "outputs": [
    {
     "name": "stdout",
     "output_type": "stream",
     "text": [
      "Bathroom with more than 8 number are :  5\n",
      "Rooms with more than 8 number are :  33\n",
      "Car with more than 8 number are :  37\n"
     ]
    }
   ],
   "source": [
    "# Below are Quasi Constant Feature, hence we drop these rows\n",
    "print('Bathroom with more than 8 number are : ', df[df['Bathroom'] >= 8].shape[0])\n",
    "print('Rooms with more than 8 number are : ', df[df['Rooms'] >= 8].shape[0])\n",
    "print('Car with more than 8 number are : ', df[df['Car']>=8].shape[0])"
   ]
  },
  {
   "cell_type": "code",
   "execution_count": 185,
   "id": "2a48af04",
   "metadata": {},
   "outputs": [],
   "source": [
    "# Data to be drop off\n",
    "df_to_be_drop_Bathroom = df[df['Bathroom'] >= 8].index.to_list()\n",
    "df_to_be_drop_Room = df[df['Rooms'] >= 8].index.to_list()\n",
    "df_to_be_drop_Car  =df[df['Car']>=8].index.to_list()"
   ]
  },
  {
   "cell_type": "code",
   "execution_count": 186,
   "id": "c215f000",
   "metadata": {},
   "outputs": [
    {
     "name": "stdout",
     "output_type": "stream",
     "text": [
      "5\n",
      "38\n",
      "75\n"
     ]
    },
    {
     "data": {
      "text/plain": [
       "set"
      ]
     },
     "execution_count": 186,
     "metadata": {},
     "output_type": "execute_result"
    }
   ],
   "source": [
    "drop_index = []\n",
    "#type(drop_index)\n",
    "#drop_index.extend(df_to_be_drop_Bathroom)\n",
    "\n",
    "for item in df_to_be_drop_Bathroom:\n",
    "    drop_index.append(item)\n",
    "print(len(drop_index))\n",
    "for item in df_to_be_drop_Room:\n",
    "    drop_index.append(item)\n",
    "print(len(drop_index))\n",
    "for item in df_to_be_drop_Car:\n",
    "    drop_index.append(item)\n",
    "print(len(drop_index))\n",
    "drop_index = set(drop_index)\n",
    "type(drop_index)"
   ]
  },
  {
   "cell_type": "code",
   "execution_count": 187,
   "id": "a2dce5f1",
   "metadata": {},
   "outputs": [
    {
     "data": {
      "text/plain": [
       "[6017,\n",
       " 32002,\n",
       " 25603,\n",
       " 16133,\n",
       " 23941,\n",
       " 29701,\n",
       " 25096,\n",
       " 33157,\n",
       " 18443,\n",
       " 1932,\n",
       " 27150,\n",
       " 30990,\n",
       " 30482,\n",
       " 5398,\n",
       " 13335,\n",
       " 28694,\n",
       " 4891,\n",
       " 7451,\n",
       " 7454,\n",
       " 12959,\n",
       " 5409,\n",
       " 29090,\n",
       " 805,\n",
       " 7590,\n",
       " 22572,\n",
       " 10157,\n",
       " 7598,\n",
       " 16173,\n",
       " 15920,\n",
       " 22316,\n",
       " 30382,\n",
       " 19892,\n",
       " 2613,\n",
       " 23093,\n",
       " 8251,\n",
       " 14651,\n",
       " 6589,\n",
       " 17472,\n",
       " 21569,\n",
       " 12357,\n",
       " 12742,\n",
       " 12743,\n",
       " 24262,\n",
       " 16712,\n",
       " 24518,\n",
       " 20046,\n",
       " 29910,\n",
       " 3288,\n",
       " 15449,\n",
       " 24794,\n",
       " 7134,\n",
       " 32862,\n",
       " 5985,\n",
       " 26210,\n",
       " 23395,\n",
       " 4324,\n",
       " 2536,\n",
       " 616,\n",
       " 1640,\n",
       " 22888,\n",
       " 26600,\n",
       " 18923,\n",
       " 19438,\n",
       " 7535,\n",
       " 25839,\n",
       " 27882,\n",
       " 25717,\n",
       " 8309,\n",
       " 20855,\n",
       " 31864,\n",
       " 30585]"
      ]
     },
     "execution_count": 187,
     "metadata": {},
     "output_type": "execute_result"
    }
   ],
   "source": [
    "# Collating all Index in a new List\n",
    "drop_list = [drop_index]\n",
    "drop_list= [   ]\n",
    "for item in drop_index:\n",
    "    drop_list.append(item)\n",
    "drop_list "
   ]
  },
  {
   "cell_type": "code",
   "execution_count": 188,
   "id": "e5fbd7a0",
   "metadata": {},
   "outputs": [
    {
     "name": "stdout",
     "output_type": "stream",
     "text": [
      "Shape before drop  (34857, 16)\n",
      "Shape after drop  (34786, 16)\n"
     ]
    }
   ],
   "source": [
    "# Dropping Above condition rows\n",
    "print('Shape before drop ' , df.shape)\n",
    "#df.drop(index = drop_index, inplace = True)\n",
    "df.drop(drop_list, axis=0, inplace=True)\n",
    "print('Shape after drop ' , df.shape)"
   ]
  },
  {
   "cell_type": "markdown",
   "id": "776018fb",
   "metadata": {},
   "source": [
    "###### After first layer of dropping features and records, below is the dataframe"
   ]
  },
  {
   "cell_type": "code",
   "execution_count": 189,
   "id": "5c5e9a3e",
   "metadata": {},
   "outputs": [
    {
     "name": "stdout",
     "output_type": "stream",
     "text": [
      "After dropping additional features  (34786, 16)\n"
     ]
    },
    {
     "data": {
      "text/html": [
       "<div>\n",
       "<style scoped>\n",
       "    .dataframe tbody tr th:only-of-type {\n",
       "        vertical-align: middle;\n",
       "    }\n",
       "\n",
       "    .dataframe tbody tr th {\n",
       "        vertical-align: top;\n",
       "    }\n",
       "\n",
       "    .dataframe thead th {\n",
       "        text-align: right;\n",
       "    }\n",
       "</style>\n",
       "<table border=\"1\" class=\"dataframe\">\n",
       "  <thead>\n",
       "    <tr style=\"text-align: right;\">\n",
       "      <th></th>\n",
       "      <th>Suburb</th>\n",
       "      <th>Rooms</th>\n",
       "      <th>Type</th>\n",
       "      <th>Price</th>\n",
       "      <th>Method</th>\n",
       "      <th>SellerG</th>\n",
       "      <th>Date</th>\n",
       "      <th>Distance</th>\n",
       "      <th>Bathroom</th>\n",
       "      <th>Car</th>\n",
       "      <th>Landsize</th>\n",
       "      <th>CouncilArea</th>\n",
       "      <th>Lattitude</th>\n",
       "      <th>Longtitude</th>\n",
       "      <th>Regionname</th>\n",
       "      <th>Propertycount</th>\n",
       "    </tr>\n",
       "  </thead>\n",
       "  <tbody>\n",
       "    <tr>\n",
       "      <th>0</th>\n",
       "      <td>Abbotsford</td>\n",
       "      <td>2</td>\n",
       "      <td>h</td>\n",
       "      <td>NaN</td>\n",
       "      <td>SS</td>\n",
       "      <td>Jellis</td>\n",
       "      <td>3/09/2016</td>\n",
       "      <td>2.5</td>\n",
       "      <td>1.0</td>\n",
       "      <td>1.0</td>\n",
       "      <td>126.0</td>\n",
       "      <td>Yarra City Council</td>\n",
       "      <td>-37.8014</td>\n",
       "      <td>144.9958</td>\n",
       "      <td>Northern Metropolitan</td>\n",
       "      <td>4019.0</td>\n",
       "    </tr>\n",
       "    <tr>\n",
       "      <th>1</th>\n",
       "      <td>Abbotsford</td>\n",
       "      <td>2</td>\n",
       "      <td>h</td>\n",
       "      <td>1480000.0</td>\n",
       "      <td>S</td>\n",
       "      <td>Biggin</td>\n",
       "      <td>3/12/2016</td>\n",
       "      <td>2.5</td>\n",
       "      <td>1.0</td>\n",
       "      <td>1.0</td>\n",
       "      <td>202.0</td>\n",
       "      <td>Yarra City Council</td>\n",
       "      <td>-37.7996</td>\n",
       "      <td>144.9984</td>\n",
       "      <td>Northern Metropolitan</td>\n",
       "      <td>4019.0</td>\n",
       "    </tr>\n",
       "  </tbody>\n",
       "</table>\n",
       "</div>"
      ],
      "text/plain": [
       "       Suburb  Rooms Type      Price Method SellerG       Date  Distance  \\\n",
       "0  Abbotsford      2    h        NaN     SS  Jellis  3/09/2016       2.5   \n",
       "1  Abbotsford      2    h  1480000.0      S  Biggin  3/12/2016       2.5   \n",
       "\n",
       "   Bathroom  Car  Landsize         CouncilArea  Lattitude  Longtitude  \\\n",
       "0       1.0  1.0     126.0  Yarra City Council   -37.8014    144.9958   \n",
       "1       1.0  1.0     202.0  Yarra City Council   -37.7996    144.9984   \n",
       "\n",
       "              Regionname  Propertycount  \n",
       "0  Northern Metropolitan         4019.0  \n",
       "1  Northern Metropolitan         4019.0  "
      ]
     },
     "execution_count": 189,
     "metadata": {},
     "output_type": "execute_result"
    }
   ],
   "source": [
    "print('After dropping additional features ' , df.shape)\n",
    "df.head(2)"
   ]
  },
  {
   "cell_type": "code",
   "execution_count": 190,
   "id": "be601e7a",
   "metadata": {},
   "outputs": [],
   "source": [
    "# As we are working on Linear Regression Project, hence we will delete date feature and add two more feature of Year and Month\n",
    "df['Date'].head(2)\n",
    "df['Date'] = pd.to_datetime(df['Date'],dayfirst= True )\n",
    "\n",
    "# Create Year and Month features\n",
    "df['year_sold'] = df['Date'].dt.year\n",
    "df['month_sold'] = df['Date'].dt.month\n",
    "###\n",
    "# Remove Date as we will not need it anymore\n",
    "df = df.drop(columns=[\"Date\"]) "
   ]
  },
  {
   "cell_type": "code",
   "execution_count": 191,
   "id": "57724a21",
   "metadata": {},
   "outputs": [
    {
     "data": {
      "text/html": [
       "<div>\n",
       "<style scoped>\n",
       "    .dataframe tbody tr th:only-of-type {\n",
       "        vertical-align: middle;\n",
       "    }\n",
       "\n",
       "    .dataframe tbody tr th {\n",
       "        vertical-align: top;\n",
       "    }\n",
       "\n",
       "    .dataframe thead th {\n",
       "        text-align: right;\n",
       "    }\n",
       "</style>\n",
       "<table border=\"1\" class=\"dataframe\">\n",
       "  <thead>\n",
       "    <tr style=\"text-align: right;\">\n",
       "      <th></th>\n",
       "      <th>Suburb</th>\n",
       "      <th>Rooms</th>\n",
       "      <th>Type</th>\n",
       "      <th>Price</th>\n",
       "      <th>Method</th>\n",
       "      <th>SellerG</th>\n",
       "      <th>Distance</th>\n",
       "      <th>Bathroom</th>\n",
       "      <th>Car</th>\n",
       "      <th>Landsize</th>\n",
       "      <th>CouncilArea</th>\n",
       "      <th>Lattitude</th>\n",
       "      <th>Longtitude</th>\n",
       "      <th>Regionname</th>\n",
       "      <th>Propertycount</th>\n",
       "      <th>year_sold</th>\n",
       "      <th>month_sold</th>\n",
       "    </tr>\n",
       "  </thead>\n",
       "  <tbody>\n",
       "    <tr>\n",
       "      <th>0</th>\n",
       "      <td>Abbotsford</td>\n",
       "      <td>2</td>\n",
       "      <td>h</td>\n",
       "      <td>NaN</td>\n",
       "      <td>SS</td>\n",
       "      <td>Jellis</td>\n",
       "      <td>2.5</td>\n",
       "      <td>1.0</td>\n",
       "      <td>1.0</td>\n",
       "      <td>126.0</td>\n",
       "      <td>Yarra City Council</td>\n",
       "      <td>-37.8014</td>\n",
       "      <td>144.9958</td>\n",
       "      <td>Northern Metropolitan</td>\n",
       "      <td>4019.0</td>\n",
       "      <td>2016</td>\n",
       "      <td>9</td>\n",
       "    </tr>\n",
       "    <tr>\n",
       "      <th>1</th>\n",
       "      <td>Abbotsford</td>\n",
       "      <td>2</td>\n",
       "      <td>h</td>\n",
       "      <td>1480000.0</td>\n",
       "      <td>S</td>\n",
       "      <td>Biggin</td>\n",
       "      <td>2.5</td>\n",
       "      <td>1.0</td>\n",
       "      <td>1.0</td>\n",
       "      <td>202.0</td>\n",
       "      <td>Yarra City Council</td>\n",
       "      <td>-37.7996</td>\n",
       "      <td>144.9984</td>\n",
       "      <td>Northern Metropolitan</td>\n",
       "      <td>4019.0</td>\n",
       "      <td>2016</td>\n",
       "      <td>12</td>\n",
       "    </tr>\n",
       "  </tbody>\n",
       "</table>\n",
       "</div>"
      ],
      "text/plain": [
       "       Suburb  Rooms Type      Price Method SellerG  Distance  Bathroom  Car  \\\n",
       "0  Abbotsford      2    h        NaN     SS  Jellis       2.5       1.0  1.0   \n",
       "1  Abbotsford      2    h  1480000.0      S  Biggin       2.5       1.0  1.0   \n",
       "\n",
       "   Landsize         CouncilArea  Lattitude  Longtitude             Regionname  \\\n",
       "0     126.0  Yarra City Council   -37.8014    144.9958  Northern Metropolitan   \n",
       "1     202.0  Yarra City Council   -37.7996    144.9984  Northern Metropolitan   \n",
       "\n",
       "   Propertycount  year_sold  month_sold  \n",
       "0         4019.0       2016           9  \n",
       "1         4019.0       2016          12  "
      ]
     },
     "execution_count": 191,
     "metadata": {},
     "output_type": "execute_result"
    }
   ],
   "source": [
    "df.head(2)"
   ]
  },
  {
   "cell_type": "code",
   "execution_count": 192,
   "id": "097aa74c",
   "metadata": {},
   "outputs": [
    {
     "name": "stdout",
     "output_type": "stream",
     "text": [
      "Shape of DataFrame before Drop :  (34786, 17)\n",
      "Shape of DataFrame after Drop :  (34786, 17)\n"
     ]
    }
   ],
   "source": [
    "# Drop Records if ALL Threshold is 3\n",
    "print('Shape of DataFrame before Drop : ' , df.shape)\n",
    "new_df = df.dropna(thresh =3,axis = 1)\n",
    "print('Shape of DataFrame after Drop : ' , new_df.shape)"
   ]
  },
  {
   "cell_type": "code",
   "execution_count": 193,
   "id": "639e15d0",
   "metadata": {},
   "outputs": [
    {
     "data": {
      "text/plain": [
       "Suburb             350\n",
       "Rooms                7\n",
       "Type                 3\n",
       "Price             2869\n",
       "Method               9\n",
       "SellerG            387\n",
       "Distance           215\n",
       "Bathroom             8\n",
       "Car                  8\n",
       "Landsize          1677\n",
       "CouncilArea         33\n",
       "Lattitude        13377\n",
       "Longtitude       14490\n",
       "Regionname           8\n",
       "Propertycount      341\n",
       "year_sold            3\n",
       "month_sold          12\n",
       "dtype: int64"
      ]
     },
     "execution_count": 193,
     "metadata": {},
     "output_type": "execute_result"
    }
   ],
   "source": [
    "# Unique items in each feature\n",
    "df.nunique()"
   ]
  },
  {
   "cell_type": "code",
   "execution_count": 194,
   "id": "c9dec738",
   "metadata": {},
   "outputs": [
    {
     "name": "stdout",
     "output_type": "stream",
     "text": [
      "Before Dropping off column Lattitude , Longtitude :  (34786, 17)\n",
      "After Dropping off column Lattitude , Longtitude :  (34786, 15)\n"
     ]
    }
   ],
   "source": [
    "# With above code we can see there are 13000 + unique records in Longtitude and Lattitude feature, \n",
    "print('Before Dropping off column Lattitude , Longtitude : ' , df.shape)\n",
    "df.drop(['Lattitude', 'Longtitude'] , axis = 1, inplace = True)\n",
    "print('After Dropping off column Lattitude , Longtitude : ' , df.shape)"
   ]
  },
  {
   "cell_type": "code",
   "execution_count": 195,
   "id": "531c8aed",
   "metadata": {},
   "outputs": [
    {
     "name": "stdout",
     "output_type": "stream",
     "text": [
      "Feature  Suburb  Unique Items are  :  ['Abbotsford' 'Airport West' 'Albert Park' 'Alphington' 'Altona'\n",
      " 'Altona North' 'Armadale' 'Ascot Vale' 'Ashburton' 'Ashwood'\n",
      " 'Avondale Heights' 'Balaclava' 'Balwyn' 'Balwyn North' 'Bentleigh'\n",
      " 'Bentleigh East' 'Box Hill' 'Braybrook' 'Brighton' 'Brighton East'\n",
      " 'Brunswick' 'Brunswick West' 'Bulleen' 'Burwood' 'Camberwell'\n",
      " 'Canterbury' 'Carlton North' 'Carnegie' 'Caulfield' 'Caulfield North'\n",
      " 'Caulfield South' 'Chadstone' 'Clifton Hill' 'Coburg' 'Coburg North'\n",
      " 'Collingwood' 'Doncaster' 'Eaglemont' 'Elsternwick' 'Elwood' 'Essendon'\n",
      " 'Essendon North' 'Fairfield' 'Fitzroy' 'Fitzroy North' 'Flemington'\n",
      " 'Footscray' 'Glen Iris' 'Glenroy' 'Gowanbrae' 'Hadfield' 'Hampton'\n",
      " 'Hampton East' 'Hawthorn' 'Heidelberg Heights' 'Heidelberg West'\n",
      " 'Hughesdale' 'Ivanhoe' 'Kealba' 'Keilor East' 'Kensington' 'Kew'\n",
      " 'Kew East' 'Kooyong' 'Maidstone' 'Malvern' 'Malvern East' 'Maribyrnong'\n",
      " 'Melbourne' 'Middle Park' 'Mont Albert' 'Moonee Ponds' 'Moorabbin'\n",
      " 'Newport' 'Niddrie' 'North Melbourne' 'Northcote' 'Oak Park'\n",
      " 'Oakleigh South' 'Parkville' 'Pascoe Vale' 'Port Melbourne' 'Prahran'\n",
      " 'Preston' 'Reservoir' 'Richmond' 'Rosanna' 'Seddon' 'South Melbourne'\n",
      " 'South Yarra' 'Southbank' 'Spotswood' 'St Kilda' 'Strathmore' 'Sunshine'\n",
      " 'Sunshine North' 'Sunshine West' 'Surrey Hills' 'Templestowe Lower'\n",
      " 'Thornbury' 'Toorak' 'Viewbank' 'Watsonia' 'West Melbourne'\n",
      " 'Williamstown' 'Williamstown North' 'Windsor' 'Yallambie' 'Yarraville'\n",
      " 'Aberfeldie' 'Bellfield' 'Brunswick East' 'Burnley' 'Campbellfield'\n",
      " 'Carlton' 'East Melbourne' 'Essendon West' 'Fawkner' 'Hawthorn East'\n",
      " 'Heidelberg' 'Ivanhoe East' 'Jacana' 'Kingsbury' 'Kingsville'\n",
      " 'Murrumbeena' 'Ormond' 'West Footscray' 'Albion' 'Brooklyn' 'Glen Huntly'\n",
      " 'Oakleigh' 'Ripponlea' 'Cremorne' 'Docklands' 'South Kingsville'\n",
      " 'Strathmore Heights' 'Travancore' 'Caulfield East' 'Seaholme'\n",
      " 'Keilor Park' 'Gardenvale' 'Princes Hill' 'Altona Meadows' 'Ardeer'\n",
      " 'Attwood' 'Bayswater' 'Bayswater North' 'Beaumaris' 'Berwick' 'Blackburn'\n",
      " 'Blackburn South' 'Boronia' 'Briar Hill' 'Broadmeadows' 'Bundoora'\n",
      " 'Burnside Heights' 'Burwood East' 'Cairnlea' 'Caroline Springs'\n",
      " 'Cheltenham' 'Clarinda' 'Clayton' 'Clyde North' 'Craigieburn'\n",
      " 'Cranbourne' 'Croydon' 'Croydon Hills' 'Croydon North' 'Dandenong'\n",
      " 'Dandenong North' 'Diamond Creek' 'Dingley Village' 'Doncaster East'\n",
      " 'Donvale' 'Doreen' 'Edithvale' 'Eltham' 'Eltham North' 'Emerald' 'Epping'\n",
      " 'Eumemmerring' 'Ferntree Gully' 'Forest Hill' 'Frankston'\n",
      " 'Frankston North' 'Frankston South' 'Gisborne' 'Gladstone Park'\n",
      " 'Glen Waverley' 'Greensborough' 'Greenvale' 'Hallam' 'Healesville'\n",
      " 'Heathmont' 'Highett' 'Hillside' 'Hoppers Crossing' 'Huntingdale'\n",
      " 'Keilor Downs' 'Keilor Lodge' 'Keysborough' 'Kings Park' 'Lalor'\n",
      " 'Lower Plenty' 'Lynbrook' 'MacLeod' 'Melton' 'Melton South' 'Melton West'\n",
      " 'Mentone' 'Mernda' 'Mickleham' 'Mill Park' 'Mitcham' 'Montmorency'\n",
      " 'Montrose' 'Mordialloc' 'Mount Waverley' 'Mulgrave' 'Narre Warren'\n",
      " 'Noble Park' 'Nunawading' 'Oakleigh East' 'Parkdale' 'Point Cook'\n",
      " 'Ringwood' 'Ringwood East' 'Rockbank' 'Rowville' 'Roxburgh Park'\n",
      " 'Sandringham' 'Seabrook' 'Seaford' 'Skye' 'South Morang' 'Springvale'\n",
      " 'Springvale South' 'St Albans' 'St Helena' 'Sunbury' 'Sydenham' 'Tarneit'\n",
      " 'Taylors Hill' 'Taylors Lakes' 'Tecoma' 'Templestowe' 'The Basin'\n",
      " 'Thomastown' 'Truganina' 'Tullamarine' 'Vermont' 'Vermont South'\n",
      " 'Wantirna' 'Wantirna South' 'Werribee' 'Werribee South' 'Westmeadows'\n",
      " 'Williams Landing' 'Wollert' 'Wyndham Vale' 'Aspendale' 'Black Rock'\n",
      " 'Blackburn North' 'Bonbeach' 'Carrum' 'Chelsea' 'Clayton South' 'Dallas'\n",
      " 'Delahey' 'Doveton' 'McKinnon' 'Mooroolbark' 'Pakenham' 'Ringwood North'\n",
      " 'Scoresby' 'Warrandyte' 'Watsonia North' 'Wattle Glen' 'Wheelers Hill'\n",
      " 'Albanvale' 'Aspendale Gardens' 'Belgrave' 'Carrum Downs'\n",
      " 'Cranbourne East' 'Cranbourne North' 'Deer Park' 'Heatherton' 'Kilsyth'\n",
      " 'Langwarrin' 'Notting Hill' 'Patterson Lakes' 'Beaconsfield Upper'\n",
      " 'Chelsea Heights' 'Chirnside Park' 'Coolaroo' 'Darley' 'Hampton Park'\n",
      " 'Keilor' 'Meadow Heights' 'Mount Evelyn' 'North Warrandyte'\n",
      " 'Riddells Creek' 'Sandhurst' 'Silvan' 'Wallan' 'Croydon South' 'Derrimut'\n",
      " 'Diggers Rest' 'Knoxfield' 'Upwey' 'Warranwood' 'Bacchus Marsh'\n",
      " 'Bullengarook' 'Deepdene' 'Hurstbridge' 'Kurunjang' 'Laverton' 'Lilydale'\n",
      " 'Wonga Park' 'Endeavour Hills' 'Officer' 'Olinda' 'Waterways'\n",
      " 'Beaconsfield' 'Yarra Glen' 'Brookfield' 'Lysterfield' 'Plenty'\n",
      " 'Whittlesea' 'Burnside' 'New Gisborne' 'Guys Hill' 'Plumpton' 'croydon'\n",
      " 'Monbulk' 'Avonsleigh' 'Wildwood' 'Gisborne South' 'Research' 'viewbank'\n",
      " 'Botanic Ridge' 'Bulla' 'Coldstream' 'Cranbourne West' 'Eynesbury'\n",
      " 'Fawkner Lot' 'Ferny Creek' 'Wandin North' 'Kalkallo' 'Menzies Creek']\n",
      "\n",
      "\n",
      "Feature  Type  Unique Items are  :  ['h' 'u' 't']\n",
      "\n",
      "\n",
      "Feature  Method  Unique Items are  :  ['SS' 'S' 'VB' 'SP' 'PI' 'SN' 'W' 'PN' 'SA']\n",
      "\n",
      "\n",
      "Feature  SellerG  Unique Items are  :  ['Jellis' 'Biggin' 'Rounds' 'Nelson' 'Collins' 'Dingle' 'Purplebricks'\n",
      " 'Greg' 'Philip' 'LITTLE' 'Kay' 'Beller' 'Marshall' 'hockingstuart' 'Brad'\n",
      " 'Maddison' 'Barry' 'Airport' 'Considine' 'Rendina' 'Ray' 'Propertyau'\n",
      " 'McDonald' 'Frank' 'Prof.' 'Harcourts' 'Thomson' 'Buxton' 'RT'\n",
      " \"Sotheby's\" 'Cayzer' 'Chisholm' 'McGrath' 'Brace' 'Miles' 'Holland'\n",
      " 'Love' 'Thomas' 'Barlow' 'Sweeney' 'Village' 'Jas' 'Williams' 'Gunn&Co'\n",
      " 'Burnham' 'Point' 'Compton' 'FN' 'Hunter' 'Raine&Horne' 'Noel' 'Hodges'\n",
      " 'Gary' 'Fletchers' 'Woodards' 'Raine' 'Alexkarbon' 'Walshe' 'Weda'\n",
      " 'Stockdale' 'Tim' 'Buxton/Marshall' 'AIME' 'Moonee' 'HAR' 'Edward' 'RW'\n",
      " 'North' 'MICM' 'Ascend' 'Christopher' 'Morrison' 'Bekdon' 'Mandy' 'R&H'\n",
      " 'Fletchers/One' 'Lindellas' 'Appleby' 'Assisi' 'One' 'Owen' 'Parkes'\n",
      " 'C21' 'Century' \"O'Brien\" 'Bayside' 'Anderson' 'Paul'\n",
      " 'hockingstuart/Buxton' 'Smart' 'First' 'Matthew' 'Melbourne' 'Nick'\n",
      " 'Allens' 'Bells' 'Nguyen' 'Trimson' 'Douglas' 'Batty' 'GL' 'YPA'\n",
      " \"Tiernan's\" 'J' 'Castran' 'Branon' 'Rodney' 'Joseph' 'Harrington'\n",
      " 'Galldon' 'Grantham' 'Chambers' 'Pagan' 'Peter' 'hockingstuart/Advantage'\n",
      " 'Rayner' 'Garvey' \"O'Donoghues\" 'Hamilton' 'Ross' 'Weast' 'Kelly'\n",
      " 'Property' \"Private/Tiernan's\" 'Australian' 'Bustin' \"Abercromby's\"\n",
      " 'Whiting' 'iTRAK' 'Del' 'Caine' 'Nicholson' 'JMRE' 'ASL' 'Changing' 'Re'\n",
      " 'RE' 'Walsh' 'Foxtons' 'Ham' 'Darren' 'Vic' 'Haughton' 'Scott' 'Pride'\n",
      " 'Morleys' 'Wilson' 'Buxton/Advantage' 'Professionals' 'Joe' 'Red'\n",
      " 'hockingstuart/Jellis' 'Craig' 'Naison' 'Sweeney/Advantage' 'Reach'\n",
      " 'Domain' 'Eview' 'Jason' \"D'Aprano\" 'Charlton' 'CASTRAN' 'Wood' 'William'\n",
      " 'Coventry' 'Buckingham' 'Nardella' 'Karen' 'LJ' 'Shape' 'Direct'\n",
      " 'Fletchers/Fletchers' 'Besser' 'Johnston' 'Avion' 'Redina' 'Clairmont'\n",
      " 'Lucas' 'Dixon' 'Xynergy' 'Elite' 'Buxton/Find' 'W.B.' 'Leased'\n",
      " 'Harcourts/Barry' 'Win' 'Collings' 'New' 'Parkinson' 'Geoff'\n",
      " 'hockingstuart/Barry' 'Blue' 'MSM' 'Steveway' 'hockingstuart/Village'\n",
      " 'VICPROP' 'Inner' 'Meadows' 'Allan' 'S&L' 'Crane' 'Calder' 'Metro'\n",
      " 'Homes' 'Zahn' 'Mason' 'Landfield' 'David' 'Luxe' 'Prowse' 'Ken'\n",
      " 'Rombotis' 'iOne' 'hockingstuart/Sweeney' 'Iconek' 'Luxton' 'Hooper'\n",
      " 'JRW' 'Oak' 'White' 'Jim' 'Weston' '@Realty' 'Reed' 'Oriental' 'Max'\n",
      " 'Steller' 'Rosin' 'Real' 'Jeffrey' 'Hall' 'Icon' 'buyMyplace' 'WHITEFOX'\n",
      " 'Christou' 'Marvelli' \"Grant's\" 'Hoskins' 'Gardiner' 'McLennan' 'Triwest'\n",
      " 'Reliance' 'PRDNationwide' 'Only' 'Leyton' 'iSell' 'Obrien' 'Maitland'\n",
      " 'Millership' 'L' 'Emerson' 'Follett' 'Ash' 'LLC' 'Ace' 'Flannagan'\n",
      " 'Carter' 'WeSell' 'M.J' 'iProperty' 'Hayeswinckle' 'Schroeder' 'iHomes'\n",
      " 'VICProp' 'REMAX' 'Space' 'Victory' 'Aumeca' 'Mindacom' 'Ryder'\n",
      " 'Sanctuary' 'Asset' 'Westside' 'Sell' 'Mitchell' 'Darras' 'U' 'Nicholas'\n",
      " 'Rexhepi' 'Keatings' 'Aquire' 'Conquest' 'Prime' 'Donovan' 'Community'\n",
      " 'Free' 'Veitch' 'John' 'Peake' 'Ristic' 'JY' 'Upper' 'Daniel' 'VicHomes'\n",
      " 'Leeburn' 'TRUE' 'McNaughton' 'Leading' 'Bullen' 'Better' 'Boutique'\n",
      " 'Royston' 'Langwell' 'Silver' 'Wyndham' 'Kaye' 'Bowman' 'Just' 'Home'\n",
      " 'Le' 'Cooper' 'Black' 'Nicholls' 'The' 'Open' 'Roger' 'McEwing'\n",
      " 'Sandhurst' 'Boran' 'hockingstuart/hockingstuart' 'Area' 'MJ' 'Eric' 'SN'\n",
      " 'Waterfront' 'P' 'PRD' 'Bombay' 'Quinta' 'T' 'Tanner' 'LJH' 'Munn'\n",
      " 'Knight' 'Justin' 'Blackbird' 'Sweeney/Burnham' 'H' 'Alex' 'Can'\n",
      " 'Pavilion' 'Benchmark' 'Gellibrand' 'hockingstuart/Harcourts' 'Charter'\n",
      " 'Surreal' 'Vicprop' 'A' 'Upside' 'OBrien' 'Meallin' 'Malvern' 'Mark'\n",
      " 'Bradly' 'For' 'Peninsula' 'Sutherland' 'Leaders' 'Spencer'\n",
      " 'McGrath/Langwell' 'Benlor' 'Burns' 'Sterling' 'K.R.Peters'\n",
      " 'Buxton/Buxton' 'CarlinSmith' 'Hill' 'People' 'hockingstuart/Biggin'\n",
      " 'Mega' 'Skad' 'Ruralco' 'Create' 'Janice' 'R' 'G&H' 'Commercial' 'PSP'\n",
      " 'hockingstuart/Cayzer' 'Unity' 'Sprint' 'McGrath/Buxton'\n",
      " 'hockingstuart/Marshall' 'McGrath/First' 'voglwalpole' 'Watermark'\n",
      " 'Methven']\n",
      "\n",
      "\n",
      "Feature  CouncilArea  Unique Items are  :  ['Yarra City Council' 'Moonee Valley City Council'\n",
      " 'Port Phillip City Council' 'Darebin City Council'\n",
      " 'Hobsons Bay City Council' 'Stonnington City Council'\n",
      " 'Boroondara City Council' 'Monash City Council' 'Glen Eira City Council'\n",
      " 'Whitehorse City Council' 'Maribyrnong City Council'\n",
      " 'Bayside City Council' 'Moreland City Council' 'Manningham City Council'\n",
      " 'Melbourne City Council' 'Banyule City Council' 'Brimbank City Council'\n",
      " 'Kingston City Council' 'Hume City Council' 'Knox City Council'\n",
      " 'Maroondah City Council' 'Casey City Council' 'Melton City Council'\n",
      " 'Greater Dandenong City Council' 'Nillumbik Shire Council'\n",
      " 'Cardinia Shire Council' 'Whittlesea City Council'\n",
      " 'Frankston City Council' 'Macedon Ranges Shire Council'\n",
      " 'Yarra Ranges Shire Council' 'Wyndham City Council'\n",
      " 'Moorabool Shire Council' 'Mitchell Shire Council' nan]\n",
      "\n",
      "\n",
      "Feature  Regionname  Unique Items are  :  ['Northern Metropolitan' 'Western Metropolitan' 'Southern Metropolitan'\n",
      " 'Eastern Metropolitan' 'South-Eastern Metropolitan' 'Eastern Victoria'\n",
      " 'Northern Victoria' 'Western Victoria' nan]\n",
      "\n",
      "\n"
     ]
    }
   ],
   "source": [
    "# Catagorical columns\n",
    "cat_col = df.select_dtypes(include = 'object')\n",
    "for cat_columns in cat_col:\n",
    "    print('Feature ' , cat_columns , \" Unique Items are  : \", df[cat_columns].unique())\n",
    "    print('\\n')"
   ]
  },
  {
   "cell_type": "code",
   "execution_count": 196,
   "id": "2353bcfc",
   "metadata": {},
   "outputs": [
    {
     "data": {
      "text/plain": [
       "Suburb         0\n",
       "Type           0\n",
       "Method         0\n",
       "SellerG        0\n",
       "CouncilArea    3\n",
       "Regionname     3\n",
       "dtype: int64"
      ]
     },
     "execution_count": 196,
     "metadata": {},
     "output_type": "execute_result"
    }
   ],
   "source": [
    "# Catagorical columns -- Null VAlues\n",
    "cat_col.isnull().sum()"
   ]
  },
  {
   "cell_type": "code",
   "execution_count": 197,
   "id": "3dac6544",
   "metadata": {},
   "outputs": [
    {
     "data": {
      "text/plain": [
       "0    Boroondara City Council\n",
       "Name: CouncilArea, dtype: object"
      ]
     },
     "execution_count": 197,
     "metadata": {},
     "output_type": "execute_result"
    }
   ],
   "source": [
    "df.CouncilArea.mode()"
   ]
  },
  {
   "cell_type": "code",
   "execution_count": 198,
   "id": "5efebda3",
   "metadata": {},
   "outputs": [
    {
     "data": {
      "text/plain": [
       "0    Boroondara City Council\n",
       "Name: CouncilArea, dtype: object"
      ]
     },
     "execution_count": 198,
     "metadata": {},
     "output_type": "execute_result"
    }
   ],
   "source": [
    "df['Regionname'].mode()[0]\n",
    "df['CouncilArea'].mode()"
   ]
  },
  {
   "cell_type": "code",
   "execution_count": 199,
   "id": "309d3d66",
   "metadata": {},
   "outputs": [],
   "source": [
    "# Filling null values of categorical columns only\n",
    "df['CouncilArea'].fillna(df['CouncilArea'].mode()[0], inplace=True)\n",
    "df['Regionname'].fillna(df['Regionname'].mode()[0], inplace=True)"
   ]
  },
  {
   "cell_type": "code",
   "execution_count": 200,
   "id": "8870837c",
   "metadata": {},
   "outputs": [
    {
     "data": {
      "text/plain": [
       "Suburb               0\n",
       "Rooms                0\n",
       "Type                 0\n",
       "Price             7589\n",
       "Method               0\n",
       "SellerG              0\n",
       "Distance             1\n",
       "Bathroom          8216\n",
       "Car               8716\n",
       "Landsize         11788\n",
       "CouncilArea          0\n",
       "Regionname           0\n",
       "Propertycount        3\n",
       "year_sold            0\n",
       "month_sold           0\n",
       "dtype: int64"
      ]
     },
     "execution_count": 200,
     "metadata": {},
     "output_type": "execute_result"
    }
   ],
   "source": [
    "df.isnull().sum()"
   ]
  },
  {
   "cell_type": "code",
   "execution_count": 201,
   "id": "26912526",
   "metadata": {},
   "outputs": [
    {
     "name": "stdout",
     "output_type": "stream",
     "text": [
      "Before Dropping records  shape :  (34786, 15)\n",
      "After Dropping records  shape :  (33013, 15)\n"
     ]
    }
   ],
   "source": [
    "print('Before Dropping records  shape : ', df.shape)\n",
    "df.dropna(subset=['Price', 'Bathroom', 'Car', 'Landsize'], how='all', inplace=True)\n",
    "print('After Dropping records  shape : ', df.shape)"
   ]
  },
  {
   "cell_type": "markdown",
   "id": "57fb8a10",
   "metadata": {},
   "source": [
    "###### Check on categorical columns"
   ]
  },
  {
   "cell_type": "code",
   "execution_count": 202,
   "id": "97608520",
   "metadata": {},
   "outputs": [
    {
     "data": {
      "text/html": [
       "<div>\n",
       "<style scoped>\n",
       "    .dataframe tbody tr th:only-of-type {\n",
       "        vertical-align: middle;\n",
       "    }\n",
       "\n",
       "    .dataframe tbody tr th {\n",
       "        vertical-align: top;\n",
       "    }\n",
       "\n",
       "    .dataframe thead th {\n",
       "        text-align: right;\n",
       "    }\n",
       "</style>\n",
       "<table border=\"1\" class=\"dataframe\">\n",
       "  <thead>\n",
       "    <tr style=\"text-align: right;\">\n",
       "      <th></th>\n",
       "      <th>count</th>\n",
       "      <th>unique</th>\n",
       "      <th>top</th>\n",
       "      <th>freq</th>\n",
       "    </tr>\n",
       "  </thead>\n",
       "  <tbody>\n",
       "    <tr>\n",
       "      <th>Suburb</th>\n",
       "      <td>33013</td>\n",
       "      <td>349</td>\n",
       "      <td>Reservoir</td>\n",
       "      <td>801</td>\n",
       "    </tr>\n",
       "    <tr>\n",
       "      <th>Type</th>\n",
       "      <td>33013</td>\n",
       "      <td>3</td>\n",
       "      <td>h</td>\n",
       "      <td>23098</td>\n",
       "    </tr>\n",
       "    <tr>\n",
       "      <th>Method</th>\n",
       "      <td>33013</td>\n",
       "      <td>9</td>\n",
       "      <td>S</td>\n",
       "      <td>19246</td>\n",
       "    </tr>\n",
       "    <tr>\n",
       "      <th>SellerG</th>\n",
       "      <td>33013</td>\n",
       "      <td>381</td>\n",
       "      <td>Jellis</td>\n",
       "      <td>3162</td>\n",
       "    </tr>\n",
       "    <tr>\n",
       "      <th>CouncilArea</th>\n",
       "      <td>33013</td>\n",
       "      <td>33</td>\n",
       "      <td>Boroondara City Council</td>\n",
       "      <td>3401</td>\n",
       "    </tr>\n",
       "    <tr>\n",
       "      <th>Regionname</th>\n",
       "      <td>33013</td>\n",
       "      <td>8</td>\n",
       "      <td>Southern Metropolitan</td>\n",
       "      <td>11010</td>\n",
       "    </tr>\n",
       "  </tbody>\n",
       "</table>\n",
       "</div>"
      ],
      "text/plain": [
       "             count unique                      top   freq\n",
       "Suburb       33013    349                Reservoir    801\n",
       "Type         33013      3                        h  23098\n",
       "Method       33013      9                        S  19246\n",
       "SellerG      33013    381                   Jellis   3162\n",
       "CouncilArea  33013     33  Boroondara City Council   3401\n",
       "Regionname   33013      8    Southern Metropolitan  11010"
      ]
     },
     "execution_count": 202,
     "metadata": {},
     "output_type": "execute_result"
    }
   ],
   "source": [
    "df.dtypes\n",
    "df.describe(include='object').T"
   ]
  },
  {
   "cell_type": "markdown",
   "id": "721b895a",
   "metadata": {},
   "source": [
    "###### Check on Non-Categorical columns6"
   ]
  },
  {
   "cell_type": "code",
   "execution_count": 203,
   "id": "124c66a3",
   "metadata": {},
   "outputs": [
    {
     "data": {
      "text/html": [
       "<div>\n",
       "<style scoped>\n",
       "    .dataframe tbody tr th:only-of-type {\n",
       "        vertical-align: middle;\n",
       "    }\n",
       "\n",
       "    .dataframe tbody tr th {\n",
       "        vertical-align: top;\n",
       "    }\n",
       "\n",
       "    .dataframe thead th {\n",
       "        text-align: right;\n",
       "    }\n",
       "</style>\n",
       "<table border=\"1\" class=\"dataframe\">\n",
       "  <thead>\n",
       "    <tr style=\"text-align: right;\">\n",
       "      <th></th>\n",
       "      <th>count</th>\n",
       "      <th>mean</th>\n",
       "      <th>std</th>\n",
       "      <th>min</th>\n",
       "      <th>25%</th>\n",
       "      <th>50%</th>\n",
       "      <th>75%</th>\n",
       "      <th>max</th>\n",
       "    </tr>\n",
       "  </thead>\n",
       "  <tbody>\n",
       "    <tr>\n",
       "      <th>Rooms</th>\n",
       "      <td>33013.0</td>\n",
       "      <td>3.029928e+00</td>\n",
       "      <td>0.949188</td>\n",
       "      <td>1.0</td>\n",
       "      <td>2.0</td>\n",
       "      <td>3.0</td>\n",
       "      <td>4.0</td>\n",
       "      <td>7.0</td>\n",
       "    </tr>\n",
       "    <tr>\n",
       "      <th>Price</th>\n",
       "      <td>27197.0</td>\n",
       "      <td>1.049145e+06</td>\n",
       "      <td>640088.247123</td>\n",
       "      <td>85000.0</td>\n",
       "      <td>635000.0</td>\n",
       "      <td>870000.0</td>\n",
       "      <td>1292000.0</td>\n",
       "      <td>11200000.0</td>\n",
       "    </tr>\n",
       "    <tr>\n",
       "      <th>Distance</th>\n",
       "      <td>33012.0</td>\n",
       "      <td>1.121127e+01</td>\n",
       "      <td>6.791783</td>\n",
       "      <td>0.0</td>\n",
       "      <td>6.4</td>\n",
       "      <td>10.3</td>\n",
       "      <td>14.0</td>\n",
       "      <td>48.1</td>\n",
       "    </tr>\n",
       "    <tr>\n",
       "      <th>Bathroom</th>\n",
       "      <td>26570.0</td>\n",
       "      <td>1.621340e+00</td>\n",
       "      <td>0.713487</td>\n",
       "      <td>0.0</td>\n",
       "      <td>1.0</td>\n",
       "      <td>2.0</td>\n",
       "      <td>2.0</td>\n",
       "      <td>7.0</td>\n",
       "    </tr>\n",
       "    <tr>\n",
       "      <th>Car</th>\n",
       "      <td>26070.0</td>\n",
       "      <td>1.716686e+00</td>\n",
       "      <td>0.959365</td>\n",
       "      <td>0.0</td>\n",
       "      <td>1.0</td>\n",
       "      <td>2.0</td>\n",
       "      <td>2.0</td>\n",
       "      <td>7.0</td>\n",
       "    </tr>\n",
       "    <tr>\n",
       "      <th>Landsize</th>\n",
       "      <td>22998.0</td>\n",
       "      <td>5.889003e+02</td>\n",
       "      <td>3384.184050</td>\n",
       "      <td>0.0</td>\n",
       "      <td>224.0</td>\n",
       "      <td>520.0</td>\n",
       "      <td>669.0</td>\n",
       "      <td>433014.0</td>\n",
       "    </tr>\n",
       "    <tr>\n",
       "      <th>Propertycount</th>\n",
       "      <td>33010.0</td>\n",
       "      <td>7.563359e+03</td>\n",
       "      <td>4425.427685</td>\n",
       "      <td>83.0</td>\n",
       "      <td>4385.0</td>\n",
       "      <td>6763.0</td>\n",
       "      <td>10331.0</td>\n",
       "      <td>21650.0</td>\n",
       "    </tr>\n",
       "    <tr>\n",
       "      <th>year_sold</th>\n",
       "      <td>33013.0</td>\n",
       "      <td>2.016837e+03</td>\n",
       "      <td>0.636018</td>\n",
       "      <td>2016.0</td>\n",
       "      <td>2016.0</td>\n",
       "      <td>2017.0</td>\n",
       "      <td>2017.0</td>\n",
       "      <td>2018.0</td>\n",
       "    </tr>\n",
       "    <tr>\n",
       "      <th>month_sold</th>\n",
       "      <td>33013.0</td>\n",
       "      <td>7.139278e+00</td>\n",
       "      <td>3.144861</td>\n",
       "      <td>1.0</td>\n",
       "      <td>5.0</td>\n",
       "      <td>7.0</td>\n",
       "      <td>10.0</td>\n",
       "      <td>12.0</td>\n",
       "    </tr>\n",
       "  </tbody>\n",
       "</table>\n",
       "</div>"
      ],
      "text/plain": [
       "                 count          mean            std      min       25%  \\\n",
       "Rooms          33013.0  3.029928e+00       0.949188      1.0       2.0   \n",
       "Price          27197.0  1.049145e+06  640088.247123  85000.0  635000.0   \n",
       "Distance       33012.0  1.121127e+01       6.791783      0.0       6.4   \n",
       "Bathroom       26570.0  1.621340e+00       0.713487      0.0       1.0   \n",
       "Car            26070.0  1.716686e+00       0.959365      0.0       1.0   \n",
       "Landsize       22998.0  5.889003e+02    3384.184050      0.0     224.0   \n",
       "Propertycount  33010.0  7.563359e+03    4425.427685     83.0    4385.0   \n",
       "year_sold      33013.0  2.016837e+03       0.636018   2016.0    2016.0   \n",
       "month_sold     33013.0  7.139278e+00       3.144861      1.0       5.0   \n",
       "\n",
       "                    50%        75%         max  \n",
       "Rooms               3.0        4.0         7.0  \n",
       "Price          870000.0  1292000.0  11200000.0  \n",
       "Distance           10.3       14.0        48.1  \n",
       "Bathroom            2.0        2.0         7.0  \n",
       "Car                 2.0        2.0         7.0  \n",
       "Landsize          520.0      669.0    433014.0  \n",
       "Propertycount    6763.0    10331.0     21650.0  \n",
       "year_sold        2017.0     2017.0      2018.0  \n",
       "month_sold          7.0       10.0        12.0  "
      ]
     },
     "execution_count": 203,
     "metadata": {},
     "output_type": "execute_result"
    }
   ],
   "source": [
    "df.describe(include=['int64','float64']).T"
   ]
  },
  {
   "cell_type": "markdown",
   "id": "8bbf48c2",
   "metadata": {},
   "source": [
    "Above description shows the null values in Bathroom, Car Landsize , etc columns"
   ]
  },
  {
   "cell_type": "code",
   "execution_count": 204,
   "id": "e25684b9",
   "metadata": {},
   "outputs": [
    {
     "data": {
      "text/plain": [
       "Suburb               0\n",
       "Rooms                0\n",
       "Type                 0\n",
       "Price             5816\n",
       "Method               0\n",
       "SellerG              0\n",
       "Distance             1\n",
       "Bathroom          6443\n",
       "Car               6943\n",
       "Landsize         10015\n",
       "CouncilArea          0\n",
       "Regionname           0\n",
       "Propertycount        3\n",
       "year_sold            0\n",
       "month_sold           0\n",
       "dtype: int64"
      ]
     },
     "execution_count": 204,
     "metadata": {},
     "output_type": "execute_result"
    }
   ],
   "source": [
    "# Checking Null Values again\n",
    "df.isnull().sum()"
   ]
  },
  {
   "cell_type": "code",
   "execution_count": 205,
   "id": "4ca3593e",
   "metadata": {},
   "outputs": [
    {
     "name": "stdout",
     "output_type": "stream",
     "text": [
      "Shape of the df before :  (33013, 15)\n",
      "Shape of the df after :  (17667, 15)\n"
     ]
    }
   ],
   "source": [
    "# dropping all records with missing values\n",
    "print('Shape of the df before : ', df.shape)\n",
    "df = df.dropna()\n",
    "print('Shape of the df after : ', df.shape)"
   ]
  },
  {
   "cell_type": "code",
   "execution_count": 206,
   "id": "a32ab7c8",
   "metadata": {},
   "outputs": [
    {
     "data": {
      "text/plain": [
       "Suburb           0\n",
       "Rooms            0\n",
       "Type             0\n",
       "Price            0\n",
       "Method           0\n",
       "SellerG          0\n",
       "Distance         0\n",
       "Bathroom         0\n",
       "Car              0\n",
       "Landsize         0\n",
       "CouncilArea      0\n",
       "Regionname       0\n",
       "Propertycount    0\n",
       "year_sold        0\n",
       "month_sold       0\n",
       "dtype: int64"
      ]
     },
     "execution_count": 206,
     "metadata": {},
     "output_type": "execute_result"
    }
   ],
   "source": [
    "# Checking Null Values again\n",
    "df.isnull().sum()"
   ]
  },
  {
   "cell_type": "markdown",
   "id": "1bb17863",
   "metadata": {},
   "source": [
    "## Data Visualization"
   ]
  },
  {
   "cell_type": "code",
   "execution_count": 207,
   "id": "71639a6c",
   "metadata": {},
   "outputs": [
    {
     "data": {
      "text/plain": [
       "Text(0, 0.5, 'Price')"
      ]
     },
     "execution_count": 207,
     "metadata": {},
     "output_type": "execute_result"
    },
    {
     "data": {
      "image/png": "[encoded data removed]",
      "text/plain": [
       "<Figure size 640x480 with 1 Axes>"
      ]
     },
     "metadata": {},
     "output_type": "display_data"
    }
   ],
   "source": [
    "# Now we have dropped all missing value records,hence data visualization can start\n",
    "x=df.groupby('Rooms').mean()['Price']\n",
    "y=x.plot(color='green')\n",
    "y.set_title('Rooms vs Price')\n",
    "y.set_xlabel('Rooms')\n",
    "y.set_ylabel('Price')"
   ]
  },
  {
   "cell_type": "code",
   "execution_count": 208,
   "id": "7e380cfd",
   "metadata": {},
   "outputs": [
    {
     "data": {
      "image/png": "[encoded data removed]",
      "text/plain": [
       "<Figure size 640x480 with 1 Axes>"
      ]
     },
     "metadata": {},
     "output_type": "display_data"
    }
   ],
   "source": [
    "\n",
    "plt.scatter(df['Distance'],df['Price'],color='green')\n",
    "#plt.title(\"Sports Watch Data\")\n",
    "plt.xlabel(\"Price\")\n",
    "plt.ylabel(\"Distance\")\n",
    "\n",
    "\n",
    "plt.show()"
   ]
  },
  {
   "cell_type": "markdown",
   "id": "111f9ff2",
   "metadata": {},
   "source": [
    "### Checking Outlier"
   ]
  },
  {
   "cell_type": "code",
   "execution_count": 209,
   "id": "2196edc9",
   "metadata": {},
   "outputs": [
    {
     "data": {
      "text/plain": [
       "<AxesSubplot:xlabel='Distance', ylabel='Density'>"
      ]
     },
     "execution_count": 209,
     "metadata": {},
     "output_type": "execute_result"
    },
    {
     "data": {
      "image/png": "[encoded data removed]",
      "text/plain": [
       "<Figure size 1600x500 with 1 Axes>"
      ]
     },
     "metadata": {},
     "output_type": "display_data"
    }
   ],
   "source": [
    "# With above boxplot we found outlier columns ['Distance','Bothroom','Car', 'landsize', 'lattitude','longtitude','property']\n",
    "col = ['Distance','Bathroom','Car', 'Landsize', 'lattitude','longtitude','property']\n",
    "plt.figure(figsize=(16,5))\n",
    "plt.subplot(1,2,1)\n",
    "sns.distplot(df['Distance'])"
   ]
  },
  {
   "cell_type": "code",
   "execution_count": 210,
   "id": "8fda42f1",
   "metadata": {},
   "outputs": [
    {
     "data": {
      "text/plain": [
       "<AxesSubplot:xlabel='Bathroom', ylabel='Density'>"
      ]
     },
     "execution_count": 210,
     "metadata": {},
     "output_type": "execute_result"
    },
    {
     "data": {
      "image/png": "[encoded data removed]",
      "text/plain": [
       "<Figure size 640x480 with 1 Axes>"
      ]
     },
     "metadata": {},
     "output_type": "display_data"
    }
   ],
   "source": [
    "sns.distplot(df['Bathroom'])"
   ]
  },
  {
   "cell_type": "code",
   "execution_count": 211,
   "id": "ce92e089",
   "metadata": {},
   "outputs": [
    {
     "data": {
      "text/plain": [
       "<AxesSubplot:xlabel='Car', ylabel='Density'>"
      ]
     },
     "execution_count": 211,
     "metadata": {},
     "output_type": "execute_result"
    },
    {
     "data": {
      "image/png": "[encoded data removed]",
      "text/plain": [
       "<Figure size 640x480 with 1 Axes>"
      ]
     },
     "metadata": {},
     "output_type": "display_data"
    }
   ],
   "source": [
    "sns.distplot(df['Car'])"
   ]
  },
  {
   "cell_type": "code",
   "execution_count": 212,
   "id": "c359ab1d",
   "metadata": {},
   "outputs": [
    {
     "data": {
      "text/plain": [
       "<AxesSubplot:xlabel='Landsize', ylabel='Density'>"
      ]
     },
     "execution_count": 212,
     "metadata": {},
     "output_type": "execute_result"
    },
    {
     "data": {
      "image/png": "[encoded data removed]",
      "text/plain": [
       "<Figure size 640x480 with 1 Axes>"
      ]
     },
     "metadata": {},
     "output_type": "display_data"
    }
   ],
   "source": [
    "sns.distplot(df['Landsize'])"
   ]
  },
  {
   "cell_type": "code",
   "execution_count": null,
   "id": "ad5320da",
   "metadata": {},
   "outputs": [],
   "source": []
  },
  {
   "cell_type": "code",
   "execution_count": 213,
   "id": "b5396b65",
   "metadata": {},
   "outputs": [
    {
     "data": {
      "text/html": [
       "<div>\n",
       "<style scoped>\n",
       "    .dataframe tbody tr th:only-of-type {\n",
       "        vertical-align: middle;\n",
       "    }\n",
       "\n",
       "    .dataframe tbody tr th {\n",
       "        vertical-align: top;\n",
       "    }\n",
       "\n",
       "    .dataframe thead th {\n",
       "        text-align: right;\n",
       "    }\n",
       "</style>\n",
       "<table border=\"1\" class=\"dataframe\">\n",
       "  <thead>\n",
       "    <tr style=\"text-align: right;\">\n",
       "      <th></th>\n",
       "      <th>Suburb</th>\n",
       "      <th>Rooms</th>\n",
       "      <th>Type</th>\n",
       "      <th>Price</th>\n",
       "      <th>Method</th>\n",
       "      <th>SellerG</th>\n",
       "      <th>Distance</th>\n",
       "      <th>Bathroom</th>\n",
       "      <th>Car</th>\n",
       "      <th>Landsize</th>\n",
       "      <th>CouncilArea</th>\n",
       "      <th>Regionname</th>\n",
       "      <th>Propertycount</th>\n",
       "      <th>year_sold</th>\n",
       "      <th>month_sold</th>\n",
       "    </tr>\n",
       "  </thead>\n",
       "  <tbody>\n",
       "    <tr>\n",
       "      <th>1</th>\n",
       "      <td>Abbotsford</td>\n",
       "      <td>2</td>\n",
       "      <td>h</td>\n",
       "      <td>1480000.0</td>\n",
       "      <td>S</td>\n",
       "      <td>Biggin</td>\n",
       "      <td>2.5</td>\n",
       "      <td>1.0</td>\n",
       "      <td>1.0</td>\n",
       "      <td>202.0</td>\n",
       "      <td>Yarra City Council</td>\n",
       "      <td>Northern Metropolitan</td>\n",
       "      <td>4019.0</td>\n",
       "      <td>2016</td>\n",
       "      <td>12</td>\n",
       "    </tr>\n",
       "    <tr>\n",
       "      <th>2</th>\n",
       "      <td>Abbotsford</td>\n",
       "      <td>2</td>\n",
       "      <td>h</td>\n",
       "      <td>1035000.0</td>\n",
       "      <td>S</td>\n",
       "      <td>Biggin</td>\n",
       "      <td>2.5</td>\n",
       "      <td>1.0</td>\n",
       "      <td>0.0</td>\n",
       "      <td>156.0</td>\n",
       "      <td>Yarra City Council</td>\n",
       "      <td>Northern Metropolitan</td>\n",
       "      <td>4019.0</td>\n",
       "      <td>2016</td>\n",
       "      <td>2</td>\n",
       "    </tr>\n",
       "    <tr>\n",
       "      <th>4</th>\n",
       "      <td>Abbotsford</td>\n",
       "      <td>3</td>\n",
       "      <td>h</td>\n",
       "      <td>1465000.0</td>\n",
       "      <td>SP</td>\n",
       "      <td>Biggin</td>\n",
       "      <td>2.5</td>\n",
       "      <td>2.0</td>\n",
       "      <td>0.0</td>\n",
       "      <td>134.0</td>\n",
       "      <td>Yarra City Council</td>\n",
       "      <td>Northern Metropolitan</td>\n",
       "      <td>4019.0</td>\n",
       "      <td>2017</td>\n",
       "      <td>3</td>\n",
       "    </tr>\n",
       "    <tr>\n",
       "      <th>5</th>\n",
       "      <td>Abbotsford</td>\n",
       "      <td>3</td>\n",
       "      <td>h</td>\n",
       "      <td>850000.0</td>\n",
       "      <td>PI</td>\n",
       "      <td>Biggin</td>\n",
       "      <td>2.5</td>\n",
       "      <td>2.0</td>\n",
       "      <td>1.0</td>\n",
       "      <td>94.0</td>\n",
       "      <td>Yarra City Council</td>\n",
       "      <td>Northern Metropolitan</td>\n",
       "      <td>4019.0</td>\n",
       "      <td>2017</td>\n",
       "      <td>3</td>\n",
       "    </tr>\n",
       "    <tr>\n",
       "      <th>6</th>\n",
       "      <td>Abbotsford</td>\n",
       "      <td>4</td>\n",
       "      <td>h</td>\n",
       "      <td>1600000.0</td>\n",
       "      <td>VB</td>\n",
       "      <td>Nelson</td>\n",
       "      <td>2.5</td>\n",
       "      <td>1.0</td>\n",
       "      <td>2.0</td>\n",
       "      <td>120.0</td>\n",
       "      <td>Yarra City Council</td>\n",
       "      <td>Northern Metropolitan</td>\n",
       "      <td>4019.0</td>\n",
       "      <td>2016</td>\n",
       "      <td>6</td>\n",
       "    </tr>\n",
       "  </tbody>\n",
       "</table>\n",
       "</div>"
      ],
      "text/plain": [
       "       Suburb  Rooms Type      Price Method SellerG  Distance  Bathroom  Car  \\\n",
       "1  Abbotsford      2    h  1480000.0      S  Biggin       2.5       1.0  1.0   \n",
       "2  Abbotsford      2    h  1035000.0      S  Biggin       2.5       1.0  0.0   \n",
       "4  Abbotsford      3    h  1465000.0     SP  Biggin       2.5       2.0  0.0   \n",
       "5  Abbotsford      3    h   850000.0     PI  Biggin       2.5       2.0  1.0   \n",
       "6  Abbotsford      4    h  1600000.0     VB  Nelson       2.5       1.0  2.0   \n",
       "\n",
       "   Landsize         CouncilArea             Regionname  Propertycount  \\\n",
       "1     202.0  Yarra City Council  Northern Metropolitan         4019.0   \n",
       "2     156.0  Yarra City Council  Northern Metropolitan         4019.0   \n",
       "4     134.0  Yarra City Council  Northern Metropolitan         4019.0   \n",
       "5      94.0  Yarra City Council  Northern Metropolitan         4019.0   \n",
       "6     120.0  Yarra City Council  Northern Metropolitan         4019.0   \n",
       "\n",
       "   year_sold  month_sold  \n",
       "1       2016          12  \n",
       "2       2016           2  \n",
       "4       2017           3  \n",
       "5       2017           3  \n",
       "6       2016           6  "
      ]
     },
     "execution_count": 213,
     "metadata": {},
     "output_type": "execute_result"
    }
   ],
   "source": [
    "df.head(5)"
   ]
  },
  {
   "cell_type": "code",
   "execution_count": 214,
   "id": "214dd9cf",
   "metadata": {},
   "outputs": [
    {
     "data": {
      "text/html": [
       "<div>\n",
       "<style scoped>\n",
       "    .dataframe tbody tr th:only-of-type {\n",
       "        vertical-align: middle;\n",
       "    }\n",
       "\n",
       "    .dataframe tbody tr th {\n",
       "        vertical-align: top;\n",
       "    }\n",
       "\n",
       "    .dataframe thead th {\n",
       "        text-align: right;\n",
       "    }\n",
       "</style>\n",
       "<table border=\"1\" class=\"dataframe\">\n",
       "  <thead>\n",
       "    <tr style=\"text-align: right;\">\n",
       "      <th></th>\n",
       "      <th>count</th>\n",
       "      <th>unique</th>\n",
       "      <th>top</th>\n",
       "      <th>freq</th>\n",
       "    </tr>\n",
       "  </thead>\n",
       "  <tbody>\n",
       "    <tr>\n",
       "      <th>Suburb</th>\n",
       "      <td>17667</td>\n",
       "      <td>333</td>\n",
       "      <td>Reservoir</td>\n",
       "      <td>430</td>\n",
       "    </tr>\n",
       "    <tr>\n",
       "      <th>Type</th>\n",
       "      <td>17667</td>\n",
       "      <td>3</td>\n",
       "      <td>h</td>\n",
       "      <td>13318</td>\n",
       "    </tr>\n",
       "    <tr>\n",
       "      <th>Method</th>\n",
       "      <td>17667</td>\n",
       "      <td>5</td>\n",
       "      <td>S</td>\n",
       "      <td>11545</td>\n",
       "    </tr>\n",
       "    <tr>\n",
       "      <th>SellerG</th>\n",
       "      <td>17667</td>\n",
       "      <td>309</td>\n",
       "      <td>Nelson</td>\n",
       "      <td>1883</td>\n",
       "    </tr>\n",
       "    <tr>\n",
       "      <th>CouncilArea</th>\n",
       "      <td>17667</td>\n",
       "      <td>33</td>\n",
       "      <td>Boroondara City Council</td>\n",
       "      <td>1678</td>\n",
       "    </tr>\n",
       "    <tr>\n",
       "      <th>Regionname</th>\n",
       "      <td>17667</td>\n",
       "      <td>8</td>\n",
       "      <td>Southern Metropolitan</td>\n",
       "      <td>5523</td>\n",
       "    </tr>\n",
       "  </tbody>\n",
       "</table>\n",
       "</div>"
      ],
      "text/plain": [
       "             count unique                      top   freq\n",
       "Suburb       17667    333                Reservoir    430\n",
       "Type         17667      3                        h  13318\n",
       "Method       17667      5                        S  11545\n",
       "SellerG      17667    309                   Nelson   1883\n",
       "CouncilArea  17667     33  Boroondara City Council   1678\n",
       "Regionname   17667      8    Southern Metropolitan   5523"
      ]
     },
     "execution_count": 214,
     "metadata": {},
     "output_type": "execute_result"
    }
   ],
   "source": [
    "df.describe(include='object').T"
   ]
  },
  {
   "cell_type": "markdown",
   "id": "f0851e55",
   "metadata": {},
   "source": [
    "###### Data Transformation wth Label Encoder - Features only with maximum items"
   ]
  },
  {
   "cell_type": "code",
   "execution_count": 215,
   "id": "bacc6df9",
   "metadata": {},
   "outputs": [],
   "source": [
    "from sklearn.preprocessing import LabelEncoder\n",
    "labelencoder = LabelEncoder()\n",
    "df['Suburb'] = labelencoder.fit_transform(df['Suburb'])\n",
    "df['SellerG']=labelencoder.fit_transform(df['SellerG'])\n",
    "df['CouncilArea']=labelencoder.fit_transform(df['CouncilArea'])"
   ]
  },
  {
   "cell_type": "code",
   "execution_count": 216,
   "id": "2fe2b769",
   "metadata": {},
   "outputs": [
    {
     "data": {
      "text/plain": [
       "(17667, 15)"
      ]
     },
     "execution_count": 216,
     "metadata": {},
     "output_type": "execute_result"
    }
   ],
   "source": [
    "df.shape"
   ]
  },
  {
   "cell_type": "markdown",
   "id": "fe59fbcf",
   "metadata": {},
   "source": [
    "###### Data Transformation with OneHotEncoder - Features with lesser items (Using Pandas)"
   ]
  },
  {
   "cell_type": "code",
   "execution_count": 217,
   "id": "50e18165",
   "metadata": {},
   "outputs": [
    {
     "data": {
      "text/plain": [
       "(17667, 28)"
      ]
     },
     "execution_count": 217,
     "metadata": {},
     "output_type": "execute_result"
    }
   ],
   "source": [
    "df = pd.get_dummies(df, columns = ['Type', 'Method', 'Regionname'])\n",
    "df.shape"
   ]
  },
  {
   "cell_type": "markdown",
   "id": "5c3754bc",
   "metadata": {},
   "source": [
    "###### Begin Linear Regression Model"
   ]
  },
  {
   "cell_type": "code",
   "execution_count": 218,
   "id": "436d34d3",
   "metadata": {},
   "outputs": [],
   "source": [
    "from sklearn.linear_model import LinearRegression\n",
    "from sklearn.metrics import r2_score, accuracy_score\n",
    "from sklearn.model_selection import train_test_split"
   ]
  },
  {
   "cell_type": "code",
   "execution_count": 219,
   "id": "360c2fb9",
   "metadata": {},
   "outputs": [],
   "source": [
    "# Exporting dataset - After Clearning and Feature Reduction MVP"
   ]
  },
  {
   "cell_type": "code",
   "execution_count": 220,
   "id": "7f3fc5fa",
   "metadata": {},
   "outputs": [],
   "source": [
    "df.to_excel(\"melbourne dataset after clearning.xlsx\")"
   ]
  },
  {
   "cell_type": "code",
   "execution_count": 221,
   "id": "7fe71708",
   "metadata": {},
   "outputs": [],
   "source": [
    "X = df.drop('Price', axis = 1)\n",
    "y = df['Price']"
   ]
  },
  {
   "cell_type": "code",
   "execution_count": 222,
   "id": "995a45be",
   "metadata": {},
   "outputs": [],
   "source": [
    "X_Train, X_Test, y_train, y_test = train_test_split(X,y,test_size=.2, random_state=0)"
   ]
  },
  {
   "cell_type": "code",
   "execution_count": 223,
   "id": "9a78536c",
   "metadata": {},
   "outputs": [],
   "source": [
    "model = LinearRegression()\n",
    "model.fit(X_Train, y_train)\n",
    "y_predicted = model.predict(X_Test)"
   ]
  },
  {
   "cell_type": "code",
   "execution_count": 224,
   "id": "ca1170b9",
   "metadata": {},
   "outputs": [
    {
     "data": {
      "text/plain": [
       "0.6097433816724918"
      ]
     },
     "execution_count": 224,
     "metadata": {},
     "output_type": "execute_result"
    }
   ],
   "source": [
    "r2_Score = r2_score(y_test,y_predicted)\n",
    "r2_Score"
   ]
  },
  {
   "cell_type": "code",
   "execution_count": 225,
   "id": "aeef84d6",
   "metadata": {},
   "outputs": [
    {
     "name": "stdout",
     "output_type": "stream",
     "text": [
      "(3534, 27)\n",
      "(3534,)\n",
      "3534\n"
     ]
    }
   ],
   "source": [
    "print(X_Test.shape)\n",
    "print(y_test.shape)\n",
    "print(len(y_predicted))"
   ]
  },
  {
   "cell_type": "code",
   "execution_count": 226,
   "id": "6912604f",
   "metadata": {},
   "outputs": [
    {
     "data": {
      "text/html": [
       "<div>\n",
       "<style scoped>\n",
       "    .dataframe tbody tr th:only-of-type {\n",
       "        vertical-align: middle;\n",
       "    }\n",
       "\n",
       "    .dataframe tbody tr th {\n",
       "        vertical-align: top;\n",
       "    }\n",
       "\n",
       "    .dataframe thead th {\n",
       "        text-align: right;\n",
       "    }\n",
       "</style>\n",
       "<table border=\"1\" class=\"dataframe\">\n",
       "  <thead>\n",
       "    <tr style=\"text-align: right;\">\n",
       "      <th></th>\n",
       "      <th>Suburb</th>\n",
       "      <th>Rooms</th>\n",
       "      <th>SellerG</th>\n",
       "      <th>Distance</th>\n",
       "      <th>Bathroom</th>\n",
       "      <th>Car</th>\n",
       "      <th>Landsize</th>\n",
       "      <th>CouncilArea</th>\n",
       "      <th>Propertycount</th>\n",
       "      <th>year_sold</th>\n",
       "      <th>...</th>\n",
       "      <th>Method_VB</th>\n",
       "      <th>Regionname_Eastern Metropolitan</th>\n",
       "      <th>Regionname_Eastern Victoria</th>\n",
       "      <th>Regionname_Northern Metropolitan</th>\n",
       "      <th>Regionname_Northern Victoria</th>\n",
       "      <th>Regionname_South-Eastern Metropolitan</th>\n",
       "      <th>Regionname_Southern Metropolitan</th>\n",
       "      <th>Regionname_Western Metropolitan</th>\n",
       "      <th>Regionname_Western Victoria</th>\n",
       "      <th>Price</th>\n",
       "    </tr>\n",
       "  </thead>\n",
       "  <tbody>\n",
       "    <tr>\n",
       "      <th>26703</th>\n",
       "      <td>296</td>\n",
       "      <td>3</td>\n",
       "      <td>52</td>\n",
       "      <td>7.0</td>\n",
       "      <td>2.0</td>\n",
       "      <td>2.0</td>\n",
       "      <td>482.0</td>\n",
       "      <td>6</td>\n",
       "      <td>8870.0</td>\n",
       "      <td>2017</td>\n",
       "      <td>...</td>\n",
       "      <td>1</td>\n",
       "      <td>0</td>\n",
       "      <td>0</td>\n",
       "      <td>1</td>\n",
       "      <td>0</td>\n",
       "      <td>0</td>\n",
       "      <td>0</td>\n",
       "      <td>0</td>\n",
       "      <td>0</td>\n",
       "      <td>810000.0</td>\n",
       "    </tr>\n",
       "    <tr>\n",
       "      <th>23605</th>\n",
       "      <td>47</td>\n",
       "      <td>2</td>\n",
       "      <td>227</td>\n",
       "      <td>5.2</td>\n",
       "      <td>1.0</td>\n",
       "      <td>1.0</td>\n",
       "      <td>183.0</td>\n",
       "      <td>24</td>\n",
       "      <td>11918.0</td>\n",
       "      <td>2017</td>\n",
       "      <td>...</td>\n",
       "      <td>0</td>\n",
       "      <td>0</td>\n",
       "      <td>0</td>\n",
       "      <td>1</td>\n",
       "      <td>0</td>\n",
       "      <td>0</td>\n",
       "      <td>0</td>\n",
       "      <td>0</td>\n",
       "      <td>0</td>\n",
       "      <td>790000.0</td>\n",
       "    </tr>\n",
       "  </tbody>\n",
       "</table>\n",
       "<p>2 rows × 28 columns</p>\n",
       "</div>"
      ],
      "text/plain": [
       "       Suburb  Rooms  SellerG  Distance  Bathroom  Car  Landsize  CouncilArea  \\\n",
       "26703     296      3       52       7.0       2.0  2.0     482.0            6   \n",
       "23605      47      2      227       5.2       1.0  1.0     183.0           24   \n",
       "\n",
       "       Propertycount  year_sold  ...  Method_VB  \\\n",
       "26703         8870.0       2017  ...          1   \n",
       "23605        11918.0       2017  ...          0   \n",
       "\n",
       "       Regionname_Eastern Metropolitan  Regionname_Eastern Victoria  \\\n",
       "26703                                0                            0   \n",
       "23605                                0                            0   \n",
       "\n",
       "       Regionname_Northern Metropolitan  Regionname_Northern Victoria  \\\n",
       "26703                                 1                             0   \n",
       "23605                                 1                             0   \n",
       "\n",
       "       Regionname_South-Eastern Metropolitan  \\\n",
       "26703                                      0   \n",
       "23605                                      0   \n",
       "\n",
       "       Regionname_Southern Metropolitan  Regionname_Western Metropolitan  \\\n",
       "26703                                 0                                0   \n",
       "23605                                 0                                0   \n",
       "\n",
       "       Regionname_Western Victoria     Price  \n",
       "26703                            0  810000.0  \n",
       "23605                            0  790000.0  \n",
       "\n",
       "[2 rows x 28 columns]"
      ]
     },
     "execution_count": 226,
     "metadata": {},
     "output_type": "execute_result"
    }
   ],
   "source": [
    "y_pred_df = pd.DataFrame(y_predicted , columns = ['Predicted'])\n",
    "accuracy_check_df = pd.concat([X_Test, y_test], axis = 1)\n",
    "accuracy_check_df.head(2)"
   ]
  },
  {
   "cell_type": "code",
   "execution_count": 227,
   "id": "ed7d591e",
   "metadata": {},
   "outputs": [
    {
     "data": {
      "text/html": [
       "<div>\n",
       "<style scoped>\n",
       "    .dataframe tbody tr th:only-of-type {\n",
       "        vertical-align: middle;\n",
       "    }\n",
       "\n",
       "    .dataframe tbody tr th {\n",
       "        vertical-align: top;\n",
       "    }\n",
       "\n",
       "    .dataframe thead th {\n",
       "        text-align: right;\n",
       "    }\n",
       "</style>\n",
       "<table border=\"1\" class=\"dataframe\">\n",
       "  <thead>\n",
       "    <tr style=\"text-align: right;\">\n",
       "      <th></th>\n",
       "      <th>Predicted</th>\n",
       "    </tr>\n",
       "  </thead>\n",
       "  <tbody>\n",
       "    <tr>\n",
       "      <th>0</th>\n",
       "      <td>950018.14</td>\n",
       "    </tr>\n",
       "    <tr>\n",
       "      <th>1</th>\n",
       "      <td>972014.15</td>\n",
       "    </tr>\n",
       "    <tr>\n",
       "      <th>2</th>\n",
       "      <td>1907769.04</td>\n",
       "    </tr>\n",
       "    <tr>\n",
       "      <th>3</th>\n",
       "      <td>507279.39</td>\n",
       "    </tr>\n",
       "    <tr>\n",
       "      <th>4</th>\n",
       "      <td>1055535.38</td>\n",
       "    </tr>\n",
       "  </tbody>\n",
       "</table>\n",
       "</div>"
      ],
      "text/plain": [
       "    Predicted\n",
       "0   950018.14\n",
       "1   972014.15\n",
       "2  1907769.04\n",
       "3   507279.39\n",
       "4  1055535.38"
      ]
     },
     "execution_count": 227,
     "metadata": {},
     "output_type": "execute_result"
    }
   ],
   "source": [
    "y_predicted\n",
    "arr_pred = np.round(y_predicted,decimals = 2)\n",
    "arr_pred_df = pd.DataFrame(arr_pred)\n",
    "arr_pred_df.columns = ['Predicted']\n",
    "arr_pred_df.head()"
   ]
  },
  {
   "cell_type": "code",
   "execution_count": 228,
   "id": "d6d0f325",
   "metadata": {},
   "outputs": [],
   "source": [
    "writer = pd.ExcelWriter('After First Model.xlsx', engine = 'xlsxwriter')\n",
    "df.to_excel(writer, sheet_name = 'Main DF')\n",
    "accuracy_check_df.to_excel(writer, sheet_name = 'Test Dataset')\n",
    "arr_pred_df.to_excel(writer, sheet_name = 'Predicted  Values')\n",
    "writer.save()\n",
    "writer.close()"
   ]
  },
  {
   "cell_type": "markdown",
   "id": "3e9f7484",
   "metadata": {},
   "source": [
    "###### R2 Score approx 58% with MVP"
   ]
  },
  {
   "cell_type": "code",
   "execution_count": 229,
   "id": "a40bf9c1",
   "metadata": {},
   "outputs": [],
   "source": [
    "from sklearn.metrics import mean_absolute_error , mean_squared_error, r2_score , max_error"
   ]
  },
  {
   "cell_type": "code",
   "execution_count": 230,
   "id": "70c49fec",
   "metadata": {},
   "outputs": [
    {
     "data": {
      "text/plain": [
       "0.6097433816565877"
      ]
     },
     "execution_count": 230,
     "metadata": {},
     "output_type": "execute_result"
    }
   ],
   "source": [
    "r2_score_ =r2_score(y_test,arr_pred_df)\n",
    "r2_score_"
   ]
  },
  {
   "cell_type": "code",
   "execution_count": 231,
   "id": "81a1da65",
   "metadata": {},
   "outputs": [
    {
     "name": "stdout",
     "output_type": "stream",
     "text": [
      "Mean Absolute Error :  281967.0985238671\n"
     ]
    }
   ],
   "source": [
    "MAE  = mean_absolute_error(y_test, y_predicted)\n",
    "print('Mean Absolute Error : ', MAE)"
   ]
  },
  {
   "cell_type": "code",
   "execution_count": 232,
   "id": "00c70ee2",
   "metadata": {},
   "outputs": [
    {
     "name": "stdout",
     "output_type": "stream",
     "text": [
      "Mean Square Error :  281967.0985238671\n"
     ]
    }
   ],
   "source": [
    "MSE  = mean_squared_error(y_test, y_predicted)\n",
    "print('Mean Square Error : ', MAE)"
   ]
  },
  {
   "cell_type": "code",
   "execution_count": 233,
   "id": "bea2fc64",
   "metadata": {},
   "outputs": [],
   "source": [
    "from sklearn.preprocessing import StandardScaler\n",
    "scaler = StandardScaler()\n",
    "#df1= scaler.fit(X_Train)\n",
    "scaled_data = scaler.fit_transform(X)\n",
    "scaled_data\n",
    "X_Train, X_Test, y_train, y_test = train_test_split(scaled_data,y,test_size=.2, random_state=0)\n"
   ]
  },
  {
   "cell_type": "code",
   "execution_count": 234,
   "id": "242e5689",
   "metadata": {},
   "outputs": [
    {
     "data": {
      "text/plain": [
       "0.609713815949028"
      ]
     },
     "execution_count": 234,
     "metadata": {},
     "output_type": "execute_result"
    }
   ],
   "source": [
    "# Accuracy After Scaling the data - \n",
    "model.fit(X_Train, y_train)\n",
    "y_predicted = model.predict(X_Test)\n",
    "r2_Score = r2_score(y_test,y_predicted)\n",
    "r2_Score"
   ]
  },
  {
   "cell_type": "markdown",
   "id": "b2f721c8",
   "metadata": {},
   "source": [
    "###### Feature Selection Process Begins"
   ]
  },
  {
   "cell_type": "markdown",
   "id": "96e1b1f8",
   "metadata": {},
   "source": [
    "###### Variance Threshold Method"
   ]
  },
  {
   "cell_type": "raw",
   "id": "d96dda00",
   "metadata": {},
   "source": [
    "1. Calculate the variance of each feature.(normalize or standardize is must before variance calc).\n",
    "2. Decide a threshold of variance (normally it is 0.01 to 0.05) \n",
    "3. Remove all feature whose threshold is lesser than the given threshold\n",
    "\n",
    "Note: It is very very important to normalize/standarize the independent features and then calc variance"
   ]
  },
  {
   "cell_type": "code",
   "execution_count": 235,
   "id": "2e6198d2",
   "metadata": {},
   "outputs": [],
   "source": [
    "from sklearn.feature_selection import VarianceThreshold\n",
    "sel = VarianceThreshold(threshold = 0.05)   # There is long discussion/calculation required to give threshold number , generally we give value from .1 to .01. so we use 0.05. Before that your dataset should be standardize/normalize"
   ]
  },
  {
   "cell_type": "code",
   "execution_count": 236,
   "id": "10c0d2ec",
   "metadata": {},
   "outputs": [
    {
     "data": {
      "text/plain": [
       "VarianceThreshold(threshold=0.05)"
      ]
     },
     "execution_count": 236,
     "metadata": {},
     "output_type": "execute_result"
    }
   ],
   "source": [
    "# fit the X_Train Columns\n",
    "sel.fit(X_Train)"
   ]
  },
  {
   "cell_type": "code",
   "execution_count": 237,
   "id": "fe053723",
   "metadata": {},
   "outputs": [
    {
     "data": {
      "text/plain": [
       "array([ True,  True,  True,  True,  True,  True,  True,  True,  True,\n",
       "        True,  True,  True,  True,  True,  True,  True,  True,  True,\n",
       "        True,  True,  True,  True,  True,  True,  True,  True,  True])"
      ]
     },
     "execution_count": 237,
     "metadata": {},
     "output_type": "execute_result"
    }
   ],
   "source": [
    "sel.get_support()"
   ]
  },
  {
   "cell_type": "code",
   "execution_count": 238,
   "id": "3a2780fc",
   "metadata": {},
   "outputs": [
    {
     "data": {
      "text/plain": [
       "27"
      ]
     },
     "execution_count": 238,
     "metadata": {},
     "output_type": "execute_result"
    }
   ],
   "source": [
    "# No Columns can be drop\n",
    "sel.get_support().sum()"
   ]
  },
  {
   "cell_type": "markdown",
   "id": "b64b8b07",
   "metadata": {},
   "source": [
    "###### Checking Correlation"
   ]
  },
  {
   "cell_type": "code",
   "execution_count": 239,
   "id": "a1e1235a",
   "metadata": {},
   "outputs": [
    {
     "data": {
      "text/plain": [
       "<AxesSubplot:>"
      ]
     },
     "execution_count": 239,
     "metadata": {},
     "output_type": "execute_result"
    },
    {
     "data": {
      "image/png": "[encoded data removed]",
      "text/plain": [
       "<Figure size 640x480 with 2 Axes>"
      ]
     },
     "metadata": {},
     "output_type": "display_data"
    }
   ],
   "source": [
    "sns.heatmap(X.corr())"
   ]
  },
  {
   "cell_type": "code",
   "execution_count": 240,
   "id": "1ae8715e",
   "metadata": {},
   "outputs": [
    {
     "data": {
      "text/html": [
       "<div>\n",
       "<style scoped>\n",
       "    .dataframe tbody tr th:only-of-type {\n",
       "        vertical-align: middle;\n",
       "    }\n",
       "\n",
       "    .dataframe tbody tr th {\n",
       "        vertical-align: top;\n",
       "    }\n",
       "\n",
       "    .dataframe thead th {\n",
       "        text-align: right;\n",
       "    }\n",
       "</style>\n",
       "<table border=\"1\" class=\"dataframe\">\n",
       "  <thead>\n",
       "    <tr style=\"text-align: right;\">\n",
       "      <th></th>\n",
       "      <th>Suburb</th>\n",
       "      <th>Rooms</th>\n",
       "      <th>SellerG</th>\n",
       "      <th>Distance</th>\n",
       "      <th>Bathroom</th>\n",
       "      <th>Car</th>\n",
       "      <th>Landsize</th>\n",
       "      <th>CouncilArea</th>\n",
       "      <th>Propertycount</th>\n",
       "      <th>year_sold</th>\n",
       "      <th>...</th>\n",
       "      <th>Method_SP</th>\n",
       "      <th>Method_VB</th>\n",
       "      <th>Regionname_Eastern Metropolitan</th>\n",
       "      <th>Regionname_Eastern Victoria</th>\n",
       "      <th>Regionname_Northern Metropolitan</th>\n",
       "      <th>Regionname_Northern Victoria</th>\n",
       "      <th>Regionname_South-Eastern Metropolitan</th>\n",
       "      <th>Regionname_Southern Metropolitan</th>\n",
       "      <th>Regionname_Western Metropolitan</th>\n",
       "      <th>Regionname_Western Victoria</th>\n",
       "    </tr>\n",
       "  </thead>\n",
       "  <tbody>\n",
       "    <tr>\n",
       "      <th>Suburb</th>\n",
       "      <td>1.000000</td>\n",
       "      <td>-0.048042</td>\n",
       "      <td>0.028698</td>\n",
       "      <td>-0.006572</td>\n",
       "      <td>-0.048331</td>\n",
       "      <td>-0.021360</td>\n",
       "      <td>-0.000767</td>\n",
       "      <td>0.082530</td>\n",
       "      <td>0.129383</td>\n",
       "      <td>0.013677</td>\n",
       "      <td>...</td>\n",
       "      <td>0.041273</td>\n",
       "      <td>-0.024253</td>\n",
       "      <td>0.003082</td>\n",
       "      <td>-0.006738</td>\n",
       "      <td>0.050173</td>\n",
       "      <td>0.000130</td>\n",
       "      <td>0.021529</td>\n",
       "      <td>-0.189914</td>\n",
       "      <td>0.143195</td>\n",
       "      <td>0.014824</td>\n",
       "    </tr>\n",
       "    <tr>\n",
       "      <th>Rooms</th>\n",
       "      <td>-0.048042</td>\n",
       "      <td>1.000000</td>\n",
       "      <td>-0.041177</td>\n",
       "      <td>0.287560</td>\n",
       "      <td>0.597967</td>\n",
       "      <td>0.399537</td>\n",
       "      <td>0.032950</td>\n",
       "      <td>-0.126977</td>\n",
       "      <td>-0.065602</td>\n",
       "      <td>0.193442</td>\n",
       "      <td>...</td>\n",
       "      <td>-0.042511</td>\n",
       "      <td>0.016819</td>\n",
       "      <td>0.142144</td>\n",
       "      <td>0.034838</td>\n",
       "      <td>-0.121449</td>\n",
       "      <td>0.038234</td>\n",
       "      <td>0.082510</td>\n",
       "      <td>-0.060513</td>\n",
       "      <td>0.031698</td>\n",
       "      <td>0.018436</td>\n",
       "    </tr>\n",
       "  </tbody>\n",
       "</table>\n",
       "<p>2 rows × 27 columns</p>\n",
       "</div>"
      ],
      "text/plain": [
       "          Suburb     Rooms   SellerG  Distance  Bathroom       Car  Landsize  \\\n",
       "Suburb  1.000000 -0.048042  0.028698 -0.006572 -0.048331 -0.021360 -0.000767   \n",
       "Rooms  -0.048042  1.000000 -0.041177  0.287560  0.597967  0.399537  0.032950   \n",
       "\n",
       "        CouncilArea  Propertycount  year_sold  ...  Method_SP  Method_VB  \\\n",
       "Suburb     0.082530       0.129383   0.013677  ...   0.041273  -0.024253   \n",
       "Rooms     -0.126977      -0.065602   0.193442  ...  -0.042511   0.016819   \n",
       "\n",
       "        Regionname_Eastern Metropolitan  Regionname_Eastern Victoria  \\\n",
       "Suburb                         0.003082                    -0.006738   \n",
       "Rooms                          0.142144                     0.034838   \n",
       "\n",
       "        Regionname_Northern Metropolitan  Regionname_Northern Victoria  \\\n",
       "Suburb                          0.050173                      0.000130   \n",
       "Rooms                          -0.121449                      0.038234   \n",
       "\n",
       "        Regionname_South-Eastern Metropolitan  \\\n",
       "Suburb                               0.021529   \n",
       "Rooms                                0.082510   \n",
       "\n",
       "        Regionname_Southern Metropolitan  Regionname_Western Metropolitan  \\\n",
       "Suburb                         -0.189914                         0.143195   \n",
       "Rooms                          -0.060513                         0.031698   \n",
       "\n",
       "        Regionname_Western Victoria  \n",
       "Suburb                     0.014824  \n",
       "Rooms                      0.018436  \n",
       "\n",
       "[2 rows x 27 columns]"
      ]
     },
     "execution_count": 240,
     "metadata": {},
     "output_type": "execute_result"
    }
   ],
   "source": [
    "X_Cor = X.corr()\n",
    "X_Cor.head(2)"
   ]
  },
  {
   "cell_type": "code",
   "execution_count": 241,
   "id": "bf3e6ced",
   "metadata": {},
   "outputs": [
    {
     "data": {
      "text/plain": [
       "0"
      ]
     },
     "execution_count": 241,
     "metadata": {},
     "output_type": "execute_result"
    }
   ],
   "source": [
    "# We will create a loop to get a list of columns whose correlation with other columns is greater than .95\n",
    "col_matrics = X_Cor.corr()\n",
    "columns = X.columns\n",
    "col_to_drop = []\n",
    "for i in range(len(columns)):\n",
    "    for j in range(i+1 , len(columns)):\n",
    "  #      print(j , \"  \" , col_matrics.loc[columns[i], columns[j]])\n",
    "        if col_matrics.loc[columns[i], columns[j]]> 0.95:\n",
    "            col_to_drop.append(columns[j])\n",
    " #           print(j , \" There is higher correlation  \" , col_matrics.loc[columns[i], columns[j]])\n",
    "col_to_drop=set(col_to_drop)\n",
    "len(col_to_drop) "
   ]
  },
  {
   "cell_type": "code",
   "execution_count": 242,
   "id": "7234a762",
   "metadata": {},
   "outputs": [
    {
     "data": {
      "text/plain": [
       "(17667,)"
      ]
     },
     "execution_count": 242,
     "metadata": {},
     "output_type": "execute_result"
    }
   ],
   "source": [
    "X.shape\n",
    "y.shape"
   ]
  },
  {
   "cell_type": "markdown",
   "id": "fcfae3dd",
   "metadata": {},
   "source": [
    "### Adjusted R-Square to find Best Feature"
   ]
  },
  {
   "cell_type": "code",
   "execution_count": 243,
   "id": "a3033a64",
   "metadata": {},
   "outputs": [],
   "source": [
    "from sklearn.linear_model import LinearRegression\n",
    "from sklearn.metrics import r2_score, accuracy_score"
   ]
  },
  {
   "cell_type": "code",
   "execution_count": 244,
   "id": "920fcc9d",
   "metadata": {},
   "outputs": [
    {
     "name": "stdout",
     "output_type": "stream",
     "text": [
      "(3534, 27)\n"
     ]
    }
   ],
   "source": [
    "lr = LinearRegression()\n",
    "X_Train, X_Test, y_train, y_test = train_test_split(X,y,test_size=.2, random_state=0)\n",
    "print(X_Test.shape)"
   ]
  },
  {
   "cell_type": "markdown",
   "id": "acffcf8c",
   "metadata": {},
   "source": [
    "###### Adjusted R2 = 1 – [(1-R2)*(n-1)/(n-k-1)]"
   ]
  },
  {
   "cell_type": "code",
   "execution_count": 245,
   "id": "7c330190",
   "metadata": {},
   "outputs": [],
   "source": [
    "col_list = X_Train.columns"
   ]
  },
  {
   "cell_type": "code",
   "execution_count": 246,
   "id": "2d79a16e",
   "metadata": {},
   "outputs": [
    {
     "name": "stdout",
     "output_type": "stream",
     "text": [
      "Adjusted R Square Value with Columns :  1  :  0.0185326385569472\n",
      "Adjusted R Square Value with Columns :  2  :  0.24536485497032723\n",
      "Adjusted R Square Value with Columns :  3  :  0.24621425308051104\n",
      "Adjusted R Square Value with Columns :  4  :  0.3790435771175169\n",
      "Adjusted R Square Value with Columns :  5  :  0.4096936289320232\n",
      "Adjusted R Square Value with Columns :  6  :  0.4117166343230748\n",
      "Adjusted R Square Value with Columns :  7  :  0.41190568634261326\n",
      "Adjusted R Square Value with Columns :  8  :  0.42218249419951726\n",
      "Adjusted R Square Value with Columns :  9  :  0.4220218189325332\n",
      "Adjusted R Square Value with Columns :  10  :  0.4234443972027885\n",
      "Adjusted R Square Value with Columns :  11  :  0.4250987164391935\n",
      "Adjusted R Square Value with Columns :  12  :  0.46833264622633597\n",
      "Adjusted R Square Value with Columns :  13  :  0.46894209372355244\n",
      "Adjusted R Square Value with Columns :  14  :  0.46879118212756765\n",
      "Adjusted R Square Value with Columns :  15  :  0.469279714098665\n",
      "Adjusted R Square Value with Columns :  16  :  0.4688371620789106\n",
      "Adjusted R Square Value with Columns :  17  :  0.46887544719076757\n",
      "Adjusted R Square Value with Columns :  18  :  0.4699559802502671\n",
      "Adjusted R Square Value with Columns :  19  :  0.4698051424529638\n",
      "Adjusted R Square Value with Columns :  20  :  0.46987650298723493\n",
      "Adjusted R Square Value with Columns :  21  :  0.47272612854254414\n",
      "Adjusted R Square Value with Columns :  22  :  0.5085826447761614\n",
      "Adjusted R Square Value with Columns :  23  :  0.5094224872956573\n",
      "Adjusted R Square Value with Columns :  24  :  0.5144772719167408\n",
      "Adjusted R Square Value with Columns :  25  :  0.6065351789854763\n",
      "Adjusted R Square Value with Columns :  26  :  0.6068501190330533\n",
      "Adjusted R Square Value with Columns :  27  :  0.6067379827292965\n"
     ]
    }
   ],
   "source": [
    "n = 3534   #  Test Dataset Shape \n",
    "for col in range(1,len(col_list)+1):    \n",
    "    Adj_R_Square_X_Train = X_Train.iloc[:, :col] \n",
    "    Adj_R_Square_X_Test= X_Test.iloc[:, :col]     \n",
    "    lr_model = lr.fit(Adj_R_Square_X_Train, y_train)\n",
    "    lr_model_pred = lr_model.predict(Adj_R_Square_X_Test)    \n",
    "    r2_Square_Error = r2_score(y_test, lr_model_pred)\n",
    "    #print('R-Square Value with Columns          : ', col , \" : \" , r2_Square_Error)    \n",
    "    k = col\n",
    "    Adj_R_Square =   (1-r2_Square_Error)*(n-1)/(n-k-1)\n",
    "    Adj_R_Square = 1 - Adj_R_Square\n",
    "    #Adj_R_Square = 1 -  [(1-r2_Square_Error)*(n-1)/(n-k-1)]\n",
    "    print('Adjusted R Square Value with Columns : ' , col , \" : \" , Adj_R_Square)"
   ]
  },
  {
   "cell_type": "code",
   "execution_count": null,
   "id": "2a294601",
   "metadata": {},
   "outputs": [],
   "source": []
  },
  {
   "cell_type": "code",
   "execution_count": null,
   "id": "70c5081c",
   "metadata": {},
   "outputs": [],
   "source": []
  },
  {
   "cell_type": "code",
   "execution_count": null,
   "id": "f435e4d4",
   "metadata": {},
   "outputs": [],
   "source": []
  },
  {
   "cell_type": "code",
   "execution_count": null,
   "id": "eb203b51",
   "metadata": {},
   "outputs": [],
   "source": []
  },
  {
   "cell_type": "markdown",
   "id": "467373ab",
   "metadata": {},
   "source": [
    "### Exhaustive Feature Selection/ Best Feature Selection (Need to pip install mlextend)"
   ]
  },
  {
   "cell_type": "code",
   "execution_count": 247,
   "id": "f866cad0",
   "metadata": {},
   "outputs": [
    {
     "name": "stdout",
     "output_type": "stream",
     "text": [
      "Requirement already satisfied: mlxtend in c:\\programdata\\anaconda3\\lib\\site-packages (0.22.0)\n",
      "Requirement already satisfied: matplotlib>=3.0.0 in c:\\programdata\\anaconda3\\lib\\site-packages (from mlxtend) (3.5.2)\n",
      "Requirement already satisfied: setuptools in c:\\programdata\\anaconda3\\lib\\site-packages (from mlxtend) (63.4.1)\n",
      "Requirement already satisfied: scipy>=1.2.1 in c:\\programdata\\anaconda3\\lib\\site-packages (from mlxtend) (1.9.1)\n",
      "Requirement already satisfied: scikit-learn>=1.0.2 in c:\\programdata\\anaconda3\\lib\\site-packages (from mlxtend) (1.0.2)\n",
      "Requirement already satisfied: joblib>=0.13.2 in c:\\programdata\\anaconda3\\lib\\site-packages (from mlxtend) (1.1.0)\n",
      "Requirement already satisfied: pandas>=0.24.2 in c:\\programdata\\anaconda3\\lib\\site-packages (from mlxtend) (1.4.4)\n",
      "Requirement already satisfied: numpy>=1.16.2 in c:\\programdata\\anaconda3\\lib\\site-packages (from mlxtend) (1.21.5)\n",
      "Requirement already satisfied: pillow>=6.2.0 in c:\\programdata\\anaconda3\\lib\\site-packages (from matplotlib>=3.0.0->mlxtend) (9.2.0)\n",
      "Requirement already satisfied: packaging>=20.0 in c:\\programdata\\anaconda3\\lib\\site-packages (from matplotlib>=3.0.0->mlxtend) (21.3)\n",
      "Requirement already satisfied: python-dateutil>=2.7 in c:\\programdata\\anaconda3\\lib\\site-packages (from matplotlib>=3.0.0->mlxtend) (2.8.2)\n",
      "Requirement already satisfied: kiwisolver>=1.0.1 in c:\\programdata\\anaconda3\\lib\\site-packages (from matplotlib>=3.0.0->mlxtend) (1.4.2)\n",
      "Requirement already satisfied: fonttools>=4.22.0 in c:\\programdata\\anaconda3\\lib\\site-packages (from matplotlib>=3.0.0->mlxtend) (4.25.0)\n",
      "Requirement already satisfied: pyparsing>=2.2.1 in c:\\programdata\\anaconda3\\lib\\site-packages (from matplotlib>=3.0.0->mlxtend) (3.0.9)\n",
      "Requirement already satisfied: cycler>=0.10 in c:\\programdata\\anaconda3\\lib\\site-packages (from matplotlib>=3.0.0->mlxtend) (0.11.0)\n",
      "Requirement already satisfied: pytz>=2020.1 in c:\\programdata\\anaconda3\\lib\\site-packages (from pandas>=0.24.2->mlxtend) (2022.1)\n",
      "Requirement already satisfied: threadpoolctl>=2.0.0 in c:\\programdata\\anaconda3\\lib\\site-packages (from scikit-learn>=1.0.2->mlxtend) (2.2.0)\n",
      "Requirement already satisfied: six>=1.5 in c:\\programdata\\anaconda3\\lib\\site-packages (from python-dateutil>=2.7->matplotlib>=3.0.0->mlxtend) (1.16.0)\n",
      "Note: you may need to restart the kernel to use updated packages.\n"
     ]
    }
   ],
   "source": [
    "pip install mlxtend"
   ]
  },
  {
   "cell_type": "markdown",
   "id": "54a22b7e",
   "metadata": {},
   "source": [
    "##### Exhaustive feature selection for regression analysis"
   ]
  },
  {
   "cell_type": "code",
   "execution_count": 248,
   "id": "0e072dd2",
   "metadata": {},
   "outputs": [
    {
     "data": {
      "text/plain": [
       "(1766, 27)"
      ]
     },
     "execution_count": 248,
     "metadata": {},
     "output_type": "execute_result"
    }
   ],
   "source": [
    "# For EFS we will reduce the records size\n",
    "X_Train, X_Test, y_train, y_test = train_test_split(scaled_data,y,test_size=.9, random_state=0)\n",
    "X_Train.shape"
   ]
  },
  {
   "cell_type": "code",
   "execution_count": 249,
   "id": "722b11f2",
   "metadata": {},
   "outputs": [],
   "source": [
    "from sklearn.preprocessing import StandardScaler\n",
    "sc_x = StandardScaler()\n",
    "X_Train = sc_x.fit_transform(X_Train)\n",
    "X_Test = sc_x.transform(X_Test)"
   ]
  },
  {
   "cell_type": "code",
   "execution_count": 250,
   "id": "c8f843c1",
   "metadata": {},
   "outputs": [
    {
     "name": "stderr",
     "output_type": "stream",
     "text": [
      "Features: 27/27"
     ]
    },
    {
     "data": {
      "text/plain": [
       "ExhaustiveFeatureSelector(cv=2, estimator=LinearRegression(),\n",
       "                          feature_groups=[[0], [1], [2], [3], [4], [5], [6],\n",
       "                                          [7], [8], [9], [10], [11], [12], [13],\n",
       "                                          [14], [15], [16], [17], [18], [19],\n",
       "                                          [20], [21], [22], [23], [24], [25],\n",
       "                                          [26]],\n",
       "                          scoring='neg_mean_squared_error')"
      ]
     },
     "execution_count": 250,
     "metadata": {},
     "output_type": "execute_result"
    }
   ],
   "source": [
    "from mlxtend.feature_selection import ExhaustiveFeatureSelector as EFS\n",
    "from mlxtend.feature_selection import SequentialFeatureSelector as SFS\n",
    "from sklearn.linear_model import LinearRegression\n",
    "lr = LinearRegression()\n",
    "efs = EFS(lr,           \n",
    "          scoring='neg_mean_squared_error',\n",
    "          cv=2)\n",
    "efs.fit(X_Train, y_train)"
   ]
  },
  {
   "cell_type": "code",
   "execution_count": 251,
   "id": "821e4053",
   "metadata": {},
   "outputs": [
    {
     "name": "stdout",
     "output_type": "stream",
     "text": [
      "\n",
      "Best subset: (4,)\n",
      "Best Feature Names: ('4',)\n",
      "Best MSE score: -325784378816.41\n",
      "Selected features: (4,)\n"
     ]
    }
   ],
   "source": [
    "print('Best MSE score: %.2f' % efs.best_score_ * (-1))\n",
    "print('Best subset:', efs.best_idx_)\n",
    "print('Best Feature Names:', efs.best_feature_names_)\n",
    "print('Best MSE score: %.2f' % efs.best_score_ )\n",
    "print('Selected features:', efs.best_idx_)\n"
   ]
  },
  {
   "cell_type": "code",
   "execution_count": 252,
   "id": "cd9a5e57",
   "metadata": {},
   "outputs": [
    {
     "data": {
      "text/plain": [
       "'2*n_jobs'"
      ]
     },
     "execution_count": 252,
     "metadata": {},
     "output_type": "execute_result"
    }
   ],
   "source": [
    "efs.pre_dispatch\n"
   ]
  },
  {
   "cell_type": "markdown",
   "id": "3349f113",
   "metadata": {},
   "source": [
    "##### Forward Feature Selection Process"
   ]
  },
  {
   "cell_type": "code",
   "execution_count": 253,
   "id": "43240b44",
   "metadata": {},
   "outputs": [],
   "source": [
    "from mlxtend.feature_selection import SequentialFeatureSelector as SFS\n",
    "from sklearn.linear_model import LinearRegression as lr\n",
    "from time import time\n",
    "LR = LinearRegression()\n",
    "SFS_model = SFS(LR , forward = False, floating = False, cv = 2, scoring='neg_mean_squared_error' )\n",
    "# scoring function for feature selection. The scoring function is used to assess the performance of each feature subset during the selection process.# Lets use the built in function in Python\n"
   ]
  },
  {
   "cell_type": "code",
   "execution_count": 257,
   "id": "0eba6f44",
   "metadata": {},
   "outputs": [],
   "source": [
    "SFS_model\n",
    "sfs = SFS_model.fit(X_Train, y_train)\n",
    "df_matrics = pd.DataFrame(sfs.get_metric_dict()).T\n",
    "df_matrics.to_excel(\"SequentialFeatureSelector_Output.xlsx\")\n",
    "\n"
   ]
  },
  {
   "cell_type": "code",
   "execution_count": null,
   "id": "f7c82615",
   "metadata": {},
   "outputs": [],
   "source": []
  },
  {
   "cell_type": "code",
   "execution_count": null,
   "id": "e5aebb0d",
   "metadata": {},
   "outputs": [],
   "source": []
  },
  {
   "cell_type": "code",
   "execution_count": null,
   "id": "3baa6bf3",
   "metadata": {},
   "outputs": [],
   "source": []
  }
 ],
 "metadata": {
  "kernelspec": {
   "display_name": "Python 3 (ipykernel)",
   "language": "python",
   "name": "python3"
  },
  "language_info": {
   "codemirror_mode": {
    "name": "ipython",
    "version": 3
   },
   "file_extension": ".py",
   "mimetype": "text/x-python",
   "name": "python",
   "nbconvert_exporter": "python",
   "pygments_lexer": "ipython3",
   "version": "3.9.13"
  }
 },
 "nbformat": 4,
 "nbformat_minor": 5
}
