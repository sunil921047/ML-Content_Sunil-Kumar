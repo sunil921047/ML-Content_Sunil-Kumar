{
 "cells": [
  {
   "cell_type": "markdown",
   "id": "2d09559d",
   "metadata": {},
   "source": [
    "# Random Forest Classifier"
   ]
  },
  {
   "cell_type": "markdown",
   "id": "2ab0938a",
   "metadata": {},
   "source": [
    "###### import libraries"
   ]
  },
  {
   "cell_type": "code",
   "execution_count": 1,
   "id": "5f7b333b",
   "metadata": {},
   "outputs": [],
   "source": [
    "import pandas as pd\n",
    "import numpy as np\n",
    "import seaborn as sns\n",
    "import matplotlib.pyplot as plt"
   ]
  },
  {
   "cell_type": "code",
   "execution_count": 3,
   "id": "6a9f695a",
   "metadata": {},
   "outputs": [
    {
     "data": {
      "text/html": [
       "<div>\n",
       "<style scoped>\n",
       "    .dataframe tbody tr th:only-of-type {\n",
       "        vertical-align: middle;\n",
       "    }\n",
       "\n",
       "    .dataframe tbody tr th {\n",
       "        vertical-align: top;\n",
       "    }\n",
       "\n",
       "    .dataframe thead th {\n",
       "        text-align: right;\n",
       "    }\n",
       "</style>\n",
       "<table border=\"1\" class=\"dataframe\">\n",
       "  <thead>\n",
       "    <tr style=\"text-align: right;\">\n",
       "      <th></th>\n",
       "      <th>mean radius</th>\n",
       "      <th>mean texture</th>\n",
       "      <th>mean perimeter</th>\n",
       "      <th>mean area</th>\n",
       "      <th>mean smoothness</th>\n",
       "      <th>mean compactness</th>\n",
       "      <th>mean concavity</th>\n",
       "      <th>mean concave points</th>\n",
       "      <th>mean symmetry</th>\n",
       "      <th>mean fractal dimension</th>\n",
       "      <th>...</th>\n",
       "      <th>worst radius</th>\n",
       "      <th>worst texture</th>\n",
       "      <th>worst perimeter</th>\n",
       "      <th>worst area</th>\n",
       "      <th>worst smoothness</th>\n",
       "      <th>worst compactness</th>\n",
       "      <th>worst concavity</th>\n",
       "      <th>worst concave points</th>\n",
       "      <th>worst symmetry</th>\n",
       "      <th>worst fractal dimension</th>\n",
       "    </tr>\n",
       "  </thead>\n",
       "  <tbody>\n",
       "    <tr>\n",
       "      <th>0</th>\n",
       "      <td>17.99</td>\n",
       "      <td>10.38</td>\n",
       "      <td>122.8</td>\n",
       "      <td>1001.0</td>\n",
       "      <td>0.11840</td>\n",
       "      <td>0.27760</td>\n",
       "      <td>0.3001</td>\n",
       "      <td>0.14710</td>\n",
       "      <td>0.2419</td>\n",
       "      <td>0.07871</td>\n",
       "      <td>...</td>\n",
       "      <td>25.38</td>\n",
       "      <td>17.33</td>\n",
       "      <td>184.6</td>\n",
       "      <td>2019.0</td>\n",
       "      <td>0.1622</td>\n",
       "      <td>0.6656</td>\n",
       "      <td>0.7119</td>\n",
       "      <td>0.2654</td>\n",
       "      <td>0.4601</td>\n",
       "      <td>0.11890</td>\n",
       "    </tr>\n",
       "    <tr>\n",
       "      <th>1</th>\n",
       "      <td>20.57</td>\n",
       "      <td>17.77</td>\n",
       "      <td>132.9</td>\n",
       "      <td>1326.0</td>\n",
       "      <td>0.08474</td>\n",
       "      <td>0.07864</td>\n",
       "      <td>0.0869</td>\n",
       "      <td>0.07017</td>\n",
       "      <td>0.1812</td>\n",
       "      <td>0.05667</td>\n",
       "      <td>...</td>\n",
       "      <td>24.99</td>\n",
       "      <td>23.41</td>\n",
       "      <td>158.8</td>\n",
       "      <td>1956.0</td>\n",
       "      <td>0.1238</td>\n",
       "      <td>0.1866</td>\n",
       "      <td>0.2416</td>\n",
       "      <td>0.1860</td>\n",
       "      <td>0.2750</td>\n",
       "      <td>0.08902</td>\n",
       "    </tr>\n",
       "  </tbody>\n",
       "</table>\n",
       "<p>2 rows × 30 columns</p>\n",
       "</div>"
      ],
      "text/plain": [
       "   mean radius  mean texture  mean perimeter  mean area  mean smoothness  \\\n",
       "0        17.99         10.38           122.8     1001.0          0.11840   \n",
       "1        20.57         17.77           132.9     1326.0          0.08474   \n",
       "\n",
       "   mean compactness  mean concavity  mean concave points  mean symmetry  \\\n",
       "0           0.27760          0.3001              0.14710         0.2419   \n",
       "1           0.07864          0.0869              0.07017         0.1812   \n",
       "\n",
       "   mean fractal dimension  ...  worst radius  worst texture  worst perimeter  \\\n",
       "0                 0.07871  ...         25.38          17.33            184.6   \n",
       "1                 0.05667  ...         24.99          23.41            158.8   \n",
       "\n",
       "   worst area  worst smoothness  worst compactness  worst concavity  \\\n",
       "0      2019.0            0.1622             0.6656           0.7119   \n",
       "1      1956.0            0.1238             0.1866           0.2416   \n",
       "\n",
       "   worst concave points  worst symmetry  worst fractal dimension  \n",
       "0                0.2654          0.4601                  0.11890  \n",
       "1                0.1860          0.2750                  0.08902  \n",
       "\n",
       "[2 rows x 30 columns]"
      ]
     },
     "execution_count": 3,
     "metadata": {},
     "output_type": "execute_result"
    }
   ],
   "source": [
    "from sklearn import datasets\n",
    "df_array = datasets.load_breast_cancer()\n",
    "df = pd.DataFrame(df_array.data,columns=df_array.feature_names)\n",
    "df.head(2)\n",
    "#df_breastcanser = pd.DataFrame(breast_cancer_ds.data, columns=breast_cancer_ds.feature_names)"
   ]
  },
  {
   "cell_type": "code",
   "execution_count": 5,
   "id": "5dad8527",
   "metadata": {},
   "outputs": [],
   "source": [
    "# concatenate Target Column to main DF\n",
    "df['Target'] = df_array['target']"
   ]
  },
  {
   "cell_type": "code",
   "execution_count": 6,
   "id": "be7c1799",
   "metadata": {},
   "outputs": [
    {
     "data": {
      "text/html": [
       "<div>\n",
       "<style scoped>\n",
       "    .dataframe tbody tr th:only-of-type {\n",
       "        vertical-align: middle;\n",
       "    }\n",
       "\n",
       "    .dataframe tbody tr th {\n",
       "        vertical-align: top;\n",
       "    }\n",
       "\n",
       "    .dataframe thead th {\n",
       "        text-align: right;\n",
       "    }\n",
       "</style>\n",
       "<table border=\"1\" class=\"dataframe\">\n",
       "  <thead>\n",
       "    <tr style=\"text-align: right;\">\n",
       "      <th></th>\n",
       "      <th>mean radius</th>\n",
       "      <th>mean texture</th>\n",
       "      <th>mean perimeter</th>\n",
       "      <th>mean area</th>\n",
       "      <th>mean smoothness</th>\n",
       "      <th>mean compactness</th>\n",
       "      <th>mean concavity</th>\n",
       "      <th>mean concave points</th>\n",
       "      <th>mean symmetry</th>\n",
       "      <th>mean fractal dimension</th>\n",
       "      <th>...</th>\n",
       "      <th>worst texture</th>\n",
       "      <th>worst perimeter</th>\n",
       "      <th>worst area</th>\n",
       "      <th>worst smoothness</th>\n",
       "      <th>worst compactness</th>\n",
       "      <th>worst concavity</th>\n",
       "      <th>worst concave points</th>\n",
       "      <th>worst symmetry</th>\n",
       "      <th>worst fractal dimension</th>\n",
       "      <th>Target</th>\n",
       "    </tr>\n",
       "  </thead>\n",
       "  <tbody>\n",
       "    <tr>\n",
       "      <th>0</th>\n",
       "      <td>17.99</td>\n",
       "      <td>10.38</td>\n",
       "      <td>122.8</td>\n",
       "      <td>1001.0</td>\n",
       "      <td>0.11840</td>\n",
       "      <td>0.27760</td>\n",
       "      <td>0.3001</td>\n",
       "      <td>0.14710</td>\n",
       "      <td>0.2419</td>\n",
       "      <td>0.07871</td>\n",
       "      <td>...</td>\n",
       "      <td>17.33</td>\n",
       "      <td>184.6</td>\n",
       "      <td>2019.0</td>\n",
       "      <td>0.1622</td>\n",
       "      <td>0.6656</td>\n",
       "      <td>0.7119</td>\n",
       "      <td>0.2654</td>\n",
       "      <td>0.4601</td>\n",
       "      <td>0.11890</td>\n",
       "      <td>0</td>\n",
       "    </tr>\n",
       "    <tr>\n",
       "      <th>1</th>\n",
       "      <td>20.57</td>\n",
       "      <td>17.77</td>\n",
       "      <td>132.9</td>\n",
       "      <td>1326.0</td>\n",
       "      <td>0.08474</td>\n",
       "      <td>0.07864</td>\n",
       "      <td>0.0869</td>\n",
       "      <td>0.07017</td>\n",
       "      <td>0.1812</td>\n",
       "      <td>0.05667</td>\n",
       "      <td>...</td>\n",
       "      <td>23.41</td>\n",
       "      <td>158.8</td>\n",
       "      <td>1956.0</td>\n",
       "      <td>0.1238</td>\n",
       "      <td>0.1866</td>\n",
       "      <td>0.2416</td>\n",
       "      <td>0.1860</td>\n",
       "      <td>0.2750</td>\n",
       "      <td>0.08902</td>\n",
       "      <td>0</td>\n",
       "    </tr>\n",
       "  </tbody>\n",
       "</table>\n",
       "<p>2 rows × 31 columns</p>\n",
       "</div>"
      ],
      "text/plain": [
       "   mean radius  mean texture  mean perimeter  mean area  mean smoothness  \\\n",
       "0        17.99         10.38           122.8     1001.0          0.11840   \n",
       "1        20.57         17.77           132.9     1326.0          0.08474   \n",
       "\n",
       "   mean compactness  mean concavity  mean concave points  mean symmetry  \\\n",
       "0           0.27760          0.3001              0.14710         0.2419   \n",
       "1           0.07864          0.0869              0.07017         0.1812   \n",
       "\n",
       "   mean fractal dimension  ...  worst texture  worst perimeter  worst area  \\\n",
       "0                 0.07871  ...          17.33            184.6      2019.0   \n",
       "1                 0.05667  ...          23.41            158.8      1956.0   \n",
       "\n",
       "   worst smoothness  worst compactness  worst concavity  worst concave points  \\\n",
       "0            0.1622             0.6656           0.7119                0.2654   \n",
       "1            0.1238             0.1866           0.2416                0.1860   \n",
       "\n",
       "   worst symmetry  worst fractal dimension  Target  \n",
       "0          0.4601                  0.11890       0  \n",
       "1          0.2750                  0.08902       0  \n",
       "\n",
       "[2 rows x 31 columns]"
      ]
     },
     "execution_count": 6,
     "metadata": {},
     "output_type": "execute_result"
    }
   ],
   "source": [
    "df.head(2)"
   ]
  },
  {
   "cell_type": "code",
   "execution_count": 178,
   "id": "17347662",
   "metadata": {},
   "outputs": [
    {
     "name": "stdout",
     "output_type": "stream",
     "text": [
      "(569, 30)\n",
      "(569,)\n",
      "X_Train Shape :  (455, 30)\n",
      "X_Test Shape :  (114, 30)\n",
      "Y_Train Shape :  (455,)\n",
      "Y_Test Shape :  (114,)\n"
     ]
    }
   ],
   "source": [
    "# split data in X and y\n",
    "from sklearn.model_selection import train_test_split\n",
    "X = df.iloc[: , 0:-1]\n",
    "print(X.shape)\n",
    "y = df.iloc[:,-1]\n",
    "print(y.shape)\n",
    "X_Train,X_Test,Y_Train,Y_Test = train_test_split(X,y, test_size =.2 , random_state =2)\n",
    "print('X_Train Shape : ' , X_Train.shape)\n",
    "print('X_Test Shape : ' , X_Test.shape)\n",
    "print('Y_Train Shape : ' , Y_Train.shape)\n",
    "print('Y_Test Shape : ' , Y_Test.shape)\n"
   ]
  },
  {
   "cell_type": "markdown",
   "id": "567b14fa",
   "metadata": {},
   "source": [
    "###### import libraries"
   ]
  },
  {
   "cell_type": "code",
   "execution_count": 171,
   "id": "60607ce3",
   "metadata": {},
   "outputs": [],
   "source": [
    "from sklearn.ensemble import RandomForestClassifier\n",
    "from sklearn.tree import DecisionTreeClassifier\n",
    "from sklearn.linear_model import LogisticRegression\n",
    "from sklearn.linear_model import LinearRegression\n",
    "\n",
    "\n",
    "from sklearn.model_selection import RandomizedSearchCV  # Randomized search on hyper parameters.\n",
    "from sklearn.model_selection import GridSearchCV    # Exhaustive search over specified parameter values for an estimator.\n",
    "\n",
    "\n",
    "from sklearn.feature_selection import SelectFromModel # Random Forest : Meta-transformer for selecting features based on importance weights.\n",
    "from sklearn.feature_selection import RFE # Feature ranking with recursive feature elimination.\n",
    "\n",
    "\n",
    "from sklearn.model_selection import train_test_split # Split arrays or matrices into random train and test subsets.\n",
    "from sklearn.metrics import ConfusionMatrixDisplay,accuracy_score,confusion_matrix,precision_score,average_precision_score\n",
    "\n",
    "\n",
    "dt=DecisionTreeClassifier()\n",
    "rfc=RandomForestClassifier()\n",
    "Log_Reg = LogisticRegression()\n",
    "LR = LinearRegression()"
   ]
  },
  {
   "cell_type": "markdown",
   "id": "a97fa84b",
   "metadata": {},
   "source": [
    "###### Train Random Forest Classifier Model"
   ]
  },
  {
   "cell_type": "code",
   "execution_count": 143,
   "id": "880a7f87",
   "metadata": {},
   "outputs": [],
   "source": [
    "rfc_model= rfc.fit(X_Train,Y_Train)"
   ]
  },
  {
   "cell_type": "code",
   "execution_count": 154,
   "id": "9f51521b",
   "metadata": {},
   "outputs": [
    {
     "name": "stdout",
     "output_type": "stream",
     "text": [
      "Random Forest Basic Accuracy :  0.9473684210526315\n"
     ]
    }
   ],
   "source": [
    "rfc_model_predict =rfc_model.predict(X_Test)\n",
    "print('Random Forest Basic Accuracy : ' , accuracy_score(Y_Test, rfc_model_predict))"
   ]
  },
  {
   "cell_type": "markdown",
   "id": "f66a15b6",
   "metadata": {},
   "source": [
    "###### Getting Important Features"
   ]
  },
  {
   "cell_type": "code",
   "execution_count": 114,
   "id": "cff22e02",
   "metadata": {},
   "outputs": [
    {
     "data": {
      "text/plain": [
       "array([0.02669566, 0.01271754, 0.02895048, 0.06653738, 0.00593579,\n",
       "       0.00580202, 0.0437243 , 0.10475747, 0.00249277, 0.00385426,\n",
       "       0.00597997, 0.00388791, 0.01835048, 0.04360752, 0.0038297 ,\n",
       "       0.00479762, 0.0042188 , 0.00825146, 0.0029303 , 0.00266816,\n",
       "       0.13807074, 0.01764844, 0.13536739, 0.143239  , 0.00827676,\n",
       "       0.0059055 , 0.03211364, 0.10912911, 0.00591319, 0.00434666])"
      ]
     },
     "execution_count": 114,
     "metadata": {},
     "output_type": "execute_result"
    }
   ],
   "source": [
    "rfc_model.feature_importances_"
   ]
  },
  {
   "cell_type": "code",
   "execution_count": 115,
   "id": "70bf852c",
   "metadata": {},
   "outputs": [
    {
     "data": {
      "text/plain": [
       "(30,)"
      ]
     },
     "execution_count": 115,
     "metadata": {},
     "output_type": "execute_result"
    }
   ],
   "source": [
    "rfc_model.feature_importances_.shape"
   ]
  },
  {
   "cell_type": "code",
   "execution_count": 168,
   "id": "07475e73",
   "metadata": {},
   "outputs": [],
   "source": [
    "#rfc_model.feature_importances_.reshape(6,5)"
   ]
  },
  {
   "cell_type": "code",
   "execution_count": 116,
   "id": "5af1aa39",
   "metadata": {},
   "outputs": [
    {
     "name": "stdout",
     "output_type": "stream",
     "text": [
      "Average of Importance of all Feature :  0.03333333333333333\n"
     ]
    }
   ],
   "source": [
    "columns = ['col_names', 'importance']\n",
    "Feature_importance = pd.DataFrame((rfc_model.feature_importances_) ,columns=['Importance'] )\n",
    "Feature_importance['Col_names']=X_Test.columns\n",
    "#mean_ = Feature_importance['Imporance'].mean()\n",
    "mean= Feature_importance['Importance'].mean()\n",
    "print('Average of Importance of all Feature : ' , mean)"
   ]
  },
  {
   "cell_type": "code",
   "execution_count": 117,
   "id": "9c578da4",
   "metadata": {},
   "outputs": [
    {
     "data": {
      "text/plain": [
       "list[3                mean area\n",
       "6           mean concavity\n",
       "7      mean concave points\n",
       "13              area error\n",
       "20            worst radius\n",
       "22         worst perimeter\n",
       "23              worst area\n",
       "27    worst concave points\n",
       "Name: Col_names, dtype: object]"
      ]
     },
     "execution_count": 117,
     "metadata": {},
     "output_type": "execute_result"
    }
   ],
   "source": [
    "above_avg_feature=Feature_importance[Feature_importance['Importance']>mean]\n",
    "col_list = list[above_avg_feature['Col_names']]\n",
    "col_list"
   ]
  },
  {
   "cell_type": "markdown",
   "id": "651c0265",
   "metadata": {},
   "source": [
    "###### Random Forest Classifier on Selected Feature Only"
   ]
  },
  {
   "cell_type": "code",
   "execution_count": 142,
   "id": "1ee23510",
   "metadata": {},
   "outputs": [
    {
     "data": {
      "text/plain": [
       "(114, 8)"
      ]
     },
     "execution_count": 142,
     "metadata": {},
     "output_type": "execute_result"
    }
   ],
   "source": [
    "col=['mean area', 'mean concavity','mean concave points','area error','worst radius', 'worst perimeter','worst area','worst concave points']\n",
    "X_Test_Less = X_Test[col]\n",
    "X_Train_Less=X_Train[col]\n",
    "X_Train.shape\n",
    "X_Test.shape"
   ]
  },
  {
   "cell_type": "code",
   "execution_count": 134,
   "id": "cbb5899f",
   "metadata": {},
   "outputs": [],
   "source": [
    "sel_feature_rfc = rfc.fit(X_Train,Y_Train)\n",
    "sel_feature_rfc_predict = sel_feature_rfc.predict(X_Test)"
   ]
  },
  {
   "cell_type": "code",
   "execution_count": 165,
   "id": "3c3a31b9",
   "metadata": {},
   "outputs": [
    {
     "name": "stdout",
     "output_type": "stream",
     "text": [
      "Random Forest Basic Accuracy :  0.9473684210526315\n"
     ]
    }
   ],
   "source": [
    "print('Random Forest Basic Accuracy : ' , accuracy_score(Y_Test, sel_feature_rfc_predict))"
   ]
  },
  {
   "cell_type": "code",
   "execution_count": null,
   "id": "53940cc1",
   "metadata": {},
   "outputs": [],
   "source": []
  },
  {
   "cell_type": "code",
   "execution_count": 169,
   "id": "33be79c0",
   "metadata": {},
   "outputs": [
    {
     "data": {
      "text/html": [
       "<div>\n",
       "<style scoped>\n",
       "    .dataframe tbody tr th:only-of-type {\n",
       "        vertical-align: middle;\n",
       "    }\n",
       "\n",
       "    .dataframe tbody tr th {\n",
       "        vertical-align: top;\n",
       "    }\n",
       "\n",
       "    .dataframe thead th {\n",
       "        text-align: right;\n",
       "    }\n",
       "</style>\n",
       "<table border=\"1\" class=\"dataframe\">\n",
       "  <thead>\n",
       "    <tr style=\"text-align: right;\">\n",
       "      <th></th>\n",
       "      <th>mean area</th>\n",
       "      <th>mean concavity</th>\n",
       "      <th>mean concave points</th>\n",
       "      <th>area error</th>\n",
       "      <th>worst radius</th>\n",
       "      <th>worst perimeter</th>\n",
       "      <th>worst area</th>\n",
       "      <th>worst concave points</th>\n",
       "    </tr>\n",
       "  </thead>\n",
       "  <tbody>\n",
       "    <tr>\n",
       "      <th>528</th>\n",
       "      <td>594.2</td>\n",
       "      <td>0.1010</td>\n",
       "      <td>0.06615</td>\n",
       "      <td>44.74</td>\n",
       "      <td>14.62</td>\n",
       "      <td>94.52</td>\n",
       "      <td>653.3</td>\n",
       "      <td>0.1015</td>\n",
       "    </tr>\n",
       "    <tr>\n",
       "      <th>291</th>\n",
       "      <td>687.3</td>\n",
       "      <td>0.0594</td>\n",
       "      <td>0.04819</td>\n",
       "      <td>24.87</td>\n",
       "      <td>16.25</td>\n",
       "      <td>109.10</td>\n",
       "      <td>809.8</td>\n",
       "      <td>0.1489</td>\n",
       "    </tr>\n",
       "  </tbody>\n",
       "</table>\n",
       "</div>"
      ],
      "text/plain": [
       "     mean area  mean concavity  mean concave points  area error  worst radius  \\\n",
       "528      594.2          0.1010              0.06615       44.74         14.62   \n",
       "291      687.3          0.0594              0.04819       24.87         16.25   \n",
       "\n",
       "     worst perimeter  worst area  worst concave points  \n",
       "528            94.52       653.3                0.1015  \n",
       "291           109.10       809.8                0.1489  "
      ]
     },
     "execution_count": 169,
     "metadata": {},
     "output_type": "execute_result"
    }
   ],
   "source": [
    "X_Test.head(2)"
   ]
  },
  {
   "cell_type": "code",
   "execution_count": null,
   "id": "068ba7ed",
   "metadata": {},
   "outputs": [],
   "source": []
  },
  {
   "cell_type": "code",
   "execution_count": 192,
   "id": "f5ddbd7e",
   "metadata": {},
   "outputs": [
    {
     "data": {
      "text/plain": [
       "array([ True,  True,  True,  True, False, False,  True,  True, False,\n",
       "       False, False, False, False,  True, False, False, False, False,\n",
       "       False, False,  True,  True,  True,  True,  True,  True,  True,\n",
       "        True, False, False])"
      ]
     },
     "execution_count": 192,
     "metadata": {},
     "output_type": "execute_result"
    }
   ],
   "source": [
    "from sklearn.feature_selection import RFE # Feature ranking with recursive feature elimination.\n",
    "selector = RFE(estimator=sel_feature_rfc, n_features_to_select=None, step=1)\n",
    "selector = selector.fit(X_Train, Y_Train)\n",
    "selector.support_\n",
    "#array([ True,  True,  True,  True,  True, False, False, False, False,False])\n",
    "#selector.ranking_"
   ]
  },
  {
   "cell_type": "code",
   "execution_count": 231,
   "id": "02c54bbd",
   "metadata": {
    "collapsed": true
   },
   "outputs": [
    {
     "data": {
      "text/plain": [
       "['mean radius',\n",
       " 'mean texture',\n",
       " 'mean perimeter',\n",
       " 'mean area',\n",
       " 'mean smoothness',\n",
       " 'mean compactness',\n",
       " 'mean concavity',\n",
       " 'mean concave points',\n",
       " 'mean symmetry',\n",
       " 'mean fractal dimension',\n",
       " 'radius error',\n",
       " 'texture error',\n",
       " 'perimeter error',\n",
       " 'area error',\n",
       " 'smoothness error',\n",
       " 'compactness error',\n",
       " 'concavity error',\n",
       " 'concave points error',\n",
       " 'symmetry error',\n",
       " 'fractal dimension error',\n",
       " 'worst radius',\n",
       " 'worst texture',\n",
       " 'worst perimeter',\n",
       " 'worst area',\n",
       " 'worst smoothness',\n",
       " 'worst compactness',\n",
       " 'worst concavity',\n",
       " 'worst concave points',\n",
       " 'worst symmetry',\n",
       " 'worst fractal dimension']"
      ]
     },
     "execution_count": 231,
     "metadata": {},
     "output_type": "execute_result"
    }
   ],
   "source": [
    "#Imp_Feature['Importance']\n",
    "#Imp_Feature = pd.DataFrame(X_Test.columns)\n",
    "col_list = list(X_Test.columns)\n",
    "col_list\n",
    "Imp_Feature=pd.DataFrame()\n",
    "Imp_Feature['Column']=col_list\n",
    "col_list"
   ]
  },
  {
   "cell_type": "code",
   "execution_count": 259,
   "id": "25548379",
   "metadata": {},
   "outputs": [
    {
     "data": {
      "text/plain": [
       "False"
      ]
     },
     "execution_count": 259,
     "metadata": {},
     "output_type": "execute_result"
    }
   ],
   "source": [
    "selector.support_[5]"
   ]
  },
  {
   "cell_type": "code",
   "execution_count": 261,
   "id": "b2347a5f",
   "metadata": {},
   "outputs": [
    {
     "name": "stdout",
     "output_type": "stream",
     "text": [
      "['mean radius', 'mean texture', 'mean perimeter', 'mean area', 'mean concavity', 'mean concave points', 'area error', 'worst radius', 'worst texture', 'worst perimeter', 'worst area', 'worst smoothness', 'worst compactness', 'worst concavity', 'worst concave points']\n"
     ]
    }
   ],
   "source": [
    "imp_col = []\n",
    "non_imp_col=[]\n",
    "num = 0\n",
    "for col in col_list:\n",
    "    if selector.support_[num]:\n",
    "        #print('Imp Column : ' , col)\n",
    "        imp_col.append(col)\n",
    "    else:\n",
    "        #print('Non Imp Column : ' , col)\n",
    "        non_imp_col.append(col)\n",
    "    num=num+1\n",
    "print(imp_col)"
   ]
  },
  {
   "cell_type": "code",
   "execution_count": 270,
   "id": "3ade2214",
   "metadata": {},
   "outputs": [
    {
     "data": {
      "text/plain": [
       "(114, 15)"
      ]
     },
     "execution_count": 270,
     "metadata": {},
     "output_type": "execute_result"
    }
   ],
   "source": [
    "rfc_imp_col_X_Test = X_Test[imp_col]\n",
    "rfc_imp_col_X_Train = X_Train[imp_col]\n",
    "rfc_imp_col_X_Test.shape"
   ]
  },
  {
   "cell_type": "code",
   "execution_count": 279,
   "id": "3037f502",
   "metadata": {},
   "outputs": [
    {
     "name": "stdout",
     "output_type": "stream",
     "text": [
      "Random Forest rfc_Columns Accuracy :  0.9473684210526315\n"
     ]
    }
   ],
   "source": [
    "rfc_rfc_col_model = rfc.fit(rfc_imp_col_X_Train,Y_Train)\n",
    "rfc_rfc_col_model_predict=rfc.predict(rfc_imp_col_X_Test)\n",
    "rfc_rfc_col_model_predict\n",
    "print('Random Forest rfc_Columns Accuracy : ' , accuracy_score(Y_Test, rfc_rfc_col_model_predict))\n"
   ]
  },
  {
   "cell_type": "code",
   "execution_count": 286,
   "id": "1adcc1c6",
   "metadata": {},
   "outputs": [],
   "source": [
    "# Checking the best estimator of this model"
   ]
  },
  {
   "cell_type": "code",
   "execution_count": 287,
   "id": "3dd12ff2",
   "metadata": {},
   "outputs": [
    {
     "data": {
      "text/plain": [
       "DecisionTreeClassifier()"
      ]
     },
     "execution_count": 287,
     "metadata": {},
     "output_type": "execute_result"
    }
   ],
   "source": [
    "rfc_rfc_col_model.base_estimator_"
   ]
  },
  {
   "cell_type": "code",
   "execution_count": null,
   "id": "e37e6f4a",
   "metadata": {},
   "outputs": [],
   "source": [
    "import pandas as pd\n",
    "from sklearn.ensemble \n",
    "import RandomForestClassfier\n",
    "from sklearn.feature_selection import SelectFromModel\n",
    "sel = SelectFromModel(RandomForestClassifier(n_estimators = 100))\u000b",
    "sel.fit(X_train, y_train)\n"
   ]
  },
  {
   "cell_type": "code",
   "execution_count": null,
   "id": "85fd3e30",
   "metadata": {},
   "outputs": [],
   "source": []
  },
  {
   "cell_type": "code",
   "execution_count": null,
   "id": "e5d5b5ee",
   "metadata": {},
   "outputs": [],
   "source": []
  },
  {
   "cell_type": "code",
   "execution_count": null,
   "id": "e6888287",
   "metadata": {},
   "outputs": [],
   "source": []
  }
 ],
 "metadata": {
  "kernelspec": {
   "display_name": "Python 3 (ipykernel)",
   "language": "python",
   "name": "python3"
  },
  "language_info": {
   "codemirror_mode": {
    "name": "ipython",
    "version": 3
   },
   "file_extension": ".py",
   "mimetype": "text/x-python",
   "name": "python",
   "nbconvert_exporter": "python",
   "pygments_lexer": "ipython3",
   "version": "3.9.13"
  }
 },
 "nbformat": 4,
 "nbformat_minor": 5
}
